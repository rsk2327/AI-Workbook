{
 "cells": [
  {
   "cell_type": "code",
   "execution_count": 1,
   "id": "994b5d3a-7ff6-44fb-b1dc-9d77ac9ab408",
   "metadata": {},
   "outputs": [],
   "source": [
    "import pandas as pd\n",
    "import numpy as np\n",
    "import os\n",
    "from io import StringIO \n",
    "import json\n",
    "from collections import Counter\n",
    "\n",
    "\n",
    "from enum import Enum\n",
    "\n",
    "import sys  \n",
    "sys.path.append( '/Users/roshansk/Documents/GitHub/langchain/libs/langchain')\n",
    "sys.path.append( '/Users/roshansk/Documents/GitHub/langchain/libs/experimental/')\n",
    "sys.path.append( '/Users/roshansk/Documents/GitHub/langchain/libs/partners/openai')\n",
    "sys.path.append( '/Users/roshansk/Documents/GitHub/langchain/libs/community/langchain_community/')\n",
    "\n",
    "\n",
    "from langchain.document_loaders import HuggingFaceDatasetLoader\n",
    "from langchain.text_splitter import RecursiveCharacterTextSplitter, CharacterTextSplitter\n",
    "from langchain.embeddings import HuggingFaceEmbeddings\n",
    "from langchain_core.output_parsers import JsonOutputParser\n",
    "from langchain import HuggingFacePipeline\n",
    "from langchain.chains import RetrievalQA\n",
    "from langchain_community.document_loaders import PyPDFLoader\n",
    "from langchain_community.vectorstores import FAISS, Chroma, Milvus\n",
    "from langchain_openai import OpenAIEmbeddings, ChatOpenAI\n",
    "from langchain_core.runnables import RunnablePassthrough\n",
    "from langchain_core.pydantic_v1 import BaseModel, Field\n",
    "from langchain.prompts import ChatPromptTemplate, PromptTemplate\n",
    "from langchain_community.vectorstores.faiss import DistanceStrategy\n",
    "from langchain_pinecone import PineconeVectorStore\n",
    "import langchain_community\n",
    "from langchain_core.vectorstores import VectorStore\n",
    "from langchain_core.documents import Document\n",
    "\n",
    "\n",
    "from typing import (\n",
    "    Any,\n",
    "    Callable,\n",
    "    Dict,\n",
    "    Iterable,\n",
    "    List,\n",
    "    Optional,\n",
    "    Sized,\n",
    "    Tuple,\n",
    "    Union,\n",
    ")\n",
    "\n",
    "%load_ext autoreload\n",
    "%autoreload 2"
   ]
  },
  {
   "cell_type": "markdown",
   "id": "92ff98ea-d53c-4ce0-b495-77a5e6394186",
   "metadata": {},
   "source": [
    "## Read Data"
   ]
  },
  {
   "cell_type": "code",
   "execution_count": 2,
   "id": "60c4c3f9-b5ab-4714-97b3-57bba7a0f705",
   "metadata": {},
   "outputs": [],
   "source": [
    "file = '/Users/roshansk/Documents/AI/AdobeTest/test_data/pdfs/DR--110685614.pdf'\n",
    "\n",
    "\n",
    "loader = PyPDFLoader(file)\n",
    "doc = loader.load()\n",
    "\n",
    "splitter = RecursiveCharacterTextSplitter(chunk_size=400, add_start_index = True, add_chunk_id = True)\n",
    "\n",
    "splits = splitter.split_documents(doc)"
   ]
  },
  {
   "cell_type": "markdown",
   "id": "15b96d81-dd5d-4d2d-8077-73bd21b544a0",
   "metadata": {},
   "source": [
    "## Setup Database"
   ]
  },
  {
   "cell_type": "code",
   "execution_count": 6,
   "id": "2f1dfc1f-4b1f-403b-924c-5fab7114a55b",
   "metadata": {},
   "outputs": [],
   "source": [
    "from pinecone import Pinecone, ServerlessSpec, PodSpec\n",
    "pinecone = Pinecone(api_key=os.environ.get(\"PINECONE_API_KEY\"))"
   ]
  },
  {
   "cell_type": "code",
   "execution_count": 15,
   "id": "f539872d-aa48-41ac-a2ef-41c63e2a70d4",
   "metadata": {},
   "outputs": [
    {
     "data": {
      "text/plain": [
       "{'indexes': [{'dimension': 1536,\n",
       "              'host': 'test2-ch8c41c.svc.aped-4627-b74a.pinecone.io',\n",
       "              'metric': 'cosine',\n",
       "              'name': 'test2',\n",
       "              'spec': {'serverless': {'cloud': 'aws', 'region': 'us-east-1'}},\n",
       "              'status': {'ready': True, 'state': 'Ready'}}]}"
      ]
     },
     "execution_count": 15,
     "metadata": {},
     "output_type": "execute_result"
    }
   ],
   "source": [
    "pinecone.list_indexes()"
   ]
  },
  {
   "cell_type": "code",
   "execution_count": 22,
   "id": "912a02c2-971a-4c00-8d9b-fb5452c4eaf4",
   "metadata": {},
   "outputs": [],
   "source": [
    "# # delete index\n",
    "# pinecone.delete_index('test2')"
   ]
  },
  {
   "cell_type": "code",
   "execution_count": 23,
   "id": "80415479-cfa2-43fc-9a81-f14fac462e6e",
   "metadata": {},
   "outputs": [],
   "source": [
    "# create new index \n",
    "\n",
    "pinecone.create_index(\n",
    "    name='test2',\n",
    "    dimension=1536,\n",
    "    metric=\"cosine\",\n",
    "    spec=ServerlessSpec(\n",
    "        cloud='aws', \n",
    "        region='us-east-1'\n",
    "    ) \n",
    ") "
   ]
  },
  {
   "cell_type": "code",
   "execution_count": 25,
   "id": "59dbe607-76b4-4ef2-858c-5cbb8034d6df",
   "metadata": {},
   "outputs": [],
   "source": [
    "idList = [str(x) for x in list(range(len(splits)))]\n",
    "\n",
    "store = PineconeVectorStore.from_documents(splits, OpenAIEmbeddings(), index_name='test2', ids = idList)"
   ]
  },
  {
   "cell_type": "code",
   "execution_count": 26,
   "id": "e6217eed-723a-4745-91ee-a10dc0b5cdcb",
   "metadata": {},
   "outputs": [
    {
     "data": {
      "text/plain": [
       "{'dimension': 1536,\n",
       " 'index_fullness': 0.0,\n",
       " 'namespaces': {},\n",
       " 'total_vector_count': 0}"
      ]
     },
     "execution_count": 26,
     "metadata": {},
     "output_type": "execute_result"
    }
   ],
   "source": [
    "store._index.describe_index_stats()"
   ]
  },
  {
   "cell_type": "markdown",
   "id": "125b5755-a241-418a-a72b-8cdf87bd6d89",
   "metadata": {},
   "source": [
    "## Querying Data"
   ]
  },
  {
   "cell_type": "code",
   "execution_count": 31,
   "id": "4f58cac7-3346-4b51-854d-54bc01f4e22c",
   "metadata": {
    "scrolled": true
   },
   "outputs": [],
   "source": [
    "output = store._index.fetch(ids = ['5','22','3'])"
   ]
  },
  {
   "cell_type": "code",
   "execution_count": 61,
   "id": "b6caf23b-e609-4378-a4fb-f7592f92b2d7",
   "metadata": {},
   "outputs": [],
   "source": [
    "def get_documents_by_ids(store: VectorStore, ids : int | str | List[int|str]) -> List[Document]:\n",
    "\n",
    "    if isinstance(ids, list):\n",
    "        results = store._index.fetch(ids = [str(x) for x in ids])\n",
    "    else:\n",
    "        results = store._index.fetch(ids = [str(ids)])\n",
    "\n",
    "    output_docs = []\n",
    "\n",
    "    if len(results.vectors)>0:\n",
    "    \n",
    "        for id_value in results.vectors.keys():\n",
    "    \n",
    "            metadata = results.vectors[id_value].get('metadata')\n",
    "            page_content = metadata.get('text')\n",
    "            _ = metadata.pop('text')\n",
    "    \n",
    "            metadata['id'] = id_value \n",
    "    \n",
    "            output_docs.append(Document(page_content = page_content, metadata = metadata))\n",
    "\n",
    "    return output_docs\n",
    "    \n",
    "            \n",
    "\n",
    "    \n",
    "    "
   ]
  },
  {
   "cell_type": "code",
   "execution_count": 62,
   "id": "cb689c34-4a15-47a0-9eec-0e4c3f81a170",
   "metadata": {
    "scrolled": true
   },
   "outputs": [
    {
     "data": {
      "text/plain": [
       "[Document(page_content='D:  Use Digital Technology  \\n Task Group(s):  \\nA1:  Read continuous text  \\nA2:  Interpret documents  \\nB3:  Complete and create documents  \\nC2:  Manage time  \\nC4:  Manage Data  \\nD2:  Use Digital Technology  \\nLevel Indicators:  \\nA1.1:  Read brief texts to locate  specific details  \\nA2.2:   Interpret simple documents to locate and connect information', metadata={'chunk_id': 3.0, 'page': 0.0, 'source': '/Users/roshansk/Documents/AI/AdobeTest/test_data/pdfs/DR--110685614.pdf', 'start_index': 641.0, 'id': '3'})]"
      ]
     },
     "execution_count": 62,
     "metadata": {},
     "output_type": "execute_result"
    }
   ],
   "source": [
    "get_documents_by_ids(store, 3)"
   ]
  },
  {
   "cell_type": "code",
   "execution_count": 63,
   "id": "b20eb60d-fac1-4c4d-97a0-78f58e6bf275",
   "metadata": {},
   "outputs": [
    {
     "data": {
      "text/plain": [
       "[Document(page_content='D:  Use Digital Technology  \\n Task Group(s):  \\nA1:  Read continuous text  \\nA2:  Interpret documents  \\nB3:  Complete and create documents  \\nC2:  Manage time  \\nC4:  Manage Data  \\nD2:  Use Digital Technology  \\nLevel Indicators:  \\nA1.1:  Read brief texts to locate  specific details  \\nA2.2:   Interpret simple documents to locate and connect information', metadata={'chunk_id': 3.0, 'page': 0.0, 'source': '/Users/roshansk/Documents/AI/AdobeTest/test_data/pdfs/DR--110685614.pdf', 'start_index': 641.0, 'id': '3'})]"
      ]
     },
     "execution_count": 63,
     "metadata": {},
     "output_type": "execute_result"
    }
   ],
   "source": [
    "get_documents_by_ids(store, '3')"
   ]
  },
  {
   "cell_type": "code",
   "execution_count": 64,
   "id": "3b7b8f71-2595-49b4-94d5-7754fb9d72ef",
   "metadata": {
    "scrolled": true
   },
   "outputs": [
    {
     "data": {
      "text/plain": [
       "[Document(page_content='Task Description:  \\nComplete an agenda for a training schedule and traveling times.   \\nCompetency:  \\nA:  Find and Use Information  \\nB:  Communicate Ideas and Information  \\nC:  Understand and  Use Numbers  \\nD:  Use Digital Technology  \\n Task Group(s):  \\nA1:  Read continuous text  \\nA2:  Interpret documents  \\nB3:  Complete and create documents  \\nC2:  Manage time  \\nC4:  Manage Data', metadata={'chunk_id': 2.0, 'page': 0.0, 'source': '/Users/roshansk/Documents/AI/AdobeTest/test_data/pdfs/DR--110685614.pdf', 'start_index': 435.0, 'id': '2'}),\n",
       " Document(page_content='4:40 pm  5:20 pm  6:00 pm  \\n5:20 pm 6:00 pm  6:40 pm  \\n6:00 pm  6:40 pm  7:20 pm  \\n6:40 pm  7:20 pm  8:00 pm  \\n7:20 pm  8:00 pm  8:40 pm  \\n8:00 pm  8:40 pm  9:20 pm  \\n8:40 pm  9:20 pm  10:00 pm  \\n9:20 pm  10:00 pm  10:40 pm  \\n10:00 pm  10:40 pm  11:20 pm  \\n10:40 pm  11:20 pm  12:00 am', metadata={'chunk_id': 22.0, 'page': 4.0, 'source': '/Users/roshansk/Documents/AI/AdobeTest/test_data/pdfs/DR--110685614.pdf', 'start_index': 1149.0, 'id': '22'}),\n",
       " Document(page_content='D:  Use Digital Technology  \\n Task Group(s):  \\nA1:  Read continuous text  \\nA2:  Interpret documents  \\nB3:  Complete and create documents  \\nC2:  Manage time  \\nC4:  Manage Data  \\nD2:  Use Digital Technology  \\nLevel Indicators:  \\nA1.1:  Read brief texts to locate  specific details  \\nA2.2:   Interpret simple documents to locate and connect information', metadata={'chunk_id': 3.0, 'page': 0.0, 'source': '/Users/roshansk/Documents/AI/AdobeTest/test_data/pdfs/DR--110685614.pdf', 'start_index': 641.0, 'id': '3'})]"
      ]
     },
     "execution_count": 64,
     "metadata": {},
     "output_type": "execute_result"
    }
   ],
   "source": [
    "get_documents_by_ids(store, ['3','22','123212','2'])"
   ]
  },
  {
   "cell_type": "code",
   "execution_count": null,
   "id": "2df0a490-b843-4879-93ba-26ffe95fd365",
   "metadata": {},
   "outputs": [],
   "source": []
  },
  {
   "cell_type": "code",
   "execution_count": null,
   "id": "e6ab567c-fa93-4219-a85f-b1092940eb58",
   "metadata": {},
   "outputs": [],
   "source": []
  },
  {
   "cell_type": "code",
   "execution_count": null,
   "id": "d72aea63-dcb5-47f1-b8d7-ae35af8742f0",
   "metadata": {},
   "outputs": [],
   "source": []
  },
  {
   "cell_type": "code",
   "execution_count": 57,
   "id": "83408ddd-7e45-44c5-a56c-ec7f3ba2d0b5",
   "metadata": {},
   "outputs": [
    {
     "data": {
      "text/plain": [
       "{'chunk_id': 3.0,\n",
       " 'page': 0.0,\n",
       " 'source': '/Users/roshansk/Documents/AI/AdobeTest/test_data/pdfs/DR--110685614.pdf',\n",
       " 'start_index': 641.0}"
      ]
     },
     "execution_count": 57,
     "metadata": {},
     "output_type": "execute_result"
    }
   ],
   "source": [
    "a"
   ]
  },
  {
   "cell_type": "markdown",
   "id": "ad8da227-f49f-45c3-b1d1-d970126eb53b",
   "metadata": {},
   "source": [
    "## Testing with Sentence Window Retriever"
   ]
  },
  {
   "cell_type": "code",
   "execution_count": null,
   "id": "6d2d62d7-1c17-46e5-a7ce-34641630cc8d",
   "metadata": {},
   "outputs": [],
   "source": []
  }
 ],
 "metadata": {
  "kernelspec": {
   "display_name": "langchain_dev",
   "language": "python",
   "name": "langchain_dev"
  },
  "language_info": {
   "codemirror_mode": {
    "name": "ipython",
    "version": 3
   },
   "file_extension": ".py",
   "mimetype": "text/x-python",
   "name": "python",
   "nbconvert_exporter": "python",
   "pygments_lexer": "ipython3",
   "version": "3.11.8"
  }
 },
 "nbformat": 4,
 "nbformat_minor": 5
}

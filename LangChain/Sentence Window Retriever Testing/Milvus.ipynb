{
 "cells": [
  {
   "cell_type": "code",
   "execution_count": 1,
   "id": "28b461fe-42a8-469d-8b60-5a867eeb96f2",
   "metadata": {},
   "outputs": [],
   "source": [
    "import pandas as pd\n",
    "import numpy as np\n",
    "import os\n",
    "from io import StringIO \n",
    "import json\n",
    "from collections import Counter\n",
    "\n",
    "\n",
    "from enum import Enum\n",
    "\n",
    "import sys  \n",
    "sys.path.append( '/Users/roshansk/Documents/GitHub/langchain/libs/langchain')\n",
    "sys.path.append( '/Users/roshansk/Documents/GitHub/langchain/libs/experimental/')\n",
    "sys.path.append( '/Users/roshansk/Documents/GitHub/langchain/libs/partners/openai')\n",
    "sys.path.append( '/Users/roshansk/Documents/GitHub/langchain/libs/community/langchain_community/')\n",
    "\n",
    "\n",
    "from langchain.document_loaders import HuggingFaceDatasetLoader\n",
    "from langchain.text_splitter import RecursiveCharacterTextSplitter, CharacterTextSplitter\n",
    "from langchain.embeddings import HuggingFaceEmbeddings\n",
    "from langchain_core.output_parsers import JsonOutputParser\n",
    "from langchain import HuggingFacePipeline\n",
    "from langchain.chains import RetrievalQA\n",
    "from langchain_community.document_loaders import PyPDFLoader\n",
    "from langchain_community.vectorstores import FAISS, Chroma, Milvus\n",
    "from langchain_openai import OpenAIEmbeddings, ChatOpenAI\n",
    "from langchain_core.runnables import RunnablePassthrough\n",
    "from langchain_core.pydantic_v1 import BaseModel, Field\n",
    "from langchain.prompts import ChatPromptTemplate, PromptTemplate\n",
    "from langchain_community.vectorstores.faiss import DistanceStrategy\n",
    "from langchain_pinecone import PineconeVectorStore\n",
    "import langchain_community\n",
    "from langchain_core.vectorstores import VectorStore\n",
    "from langchain_core.documents import Document\n",
    "\n",
    "\n",
    "from typing import (\n",
    "    Any,\n",
    "    Callable,\n",
    "    Dict,\n",
    "    Iterable,\n",
    "    List,\n",
    "    Optional,\n",
    "    Sized,\n",
    "    Tuple,\n",
    "    Union,\n",
    ")\n",
    "\n",
    "%load_ext autoreload\n",
    "%autoreload 2"
   ]
  },
  {
   "cell_type": "markdown",
   "id": "e0e3e817-2c94-4613-88b4-445796189194",
   "metadata": {},
   "source": [
    "## Read Data"
   ]
  },
  {
   "cell_type": "code",
   "execution_count": 2,
   "id": "f551e126-d999-44df-a7f2-2433d9568012",
   "metadata": {},
   "outputs": [],
   "source": [
    "file = '/Users/roshansk/Documents/AI/AdobeTest/test_data/pdfs/DR--110685614.pdf'\n",
    "\n",
    "\n",
    "loader = PyPDFLoader(file)\n",
    "doc = loader.load()\n",
    "\n",
    "splitter = RecursiveCharacterTextSplitter(chunk_size=400, add_start_index = True, add_chunk_id = True)\n",
    "\n",
    "splits = splitter.split_documents(doc)"
   ]
  },
  {
   "cell_type": "markdown",
   "id": "2c3d44b5-bdf0-4b84-943d-901afed9199b",
   "metadata": {},
   "source": [
    "## Setup Database"
   ]
  },
  {
   "cell_type": "code",
   "execution_count": 3,
   "id": "125d53c3-5a42-44b2-bea7-8ca640fc8214",
   "metadata": {},
   "outputs": [],
   "source": [
    "from milvus import default_server\n",
    "from pymilvus import connections, utility"
   ]
  },
  {
   "cell_type": "code",
   "execution_count": 4,
   "id": "1dd5e402-80d1-4f16-a167-26b618b7a66d",
   "metadata": {},
   "outputs": [],
   "source": [
    "default_server.start()"
   ]
  },
  {
   "cell_type": "code",
   "execution_count": 5,
   "id": "a6ef4a15-c240-42a7-bf7b-a9f56191b20e",
   "metadata": {},
   "outputs": [
    {
     "name": "stdout",
     "output_type": "stream",
     "text": [
      "True\n"
     ]
    }
   ],
   "source": [
    "print(default_server.running)"
   ]
  },
  {
   "cell_type": "code",
   "execution_count": 24,
   "id": "e977d7b9-4a0c-4499-bc3e-ff5443842e3f",
   "metadata": {},
   "outputs": [],
   "source": [
    "idList = [str(x) for x in list(range(len(splits)))]\n",
    "\n",
    "store= Milvus.from_documents(splits, OpenAIEmbeddings(), ids = idList)"
   ]
  },
  {
   "cell_type": "code",
   "execution_count": 25,
   "id": "3726ec4b-da63-4760-9f06-688d2e1462ea",
   "metadata": {},
   "outputs": [
    {
     "data": {
      "text/plain": [
       "'LangChainCollection'"
      ]
     },
     "execution_count": 25,
     "metadata": {},
     "output_type": "execute_result"
    }
   ],
   "source": [
    "store.collection_name"
   ]
  },
  {
   "cell_type": "code",
   "execution_count": 26,
   "id": "fb15f3af-1201-4622-8d97-588072bc33db",
   "metadata": {},
   "outputs": [],
   "source": [
    "store.collection_properties"
   ]
  },
  {
   "cell_type": "code",
   "execution_count": 28,
   "id": "799d6709-6349-4b88-be9e-0a795cbb8dd4",
   "metadata": {},
   "outputs": [],
   "source": [
    "# # To delete the collection\n",
    "# store.col.drop()"
   ]
  },
  {
   "cell_type": "code",
   "execution_count": 27,
   "id": "3a586a97-6fb9-440c-b934-6478fc3048ba",
   "metadata": {},
   "outputs": [],
   "source": []
  },
  {
   "cell_type": "markdown",
   "id": "22deef7d-d1de-4be8-a05b-25d44f6667de",
   "metadata": {},
   "source": [
    "## Querying Database"
   ]
  },
  {
   "cell_type": "code",
   "execution_count": 29,
   "id": "cbb6531b-9c5b-46d8-b521-5c606c518818",
   "metadata": {},
   "outputs": [],
   "source": [
    "query = store.embeddings.embed_query(\"Hey there\")"
   ]
  },
  {
   "cell_type": "code",
   "execution_count": 30,
   "id": "483a834b-297b-4f46-96c2-bc3346e27951",
   "metadata": {
    "scrolled": true
   },
   "outputs": [
    {
     "data": {
      "text/plain": [
       "[\"['id: 15, distance: 0.42410343885421753, entity: {}', 'id: 33, distance: 0.506050705909729, entity: {}', 'id: 12, distance: 0.5248297452926636, entity: {}', 'id: 34, distance: 0.5332403182983398, entity: {}', 'id: 28, distance: 0.5413569211959839, entity: {}']\"]"
      ]
     },
     "execution_count": 30,
     "metadata": {},
     "output_type": "execute_result"
    }
   ],
   "source": [
    "# data must be a list of lists\n",
    "# param should be a dict \n",
    "# anns_field should be store._vector_field\n",
    "\n",
    "store.col.search(data=[query], param={}, limit=5, anns_field=store._vector_field)"
   ]
  },
  {
   "cell_type": "code",
   "execution_count": 37,
   "id": "9b4a8d5c-157c-4e62-ba69-0c595060e819",
   "metadata": {},
   "outputs": [
    {
     "data": {
      "text/plain": [
       "['[\"id: 15, distance: 0.42410343885421753, entity: {\\'pk\\': \\'15\\', \\'chunk_id\\': 15, \\'source\\': \\'/Users/roshansk/Documents/AI/AdobeTest/test_data/pdfs/DR--110685614.pdf\\'}\", \"id: 33, distance: 0.506050705909729, entity: {\\'pk\\': \\'33\\', \\'chunk_id\\': 33, \\'source\\': \\'/Users/roshansk/Documents/AI/AdobeTest/test_data/pdfs/DR--110685614.pdf\\'}\", \"id: 12, distance: 0.5248297452926636, entity: {\\'pk\\': \\'12\\', \\'chunk_id\\': 12, \\'source\\': \\'/Users/roshansk/Documents/AI/AdobeTest/test_data/pdfs/DR--110685614.pdf\\'}\", \"id: 34, distance: 0.5332403182983398, entity: {\\'pk\\': \\'34\\', \\'chunk_id\\': 34, \\'source\\': \\'/Users/roshansk/Documents/AI/AdobeTest/test_data/pdfs/DR--110685614.pdf\\'}\", \"id: 28, distance: 0.5413569211959839, entity: {\\'pk\\': \\'28\\', \\'chunk_id\\': 28, \\'source\\': \\'/Users/roshansk/Documents/AI/AdobeTest/test_data/pdfs/DR--110685614.pdf\\'}\"]']"
      ]
     },
     "execution_count": 37,
     "metadata": {},
     "output_type": "execute_result"
    }
   ],
   "source": [
    "## Can get extra fields in the output using output_fields\n",
    "output = store.col.search(data=[query], param={}, limit=5, anns_field=store._vector_field, output_fields=['chunk_id','source','pk'])\n",
    "\n",
    "output"
   ]
  },
  {
   "cell_type": "code",
   "execution_count": 34,
   "id": "53424edf-6ebc-4eef-a023-272a945399f6",
   "metadata": {
    "scrolled": true
   },
   "outputs": [
    {
     "data": {
      "text/plain": [
       "['source', 'page', 'start_index', 'chunk_id', 'text', 'pk', 'vector']"
      ]
     },
     "execution_count": 34,
     "metadata": {},
     "output_type": "execute_result"
    }
   ],
   "source": [
    "# For full list of fields : \n",
    "store.fields"
   ]
  },
  {
   "cell_type": "code",
   "execution_count": null,
   "id": "eb319f1c-c1b8-4a08-b82b-9afc441660f4",
   "metadata": {},
   "outputs": [],
   "source": []
  },
  {
   "cell_type": "markdown",
   "id": "e1c7b759-2f8b-43b8-86c8-4a779a41912f",
   "metadata": {},
   "source": [
    "### Querying based on ID"
   ]
  },
  {
   "cell_type": "code",
   "execution_count": 36,
   "id": "0d352fb3-af28-4edc-887b-e0c6bd3996f6",
   "metadata": {},
   "outputs": [
    {
     "data": {
      "text/plain": [
       "'pk'"
      ]
     },
     "execution_count": 36,
     "metadata": {},
     "output_type": "execute_result"
    }
   ],
   "source": [
    "store._primary_field"
   ]
  },
  {
   "cell_type": "code",
   "execution_count": 42,
   "id": "27b914eb-b2c0-4826-998b-cbf310de8a06",
   "metadata": {
    "scrolled": true
   },
   "outputs": [
    {
     "data": {
      "text/plain": [
       "[{'source': '/Users/roshansk/Documents/AI/AdobeTest/test_data/pdfs/DR--110685614.pdf',\n",
       "  'text': '1 \\n OALCF Task Cover Sheet  \\nTask Title:   Training Schedule  \\nLearner Name:  \\n \\n \\nDate Started:       Date Completed:  \\n \\n \\nSuccessful Completion:    Yes__ _  No__ _ \\nGoal Path:    Employment  \\uf0fc    Apprenticeship  \\uf0fc   Secondary School_ __  Post Secondary  \\uf0fc Independence ___ \\nTask Description:  \\nComplete an agenda for a training schedule and traveling times.   \\nCompetency:',\n",
       "  'pk': '1',\n",
       "  'page': 0},\n",
       " {'source': '/Users/roshansk/Documents/AI/AdobeTest/test_data/pdfs/DR--110685614.pdf',\n",
       "  'text': 'Task Description:  \\nComplete an agenda for a training schedule and traveling times.   \\nCompetency:  \\nA:  Find and Use Information  \\nB:  Communicate Ideas and Information  \\nC:  Understand and  Use Numbers  \\nD:  Use Digital Technology  \\n Task Group(s):  \\nA1:  Read continuous text  \\nA2:  Interpret documents  \\nB3:  Complete and create documents  \\nC2:  Manage time  \\nC4:  Manage Data',\n",
       "  'pk': '2',\n",
       "  'page': 0},\n",
       " {'source': '/Users/roshansk/Documents/AI/AdobeTest/test_data/pdfs/DR--110685614.pdf',\n",
       "  'text': 'D:  Use Digital Technology  \\n Task Group(s):  \\nA1:  Read continuous text  \\nA2:  Interpret documents  \\nB3:  Complete and create documents  \\nC2:  Manage time  \\nC4:  Manage Data  \\nD2:  Use Digital Technology  \\nLevel Indicators:  \\nA1.1:  Read brief texts to locate  specific details  \\nA2.2:   Interpret simple documents to locate and connect information',\n",
       "  'pk': '3',\n",
       "  'page': 0}]"
      ]
     },
     "execution_count": 42,
     "metadata": {},
     "output_type": "execute_result"
    }
   ],
   "source": [
    "store.col.query(expr = \"\"\"pk in ['1','2','3']\"\"\", output_fields=['source','text','pk','page'])"
   ]
  },
  {
   "cell_type": "code",
   "execution_count": 41,
   "id": "e6b270eb-d1b6-4c28-b9c3-c4ae44794add",
   "metadata": {},
   "outputs": [
    {
     "data": {
      "text/plain": [
       "['source', 'page', 'start_index', 'chunk_id', 'text', 'pk', 'vector']"
      ]
     },
     "execution_count": 41,
     "metadata": {},
     "output_type": "execute_result"
    }
   ],
   "source": [
    "store.fields"
   ]
  },
  {
   "cell_type": "code",
   "execution_count": 71,
   "id": "1c6d9215-f4c5-473c-af9d-8e048e11a222",
   "metadata": {},
   "outputs": [],
   "source": [
    "a = [101,20,31]"
   ]
  },
  {
   "cell_type": "code",
   "execution_count": 80,
   "id": "de9b50c9-cee2-41b2-b54d-4e39860653d6",
   "metadata": {},
   "outputs": [],
   "source": [
    "def get_documents_by_ids(store: VectorStore, ids : int | str | List[int|str]) -> List[Document]:\n",
    "\n",
    "    #Generating filtering expr for passing to query function\n",
    "    if isinstance(ids, list):\n",
    "        expr = \"pk in [\"\n",
    "    \n",
    "        for id_value in ids:\n",
    "            expr += f\"'{id_value}',\"\n",
    "    \n",
    "        expr += \"]\"\n",
    "        \n",
    "    else:\n",
    "        expr = \"pk in ['{a}']\".format(a = a)\n",
    "\n",
    "\n",
    "    output_fields = list(set(store.fields).intersection(['source','text','pk','page', 'chunk_id']))\n",
    "\n",
    "    results = store.col.query(expr = expr, output_fields=output_fields)\n",
    "\n",
    "    output_docs = []\n",
    "    \n",
    "    if len(results)>0:\n",
    "\n",
    "        for i in range(len(results)):\n",
    "\n",
    "            page_content = results[i]['text']\n",
    "\n",
    "            metadata = {'pk': results[i]['pk']}\n",
    "\n",
    "            for metadata_field in ['source','page','chunk_id']:\n",
    "                if metadata_field in output_fields:\n",
    "                    metadata[metadata_field] = results[i][metadata_field]\n",
    "\n",
    "            output_docs.append(Document(page_content=page_content, metadata=metadata) )\n",
    "\n",
    "    return output_docs\n",
    "            "
   ]
  },
  {
   "cell_type": "code",
   "execution_count": 84,
   "id": "0831f871-7b8c-484a-af14-85dc5b5b702f",
   "metadata": {},
   "outputs": [
    {
     "data": {
      "text/plain": [
       "[Document(page_content='D:  Use Digital Technology  \\n Task Group(s):  \\nA1:  Read continuous text  \\nA2:  Interpret documents  \\nB3:  Complete and create documents  \\nC2:  Manage time  \\nC4:  Manage Data  \\nD2:  Use Digital Technology  \\nLevel Indicators:  \\nA1.1:  Read brief texts to locate  specific details  \\nA2.2:   Interpret simple documents to locate and connect information', metadata={'pk': '3', 'source': '/Users/roshansk/Documents/AI/AdobeTest/test_data/pdfs/DR--110685614.pdf', 'page': 0, 'chunk_id': 3})]"
      ]
     },
     "execution_count": 84,
     "metadata": {},
     "output_type": "execute_result"
    }
   ],
   "source": [
    "get_documents_by_ids(store, [3])"
   ]
  },
  {
   "cell_type": "code",
   "execution_count": 85,
   "id": "af9ad588-dd87-4c60-bef7-936d89904ddf",
   "metadata": {},
   "outputs": [
    {
     "data": {
      "text/plain": [
       "[Document(page_content='Transition Task: Prepared for the Project,  Teaching to Fish (Build Tasks) Integrating OALCF Task \\nDevelopment within Ontario’s Literacy Programs  (2014)  \\n \\n6 \\n Task Title:  Training Schedule  \\nAnswer Key \\nTask 1:   Complete the weekly agenda using the class schedule .  Include the class code.  \\n \\nWeekly Agenda  \\nMonday  Tuesday   Wednesday  Thursday  Friday  \\n7  7   7   7   7', metadata={'pk': '23', 'source': '/Users/roshansk/Documents/AI/AdobeTest/test_data/pdfs/DR--110685614.pdf', 'page': 5, 'chunk_id': 23}),\n",
       " Document(page_content='D:  Use Digital Technology  \\n Task Group(s):  \\nA1:  Read continuous text  \\nA2:  Interpret documents  \\nB3:  Complete and create documents  \\nC2:  Manage time  \\nC4:  Manage Data  \\nD2:  Use Digital Technology  \\nLevel Indicators:  \\nA1.1:  Read brief texts to locate  specific details  \\nA2.2:   Interpret simple documents to locate and connect information', metadata={'pk': '3', 'source': '/Users/roshansk/Documents/AI/AdobeTest/test_data/pdfs/DR--110685614.pdf', 'page': 0, 'chunk_id': 3}),\n",
       " Document(page_content='decimals (e.g. .25, .5) and simple common fractions (e.g. ½, ¼ \\nhour)     \\n \\uf0b7 follows apparent steps to reach solutions     \\n \\uf0b7 uses strategies to check accuracy (e.g. estimating, using a \\ncalculator, repeating a calculation, using the reverse \\noperation)     \\nC4.1  \\uf0b7 recognizes values in number and word format     \\n \\uf0b7 understands numerical order', metadata={'pk': '45', 'source': '/Users/roshansk/Documents/AI/AdobeTest/test_data/pdfs/DR--110685614.pdf', 'page': 8, 'chunk_id': 45})]"
      ]
     },
     "execution_count": 85,
     "metadata": {},
     "output_type": "execute_result"
    }
   ],
   "source": [
    "get_documents_by_ids(store, ['3','23',45])"
   ]
  },
  {
   "cell_type": "code",
   "execution_count": 83,
   "id": "5746fc25-7edf-46e0-94b0-956d406b7b97",
   "metadata": {
    "scrolled": true
   },
   "outputs": [
    {
     "data": {
      "text/plain": [
       "[Document(page_content='4:40 pm  5:20 pm  6:00 pm  \\n5:20 pm 6:00 pm  6:40 pm  \\n6:00 pm  6:40 pm  7:20 pm  \\n6:40 pm  7:20 pm  8:00 pm  \\n7:20 pm  8:00 pm  8:40 pm  \\n8:00 pm  8:40 pm  9:20 pm  \\n8:40 pm  9:20 pm  10:00 pm  \\n9:20 pm  10:00 pm  10:40 pm  \\n10:00 pm  10:40 pm  11:20 pm  \\n10:40 pm  11:20 pm  12:00 am', metadata={'pk': '22', 'source': '/Users/roshansk/Documents/AI/AdobeTest/test_data/pdfs/DR--110685614.pdf', 'page': 4, 'chunk_id': 22}),\n",
       " Document(page_content='D:  Use Digital Technology  \\n Task Group(s):  \\nA1:  Read continuous text  \\nA2:  Interpret documents  \\nB3:  Complete and create documents  \\nC2:  Manage time  \\nC4:  Manage Data  \\nD2:  Use Digital Technology  \\nLevel Indicators:  \\nA1.1:  Read brief texts to locate  specific details  \\nA2.2:   Interpret simple documents to locate and connect information', metadata={'pk': '3', 'source': '/Users/roshansk/Documents/AI/AdobeTest/test_data/pdfs/DR--110685614.pdf', 'page': 0, 'chunk_id': 3})]"
      ]
     },
     "execution_count": 83,
     "metadata": {},
     "output_type": "execute_result"
    }
   ],
   "source": [
    "get_documents_by_ids(store, ['3','r','22'])"
   ]
  },
  {
   "cell_type": "code",
   "execution_count": null,
   "id": "a7dba41d-9d3e-44b8-a585-15115791000d",
   "metadata": {},
   "outputs": [],
   "source": []
  },
  {
   "cell_type": "code",
   "execution_count": null,
   "id": "f0ba32ba-1bb8-43ac-ae09-8938237e94fd",
   "metadata": {},
   "outputs": [],
   "source": []
  }
 ],
 "metadata": {
  "kernelspec": {
   "display_name": "langchain_dev",
   "language": "python",
   "name": "langchain_dev"
  },
  "language_info": {
   "codemirror_mode": {
    "name": "ipython",
    "version": 3
   },
   "file_extension": ".py",
   "mimetype": "text/x-python",
   "name": "python",
   "nbconvert_exporter": "python",
   "pygments_lexer": "ipython3",
   "version": "3.11.8"
  }
 },
 "nbformat": 4,
 "nbformat_minor": 5
}

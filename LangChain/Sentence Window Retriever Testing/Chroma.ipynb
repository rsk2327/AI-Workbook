{
 "cells": [
  {
   "cell_type": "code",
   "execution_count": 1,
   "id": "e886ba11-400e-4ff0-b427-86ee0e9f1089",
   "metadata": {},
   "outputs": [],
   "source": [
    "import pandas as pd\n",
    "import numpy as np\n",
    "import os\n",
    "from io import StringIO \n",
    "import json\n",
    "from collections import Counter\n",
    "\n",
    "\n",
    "from enum import Enum\n",
    "\n",
    "import sys  \n",
    "sys.path.append( '/Users/roshansk/Documents/GitHub/langchain/libs/langchain')\n",
    "sys.path.append( '/Users/roshansk/Documents/GitHub/langchain/libs/experimental/')\n",
    "sys.path.append( '/Users/roshansk/Documents/GitHub/langchain/libs/partners/openai')\n",
    "sys.path.append( '/Users/roshansk/Documents/GitHub/langchain/libs/community/langchain_community/')\n",
    "\n",
    "\n",
    "from langchain.document_loaders import HuggingFaceDatasetLoader\n",
    "from langchain.text_splitter import RecursiveCharacterTextSplitter, CharacterTextSplitter\n",
    "from langchain.embeddings import HuggingFaceEmbeddings\n",
    "from langchain_core.output_parsers import JsonOutputParser\n",
    "from langchain import HuggingFacePipeline\n",
    "from langchain.chains import RetrievalQA\n",
    "from langchain_community.document_loaders import PyPDFLoader\n",
    "from langchain_community.vectorstores import FAISS, Chroma, Milvus\n",
    "from langchain_openai import OpenAIEmbeddings, ChatOpenAI\n",
    "from langchain_core.runnables import RunnablePassthrough\n",
    "from langchain_core.pydantic_v1 import BaseModel, Field\n",
    "from langchain.prompts import ChatPromptTemplate, PromptTemplate\n",
    "from langchain_community.vectorstores.faiss import DistanceStrategy\n",
    "from langchain_pinecone import PineconeVectorStore\n",
    "import langchain_community\n",
    "from langchain_core.vectorstores import VectorStore\n",
    "from langchain_core.documents import Document\n",
    "\n",
    "\n",
    "from typing import (\n",
    "    Any,\n",
    "    Callable,\n",
    "    Dict,\n",
    "    Iterable,\n",
    "    List,\n",
    "    Optional,\n",
    "    Sized,\n",
    "    Tuple,\n",
    "    Union,\n",
    ")\n",
    "\n",
    "%load_ext autoreload\n",
    "%autoreload 2"
   ]
  },
  {
   "cell_type": "code",
   "execution_count": null,
   "id": "1885e051-5cd0-40cc-969c-86fd9c4a902b",
   "metadata": {},
   "outputs": [],
   "source": []
  },
  {
   "cell_type": "code",
   "execution_count": null,
   "id": "2fc494b6-c412-4d34-a921-b2571734ed84",
   "metadata": {},
   "outputs": [],
   "source": []
  },
  {
   "cell_type": "code",
   "execution_count": null,
   "id": "48807104-b818-4829-a94e-5bd39d5d3930",
   "metadata": {},
   "outputs": [],
   "source": []
  },
  {
   "cell_type": "code",
   "execution_count": null,
   "id": "5e3774f9-4f86-4d1f-af9a-c9a50602e7ae",
   "metadata": {},
   "outputs": [],
   "source": []
  },
  {
   "cell_type": "code",
   "execution_count": 2,
   "id": "5628e360-86dd-4745-b2bb-b9c6b2eacfeb",
   "metadata": {},
   "outputs": [],
   "source": [
    "def get_document_by_id_chroma(store: VectorStore, ids : int | str | List[int|str]) -> List[Document]:\n",
    "\n",
    "    if isinstance(ids, list):\n",
    "        output = store._collection.get(ids = ids)\n",
    "    else:\n",
    "        output = store._collection.get(ids = [ids])\n",
    "\n",
    "    num_results = len(output['ids'])\n",
    "\n",
    "    output_docs = []\n",
    "    \n",
    "    if num_results>0:\n",
    "\n",
    "        for i in range(num_results):\n",
    "            metadata = output['metadatas'][i]\n",
    "            page_content = output['documents'][i]\n",
    "\n",
    "            output_docs.append(Document(page_content=page_content, metadata=metadata))\n",
    "\n",
    "    return output_docs"
   ]
  },
  {
   "cell_type": "code",
   "execution_count": null,
   "id": "e61dace9-9701-469f-b40e-ef8fa0c7b648",
   "metadata": {},
   "outputs": [],
   "source": []
  }
 ],
 "metadata": {
  "kernelspec": {
   "display_name": "langchain_dev",
   "language": "python",
   "name": "langchain_dev"
  },
  "language_info": {
   "codemirror_mode": {
    "name": "ipython",
    "version": 3
   },
   "file_extension": ".py",
   "mimetype": "text/x-python",
   "name": "python",
   "nbconvert_exporter": "python",
   "pygments_lexer": "ipython3",
   "version": "3.11.8"
  }
 },
 "nbformat": 4,
 "nbformat_minor": 5
}

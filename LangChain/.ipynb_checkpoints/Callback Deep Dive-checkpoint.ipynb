{
 "cells": [
  {
   "cell_type": "code",
   "execution_count": 129,
   "id": "148c69ad-0134-4f0e-8e10-9ed1bf9cb0c9",
   "metadata": {},
   "outputs": [],
   "source": [
    "import pandas as pd\n",
    "import numpy as np\n",
    "import os\n",
    "from io import StringIO \n",
    "import json\n",
    "from collections import Counter\n",
    "\n",
    "\n",
    "from enum import Enum\n",
    "\n",
    "from langchain.document_loaders import HuggingFaceDatasetLoader\n",
    "from langchain.text_splitter import RecursiveCharacterTextSplitter\n",
    "from langchain_experimental.text_splitter import SemanticChunker\n",
    "from langchain.embeddings import HuggingFaceEmbeddings\n",
    "from langchain_core.output_parsers import JsonOutputParser\n",
    "from transformers import AutoTokenizer, AutoModelForQuestionAnswering\n",
    "from transformers import AutoTokenizer, pipeline\n",
    "from langchain import HuggingFacePipeline\n",
    "from langchain.chains import RetrievalQA\n",
    "from langchain_community.document_loaders import PyPDFLoader\n",
    "from langchain_community.vectorstores import FAISS, Chroma\n",
    "from langchain_openai import OpenAIEmbeddings, ChatOpenAI\n",
    "from langchain_core.runnables import RunnablePassthrough, RunnableLambda\n",
    "from langchain_core.pydantic_v1 import BaseModel, Field\n",
    "from langchain.prompts import ChatPromptTemplate, PromptTemplate\n",
    "from langchain_community.vectorstores.faiss import DistanceStrategy\n",
    "from langchain_pinecone import PineconeVectorStore\n",
    "from time import perf_counter, process_time\n",
    "\n",
    "from utils import *\n",
    "from main import *\n",
    "\n",
    "%reload_ext autoreload\n",
    "%autoreload 2\n",
    "\n",
    "from openai import OpenAI\n"
   ]
  },
  {
   "cell_type": "code",
   "execution_count": 87,
   "id": "25556b16-3161-41c7-8181-af4acf654388",
   "metadata": {},
   "outputs": [],
   "source": [
    "MODEL = 'gpt-3.5-turbo-0301'\n",
    "BASE_FOLDER = \"./test_data\"\n",
    "QUESTION_FILE =  \"document_questions.xlsx\"\n",
    "RAW_DATA_FOLDER = \"raw_text\"\n",
    "\n",
    "client = OpenAI(api_key=os.environ.get(\"OPENAI_API_KEY\"))"
   ]
  },
  {
   "cell_type": "code",
   "execution_count": 88,
   "id": "a2a1db58-d199-4199-8ae3-91b02eb94d7b",
   "metadata": {},
   "outputs": [],
   "source": [
    "df = pd.read_excel(os.path.join(BASE_FOLDER, QUESTION_FILE))\n",
    "docs = retrieve_pdf_docs(os.path.join(BASE_FOLDER,'pdfs'))"
   ]
  },
  {
   "cell_type": "code",
   "execution_count": null,
   "id": "71c0fa2f-6640-4b22-bec4-7afe78926559",
   "metadata": {},
   "outputs": [],
   "source": []
  },
  {
   "cell_type": "markdown",
   "id": "c7bdcde6-9931-4dde-ac79-7ec089b0e9c4",
   "metadata": {},
   "source": [
    "# Callback Testing"
   ]
  },
  {
   "cell_type": "code",
   "execution_count": 89,
   "id": "7ccbf25a-4755-4f83-96d0-c8ae647bb98f",
   "metadata": {},
   "outputs": [],
   "source": [
    "text_splitter = RecursiveCharacterTextSplitter(chunk_size=1000, chunk_overlap=100)\n",
    "splits = text_splitter.split_documents(docs)\n",
    "\n",
    "store = FAISS.from_documents(docs, OpenAIEmbeddings(), distance_strategy=DistanceStrategy.COSINE)"
   ]
  },
  {
   "cell_type": "code",
   "execution_count": 211,
   "id": "46158a42-8bba-4c9a-bf39-d76ae00d3c82",
   "metadata": {},
   "outputs": [],
   "source": [
    "from typing import TYPE_CHECKING, Any, Dict, Optional, List\n",
    "\n",
    "class NewHandler(BaseCallbackHandler):\n",
    "\n",
    "    def __init__(self):\n",
    "        self.serialized_input = []\n",
    "        self.chain_input = []\n",
    "    \n",
    "\n",
    "    def on_chain_start(\n",
    "        self, serialized: Dict[str, Any], inputs: Dict[str, Any], **kwargs: Any\n",
    "    ) -> None:\n",
    "        \"\"\"Print out that we are entering a chain.\"\"\"\n",
    "        # global serialized_input, chain_input\n",
    "        print(\"chain start\")\n",
    "        # print(\"Inputs: \")\n",
    "        # print(inputs)\n",
    "        # print(\"Serialized:\")\n",
    "        # print(serialized)\n",
    "        self.serialized_input.append(serialized)\n",
    "        self.chain_input.append(inputs)\n",
    "        # class_name = serialized.get(\"name\", serialized.get(\"id\", [\"<unknown>\"])[-1])\n",
    "        # print(f\"\\n\\n\\033[1m> Entering new {class_name} chain...\\033[0m\")  # noqa: T201\n",
    "\n",
    "    def on_chain_end(self, outputs: Dict[str, Any], **kwargs: Any) -> None:\n",
    "        \"\"\"Print out that we finished a chain.\"\"\"\n",
    "        # print(\"Output:\")\n",
    "        # print(outputs)\n",
    "        # print(\"\\n\\033[1m> Finished chain.\\033[0m\")  # noqa: T201\n",
    "\n",
    "    def on_tool_start(\n",
    "        self, serialized: Dict[str, Any], input_str: str, **kwargs: Any\n",
    "    ) -> Any:\n",
    "        print(\"tool start\")\n",
    "\n",
    "    def on_agent_action(self, action, **kwargs: Any) -> Any:\n",
    "        \"\"\"Run on agent action.\"\"\"\n",
    "        print(\"agent action\")\n",
    "\n",
    "    \n",
    "\n",
    "\n",
    "def getChainBreakdown(serialized_input):\n",
    "\n",
    "    x = serialized_input\n",
    "    \n",
    "    try:\n",
    "        name = x['name']\n",
    "    except:\n",
    "        name = x['repr']\n",
    "\n",
    "    seq_type = x['type']\n",
    "    id = x['id']\n",
    "    kwargs_keys = x['kwargs'].keys()\n",
    "\n",
    "    print(f\"name: {name}\")\n",
    "    print(f\"type: {seq_type}\")\n",
    "    print(f\"id: {id}\")\n",
    "    print(f\"kwargs_keys: {kwargs_keys}\")\n",
    "\n",
    "\n"
   ]
  },
  {
   "cell_type": "markdown",
   "id": "97aec58f-b4e9-4847-868b-537dd7ad3fd1",
   "metadata": {
    "jp-MarkdownHeadingCollapsed": true
   },
   "source": [
    "## Chain 1"
   ]
  },
  {
   "cell_type": "code",
   "execution_count": 147,
   "id": "8118d86c-81b9-493a-be74-dc9884fb865b",
   "metadata": {},
   "outputs": [],
   "source": [
    "qa_template = \"\"\"You are an assistant that helps answer questions. \n",
    "    Question: {question} \n",
    "    Answer:\n",
    "    \"\"\"\n",
    "qa_prompt = ChatPromptTemplate.from_template(qa_template)\n",
    "\n",
    "qa_template2 = \"\"\"The prompt is : {prompt}\n",
    "    \"\"\"\n",
    "qa_prompt2 = ChatPromptTemplate.from_template(qa_template2)\n",
    "\n",
    "\n",
    "\n",
    "def retrieve_text(x):\n",
    "    return {'prompt': x.messages[0].content}\n",
    "\n",
    "rag_chain =  qa_prompt | RunnableLambda( retrieve_text) | qa_prompt2\n"
   ]
  },
  {
   "cell_type": "code",
   "execution_count": 131,
   "id": "2b2b4b05-257b-4043-aefd-ac5ba74c4e7f",
   "metadata": {},
   "outputs": [],
   "source": []
  },
  {
   "cell_type": "code",
   "execution_count": 150,
   "id": "7a0da4f0-9160-4cf9-a6f2-04ea2f1c3dfa",
   "metadata": {
    "scrolled": true
   },
   "outputs": [
    {
     "name": "stdout",
     "output_type": "stream",
     "text": [
      "Inputs: \n",
      "{'question': 'What is meant by computational finance?'}\n",
      "Serialized:\n",
      "{'lc': 1, 'type': 'constructor', 'id': ['langchain', 'schema', 'runnable', 'RunnableSequence'], 'kwargs': {'first': {'lc': 1, 'type': 'constructor', 'id': ['langchain', 'prompts', 'chat', 'ChatPromptTemplate'], 'kwargs': {'input_variables': ['question'], 'messages': [{'lc': 1, 'type': 'constructor', 'id': ['langchain', 'prompts', 'chat', 'HumanMessagePromptTemplate'], 'kwargs': {'prompt': {'lc': 1, 'type': 'constructor', 'id': ['langchain', 'prompts', 'prompt', 'PromptTemplate'], 'kwargs': {'input_variables': ['question'], 'template': 'You are an assistant that helps answer questions. \\n    Question: {question} \\n    Answer:\\n    ', 'template_format': 'f-string', 'partial_variables': {}}, 'name': 'PromptTemplate', 'graph': {'nodes': [{'id': 0, 'type': 'schema', 'data': {'title': 'PromptInput', 'type': 'object', 'properties': {'question': {'title': 'Question', 'type': 'string'}}}}, {'id': 1, 'type': 'runnable', 'data': {'id': ['langchain', 'prompts', 'prompt', 'PromptTemplate'], 'name': 'PromptTemplate'}}, {'id': 2, 'type': 'schema', 'data': {'title': 'PromptTemplateOutput', 'anyOf': [{'$ref': '#/definitions/StringPromptValue'}, {'$ref': '#/definitions/ChatPromptValueConcrete'}], 'definitions': {'StringPromptValue': {'title': 'StringPromptValue', 'description': 'String prompt value.', 'type': 'object', 'properties': {'text': {'title': 'Text', 'type': 'string'}, 'type': {'title': 'Type', 'default': 'StringPromptValue', 'enum': ['StringPromptValue'], 'type': 'string'}}, 'required': ['text']}, 'AIMessage': {'title': 'AIMessage', 'description': 'Message from an AI.', 'type': 'object', 'properties': {'content': {'title': 'Content', 'anyOf': [{'type': 'string'}, {'type': 'array', 'items': {'anyOf': [{'type': 'string'}, {'type': 'object'}]}}]}, 'additional_kwargs': {'title': 'Additional Kwargs', 'type': 'object'}, 'response_metadata': {'title': 'Response Metadata', 'type': 'object'}, 'type': {'title': 'Type', 'default': 'ai', 'enum': ['ai'], 'type': 'string'}, 'name': {'title': 'Name', 'type': 'string'}, 'id': {'title': 'Id', 'type': 'string'}, 'example': {'title': 'Example', 'default': False, 'type': 'boolean'}}, 'required': ['content']}, 'HumanMessage': {'title': 'HumanMessage', 'description': 'Message from a human.', 'type': 'object', 'properties': {'content': {'title': 'Content', 'anyOf': [{'type': 'string'}, {'type': 'array', 'items': {'anyOf': [{'type': 'string'}, {'type': 'object'}]}}]}, 'additional_kwargs': {'title': 'Additional Kwargs', 'type': 'object'}, 'response_metadata': {'title': 'Response Metadata', 'type': 'object'}, 'type': {'title': 'Type', 'default': 'human', 'enum': ['human'], 'type': 'string'}, 'name': {'title': 'Name', 'type': 'string'}, 'id': {'title': 'Id', 'type': 'string'}, 'example': {'title': 'Example', 'default': False, 'type': 'boolean'}}, 'required': ['content']}, 'ChatMessage': {'title': 'ChatMessage', 'description': 'Message that can be assigned an arbitrary speaker (i.e. role).', 'type': 'object', 'properties': {'content': {'title': 'Content', 'anyOf': [{'type': 'string'}, {'type': 'array', 'items': {'anyOf': [{'type': 'string'}, {'type': 'object'}]}}]}, 'additional_kwargs': {'title': 'Additional Kwargs', 'type': 'object'}, 'response_metadata': {'title': 'Response Metadata', 'type': 'object'}, 'type': {'title': 'Type', 'default': 'chat', 'enum': ['chat'], 'type': 'string'}, 'name': {'title': 'Name', 'type': 'string'}, 'id': {'title': 'Id', 'type': 'string'}, 'role': {'title': 'Role', 'type': 'string'}}, 'required': ['content', 'role']}, 'SystemMessage': {'title': 'SystemMessage', 'description': 'Message for priming AI behavior, usually passed in as the first of a sequence\\nof input messages.', 'type': 'object', 'properties': {'content': {'title': 'Content', 'anyOf': [{'type': 'string'}, {'type': 'array', 'items': {'anyOf': [{'type': 'string'}, {'type': 'object'}]}}]}, 'additional_kwargs': {'title': 'Additional Kwargs', 'type': 'object'}, 'response_metadata': {'title': 'Response Metadata', 'type': 'object'}, 'type': {'title': 'Type', 'default': 'system', 'enum': ['system'], 'type': 'string'}, 'name': {'title': 'Name', 'type': 'string'}, 'id': {'title': 'Id', 'type': 'string'}}, 'required': ['content']}, 'FunctionMessage': {'title': 'FunctionMessage', 'description': 'Message for passing the result of executing a function back to a model.', 'type': 'object', 'properties': {'content': {'title': 'Content', 'anyOf': [{'type': 'string'}, {'type': 'array', 'items': {'anyOf': [{'type': 'string'}, {'type': 'object'}]}}]}, 'additional_kwargs': {'title': 'Additional Kwargs', 'type': 'object'}, 'response_metadata': {'title': 'Response Metadata', 'type': 'object'}, 'type': {'title': 'Type', 'default': 'function', 'enum': ['function'], 'type': 'string'}, 'name': {'title': 'Name', 'type': 'string'}, 'id': {'title': 'Id', 'type': 'string'}}, 'required': ['content', 'name']}, 'ToolMessage': {'title': 'ToolMessage', 'description': 'Message for passing the result of executing a tool back to a model.', 'type': 'object', 'properties': {'content': {'title': 'Content', 'anyOf': [{'type': 'string'}, {'type': 'array', 'items': {'anyOf': [{'type': 'string'}, {'type': 'object'}]}}]}, 'additional_kwargs': {'title': 'Additional Kwargs', 'type': 'object'}, 'response_metadata': {'title': 'Response Metadata', 'type': 'object'}, 'type': {'title': 'Type', 'default': 'tool', 'enum': ['tool'], 'type': 'string'}, 'name': {'title': 'Name', 'type': 'string'}, 'id': {'title': 'Id', 'type': 'string'}, 'tool_call_id': {'title': 'Tool Call Id', 'type': 'string'}}, 'required': ['content', 'tool_call_id']}, 'ChatPromptValueConcrete': {'title': 'ChatPromptValueConcrete', 'description': 'Chat prompt value which explicitly lists out the message types it accepts.\\nFor use in external schemas.', 'type': 'object', 'properties': {'messages': {'title': 'Messages', 'type': 'array', 'items': {'anyOf': [{'$ref': '#/definitions/AIMessage'}, {'$ref': '#/definitions/HumanMessage'}, {'$ref': '#/definitions/ChatMessage'}, {'$ref': '#/definitions/SystemMessage'}, {'$ref': '#/definitions/FunctionMessage'}, {'$ref': '#/definitions/ToolMessage'}]}}, 'type': {'title': 'Type', 'default': 'ChatPromptValueConcrete', 'enum': ['ChatPromptValueConcrete'], 'type': 'string'}}, 'required': ['messages']}}}}], 'edges': [{'source': 0, 'target': 1}, {'source': 1, 'target': 2}]}}}}], 'partial_variables': {}}, 'name': 'ChatPromptTemplate', 'graph': {'nodes': [{'id': 0, 'type': 'schema', 'data': {'title': 'PromptInput', 'type': 'object', 'properties': {'question': {'title': 'Question', 'type': 'string'}}}}, {'id': 1, 'type': 'runnable', 'data': {'id': ['langchain', 'prompts', 'chat', 'ChatPromptTemplate'], 'name': 'ChatPromptTemplate'}}, {'id': 2, 'type': 'schema', 'data': {'title': 'ChatPromptTemplateOutput', 'anyOf': [{'$ref': '#/definitions/StringPromptValue'}, {'$ref': '#/definitions/ChatPromptValueConcrete'}], 'definitions': {'StringPromptValue': {'title': 'StringPromptValue', 'description': 'String prompt value.', 'type': 'object', 'properties': {'text': {'title': 'Text', 'type': 'string'}, 'type': {'title': 'Type', 'default': 'StringPromptValue', 'enum': ['StringPromptValue'], 'type': 'string'}}, 'required': ['text']}, 'AIMessage': {'title': 'AIMessage', 'description': 'Message from an AI.', 'type': 'object', 'properties': {'content': {'title': 'Content', 'anyOf': [{'type': 'string'}, {'type': 'array', 'items': {'anyOf': [{'type': 'string'}, {'type': 'object'}]}}]}, 'additional_kwargs': {'title': 'Additional Kwargs', 'type': 'object'}, 'response_metadata': {'title': 'Response Metadata', 'type': 'object'}, 'type': {'title': 'Type', 'default': 'ai', 'enum': ['ai'], 'type': 'string'}, 'name': {'title': 'Name', 'type': 'string'}, 'id': {'title': 'Id', 'type': 'string'}, 'example': {'title': 'Example', 'default': False, 'type': 'boolean'}}, 'required': ['content']}, 'HumanMessage': {'title': 'HumanMessage', 'description': 'Message from a human.', 'type': 'object', 'properties': {'content': {'title': 'Content', 'anyOf': [{'type': 'string'}, {'type': 'array', 'items': {'anyOf': [{'type': 'string'}, {'type': 'object'}]}}]}, 'additional_kwargs': {'title': 'Additional Kwargs', 'type': 'object'}, 'response_metadata': {'title': 'Response Metadata', 'type': 'object'}, 'type': {'title': 'Type', 'default': 'human', 'enum': ['human'], 'type': 'string'}, 'name': {'title': 'Name', 'type': 'string'}, 'id': {'title': 'Id', 'type': 'string'}, 'example': {'title': 'Example', 'default': False, 'type': 'boolean'}}, 'required': ['content']}, 'ChatMessage': {'title': 'ChatMessage', 'description': 'Message that can be assigned an arbitrary speaker (i.e. role).', 'type': 'object', 'properties': {'content': {'title': 'Content', 'anyOf': [{'type': 'string'}, {'type': 'array', 'items': {'anyOf': [{'type': 'string'}, {'type': 'object'}]}}]}, 'additional_kwargs': {'title': 'Additional Kwargs', 'type': 'object'}, 'response_metadata': {'title': 'Response Metadata', 'type': 'object'}, 'type': {'title': 'Type', 'default': 'chat', 'enum': ['chat'], 'type': 'string'}, 'name': {'title': 'Name', 'type': 'string'}, 'id': {'title': 'Id', 'type': 'string'}, 'role': {'title': 'Role', 'type': 'string'}}, 'required': ['content', 'role']}, 'SystemMessage': {'title': 'SystemMessage', 'description': 'Message for priming AI behavior, usually passed in as the first of a sequence\\nof input messages.', 'type': 'object', 'properties': {'content': {'title': 'Content', 'anyOf': [{'type': 'string'}, {'type': 'array', 'items': {'anyOf': [{'type': 'string'}, {'type': 'object'}]}}]}, 'additional_kwargs': {'title': 'Additional Kwargs', 'type': 'object'}, 'response_metadata': {'title': 'Response Metadata', 'type': 'object'}, 'type': {'title': 'Type', 'default': 'system', 'enum': ['system'], 'type': 'string'}, 'name': {'title': 'Name', 'type': 'string'}, 'id': {'title': 'Id', 'type': 'string'}}, 'required': ['content']}, 'FunctionMessage': {'title': 'FunctionMessage', 'description': 'Message for passing the result of executing a function back to a model.', 'type': 'object', 'properties': {'content': {'title': 'Content', 'anyOf': [{'type': 'string'}, {'type': 'array', 'items': {'anyOf': [{'type': 'string'}, {'type': 'object'}]}}]}, 'additional_kwargs': {'title': 'Additional Kwargs', 'type': 'object'}, 'response_metadata': {'title': 'Response Metadata', 'type': 'object'}, 'type': {'title': 'Type', 'default': 'function', 'enum': ['function'], 'type': 'string'}, 'name': {'title': 'Name', 'type': 'string'}, 'id': {'title': 'Id', 'type': 'string'}}, 'required': ['content', 'name']}, 'ToolMessage': {'title': 'ToolMessage', 'description': 'Message for passing the result of executing a tool back to a model.', 'type': 'object', 'properties': {'content': {'title': 'Content', 'anyOf': [{'type': 'string'}, {'type': 'array', 'items': {'anyOf': [{'type': 'string'}, {'type': 'object'}]}}]}, 'additional_kwargs': {'title': 'Additional Kwargs', 'type': 'object'}, 'response_metadata': {'title': 'Response Metadata', 'type': 'object'}, 'type': {'title': 'Type', 'default': 'tool', 'enum': ['tool'], 'type': 'string'}, 'name': {'title': 'Name', 'type': 'string'}, 'id': {'title': 'Id', 'type': 'string'}, 'tool_call_id': {'title': 'Tool Call Id', 'type': 'string'}}, 'required': ['content', 'tool_call_id']}, 'ChatPromptValueConcrete': {'title': 'ChatPromptValueConcrete', 'description': 'Chat prompt value which explicitly lists out the message types it accepts.\\nFor use in external schemas.', 'type': 'object', 'properties': {'messages': {'title': 'Messages', 'type': 'array', 'items': {'anyOf': [{'$ref': '#/definitions/AIMessage'}, {'$ref': '#/definitions/HumanMessage'}, {'$ref': '#/definitions/ChatMessage'}, {'$ref': '#/definitions/SystemMessage'}, {'$ref': '#/definitions/FunctionMessage'}, {'$ref': '#/definitions/ToolMessage'}]}}, 'type': {'title': 'Type', 'default': 'ChatPromptValueConcrete', 'enum': ['ChatPromptValueConcrete'], 'type': 'string'}}, 'required': ['messages']}}}}], 'edges': [{'source': 0, 'target': 1}, {'source': 1, 'target': 2}]}}, 'middle': [{'lc': 1, 'type': 'not_implemented', 'id': ['langchain_core', 'runnables', 'base', 'RunnableLambda'], 'repr': 'RunnableLambda(retrieve_text)'}], 'last': {'lc': 1, 'type': 'constructor', 'id': ['langchain', 'prompts', 'chat', 'ChatPromptTemplate'], 'kwargs': {'input_variables': ['prompt'], 'messages': [{'lc': 1, 'type': 'constructor', 'id': ['langchain', 'prompts', 'chat', 'HumanMessagePromptTemplate'], 'kwargs': {'prompt': {'lc': 1, 'type': 'constructor', 'id': ['langchain', 'prompts', 'prompt', 'PromptTemplate'], 'kwargs': {'input_variables': ['prompt'], 'template': 'The prompt is : {prompt}\\n    ', 'template_format': 'f-string', 'partial_variables': {}}, 'name': 'PromptTemplate', 'graph': {'nodes': [{'id': 0, 'type': 'schema', 'data': {'title': 'PromptInput', 'type': 'object', 'properties': {'prompt': {'title': 'Prompt', 'type': 'string'}}}}, {'id': 1, 'type': 'runnable', 'data': {'id': ['langchain', 'prompts', 'prompt', 'PromptTemplate'], 'name': 'PromptTemplate'}}, {'id': 2, 'type': 'schema', 'data': {'title': 'PromptTemplateOutput', 'anyOf': [{'$ref': '#/definitions/StringPromptValue'}, {'$ref': '#/definitions/ChatPromptValueConcrete'}], 'definitions': {'StringPromptValue': {'title': 'StringPromptValue', 'description': 'String prompt value.', 'type': 'object', 'properties': {'text': {'title': 'Text', 'type': 'string'}, 'type': {'title': 'Type', 'default': 'StringPromptValue', 'enum': ['StringPromptValue'], 'type': 'string'}}, 'required': ['text']}, 'AIMessage': {'title': 'AIMessage', 'description': 'Message from an AI.', 'type': 'object', 'properties': {'content': {'title': 'Content', 'anyOf': [{'type': 'string'}, {'type': 'array', 'items': {'anyOf': [{'type': 'string'}, {'type': 'object'}]}}]}, 'additional_kwargs': {'title': 'Additional Kwargs', 'type': 'object'}, 'response_metadata': {'title': 'Response Metadata', 'type': 'object'}, 'type': {'title': 'Type', 'default': 'ai', 'enum': ['ai'], 'type': 'string'}, 'name': {'title': 'Name', 'type': 'string'}, 'id': {'title': 'Id', 'type': 'string'}, 'example': {'title': 'Example', 'default': False, 'type': 'boolean'}}, 'required': ['content']}, 'HumanMessage': {'title': 'HumanMessage', 'description': 'Message from a human.', 'type': 'object', 'properties': {'content': {'title': 'Content', 'anyOf': [{'type': 'string'}, {'type': 'array', 'items': {'anyOf': [{'type': 'string'}, {'type': 'object'}]}}]}, 'additional_kwargs': {'title': 'Additional Kwargs', 'type': 'object'}, 'response_metadata': {'title': 'Response Metadata', 'type': 'object'}, 'type': {'title': 'Type', 'default': 'human', 'enum': ['human'], 'type': 'string'}, 'name': {'title': 'Name', 'type': 'string'}, 'id': {'title': 'Id', 'type': 'string'}, 'example': {'title': 'Example', 'default': False, 'type': 'boolean'}}, 'required': ['content']}, 'ChatMessage': {'title': 'ChatMessage', 'description': 'Message that can be assigned an arbitrary speaker (i.e. role).', 'type': 'object', 'properties': {'content': {'title': 'Content', 'anyOf': [{'type': 'string'}, {'type': 'array', 'items': {'anyOf': [{'type': 'string'}, {'type': 'object'}]}}]}, 'additional_kwargs': {'title': 'Additional Kwargs', 'type': 'object'}, 'response_metadata': {'title': 'Response Metadata', 'type': 'object'}, 'type': {'title': 'Type', 'default': 'chat', 'enum': ['chat'], 'type': 'string'}, 'name': {'title': 'Name', 'type': 'string'}, 'id': {'title': 'Id', 'type': 'string'}, 'role': {'title': 'Role', 'type': 'string'}}, 'required': ['content', 'role']}, 'SystemMessage': {'title': 'SystemMessage', 'description': 'Message for priming AI behavior, usually passed in as the first of a sequence\\nof input messages.', 'type': 'object', 'properties': {'content': {'title': 'Content', 'anyOf': [{'type': 'string'}, {'type': 'array', 'items': {'anyOf': [{'type': 'string'}, {'type': 'object'}]}}]}, 'additional_kwargs': {'title': 'Additional Kwargs', 'type': 'object'}, 'response_metadata': {'title': 'Response Metadata', 'type': 'object'}, 'type': {'title': 'Type', 'default': 'system', 'enum': ['system'], 'type': 'string'}, 'name': {'title': 'Name', 'type': 'string'}, 'id': {'title': 'Id', 'type': 'string'}}, 'required': ['content']}, 'FunctionMessage': {'title': 'FunctionMessage', 'description': 'Message for passing the result of executing a function back to a model.', 'type': 'object', 'properties': {'content': {'title': 'Content', 'anyOf': [{'type': 'string'}, {'type': 'array', 'items': {'anyOf': [{'type': 'string'}, {'type': 'object'}]}}]}, 'additional_kwargs': {'title': 'Additional Kwargs', 'type': 'object'}, 'response_metadata': {'title': 'Response Metadata', 'type': 'object'}, 'type': {'title': 'Type', 'default': 'function', 'enum': ['function'], 'type': 'string'}, 'name': {'title': 'Name', 'type': 'string'}, 'id': {'title': 'Id', 'type': 'string'}}, 'required': ['content', 'name']}, 'ToolMessage': {'title': 'ToolMessage', 'description': 'Message for passing the result of executing a tool back to a model.', 'type': 'object', 'properties': {'content': {'title': 'Content', 'anyOf': [{'type': 'string'}, {'type': 'array', 'items': {'anyOf': [{'type': 'string'}, {'type': 'object'}]}}]}, 'additional_kwargs': {'title': 'Additional Kwargs', 'type': 'object'}, 'response_metadata': {'title': 'Response Metadata', 'type': 'object'}, 'type': {'title': 'Type', 'default': 'tool', 'enum': ['tool'], 'type': 'string'}, 'name': {'title': 'Name', 'type': 'string'}, 'id': {'title': 'Id', 'type': 'string'}, 'tool_call_id': {'title': 'Tool Call Id', 'type': 'string'}}, 'required': ['content', 'tool_call_id']}, 'ChatPromptValueConcrete': {'title': 'ChatPromptValueConcrete', 'description': 'Chat prompt value which explicitly lists out the message types it accepts.\\nFor use in external schemas.', 'type': 'object', 'properties': {'messages': {'title': 'Messages', 'type': 'array', 'items': {'anyOf': [{'$ref': '#/definitions/AIMessage'}, {'$ref': '#/definitions/HumanMessage'}, {'$ref': '#/definitions/ChatMessage'}, {'$ref': '#/definitions/SystemMessage'}, {'$ref': '#/definitions/FunctionMessage'}, {'$ref': '#/definitions/ToolMessage'}]}}, 'type': {'title': 'Type', 'default': 'ChatPromptValueConcrete', 'enum': ['ChatPromptValueConcrete'], 'type': 'string'}}, 'required': ['messages']}}}}], 'edges': [{'source': 0, 'target': 1}, {'source': 1, 'target': 2}]}}}}], 'partial_variables': {}}, 'name': 'ChatPromptTemplate', 'graph': {'nodes': [{'id': 0, 'type': 'schema', 'data': {'title': 'PromptInput', 'type': 'object', 'properties': {'prompt': {'title': 'Prompt', 'type': 'string'}}}}, {'id': 1, 'type': 'runnable', 'data': {'id': ['langchain', 'prompts', 'chat', 'ChatPromptTemplate'], 'name': 'ChatPromptTemplate'}}, {'id': 2, 'type': 'schema', 'data': {'title': 'ChatPromptTemplateOutput', 'anyOf': [{'$ref': '#/definitions/StringPromptValue'}, {'$ref': '#/definitions/ChatPromptValueConcrete'}], 'definitions': {'StringPromptValue': {'title': 'StringPromptValue', 'description': 'String prompt value.', 'type': 'object', 'properties': {'text': {'title': 'Text', 'type': 'string'}, 'type': {'title': 'Type', 'default': 'StringPromptValue', 'enum': ['StringPromptValue'], 'type': 'string'}}, 'required': ['text']}, 'AIMessage': {'title': 'AIMessage', 'description': 'Message from an AI.', 'type': 'object', 'properties': {'content': {'title': 'Content', 'anyOf': [{'type': 'string'}, {'type': 'array', 'items': {'anyOf': [{'type': 'string'}, {'type': 'object'}]}}]}, 'additional_kwargs': {'title': 'Additional Kwargs', 'type': 'object'}, 'response_metadata': {'title': 'Response Metadata', 'type': 'object'}, 'type': {'title': 'Type', 'default': 'ai', 'enum': ['ai'], 'type': 'string'}, 'name': {'title': 'Name', 'type': 'string'}, 'id': {'title': 'Id', 'type': 'string'}, 'example': {'title': 'Example', 'default': False, 'type': 'boolean'}}, 'required': ['content']}, 'HumanMessage': {'title': 'HumanMessage', 'description': 'Message from a human.', 'type': 'object', 'properties': {'content': {'title': 'Content', 'anyOf': [{'type': 'string'}, {'type': 'array', 'items': {'anyOf': [{'type': 'string'}, {'type': 'object'}]}}]}, 'additional_kwargs': {'title': 'Additional Kwargs', 'type': 'object'}, 'response_metadata': {'title': 'Response Metadata', 'type': 'object'}, 'type': {'title': 'Type', 'default': 'human', 'enum': ['human'], 'type': 'string'}, 'name': {'title': 'Name', 'type': 'string'}, 'id': {'title': 'Id', 'type': 'string'}, 'example': {'title': 'Example', 'default': False, 'type': 'boolean'}}, 'required': ['content']}, 'ChatMessage': {'title': 'ChatMessage', 'description': 'Message that can be assigned an arbitrary speaker (i.e. role).', 'type': 'object', 'properties': {'content': {'title': 'Content', 'anyOf': [{'type': 'string'}, {'type': 'array', 'items': {'anyOf': [{'type': 'string'}, {'type': 'object'}]}}]}, 'additional_kwargs': {'title': 'Additional Kwargs', 'type': 'object'}, 'response_metadata': {'title': 'Response Metadata', 'type': 'object'}, 'type': {'title': 'Type', 'default': 'chat', 'enum': ['chat'], 'type': 'string'}, 'name': {'title': 'Name', 'type': 'string'}, 'id': {'title': 'Id', 'type': 'string'}, 'role': {'title': 'Role', 'type': 'string'}}, 'required': ['content', 'role']}, 'SystemMessage': {'title': 'SystemMessage', 'description': 'Message for priming AI behavior, usually passed in as the first of a sequence\\nof input messages.', 'type': 'object', 'properties': {'content': {'title': 'Content', 'anyOf': [{'type': 'string'}, {'type': 'array', 'items': {'anyOf': [{'type': 'string'}, {'type': 'object'}]}}]}, 'additional_kwargs': {'title': 'Additional Kwargs', 'type': 'object'}, 'response_metadata': {'title': 'Response Metadata', 'type': 'object'}, 'type': {'title': 'Type', 'default': 'system', 'enum': ['system'], 'type': 'string'}, 'name': {'title': 'Name', 'type': 'string'}, 'id': {'title': 'Id', 'type': 'string'}}, 'required': ['content']}, 'FunctionMessage': {'title': 'FunctionMessage', 'description': 'Message for passing the result of executing a function back to a model.', 'type': 'object', 'properties': {'content': {'title': 'Content', 'anyOf': [{'type': 'string'}, {'type': 'array', 'items': {'anyOf': [{'type': 'string'}, {'type': 'object'}]}}]}, 'additional_kwargs': {'title': 'Additional Kwargs', 'type': 'object'}, 'response_metadata': {'title': 'Response Metadata', 'type': 'object'}, 'type': {'title': 'Type', 'default': 'function', 'enum': ['function'], 'type': 'string'}, 'name': {'title': 'Name', 'type': 'string'}, 'id': {'title': 'Id', 'type': 'string'}}, 'required': ['content', 'name']}, 'ToolMessage': {'title': 'ToolMessage', 'description': 'Message for passing the result of executing a tool back to a model.', 'type': 'object', 'properties': {'content': {'title': 'Content', 'anyOf': [{'type': 'string'}, {'type': 'array', 'items': {'anyOf': [{'type': 'string'}, {'type': 'object'}]}}]}, 'additional_kwargs': {'title': 'Additional Kwargs', 'type': 'object'}, 'response_metadata': {'title': 'Response Metadata', 'type': 'object'}, 'type': {'title': 'Type', 'default': 'tool', 'enum': ['tool'], 'type': 'string'}, 'name': {'title': 'Name', 'type': 'string'}, 'id': {'title': 'Id', 'type': 'string'}, 'tool_call_id': {'title': 'Tool Call Id', 'type': 'string'}}, 'required': ['content', 'tool_call_id']}, 'ChatPromptValueConcrete': {'title': 'ChatPromptValueConcrete', 'description': 'Chat prompt value which explicitly lists out the message types it accepts.\\nFor use in external schemas.', 'type': 'object', 'properties': {'messages': {'title': 'Messages', 'type': 'array', 'items': {'anyOf': [{'$ref': '#/definitions/AIMessage'}, {'$ref': '#/definitions/HumanMessage'}, {'$ref': '#/definitions/ChatMessage'}, {'$ref': '#/definitions/SystemMessage'}, {'$ref': '#/definitions/FunctionMessage'}, {'$ref': '#/definitions/ToolMessage'}]}}, 'type': {'title': 'Type', 'default': 'ChatPromptValueConcrete', 'enum': ['ChatPromptValueConcrete'], 'type': 'string'}}, 'required': ['messages']}}}}], 'edges': [{'source': 0, 'target': 1}, {'source': 1, 'target': 2}]}}, 'name': None}, 'name': 'RunnableSequence', 'graph': {'nodes': [{'id': 0, 'type': 'schema', 'data': {'title': 'PromptInput', 'type': 'object', 'properties': {'question': {'title': 'Question', 'type': 'string'}}}}, {'id': 1, 'type': 'runnable', 'data': {'id': ['langchain', 'prompts', 'chat', 'ChatPromptTemplate'], 'name': 'ChatPromptTemplate'}}, {'id': 2, 'type': 'runnable', 'data': {'id': ['langchain_core', 'runnables', 'base', 'RunnableLambda'], 'name': 'retrieve_text'}}, {'id': 3, 'type': 'runnable', 'data': {'id': ['langchain', 'prompts', 'chat', 'ChatPromptTemplate'], 'name': 'ChatPromptTemplate'}}, {'id': 4, 'type': 'schema', 'data': {'title': 'ChatPromptTemplateOutput', 'anyOf': [{'$ref': '#/definitions/StringPromptValue'}, {'$ref': '#/definitions/ChatPromptValueConcrete'}], 'definitions': {'StringPromptValue': {'title': 'StringPromptValue', 'description': 'String prompt value.', 'type': 'object', 'properties': {'text': {'title': 'Text', 'type': 'string'}, 'type': {'title': 'Type', 'default': 'StringPromptValue', 'enum': ['StringPromptValue'], 'type': 'string'}}, 'required': ['text']}, 'AIMessage': {'title': 'AIMessage', 'description': 'Message from an AI.', 'type': 'object', 'properties': {'content': {'title': 'Content', 'anyOf': [{'type': 'string'}, {'type': 'array', 'items': {'anyOf': [{'type': 'string'}, {'type': 'object'}]}}]}, 'additional_kwargs': {'title': 'Additional Kwargs', 'type': 'object'}, 'response_metadata': {'title': 'Response Metadata', 'type': 'object'}, 'type': {'title': 'Type', 'default': 'ai', 'enum': ['ai'], 'type': 'string'}, 'name': {'title': 'Name', 'type': 'string'}, 'id': {'title': 'Id', 'type': 'string'}, 'example': {'title': 'Example', 'default': False, 'type': 'boolean'}}, 'required': ['content']}, 'HumanMessage': {'title': 'HumanMessage', 'description': 'Message from a human.', 'type': 'object', 'properties': {'content': {'title': 'Content', 'anyOf': [{'type': 'string'}, {'type': 'array', 'items': {'anyOf': [{'type': 'string'}, {'type': 'object'}]}}]}, 'additional_kwargs': {'title': 'Additional Kwargs', 'type': 'object'}, 'response_metadata': {'title': 'Response Metadata', 'type': 'object'}, 'type': {'title': 'Type', 'default': 'human', 'enum': ['human'], 'type': 'string'}, 'name': {'title': 'Name', 'type': 'string'}, 'id': {'title': 'Id', 'type': 'string'}, 'example': {'title': 'Example', 'default': False, 'type': 'boolean'}}, 'required': ['content']}, 'ChatMessage': {'title': 'ChatMessage', 'description': 'Message that can be assigned an arbitrary speaker (i.e. role).', 'type': 'object', 'properties': {'content': {'title': 'Content', 'anyOf': [{'type': 'string'}, {'type': 'array', 'items': {'anyOf': [{'type': 'string'}, {'type': 'object'}]}}]}, 'additional_kwargs': {'title': 'Additional Kwargs', 'type': 'object'}, 'response_metadata': {'title': 'Response Metadata', 'type': 'object'}, 'type': {'title': 'Type', 'default': 'chat', 'enum': ['chat'], 'type': 'string'}, 'name': {'title': 'Name', 'type': 'string'}, 'id': {'title': 'Id', 'type': 'string'}, 'role': {'title': 'Role', 'type': 'string'}}, 'required': ['content', 'role']}, 'SystemMessage': {'title': 'SystemMessage', 'description': 'Message for priming AI behavior, usually passed in as the first of a sequence\\nof input messages.', 'type': 'object', 'properties': {'content': {'title': 'Content', 'anyOf': [{'type': 'string'}, {'type': 'array', 'items': {'anyOf': [{'type': 'string'}, {'type': 'object'}]}}]}, 'additional_kwargs': {'title': 'Additional Kwargs', 'type': 'object'}, 'response_metadata': {'title': 'Response Metadata', 'type': 'object'}, 'type': {'title': 'Type', 'default': 'system', 'enum': ['system'], 'type': 'string'}, 'name': {'title': 'Name', 'type': 'string'}, 'id': {'title': 'Id', 'type': 'string'}}, 'required': ['content']}, 'FunctionMessage': {'title': 'FunctionMessage', 'description': 'Message for passing the result of executing a function back to a model.', 'type': 'object', 'properties': {'content': {'title': 'Content', 'anyOf': [{'type': 'string'}, {'type': 'array', 'items': {'anyOf': [{'type': 'string'}, {'type': 'object'}]}}]}, 'additional_kwargs': {'title': 'Additional Kwargs', 'type': 'object'}, 'response_metadata': {'title': 'Response Metadata', 'type': 'object'}, 'type': {'title': 'Type', 'default': 'function', 'enum': ['function'], 'type': 'string'}, 'name': {'title': 'Name', 'type': 'string'}, 'id': {'title': 'Id', 'type': 'string'}}, 'required': ['content', 'name']}, 'ToolMessage': {'title': 'ToolMessage', 'description': 'Message for passing the result of executing a tool back to a model.', 'type': 'object', 'properties': {'content': {'title': 'Content', 'anyOf': [{'type': 'string'}, {'type': 'array', 'items': {'anyOf': [{'type': 'string'}, {'type': 'object'}]}}]}, 'additional_kwargs': {'title': 'Additional Kwargs', 'type': 'object'}, 'response_metadata': {'title': 'Response Metadata', 'type': 'object'}, 'type': {'title': 'Type', 'default': 'tool', 'enum': ['tool'], 'type': 'string'}, 'name': {'title': 'Name', 'type': 'string'}, 'id': {'title': 'Id', 'type': 'string'}, 'tool_call_id': {'title': 'Tool Call Id', 'type': 'string'}}, 'required': ['content', 'tool_call_id']}, 'ChatPromptValueConcrete': {'title': 'ChatPromptValueConcrete', 'description': 'Chat prompt value which explicitly lists out the message types it accepts.\\nFor use in external schemas.', 'type': 'object', 'properties': {'messages': {'title': 'Messages', 'type': 'array', 'items': {'anyOf': [{'$ref': '#/definitions/AIMessage'}, {'$ref': '#/definitions/HumanMessage'}, {'$ref': '#/definitions/ChatMessage'}, {'$ref': '#/definitions/SystemMessage'}, {'$ref': '#/definitions/FunctionMessage'}, {'$ref': '#/definitions/ToolMessage'}]}}, 'type': {'title': 'Type', 'default': 'ChatPromptValueConcrete', 'enum': ['ChatPromptValueConcrete'], 'type': 'string'}}, 'required': ['messages']}}}}], 'edges': [{'source': 0, 'target': 1}, {'source': 1, 'target': 2}, {'source': 3, 'target': 4}, {'source': 2, 'target': 3}]}}\n",
      "Inputs: \n",
      "{'question': 'What is meant by computational finance?'}\n",
      "Serialized:\n",
      "{'lc': 1, 'type': 'constructor', 'id': ['langchain', 'prompts', 'chat', 'ChatPromptTemplate'], 'kwargs': {'input_variables': ['question'], 'messages': [{'lc': 1, 'type': 'constructor', 'id': ['langchain', 'prompts', 'chat', 'HumanMessagePromptTemplate'], 'kwargs': {'prompt': {'lc': 1, 'type': 'constructor', 'id': ['langchain', 'prompts', 'prompt', 'PromptTemplate'], 'kwargs': {'input_variables': ['question'], 'template': 'You are an assistant that helps answer questions. \\n    Question: {question} \\n    Answer:\\n    ', 'template_format': 'f-string', 'partial_variables': {}}, 'name': 'PromptTemplate', 'graph': {'nodes': [{'id': 0, 'type': 'schema', 'data': {'title': 'PromptInput', 'type': 'object', 'properties': {'question': {'title': 'Question', 'type': 'string'}}}}, {'id': 1, 'type': 'runnable', 'data': {'id': ['langchain', 'prompts', 'prompt', 'PromptTemplate'], 'name': 'PromptTemplate'}}, {'id': 2, 'type': 'schema', 'data': {'title': 'PromptTemplateOutput', 'anyOf': [{'$ref': '#/definitions/StringPromptValue'}, {'$ref': '#/definitions/ChatPromptValueConcrete'}], 'definitions': {'StringPromptValue': {'title': 'StringPromptValue', 'description': 'String prompt value.', 'type': 'object', 'properties': {'text': {'title': 'Text', 'type': 'string'}, 'type': {'title': 'Type', 'default': 'StringPromptValue', 'enum': ['StringPromptValue'], 'type': 'string'}}, 'required': ['text']}, 'AIMessage': {'title': 'AIMessage', 'description': 'Message from an AI.', 'type': 'object', 'properties': {'content': {'title': 'Content', 'anyOf': [{'type': 'string'}, {'type': 'array', 'items': {'anyOf': [{'type': 'string'}, {'type': 'object'}]}}]}, 'additional_kwargs': {'title': 'Additional Kwargs', 'type': 'object'}, 'response_metadata': {'title': 'Response Metadata', 'type': 'object'}, 'type': {'title': 'Type', 'default': 'ai', 'enum': ['ai'], 'type': 'string'}, 'name': {'title': 'Name', 'type': 'string'}, 'id': {'title': 'Id', 'type': 'string'}, 'example': {'title': 'Example', 'default': False, 'type': 'boolean'}}, 'required': ['content']}, 'HumanMessage': {'title': 'HumanMessage', 'description': 'Message from a human.', 'type': 'object', 'properties': {'content': {'title': 'Content', 'anyOf': [{'type': 'string'}, {'type': 'array', 'items': {'anyOf': [{'type': 'string'}, {'type': 'object'}]}}]}, 'additional_kwargs': {'title': 'Additional Kwargs', 'type': 'object'}, 'response_metadata': {'title': 'Response Metadata', 'type': 'object'}, 'type': {'title': 'Type', 'default': 'human', 'enum': ['human'], 'type': 'string'}, 'name': {'title': 'Name', 'type': 'string'}, 'id': {'title': 'Id', 'type': 'string'}, 'example': {'title': 'Example', 'default': False, 'type': 'boolean'}}, 'required': ['content']}, 'ChatMessage': {'title': 'ChatMessage', 'description': 'Message that can be assigned an arbitrary speaker (i.e. role).', 'type': 'object', 'properties': {'content': {'title': 'Content', 'anyOf': [{'type': 'string'}, {'type': 'array', 'items': {'anyOf': [{'type': 'string'}, {'type': 'object'}]}}]}, 'additional_kwargs': {'title': 'Additional Kwargs', 'type': 'object'}, 'response_metadata': {'title': 'Response Metadata', 'type': 'object'}, 'type': {'title': 'Type', 'default': 'chat', 'enum': ['chat'], 'type': 'string'}, 'name': {'title': 'Name', 'type': 'string'}, 'id': {'title': 'Id', 'type': 'string'}, 'role': {'title': 'Role', 'type': 'string'}}, 'required': ['content', 'role']}, 'SystemMessage': {'title': 'SystemMessage', 'description': 'Message for priming AI behavior, usually passed in as the first of a sequence\\nof input messages.', 'type': 'object', 'properties': {'content': {'title': 'Content', 'anyOf': [{'type': 'string'}, {'type': 'array', 'items': {'anyOf': [{'type': 'string'}, {'type': 'object'}]}}]}, 'additional_kwargs': {'title': 'Additional Kwargs', 'type': 'object'}, 'response_metadata': {'title': 'Response Metadata', 'type': 'object'}, 'type': {'title': 'Type', 'default': 'system', 'enum': ['system'], 'type': 'string'}, 'name': {'title': 'Name', 'type': 'string'}, 'id': {'title': 'Id', 'type': 'string'}}, 'required': ['content']}, 'FunctionMessage': {'title': 'FunctionMessage', 'description': 'Message for passing the result of executing a function back to a model.', 'type': 'object', 'properties': {'content': {'title': 'Content', 'anyOf': [{'type': 'string'}, {'type': 'array', 'items': {'anyOf': [{'type': 'string'}, {'type': 'object'}]}}]}, 'additional_kwargs': {'title': 'Additional Kwargs', 'type': 'object'}, 'response_metadata': {'title': 'Response Metadata', 'type': 'object'}, 'type': {'title': 'Type', 'default': 'function', 'enum': ['function'], 'type': 'string'}, 'name': {'title': 'Name', 'type': 'string'}, 'id': {'title': 'Id', 'type': 'string'}}, 'required': ['content', 'name']}, 'ToolMessage': {'title': 'ToolMessage', 'description': 'Message for passing the result of executing a tool back to a model.', 'type': 'object', 'properties': {'content': {'title': 'Content', 'anyOf': [{'type': 'string'}, {'type': 'array', 'items': {'anyOf': [{'type': 'string'}, {'type': 'object'}]}}]}, 'additional_kwargs': {'title': 'Additional Kwargs', 'type': 'object'}, 'response_metadata': {'title': 'Response Metadata', 'type': 'object'}, 'type': {'title': 'Type', 'default': 'tool', 'enum': ['tool'], 'type': 'string'}, 'name': {'title': 'Name', 'type': 'string'}, 'id': {'title': 'Id', 'type': 'string'}, 'tool_call_id': {'title': 'Tool Call Id', 'type': 'string'}}, 'required': ['content', 'tool_call_id']}, 'ChatPromptValueConcrete': {'title': 'ChatPromptValueConcrete', 'description': 'Chat prompt value which explicitly lists out the message types it accepts.\\nFor use in external schemas.', 'type': 'object', 'properties': {'messages': {'title': 'Messages', 'type': 'array', 'items': {'anyOf': [{'$ref': '#/definitions/AIMessage'}, {'$ref': '#/definitions/HumanMessage'}, {'$ref': '#/definitions/ChatMessage'}, {'$ref': '#/definitions/SystemMessage'}, {'$ref': '#/definitions/FunctionMessage'}, {'$ref': '#/definitions/ToolMessage'}]}}, 'type': {'title': 'Type', 'default': 'ChatPromptValueConcrete', 'enum': ['ChatPromptValueConcrete'], 'type': 'string'}}, 'required': ['messages']}}}}], 'edges': [{'source': 0, 'target': 1}, {'source': 1, 'target': 2}]}}}}], 'partial_variables': {}}, 'name': 'ChatPromptTemplate', 'graph': {'nodes': [{'id': 0, 'type': 'schema', 'data': {'title': 'PromptInput', 'type': 'object', 'properties': {'question': {'title': 'Question', 'type': 'string'}}}}, {'id': 1, 'type': 'runnable', 'data': {'id': ['langchain', 'prompts', 'chat', 'ChatPromptTemplate'], 'name': 'ChatPromptTemplate'}}, {'id': 2, 'type': 'schema', 'data': {'title': 'ChatPromptTemplateOutput', 'anyOf': [{'$ref': '#/definitions/StringPromptValue'}, {'$ref': '#/definitions/ChatPromptValueConcrete'}], 'definitions': {'StringPromptValue': {'title': 'StringPromptValue', 'description': 'String prompt value.', 'type': 'object', 'properties': {'text': {'title': 'Text', 'type': 'string'}, 'type': {'title': 'Type', 'default': 'StringPromptValue', 'enum': ['StringPromptValue'], 'type': 'string'}}, 'required': ['text']}, 'AIMessage': {'title': 'AIMessage', 'description': 'Message from an AI.', 'type': 'object', 'properties': {'content': {'title': 'Content', 'anyOf': [{'type': 'string'}, {'type': 'array', 'items': {'anyOf': [{'type': 'string'}, {'type': 'object'}]}}]}, 'additional_kwargs': {'title': 'Additional Kwargs', 'type': 'object'}, 'response_metadata': {'title': 'Response Metadata', 'type': 'object'}, 'type': {'title': 'Type', 'default': 'ai', 'enum': ['ai'], 'type': 'string'}, 'name': {'title': 'Name', 'type': 'string'}, 'id': {'title': 'Id', 'type': 'string'}, 'example': {'title': 'Example', 'default': False, 'type': 'boolean'}}, 'required': ['content']}, 'HumanMessage': {'title': 'HumanMessage', 'description': 'Message from a human.', 'type': 'object', 'properties': {'content': {'title': 'Content', 'anyOf': [{'type': 'string'}, {'type': 'array', 'items': {'anyOf': [{'type': 'string'}, {'type': 'object'}]}}]}, 'additional_kwargs': {'title': 'Additional Kwargs', 'type': 'object'}, 'response_metadata': {'title': 'Response Metadata', 'type': 'object'}, 'type': {'title': 'Type', 'default': 'human', 'enum': ['human'], 'type': 'string'}, 'name': {'title': 'Name', 'type': 'string'}, 'id': {'title': 'Id', 'type': 'string'}, 'example': {'title': 'Example', 'default': False, 'type': 'boolean'}}, 'required': ['content']}, 'ChatMessage': {'title': 'ChatMessage', 'description': 'Message that can be assigned an arbitrary speaker (i.e. role).', 'type': 'object', 'properties': {'content': {'title': 'Content', 'anyOf': [{'type': 'string'}, {'type': 'array', 'items': {'anyOf': [{'type': 'string'}, {'type': 'object'}]}}]}, 'additional_kwargs': {'title': 'Additional Kwargs', 'type': 'object'}, 'response_metadata': {'title': 'Response Metadata', 'type': 'object'}, 'type': {'title': 'Type', 'default': 'chat', 'enum': ['chat'], 'type': 'string'}, 'name': {'title': 'Name', 'type': 'string'}, 'id': {'title': 'Id', 'type': 'string'}, 'role': {'title': 'Role', 'type': 'string'}}, 'required': ['content', 'role']}, 'SystemMessage': {'title': 'SystemMessage', 'description': 'Message for priming AI behavior, usually passed in as the first of a sequence\\nof input messages.', 'type': 'object', 'properties': {'content': {'title': 'Content', 'anyOf': [{'type': 'string'}, {'type': 'array', 'items': {'anyOf': [{'type': 'string'}, {'type': 'object'}]}}]}, 'additional_kwargs': {'title': 'Additional Kwargs', 'type': 'object'}, 'response_metadata': {'title': 'Response Metadata', 'type': 'object'}, 'type': {'title': 'Type', 'default': 'system', 'enum': ['system'], 'type': 'string'}, 'name': {'title': 'Name', 'type': 'string'}, 'id': {'title': 'Id', 'type': 'string'}}, 'required': ['content']}, 'FunctionMessage': {'title': 'FunctionMessage', 'description': 'Message for passing the result of executing a function back to a model.', 'type': 'object', 'properties': {'content': {'title': 'Content', 'anyOf': [{'type': 'string'}, {'type': 'array', 'items': {'anyOf': [{'type': 'string'}, {'type': 'object'}]}}]}, 'additional_kwargs': {'title': 'Additional Kwargs', 'type': 'object'}, 'response_metadata': {'title': 'Response Metadata', 'type': 'object'}, 'type': {'title': 'Type', 'default': 'function', 'enum': ['function'], 'type': 'string'}, 'name': {'title': 'Name', 'type': 'string'}, 'id': {'title': 'Id', 'type': 'string'}}, 'required': ['content', 'name']}, 'ToolMessage': {'title': 'ToolMessage', 'description': 'Message for passing the result of executing a tool back to a model.', 'type': 'object', 'properties': {'content': {'title': 'Content', 'anyOf': [{'type': 'string'}, {'type': 'array', 'items': {'anyOf': [{'type': 'string'}, {'type': 'object'}]}}]}, 'additional_kwargs': {'title': 'Additional Kwargs', 'type': 'object'}, 'response_metadata': {'title': 'Response Metadata', 'type': 'object'}, 'type': {'title': 'Type', 'default': 'tool', 'enum': ['tool'], 'type': 'string'}, 'name': {'title': 'Name', 'type': 'string'}, 'id': {'title': 'Id', 'type': 'string'}, 'tool_call_id': {'title': 'Tool Call Id', 'type': 'string'}}, 'required': ['content', 'tool_call_id']}, 'ChatPromptValueConcrete': {'title': 'ChatPromptValueConcrete', 'description': 'Chat prompt value which explicitly lists out the message types it accepts.\\nFor use in external schemas.', 'type': 'object', 'properties': {'messages': {'title': 'Messages', 'type': 'array', 'items': {'anyOf': [{'$ref': '#/definitions/AIMessage'}, {'$ref': '#/definitions/HumanMessage'}, {'$ref': '#/definitions/ChatMessage'}, {'$ref': '#/definitions/SystemMessage'}, {'$ref': '#/definitions/FunctionMessage'}, {'$ref': '#/definitions/ToolMessage'}]}}, 'type': {'title': 'Type', 'default': 'ChatPromptValueConcrete', 'enum': ['ChatPromptValueConcrete'], 'type': 'string'}}, 'required': ['messages']}}}}], 'edges': [{'source': 0, 'target': 1}, {'source': 1, 'target': 2}]}}\n",
      "Inputs: \n",
      "messages=[HumanMessage(content='You are an assistant that helps answer questions. \\n    Question: What is meant by computational finance? \\n    Answer:\\n    ')]\n",
      "Serialized:\n",
      "{'lc': 1, 'type': 'not_implemented', 'id': ['langchain_core', 'runnables', 'base', 'RunnableLambda'], 'repr': 'RunnableLambda(retrieve_text)'}\n",
      "Inputs: \n",
      "{'prompt': 'You are an assistant that helps answer questions. \\n    Question: What is meant by computational finance? \\n    Answer:\\n    '}\n",
      "Serialized:\n",
      "{'lc': 1, 'type': 'constructor', 'id': ['langchain', 'prompts', 'chat', 'ChatPromptTemplate'], 'kwargs': {'input_variables': ['prompt'], 'messages': [{'lc': 1, 'type': 'constructor', 'id': ['langchain', 'prompts', 'chat', 'HumanMessagePromptTemplate'], 'kwargs': {'prompt': {'lc': 1, 'type': 'constructor', 'id': ['langchain', 'prompts', 'prompt', 'PromptTemplate'], 'kwargs': {'input_variables': ['prompt'], 'template': 'The prompt is : {prompt}\\n    ', 'template_format': 'f-string', 'partial_variables': {}}, 'name': 'PromptTemplate', 'graph': {'nodes': [{'id': 0, 'type': 'schema', 'data': {'title': 'PromptInput', 'type': 'object', 'properties': {'prompt': {'title': 'Prompt', 'type': 'string'}}}}, {'id': 1, 'type': 'runnable', 'data': {'id': ['langchain', 'prompts', 'prompt', 'PromptTemplate'], 'name': 'PromptTemplate'}}, {'id': 2, 'type': 'schema', 'data': {'title': 'PromptTemplateOutput', 'anyOf': [{'$ref': '#/definitions/StringPromptValue'}, {'$ref': '#/definitions/ChatPromptValueConcrete'}], 'definitions': {'StringPromptValue': {'title': 'StringPromptValue', 'description': 'String prompt value.', 'type': 'object', 'properties': {'text': {'title': 'Text', 'type': 'string'}, 'type': {'title': 'Type', 'default': 'StringPromptValue', 'enum': ['StringPromptValue'], 'type': 'string'}}, 'required': ['text']}, 'AIMessage': {'title': 'AIMessage', 'description': 'Message from an AI.', 'type': 'object', 'properties': {'content': {'title': 'Content', 'anyOf': [{'type': 'string'}, {'type': 'array', 'items': {'anyOf': [{'type': 'string'}, {'type': 'object'}]}}]}, 'additional_kwargs': {'title': 'Additional Kwargs', 'type': 'object'}, 'response_metadata': {'title': 'Response Metadata', 'type': 'object'}, 'type': {'title': 'Type', 'default': 'ai', 'enum': ['ai'], 'type': 'string'}, 'name': {'title': 'Name', 'type': 'string'}, 'id': {'title': 'Id', 'type': 'string'}, 'example': {'title': 'Example', 'default': False, 'type': 'boolean'}}, 'required': ['content']}, 'HumanMessage': {'title': 'HumanMessage', 'description': 'Message from a human.', 'type': 'object', 'properties': {'content': {'title': 'Content', 'anyOf': [{'type': 'string'}, {'type': 'array', 'items': {'anyOf': [{'type': 'string'}, {'type': 'object'}]}}]}, 'additional_kwargs': {'title': 'Additional Kwargs', 'type': 'object'}, 'response_metadata': {'title': 'Response Metadata', 'type': 'object'}, 'type': {'title': 'Type', 'default': 'human', 'enum': ['human'], 'type': 'string'}, 'name': {'title': 'Name', 'type': 'string'}, 'id': {'title': 'Id', 'type': 'string'}, 'example': {'title': 'Example', 'default': False, 'type': 'boolean'}}, 'required': ['content']}, 'ChatMessage': {'title': 'ChatMessage', 'description': 'Message that can be assigned an arbitrary speaker (i.e. role).', 'type': 'object', 'properties': {'content': {'title': 'Content', 'anyOf': [{'type': 'string'}, {'type': 'array', 'items': {'anyOf': [{'type': 'string'}, {'type': 'object'}]}}]}, 'additional_kwargs': {'title': 'Additional Kwargs', 'type': 'object'}, 'response_metadata': {'title': 'Response Metadata', 'type': 'object'}, 'type': {'title': 'Type', 'default': 'chat', 'enum': ['chat'], 'type': 'string'}, 'name': {'title': 'Name', 'type': 'string'}, 'id': {'title': 'Id', 'type': 'string'}, 'role': {'title': 'Role', 'type': 'string'}}, 'required': ['content', 'role']}, 'SystemMessage': {'title': 'SystemMessage', 'description': 'Message for priming AI behavior, usually passed in as the first of a sequence\\nof input messages.', 'type': 'object', 'properties': {'content': {'title': 'Content', 'anyOf': [{'type': 'string'}, {'type': 'array', 'items': {'anyOf': [{'type': 'string'}, {'type': 'object'}]}}]}, 'additional_kwargs': {'title': 'Additional Kwargs', 'type': 'object'}, 'response_metadata': {'title': 'Response Metadata', 'type': 'object'}, 'type': {'title': 'Type', 'default': 'system', 'enum': ['system'], 'type': 'string'}, 'name': {'title': 'Name', 'type': 'string'}, 'id': {'title': 'Id', 'type': 'string'}}, 'required': ['content']}, 'FunctionMessage': {'title': 'FunctionMessage', 'description': 'Message for passing the result of executing a function back to a model.', 'type': 'object', 'properties': {'content': {'title': 'Content', 'anyOf': [{'type': 'string'}, {'type': 'array', 'items': {'anyOf': [{'type': 'string'}, {'type': 'object'}]}}]}, 'additional_kwargs': {'title': 'Additional Kwargs', 'type': 'object'}, 'response_metadata': {'title': 'Response Metadata', 'type': 'object'}, 'type': {'title': 'Type', 'default': 'function', 'enum': ['function'], 'type': 'string'}, 'name': {'title': 'Name', 'type': 'string'}, 'id': {'title': 'Id', 'type': 'string'}}, 'required': ['content', 'name']}, 'ToolMessage': {'title': 'ToolMessage', 'description': 'Message for passing the result of executing a tool back to a model.', 'type': 'object', 'properties': {'content': {'title': 'Content', 'anyOf': [{'type': 'string'}, {'type': 'array', 'items': {'anyOf': [{'type': 'string'}, {'type': 'object'}]}}]}, 'additional_kwargs': {'title': 'Additional Kwargs', 'type': 'object'}, 'response_metadata': {'title': 'Response Metadata', 'type': 'object'}, 'type': {'title': 'Type', 'default': 'tool', 'enum': ['tool'], 'type': 'string'}, 'name': {'title': 'Name', 'type': 'string'}, 'id': {'title': 'Id', 'type': 'string'}, 'tool_call_id': {'title': 'Tool Call Id', 'type': 'string'}}, 'required': ['content', 'tool_call_id']}, 'ChatPromptValueConcrete': {'title': 'ChatPromptValueConcrete', 'description': 'Chat prompt value which explicitly lists out the message types it accepts.\\nFor use in external schemas.', 'type': 'object', 'properties': {'messages': {'title': 'Messages', 'type': 'array', 'items': {'anyOf': [{'$ref': '#/definitions/AIMessage'}, {'$ref': '#/definitions/HumanMessage'}, {'$ref': '#/definitions/ChatMessage'}, {'$ref': '#/definitions/SystemMessage'}, {'$ref': '#/definitions/FunctionMessage'}, {'$ref': '#/definitions/ToolMessage'}]}}, 'type': {'title': 'Type', 'default': 'ChatPromptValueConcrete', 'enum': ['ChatPromptValueConcrete'], 'type': 'string'}}, 'required': ['messages']}}}}], 'edges': [{'source': 0, 'target': 1}, {'source': 1, 'target': 2}]}}}}], 'partial_variables': {}}, 'name': 'ChatPromptTemplate', 'graph': {'nodes': [{'id': 0, 'type': 'schema', 'data': {'title': 'PromptInput', 'type': 'object', 'properties': {'prompt': {'title': 'Prompt', 'type': 'string'}}}}, {'id': 1, 'type': 'runnable', 'data': {'id': ['langchain', 'prompts', 'chat', 'ChatPromptTemplate'], 'name': 'ChatPromptTemplate'}}, {'id': 2, 'type': 'schema', 'data': {'title': 'ChatPromptTemplateOutput', 'anyOf': [{'$ref': '#/definitions/StringPromptValue'}, {'$ref': '#/definitions/ChatPromptValueConcrete'}], 'definitions': {'StringPromptValue': {'title': 'StringPromptValue', 'description': 'String prompt value.', 'type': 'object', 'properties': {'text': {'title': 'Text', 'type': 'string'}, 'type': {'title': 'Type', 'default': 'StringPromptValue', 'enum': ['StringPromptValue'], 'type': 'string'}}, 'required': ['text']}, 'AIMessage': {'title': 'AIMessage', 'description': 'Message from an AI.', 'type': 'object', 'properties': {'content': {'title': 'Content', 'anyOf': [{'type': 'string'}, {'type': 'array', 'items': {'anyOf': [{'type': 'string'}, {'type': 'object'}]}}]}, 'additional_kwargs': {'title': 'Additional Kwargs', 'type': 'object'}, 'response_metadata': {'title': 'Response Metadata', 'type': 'object'}, 'type': {'title': 'Type', 'default': 'ai', 'enum': ['ai'], 'type': 'string'}, 'name': {'title': 'Name', 'type': 'string'}, 'id': {'title': 'Id', 'type': 'string'}, 'example': {'title': 'Example', 'default': False, 'type': 'boolean'}}, 'required': ['content']}, 'HumanMessage': {'title': 'HumanMessage', 'description': 'Message from a human.', 'type': 'object', 'properties': {'content': {'title': 'Content', 'anyOf': [{'type': 'string'}, {'type': 'array', 'items': {'anyOf': [{'type': 'string'}, {'type': 'object'}]}}]}, 'additional_kwargs': {'title': 'Additional Kwargs', 'type': 'object'}, 'response_metadata': {'title': 'Response Metadata', 'type': 'object'}, 'type': {'title': 'Type', 'default': 'human', 'enum': ['human'], 'type': 'string'}, 'name': {'title': 'Name', 'type': 'string'}, 'id': {'title': 'Id', 'type': 'string'}, 'example': {'title': 'Example', 'default': False, 'type': 'boolean'}}, 'required': ['content']}, 'ChatMessage': {'title': 'ChatMessage', 'description': 'Message that can be assigned an arbitrary speaker (i.e. role).', 'type': 'object', 'properties': {'content': {'title': 'Content', 'anyOf': [{'type': 'string'}, {'type': 'array', 'items': {'anyOf': [{'type': 'string'}, {'type': 'object'}]}}]}, 'additional_kwargs': {'title': 'Additional Kwargs', 'type': 'object'}, 'response_metadata': {'title': 'Response Metadata', 'type': 'object'}, 'type': {'title': 'Type', 'default': 'chat', 'enum': ['chat'], 'type': 'string'}, 'name': {'title': 'Name', 'type': 'string'}, 'id': {'title': 'Id', 'type': 'string'}, 'role': {'title': 'Role', 'type': 'string'}}, 'required': ['content', 'role']}, 'SystemMessage': {'title': 'SystemMessage', 'description': 'Message for priming AI behavior, usually passed in as the first of a sequence\\nof input messages.', 'type': 'object', 'properties': {'content': {'title': 'Content', 'anyOf': [{'type': 'string'}, {'type': 'array', 'items': {'anyOf': [{'type': 'string'}, {'type': 'object'}]}}]}, 'additional_kwargs': {'title': 'Additional Kwargs', 'type': 'object'}, 'response_metadata': {'title': 'Response Metadata', 'type': 'object'}, 'type': {'title': 'Type', 'default': 'system', 'enum': ['system'], 'type': 'string'}, 'name': {'title': 'Name', 'type': 'string'}, 'id': {'title': 'Id', 'type': 'string'}}, 'required': ['content']}, 'FunctionMessage': {'title': 'FunctionMessage', 'description': 'Message for passing the result of executing a function back to a model.', 'type': 'object', 'properties': {'content': {'title': 'Content', 'anyOf': [{'type': 'string'}, {'type': 'array', 'items': {'anyOf': [{'type': 'string'}, {'type': 'object'}]}}]}, 'additional_kwargs': {'title': 'Additional Kwargs', 'type': 'object'}, 'response_metadata': {'title': 'Response Metadata', 'type': 'object'}, 'type': {'title': 'Type', 'default': 'function', 'enum': ['function'], 'type': 'string'}, 'name': {'title': 'Name', 'type': 'string'}, 'id': {'title': 'Id', 'type': 'string'}}, 'required': ['content', 'name']}, 'ToolMessage': {'title': 'ToolMessage', 'description': 'Message for passing the result of executing a tool back to a model.', 'type': 'object', 'properties': {'content': {'title': 'Content', 'anyOf': [{'type': 'string'}, {'type': 'array', 'items': {'anyOf': [{'type': 'string'}, {'type': 'object'}]}}]}, 'additional_kwargs': {'title': 'Additional Kwargs', 'type': 'object'}, 'response_metadata': {'title': 'Response Metadata', 'type': 'object'}, 'type': {'title': 'Type', 'default': 'tool', 'enum': ['tool'], 'type': 'string'}, 'name': {'title': 'Name', 'type': 'string'}, 'id': {'title': 'Id', 'type': 'string'}, 'tool_call_id': {'title': 'Tool Call Id', 'type': 'string'}}, 'required': ['content', 'tool_call_id']}, 'ChatPromptValueConcrete': {'title': 'ChatPromptValueConcrete', 'description': 'Chat prompt value which explicitly lists out the message types it accepts.\\nFor use in external schemas.', 'type': 'object', 'properties': {'messages': {'title': 'Messages', 'type': 'array', 'items': {'anyOf': [{'$ref': '#/definitions/AIMessage'}, {'$ref': '#/definitions/HumanMessage'}, {'$ref': '#/definitions/ChatMessage'}, {'$ref': '#/definitions/SystemMessage'}, {'$ref': '#/definitions/FunctionMessage'}, {'$ref': '#/definitions/ToolMessage'}]}}, 'type': {'title': 'Type', 'default': 'ChatPromptValueConcrete', 'enum': ['ChatPromptValueConcrete'], 'type': 'string'}}, 'required': ['messages']}}}}], 'edges': [{'source': 0, 'target': 1}, {'source': 1, 'target': 2}]}}\n"
     ]
    }
   ],
   "source": [
    "handler = NewHandler()\n",
    "out = rag_chain.invoke({\"question\":\"What is meant by computational finance?\"}, {\"callbacks\":[handler]})"
   ]
  },
  {
   "cell_type": "code",
   "execution_count": 151,
   "id": "1fa10fd9-2ac5-4fbe-a275-4501b2da0a0e",
   "metadata": {},
   "outputs": [
    {
     "name": "stdout",
     "output_type": "stream",
     "text": [
      "['langchain', 'schema', 'runnable', 'RunnableSequence']\n",
      "['langchain', 'prompts', 'chat', 'ChatPromptTemplate']\n",
      "['langchain_core', 'runnables', 'base', 'RunnableLambda']\n",
      "['langchain', 'prompts', 'chat', 'ChatPromptTemplate']\n"
     ]
    }
   ],
   "source": [
    "for x in handler.serialized_input:\n",
    "    print(x['id'])"
   ]
  },
  {
   "cell_type": "code",
   "execution_count": 153,
   "id": "29d5a771-7c31-4a9b-af43-7c6af06d09d6",
   "metadata": {},
   "outputs": [
    {
     "name": "stdout",
     "output_type": "stream",
     "text": [
      "RunnableSequence\n",
      "ChatPromptTemplate\n",
      "RunnableLambda(retrieve_text)\n",
      "ChatPromptTemplate\n"
     ]
    }
   ],
   "source": [
    "for x in handler.serialized_input:\n",
    "    try:\n",
    "        print(x['name'])\n",
    "    except:\n",
    "        print(x['repr'])"
   ]
  },
  {
   "cell_type": "code",
   "execution_count": 154,
   "id": "b877ace5-1be0-4f16-b428-66cde45b7dda",
   "metadata": {},
   "outputs": [
    {
     "name": "stdout",
     "output_type": "stream",
     "text": [
      "name: RunnableSequence\n",
      "type: constructor\n",
      "id: ['langchain', 'schema', 'runnable', 'RunnableSequence']\n",
      "kwargs_keys: dict_keys(['first', 'middle', 'last', 'name'])\n"
     ]
    }
   ],
   "source": [
    "getChainBreakdown(handler.serialized_input[0])"
   ]
  },
  {
   "cell_type": "code",
   "execution_count": 155,
   "id": "93b2de21-b53a-4f13-98ee-67f1fb20a0af",
   "metadata": {},
   "outputs": [
    {
     "name": "stdout",
     "output_type": "stream",
     "text": [
      "name: ChatPromptTemplate\n",
      "type: constructor\n",
      "id: ['langchain', 'prompts', 'chat', 'ChatPromptTemplate']\n",
      "kwargs_keys: dict_keys(['input_variables', 'messages', 'partial_variables'])\n"
     ]
    }
   ],
   "source": [
    "getChainBreakdown(handler.serialized_input[1])"
   ]
  },
  {
   "cell_type": "code",
   "execution_count": 157,
   "id": "c224261f-9392-47e2-a11e-d890b899c882",
   "metadata": {},
   "outputs": [
    {
     "data": {
      "text/plain": [
       "{'lc': 1,\n",
       " 'type': 'not_implemented',\n",
       " 'id': ['langchain_core', 'runnables', 'base', 'RunnableLambda'],\n",
       " 'repr': 'RunnableLambda(retrieve_text)'}"
      ]
     },
     "execution_count": 157,
     "metadata": {},
     "output_type": "execute_result"
    }
   ],
   "source": [
    "handler.serialized_input[2]"
   ]
  },
  {
   "cell_type": "code",
   "execution_count": 158,
   "id": "0e1cab46-3806-486c-ac74-dd5a3eaffd9e",
   "metadata": {},
   "outputs": [
    {
     "name": "stdout",
     "output_type": "stream",
     "text": [
      "name: ChatPromptTemplate\n",
      "type: constructor\n",
      "id: ['langchain', 'prompts', 'chat', 'ChatPromptTemplate']\n",
      "kwargs_keys: dict_keys(['input_variables', 'messages', 'partial_variables'])\n"
     ]
    }
   ],
   "source": [
    "getChainBreakdown(handler.serialized_input[3])"
   ]
  },
  {
   "cell_type": "code",
   "execution_count": 159,
   "id": "c19f3f5e-4dd8-4256-87f1-a5ad1034c8f0",
   "metadata": {},
   "outputs": [
    {
     "data": {
      "text/plain": [
       "[{'question': 'What is meant by computational finance?'},\n",
       " {'question': 'What is meant by computational finance?'},\n",
       " ChatPromptValue(messages=[HumanMessage(content='You are an assistant that helps answer questions. \\n    Question: What is meant by computational finance? \\n    Answer:\\n    ')]),\n",
       " {'prompt': 'You are an assistant that helps answer questions. \\n    Question: What is meant by computational finance? \\n    Answer:\\n    '}]"
      ]
     },
     "execution_count": 159,
     "metadata": {},
     "output_type": "execute_result"
    }
   ],
   "source": [
    "handler.chain_input"
   ]
  },
  {
   "cell_type": "code",
   "execution_count": 160,
   "id": "0b10cbc9-8241-47e2-b028-df21d0ef460a",
   "metadata": {},
   "outputs": [
    {
     "name": "stdout",
     "output_type": "stream",
     "text": [
      "name: ChatPromptTemplate\n",
      "type: constructor\n",
      "id: ['langchain', 'prompts', 'chat', 'ChatPromptTemplate']\n",
      "kwargs_keys: dict_keys(['input_variables', 'messages', 'partial_variables'])\n"
     ]
    }
   ],
   "source": [
    "getChainBreakdown(handler.serialized_input[0]['kwargs']['first'])"
   ]
  },
  {
   "cell_type": "code",
   "execution_count": 162,
   "id": "15e963f3-98b9-476d-929f-c10f9246f997",
   "metadata": {},
   "outputs": [
    {
     "data": {
      "text/plain": [
       "[{'lc': 1,\n",
       "  'type': 'not_implemented',\n",
       "  'id': ['langchain_core', 'runnables', 'base', 'RunnableLambda'],\n",
       "  'repr': 'RunnableLambda(retrieve_text)'}]"
      ]
     },
     "execution_count": 162,
     "metadata": {},
     "output_type": "execute_result"
    }
   ],
   "source": [
    "handler.serialized_input[0]['kwargs']['middle']"
   ]
  },
  {
   "cell_type": "code",
   "execution_count": 163,
   "id": "ef8e5ef7-67b3-43d1-9f57-365cfdd4f135",
   "metadata": {},
   "outputs": [
    {
     "name": "stdout",
     "output_type": "stream",
     "text": [
      "name: ChatPromptTemplate\n",
      "type: constructor\n",
      "id: ['langchain', 'prompts', 'chat', 'ChatPromptTemplate']\n",
      "kwargs_keys: dict_keys(['input_variables', 'messages', 'partial_variables'])\n"
     ]
    }
   ],
   "source": [
    "getChainBreakdown(handler.serialized_input[0]['kwargs']['last'])"
   ]
  },
  {
   "cell_type": "code",
   "execution_count": 164,
   "id": "96e476c5-8059-4ceb-b739-40cf47a04ea1",
   "metadata": {
    "scrolled": true
   },
   "outputs": [
    {
     "data": {
      "text/plain": [
       "{'lc': 1,\n",
       " 'type': 'constructor',\n",
       " 'id': ['langchain', 'prompts', 'chat', 'ChatPromptTemplate'],\n",
       " 'kwargs': {'input_variables': ['prompt'],\n",
       "  'messages': [{'lc': 1,\n",
       "    'type': 'constructor',\n",
       "    'id': ['langchain', 'prompts', 'chat', 'HumanMessagePromptTemplate'],\n",
       "    'kwargs': {'prompt': {'lc': 1,\n",
       "      'type': 'constructor',\n",
       "      'id': ['langchain', 'prompts', 'prompt', 'PromptTemplate'],\n",
       "      'kwargs': {'input_variables': ['prompt'],\n",
       "       'template': 'The prompt is : {prompt}\\n    ',\n",
       "       'template_format': 'f-string',\n",
       "       'partial_variables': {}},\n",
       "      'name': 'PromptTemplate',\n",
       "      'graph': {'nodes': [{'id': 0,\n",
       "         'type': 'schema',\n",
       "         'data': {'title': 'PromptInput',\n",
       "          'type': 'object',\n",
       "          'properties': {'prompt': {'title': 'Prompt', 'type': 'string'}}}},\n",
       "        {'id': 1,\n",
       "         'type': 'runnable',\n",
       "         'data': {'id': ['langchain', 'prompts', 'prompt', 'PromptTemplate'],\n",
       "          'name': 'PromptTemplate'}},\n",
       "        {'id': 2,\n",
       "         'type': 'schema',\n",
       "         'data': {'title': 'PromptTemplateOutput',\n",
       "          'anyOf': [{'$ref': '#/definitions/StringPromptValue'},\n",
       "           {'$ref': '#/definitions/ChatPromptValueConcrete'}],\n",
       "          'definitions': {'StringPromptValue': {'title': 'StringPromptValue',\n",
       "            'description': 'String prompt value.',\n",
       "            'type': 'object',\n",
       "            'properties': {'text': {'title': 'Text', 'type': 'string'},\n",
       "             'type': {'title': 'Type',\n",
       "              'default': 'StringPromptValue',\n",
       "              'enum': ['StringPromptValue'],\n",
       "              'type': 'string'}},\n",
       "            'required': ['text']},\n",
       "           'AIMessage': {'title': 'AIMessage',\n",
       "            'description': 'Message from an AI.',\n",
       "            'type': 'object',\n",
       "            'properties': {'content': {'title': 'Content',\n",
       "              'anyOf': [{'type': 'string'},\n",
       "               {'type': 'array',\n",
       "                'items': {'anyOf': [{'type': 'string'},\n",
       "                  {'type': 'object'}]}}]},\n",
       "             'additional_kwargs': {'title': 'Additional Kwargs',\n",
       "              'type': 'object'},\n",
       "             'response_metadata': {'title': 'Response Metadata',\n",
       "              'type': 'object'},\n",
       "             'type': {'title': 'Type',\n",
       "              'default': 'ai',\n",
       "              'enum': ['ai'],\n",
       "              'type': 'string'},\n",
       "             'name': {'title': 'Name', 'type': 'string'},\n",
       "             'id': {'title': 'Id', 'type': 'string'},\n",
       "             'example': {'title': 'Example',\n",
       "              'default': False,\n",
       "              'type': 'boolean'}},\n",
       "            'required': ['content']},\n",
       "           'HumanMessage': {'title': 'HumanMessage',\n",
       "            'description': 'Message from a human.',\n",
       "            'type': 'object',\n",
       "            'properties': {'content': {'title': 'Content',\n",
       "              'anyOf': [{'type': 'string'},\n",
       "               {'type': 'array',\n",
       "                'items': {'anyOf': [{'type': 'string'},\n",
       "                  {'type': 'object'}]}}]},\n",
       "             'additional_kwargs': {'title': 'Additional Kwargs',\n",
       "              'type': 'object'},\n",
       "             'response_metadata': {'title': 'Response Metadata',\n",
       "              'type': 'object'},\n",
       "             'type': {'title': 'Type',\n",
       "              'default': 'human',\n",
       "              'enum': ['human'],\n",
       "              'type': 'string'},\n",
       "             'name': {'title': 'Name', 'type': 'string'},\n",
       "             'id': {'title': 'Id', 'type': 'string'},\n",
       "             'example': {'title': 'Example',\n",
       "              'default': False,\n",
       "              'type': 'boolean'}},\n",
       "            'required': ['content']},\n",
       "           'ChatMessage': {'title': 'ChatMessage',\n",
       "            'description': 'Message that can be assigned an arbitrary speaker (i.e. role).',\n",
       "            'type': 'object',\n",
       "            'properties': {'content': {'title': 'Content',\n",
       "              'anyOf': [{'type': 'string'},\n",
       "               {'type': 'array',\n",
       "                'items': {'anyOf': [{'type': 'string'},\n",
       "                  {'type': 'object'}]}}]},\n",
       "             'additional_kwargs': {'title': 'Additional Kwargs',\n",
       "              'type': 'object'},\n",
       "             'response_metadata': {'title': 'Response Metadata',\n",
       "              'type': 'object'},\n",
       "             'type': {'title': 'Type',\n",
       "              'default': 'chat',\n",
       "              'enum': ['chat'],\n",
       "              'type': 'string'},\n",
       "             'name': {'title': 'Name', 'type': 'string'},\n",
       "             'id': {'title': 'Id', 'type': 'string'},\n",
       "             'role': {'title': 'Role', 'type': 'string'}},\n",
       "            'required': ['content', 'role']},\n",
       "           'SystemMessage': {'title': 'SystemMessage',\n",
       "            'description': 'Message for priming AI behavior, usually passed in as the first of a sequence\\nof input messages.',\n",
       "            'type': 'object',\n",
       "            'properties': {'content': {'title': 'Content',\n",
       "              'anyOf': [{'type': 'string'},\n",
       "               {'type': 'array',\n",
       "                'items': {'anyOf': [{'type': 'string'},\n",
       "                  {'type': 'object'}]}}]},\n",
       "             'additional_kwargs': {'title': 'Additional Kwargs',\n",
       "              'type': 'object'},\n",
       "             'response_metadata': {'title': 'Response Metadata',\n",
       "              'type': 'object'},\n",
       "             'type': {'title': 'Type',\n",
       "              'default': 'system',\n",
       "              'enum': ['system'],\n",
       "              'type': 'string'},\n",
       "             'name': {'title': 'Name', 'type': 'string'},\n",
       "             'id': {'title': 'Id', 'type': 'string'}},\n",
       "            'required': ['content']},\n",
       "           'FunctionMessage': {'title': 'FunctionMessage',\n",
       "            'description': 'Message for passing the result of executing a function back to a model.',\n",
       "            'type': 'object',\n",
       "            'properties': {'content': {'title': 'Content',\n",
       "              'anyOf': [{'type': 'string'},\n",
       "               {'type': 'array',\n",
       "                'items': {'anyOf': [{'type': 'string'},\n",
       "                  {'type': 'object'}]}}]},\n",
       "             'additional_kwargs': {'title': 'Additional Kwargs',\n",
       "              'type': 'object'},\n",
       "             'response_metadata': {'title': 'Response Metadata',\n",
       "              'type': 'object'},\n",
       "             'type': {'title': 'Type',\n",
       "              'default': 'function',\n",
       "              'enum': ['function'],\n",
       "              'type': 'string'},\n",
       "             'name': {'title': 'Name', 'type': 'string'},\n",
       "             'id': {'title': 'Id', 'type': 'string'}},\n",
       "            'required': ['content', 'name']},\n",
       "           'ToolMessage': {'title': 'ToolMessage',\n",
       "            'description': 'Message for passing the result of executing a tool back to a model.',\n",
       "            'type': 'object',\n",
       "            'properties': {'content': {'title': 'Content',\n",
       "              'anyOf': [{'type': 'string'},\n",
       "               {'type': 'array',\n",
       "                'items': {'anyOf': [{'type': 'string'},\n",
       "                  {'type': 'object'}]}}]},\n",
       "             'additional_kwargs': {'title': 'Additional Kwargs',\n",
       "              'type': 'object'},\n",
       "             'response_metadata': {'title': 'Response Metadata',\n",
       "              'type': 'object'},\n",
       "             'type': {'title': 'Type',\n",
       "              'default': 'tool',\n",
       "              'enum': ['tool'],\n",
       "              'type': 'string'},\n",
       "             'name': {'title': 'Name', 'type': 'string'},\n",
       "             'id': {'title': 'Id', 'type': 'string'},\n",
       "             'tool_call_id': {'title': 'Tool Call Id', 'type': 'string'}},\n",
       "            'required': ['content', 'tool_call_id']},\n",
       "           'ChatPromptValueConcrete': {'title': 'ChatPromptValueConcrete',\n",
       "            'description': 'Chat prompt value which explicitly lists out the message types it accepts.\\nFor use in external schemas.',\n",
       "            'type': 'object',\n",
       "            'properties': {'messages': {'title': 'Messages',\n",
       "              'type': 'array',\n",
       "              'items': {'anyOf': [{'$ref': '#/definitions/AIMessage'},\n",
       "                {'$ref': '#/definitions/HumanMessage'},\n",
       "                {'$ref': '#/definitions/ChatMessage'},\n",
       "                {'$ref': '#/definitions/SystemMessage'},\n",
       "                {'$ref': '#/definitions/FunctionMessage'},\n",
       "                {'$ref': '#/definitions/ToolMessage'}]}},\n",
       "             'type': {'title': 'Type',\n",
       "              'default': 'ChatPromptValueConcrete',\n",
       "              'enum': ['ChatPromptValueConcrete'],\n",
       "              'type': 'string'}},\n",
       "            'required': ['messages']}}}}],\n",
       "       'edges': [{'source': 0, 'target': 1}, {'source': 1, 'target': 2}]}}}}],\n",
       "  'partial_variables': {}},\n",
       " 'name': 'ChatPromptTemplate',\n",
       " 'graph': {'nodes': [{'id': 0,\n",
       "    'type': 'schema',\n",
       "    'data': {'title': 'PromptInput',\n",
       "     'type': 'object',\n",
       "     'properties': {'prompt': {'title': 'Prompt', 'type': 'string'}}}},\n",
       "   {'id': 1,\n",
       "    'type': 'runnable',\n",
       "    'data': {'id': ['langchain', 'prompts', 'chat', 'ChatPromptTemplate'],\n",
       "     'name': 'ChatPromptTemplate'}},\n",
       "   {'id': 2,\n",
       "    'type': 'schema',\n",
       "    'data': {'title': 'ChatPromptTemplateOutput',\n",
       "     'anyOf': [{'$ref': '#/definitions/StringPromptValue'},\n",
       "      {'$ref': '#/definitions/ChatPromptValueConcrete'}],\n",
       "     'definitions': {'StringPromptValue': {'title': 'StringPromptValue',\n",
       "       'description': 'String prompt value.',\n",
       "       'type': 'object',\n",
       "       'properties': {'text': {'title': 'Text', 'type': 'string'},\n",
       "        'type': {'title': 'Type',\n",
       "         'default': 'StringPromptValue',\n",
       "         'enum': ['StringPromptValue'],\n",
       "         'type': 'string'}},\n",
       "       'required': ['text']},\n",
       "      'AIMessage': {'title': 'AIMessage',\n",
       "       'description': 'Message from an AI.',\n",
       "       'type': 'object',\n",
       "       'properties': {'content': {'title': 'Content',\n",
       "         'anyOf': [{'type': 'string'},\n",
       "          {'type': 'array',\n",
       "           'items': {'anyOf': [{'type': 'string'}, {'type': 'object'}]}}]},\n",
       "        'additional_kwargs': {'title': 'Additional Kwargs', 'type': 'object'},\n",
       "        'response_metadata': {'title': 'Response Metadata', 'type': 'object'},\n",
       "        'type': {'title': 'Type',\n",
       "         'default': 'ai',\n",
       "         'enum': ['ai'],\n",
       "         'type': 'string'},\n",
       "        'name': {'title': 'Name', 'type': 'string'},\n",
       "        'id': {'title': 'Id', 'type': 'string'},\n",
       "        'example': {'title': 'Example', 'default': False, 'type': 'boolean'}},\n",
       "       'required': ['content']},\n",
       "      'HumanMessage': {'title': 'HumanMessage',\n",
       "       'description': 'Message from a human.',\n",
       "       'type': 'object',\n",
       "       'properties': {'content': {'title': 'Content',\n",
       "         'anyOf': [{'type': 'string'},\n",
       "          {'type': 'array',\n",
       "           'items': {'anyOf': [{'type': 'string'}, {'type': 'object'}]}}]},\n",
       "        'additional_kwargs': {'title': 'Additional Kwargs', 'type': 'object'},\n",
       "        'response_metadata': {'title': 'Response Metadata', 'type': 'object'},\n",
       "        'type': {'title': 'Type',\n",
       "         'default': 'human',\n",
       "         'enum': ['human'],\n",
       "         'type': 'string'},\n",
       "        'name': {'title': 'Name', 'type': 'string'},\n",
       "        'id': {'title': 'Id', 'type': 'string'},\n",
       "        'example': {'title': 'Example', 'default': False, 'type': 'boolean'}},\n",
       "       'required': ['content']},\n",
       "      'ChatMessage': {'title': 'ChatMessage',\n",
       "       'description': 'Message that can be assigned an arbitrary speaker (i.e. role).',\n",
       "       'type': 'object',\n",
       "       'properties': {'content': {'title': 'Content',\n",
       "         'anyOf': [{'type': 'string'},\n",
       "          {'type': 'array',\n",
       "           'items': {'anyOf': [{'type': 'string'}, {'type': 'object'}]}}]},\n",
       "        'additional_kwargs': {'title': 'Additional Kwargs', 'type': 'object'},\n",
       "        'response_metadata': {'title': 'Response Metadata', 'type': 'object'},\n",
       "        'type': {'title': 'Type',\n",
       "         'default': 'chat',\n",
       "         'enum': ['chat'],\n",
       "         'type': 'string'},\n",
       "        'name': {'title': 'Name', 'type': 'string'},\n",
       "        'id': {'title': 'Id', 'type': 'string'},\n",
       "        'role': {'title': 'Role', 'type': 'string'}},\n",
       "       'required': ['content', 'role']},\n",
       "      'SystemMessage': {'title': 'SystemMessage',\n",
       "       'description': 'Message for priming AI behavior, usually passed in as the first of a sequence\\nof input messages.',\n",
       "       'type': 'object',\n",
       "       'properties': {'content': {'title': 'Content',\n",
       "         'anyOf': [{'type': 'string'},\n",
       "          {'type': 'array',\n",
       "           'items': {'anyOf': [{'type': 'string'}, {'type': 'object'}]}}]},\n",
       "        'additional_kwargs': {'title': 'Additional Kwargs', 'type': 'object'},\n",
       "        'response_metadata': {'title': 'Response Metadata', 'type': 'object'},\n",
       "        'type': {'title': 'Type',\n",
       "         'default': 'system',\n",
       "         'enum': ['system'],\n",
       "         'type': 'string'},\n",
       "        'name': {'title': 'Name', 'type': 'string'},\n",
       "        'id': {'title': 'Id', 'type': 'string'}},\n",
       "       'required': ['content']},\n",
       "      'FunctionMessage': {'title': 'FunctionMessage',\n",
       "       'description': 'Message for passing the result of executing a function back to a model.',\n",
       "       'type': 'object',\n",
       "       'properties': {'content': {'title': 'Content',\n",
       "         'anyOf': [{'type': 'string'},\n",
       "          {'type': 'array',\n",
       "           'items': {'anyOf': [{'type': 'string'}, {'type': 'object'}]}}]},\n",
       "        'additional_kwargs': {'title': 'Additional Kwargs', 'type': 'object'},\n",
       "        'response_metadata': {'title': 'Response Metadata', 'type': 'object'},\n",
       "        'type': {'title': 'Type',\n",
       "         'default': 'function',\n",
       "         'enum': ['function'],\n",
       "         'type': 'string'},\n",
       "        'name': {'title': 'Name', 'type': 'string'},\n",
       "        'id': {'title': 'Id', 'type': 'string'}},\n",
       "       'required': ['content', 'name']},\n",
       "      'ToolMessage': {'title': 'ToolMessage',\n",
       "       'description': 'Message for passing the result of executing a tool back to a model.',\n",
       "       'type': 'object',\n",
       "       'properties': {'content': {'title': 'Content',\n",
       "         'anyOf': [{'type': 'string'},\n",
       "          {'type': 'array',\n",
       "           'items': {'anyOf': [{'type': 'string'}, {'type': 'object'}]}}]},\n",
       "        'additional_kwargs': {'title': 'Additional Kwargs', 'type': 'object'},\n",
       "        'response_metadata': {'title': 'Response Metadata', 'type': 'object'},\n",
       "        'type': {'title': 'Type',\n",
       "         'default': 'tool',\n",
       "         'enum': ['tool'],\n",
       "         'type': 'string'},\n",
       "        'name': {'title': 'Name', 'type': 'string'},\n",
       "        'id': {'title': 'Id', 'type': 'string'},\n",
       "        'tool_call_id': {'title': 'Tool Call Id', 'type': 'string'}},\n",
       "       'required': ['content', 'tool_call_id']},\n",
       "      'ChatPromptValueConcrete': {'title': 'ChatPromptValueConcrete',\n",
       "       'description': 'Chat prompt value which explicitly lists out the message types it accepts.\\nFor use in external schemas.',\n",
       "       'type': 'object',\n",
       "       'properties': {'messages': {'title': 'Messages',\n",
       "         'type': 'array',\n",
       "         'items': {'anyOf': [{'$ref': '#/definitions/AIMessage'},\n",
       "           {'$ref': '#/definitions/HumanMessage'},\n",
       "           {'$ref': '#/definitions/ChatMessage'},\n",
       "           {'$ref': '#/definitions/SystemMessage'},\n",
       "           {'$ref': '#/definitions/FunctionMessage'},\n",
       "           {'$ref': '#/definitions/ToolMessage'}]}},\n",
       "        'type': {'title': 'Type',\n",
       "         'default': 'ChatPromptValueConcrete',\n",
       "         'enum': ['ChatPromptValueConcrete'],\n",
       "         'type': 'string'}},\n",
       "       'required': ['messages']}}}}],\n",
       "  'edges': [{'source': 0, 'target': 1}, {'source': 1, 'target': 2}]}}"
      ]
     },
     "execution_count": 164,
     "metadata": {},
     "output_type": "execute_result"
    }
   ],
   "source": [
    "handler.serialized_input[0]['kwargs']['last']"
   ]
  },
  {
   "cell_type": "markdown",
   "id": "b0e6a969-efd5-4947-8381-ce7a9f5caf9c",
   "metadata": {},
   "source": [
    "## Chain 2"
   ]
  },
  {
   "cell_type": "code",
   "execution_count": 166,
   "id": "b021474b-9102-4c21-9986-46c034fa6157",
   "metadata": {},
   "outputs": [],
   "source": [
    "qa_template = \"\"\"\n",
    "    Question: {question} \n",
    "    Answer:\n",
    "    \"\"\"\n",
    "qa_prompt = ChatPromptTemplate.from_template(qa_template)\n",
    "\n",
    "qa_template2 = \"\"\"You are an assistant that helps answer questions. \n",
    "    {prompt}\n",
    "    \"\"\"\n",
    "qa_prompt2 = ChatPromptTemplate.from_template(qa_template2)\n",
    "\n",
    "\n",
    "\n",
    "def retrieve_text(x):\n",
    "    return {'prompt': x.messages[0].content}\n",
    "\n",
    "rag_chain =  qa_prompt | RunnableLambda( retrieve_text) | qa_prompt2 | llm\n"
   ]
  },
  {
   "cell_type": "code",
   "execution_count": 167,
   "id": "55b7deb5-93d1-43ce-8f6f-8d163afce724",
   "metadata": {
    "scrolled": true
   },
   "outputs": [
    {
     "name": "stdout",
     "output_type": "stream",
     "text": [
      "Inputs: \n",
      "{'question': 'What is meant by computational finance?'}\n",
      "Serialized:\n",
      "{'lc': 1, 'type': 'constructor', 'id': ['langchain', 'schema', 'runnable', 'RunnableSequence'], 'kwargs': {'first': {'lc': 1, 'type': 'constructor', 'id': ['langchain', 'prompts', 'chat', 'ChatPromptTemplate'], 'kwargs': {'input_variables': ['question'], 'messages': [{'lc': 1, 'type': 'constructor', 'id': ['langchain', 'prompts', 'chat', 'HumanMessagePromptTemplate'], 'kwargs': {'prompt': {'lc': 1, 'type': 'constructor', 'id': ['langchain', 'prompts', 'prompt', 'PromptTemplate'], 'kwargs': {'input_variables': ['question'], 'template': '\\n    Question: {question} \\n    Answer:\\n    ', 'template_format': 'f-string', 'partial_variables': {}}, 'name': 'PromptTemplate', 'graph': {'nodes': [{'id': 0, 'type': 'schema', 'data': {'title': 'PromptInput', 'type': 'object', 'properties': {'question': {'title': 'Question', 'type': 'string'}}}}, {'id': 1, 'type': 'runnable', 'data': {'id': ['langchain', 'prompts', 'prompt', 'PromptTemplate'], 'name': 'PromptTemplate'}}, {'id': 2, 'type': 'schema', 'data': {'title': 'PromptTemplateOutput', 'anyOf': [{'$ref': '#/definitions/StringPromptValue'}, {'$ref': '#/definitions/ChatPromptValueConcrete'}], 'definitions': {'StringPromptValue': {'title': 'StringPromptValue', 'description': 'String prompt value.', 'type': 'object', 'properties': {'text': {'title': 'Text', 'type': 'string'}, 'type': {'title': 'Type', 'default': 'StringPromptValue', 'enum': ['StringPromptValue'], 'type': 'string'}}, 'required': ['text']}, 'AIMessage': {'title': 'AIMessage', 'description': 'Message from an AI.', 'type': 'object', 'properties': {'content': {'title': 'Content', 'anyOf': [{'type': 'string'}, {'type': 'array', 'items': {'anyOf': [{'type': 'string'}, {'type': 'object'}]}}]}, 'additional_kwargs': {'title': 'Additional Kwargs', 'type': 'object'}, 'response_metadata': {'title': 'Response Metadata', 'type': 'object'}, 'type': {'title': 'Type', 'default': 'ai', 'enum': ['ai'], 'type': 'string'}, 'name': {'title': 'Name', 'type': 'string'}, 'id': {'title': 'Id', 'type': 'string'}, 'example': {'title': 'Example', 'default': False, 'type': 'boolean'}}, 'required': ['content']}, 'HumanMessage': {'title': 'HumanMessage', 'description': 'Message from a human.', 'type': 'object', 'properties': {'content': {'title': 'Content', 'anyOf': [{'type': 'string'}, {'type': 'array', 'items': {'anyOf': [{'type': 'string'}, {'type': 'object'}]}}]}, 'additional_kwargs': {'title': 'Additional Kwargs', 'type': 'object'}, 'response_metadata': {'title': 'Response Metadata', 'type': 'object'}, 'type': {'title': 'Type', 'default': 'human', 'enum': ['human'], 'type': 'string'}, 'name': {'title': 'Name', 'type': 'string'}, 'id': {'title': 'Id', 'type': 'string'}, 'example': {'title': 'Example', 'default': False, 'type': 'boolean'}}, 'required': ['content']}, 'ChatMessage': {'title': 'ChatMessage', 'description': 'Message that can be assigned an arbitrary speaker (i.e. role).', 'type': 'object', 'properties': {'content': {'title': 'Content', 'anyOf': [{'type': 'string'}, {'type': 'array', 'items': {'anyOf': [{'type': 'string'}, {'type': 'object'}]}}]}, 'additional_kwargs': {'title': 'Additional Kwargs', 'type': 'object'}, 'response_metadata': {'title': 'Response Metadata', 'type': 'object'}, 'type': {'title': 'Type', 'default': 'chat', 'enum': ['chat'], 'type': 'string'}, 'name': {'title': 'Name', 'type': 'string'}, 'id': {'title': 'Id', 'type': 'string'}, 'role': {'title': 'Role', 'type': 'string'}}, 'required': ['content', 'role']}, 'SystemMessage': {'title': 'SystemMessage', 'description': 'Message for priming AI behavior, usually passed in as the first of a sequence\\nof input messages.', 'type': 'object', 'properties': {'content': {'title': 'Content', 'anyOf': [{'type': 'string'}, {'type': 'array', 'items': {'anyOf': [{'type': 'string'}, {'type': 'object'}]}}]}, 'additional_kwargs': {'title': 'Additional Kwargs', 'type': 'object'}, 'response_metadata': {'title': 'Response Metadata', 'type': 'object'}, 'type': {'title': 'Type', 'default': 'system', 'enum': ['system'], 'type': 'string'}, 'name': {'title': 'Name', 'type': 'string'}, 'id': {'title': 'Id', 'type': 'string'}}, 'required': ['content']}, 'FunctionMessage': {'title': 'FunctionMessage', 'description': 'Message for passing the result of executing a function back to a model.', 'type': 'object', 'properties': {'content': {'title': 'Content', 'anyOf': [{'type': 'string'}, {'type': 'array', 'items': {'anyOf': [{'type': 'string'}, {'type': 'object'}]}}]}, 'additional_kwargs': {'title': 'Additional Kwargs', 'type': 'object'}, 'response_metadata': {'title': 'Response Metadata', 'type': 'object'}, 'type': {'title': 'Type', 'default': 'function', 'enum': ['function'], 'type': 'string'}, 'name': {'title': 'Name', 'type': 'string'}, 'id': {'title': 'Id', 'type': 'string'}}, 'required': ['content', 'name']}, 'ToolMessage': {'title': 'ToolMessage', 'description': 'Message for passing the result of executing a tool back to a model.', 'type': 'object', 'properties': {'content': {'title': 'Content', 'anyOf': [{'type': 'string'}, {'type': 'array', 'items': {'anyOf': [{'type': 'string'}, {'type': 'object'}]}}]}, 'additional_kwargs': {'title': 'Additional Kwargs', 'type': 'object'}, 'response_metadata': {'title': 'Response Metadata', 'type': 'object'}, 'type': {'title': 'Type', 'default': 'tool', 'enum': ['tool'], 'type': 'string'}, 'name': {'title': 'Name', 'type': 'string'}, 'id': {'title': 'Id', 'type': 'string'}, 'tool_call_id': {'title': 'Tool Call Id', 'type': 'string'}}, 'required': ['content', 'tool_call_id']}, 'ChatPromptValueConcrete': {'title': 'ChatPromptValueConcrete', 'description': 'Chat prompt value which explicitly lists out the message types it accepts.\\nFor use in external schemas.', 'type': 'object', 'properties': {'messages': {'title': 'Messages', 'type': 'array', 'items': {'anyOf': [{'$ref': '#/definitions/AIMessage'}, {'$ref': '#/definitions/HumanMessage'}, {'$ref': '#/definitions/ChatMessage'}, {'$ref': '#/definitions/SystemMessage'}, {'$ref': '#/definitions/FunctionMessage'}, {'$ref': '#/definitions/ToolMessage'}]}}, 'type': {'title': 'Type', 'default': 'ChatPromptValueConcrete', 'enum': ['ChatPromptValueConcrete'], 'type': 'string'}}, 'required': ['messages']}}}}], 'edges': [{'source': 0, 'target': 1}, {'source': 1, 'target': 2}]}}}}], 'partial_variables': {}}, 'name': 'ChatPromptTemplate', 'graph': {'nodes': [{'id': 0, 'type': 'schema', 'data': {'title': 'PromptInput', 'type': 'object', 'properties': {'question': {'title': 'Question', 'type': 'string'}}}}, {'id': 1, 'type': 'runnable', 'data': {'id': ['langchain', 'prompts', 'chat', 'ChatPromptTemplate'], 'name': 'ChatPromptTemplate'}}, {'id': 2, 'type': 'schema', 'data': {'title': 'ChatPromptTemplateOutput', 'anyOf': [{'$ref': '#/definitions/StringPromptValue'}, {'$ref': '#/definitions/ChatPromptValueConcrete'}], 'definitions': {'StringPromptValue': {'title': 'StringPromptValue', 'description': 'String prompt value.', 'type': 'object', 'properties': {'text': {'title': 'Text', 'type': 'string'}, 'type': {'title': 'Type', 'default': 'StringPromptValue', 'enum': ['StringPromptValue'], 'type': 'string'}}, 'required': ['text']}, 'AIMessage': {'title': 'AIMessage', 'description': 'Message from an AI.', 'type': 'object', 'properties': {'content': {'title': 'Content', 'anyOf': [{'type': 'string'}, {'type': 'array', 'items': {'anyOf': [{'type': 'string'}, {'type': 'object'}]}}]}, 'additional_kwargs': {'title': 'Additional Kwargs', 'type': 'object'}, 'response_metadata': {'title': 'Response Metadata', 'type': 'object'}, 'type': {'title': 'Type', 'default': 'ai', 'enum': ['ai'], 'type': 'string'}, 'name': {'title': 'Name', 'type': 'string'}, 'id': {'title': 'Id', 'type': 'string'}, 'example': {'title': 'Example', 'default': False, 'type': 'boolean'}}, 'required': ['content']}, 'HumanMessage': {'title': 'HumanMessage', 'description': 'Message from a human.', 'type': 'object', 'properties': {'content': {'title': 'Content', 'anyOf': [{'type': 'string'}, {'type': 'array', 'items': {'anyOf': [{'type': 'string'}, {'type': 'object'}]}}]}, 'additional_kwargs': {'title': 'Additional Kwargs', 'type': 'object'}, 'response_metadata': {'title': 'Response Metadata', 'type': 'object'}, 'type': {'title': 'Type', 'default': 'human', 'enum': ['human'], 'type': 'string'}, 'name': {'title': 'Name', 'type': 'string'}, 'id': {'title': 'Id', 'type': 'string'}, 'example': {'title': 'Example', 'default': False, 'type': 'boolean'}}, 'required': ['content']}, 'ChatMessage': {'title': 'ChatMessage', 'description': 'Message that can be assigned an arbitrary speaker (i.e. role).', 'type': 'object', 'properties': {'content': {'title': 'Content', 'anyOf': [{'type': 'string'}, {'type': 'array', 'items': {'anyOf': [{'type': 'string'}, {'type': 'object'}]}}]}, 'additional_kwargs': {'title': 'Additional Kwargs', 'type': 'object'}, 'response_metadata': {'title': 'Response Metadata', 'type': 'object'}, 'type': {'title': 'Type', 'default': 'chat', 'enum': ['chat'], 'type': 'string'}, 'name': {'title': 'Name', 'type': 'string'}, 'id': {'title': 'Id', 'type': 'string'}, 'role': {'title': 'Role', 'type': 'string'}}, 'required': ['content', 'role']}, 'SystemMessage': {'title': 'SystemMessage', 'description': 'Message for priming AI behavior, usually passed in as the first of a sequence\\nof input messages.', 'type': 'object', 'properties': {'content': {'title': 'Content', 'anyOf': [{'type': 'string'}, {'type': 'array', 'items': {'anyOf': [{'type': 'string'}, {'type': 'object'}]}}]}, 'additional_kwargs': {'title': 'Additional Kwargs', 'type': 'object'}, 'response_metadata': {'title': 'Response Metadata', 'type': 'object'}, 'type': {'title': 'Type', 'default': 'system', 'enum': ['system'], 'type': 'string'}, 'name': {'title': 'Name', 'type': 'string'}, 'id': {'title': 'Id', 'type': 'string'}}, 'required': ['content']}, 'FunctionMessage': {'title': 'FunctionMessage', 'description': 'Message for passing the result of executing a function back to a model.', 'type': 'object', 'properties': {'content': {'title': 'Content', 'anyOf': [{'type': 'string'}, {'type': 'array', 'items': {'anyOf': [{'type': 'string'}, {'type': 'object'}]}}]}, 'additional_kwargs': {'title': 'Additional Kwargs', 'type': 'object'}, 'response_metadata': {'title': 'Response Metadata', 'type': 'object'}, 'type': {'title': 'Type', 'default': 'function', 'enum': ['function'], 'type': 'string'}, 'name': {'title': 'Name', 'type': 'string'}, 'id': {'title': 'Id', 'type': 'string'}}, 'required': ['content', 'name']}, 'ToolMessage': {'title': 'ToolMessage', 'description': 'Message for passing the result of executing a tool back to a model.', 'type': 'object', 'properties': {'content': {'title': 'Content', 'anyOf': [{'type': 'string'}, {'type': 'array', 'items': {'anyOf': [{'type': 'string'}, {'type': 'object'}]}}]}, 'additional_kwargs': {'title': 'Additional Kwargs', 'type': 'object'}, 'response_metadata': {'title': 'Response Metadata', 'type': 'object'}, 'type': {'title': 'Type', 'default': 'tool', 'enum': ['tool'], 'type': 'string'}, 'name': {'title': 'Name', 'type': 'string'}, 'id': {'title': 'Id', 'type': 'string'}, 'tool_call_id': {'title': 'Tool Call Id', 'type': 'string'}}, 'required': ['content', 'tool_call_id']}, 'ChatPromptValueConcrete': {'title': 'ChatPromptValueConcrete', 'description': 'Chat prompt value which explicitly lists out the message types it accepts.\\nFor use in external schemas.', 'type': 'object', 'properties': {'messages': {'title': 'Messages', 'type': 'array', 'items': {'anyOf': [{'$ref': '#/definitions/AIMessage'}, {'$ref': '#/definitions/HumanMessage'}, {'$ref': '#/definitions/ChatMessage'}, {'$ref': '#/definitions/SystemMessage'}, {'$ref': '#/definitions/FunctionMessage'}, {'$ref': '#/definitions/ToolMessage'}]}}, 'type': {'title': 'Type', 'default': 'ChatPromptValueConcrete', 'enum': ['ChatPromptValueConcrete'], 'type': 'string'}}, 'required': ['messages']}}}}], 'edges': [{'source': 0, 'target': 1}, {'source': 1, 'target': 2}]}}, 'middle': [{'lc': 1, 'type': 'not_implemented', 'id': ['langchain_core', 'runnables', 'base', 'RunnableLambda'], 'repr': 'RunnableLambda(retrieve_text)'}, {'lc': 1, 'type': 'constructor', 'id': ['langchain', 'prompts', 'chat', 'ChatPromptTemplate'], 'kwargs': {'input_variables': ['prompt'], 'messages': [{'lc': 1, 'type': 'constructor', 'id': ['langchain', 'prompts', 'chat', 'HumanMessagePromptTemplate'], 'kwargs': {'prompt': {'lc': 1, 'type': 'constructor', 'id': ['langchain', 'prompts', 'prompt', 'PromptTemplate'], 'kwargs': {'input_variables': ['prompt'], 'template': 'You are an assistant that helps answer questions. \\n    {prompt}\\n    ', 'template_format': 'f-string', 'partial_variables': {}}, 'name': 'PromptTemplate', 'graph': {'nodes': [{'id': 0, 'type': 'schema', 'data': {'title': 'PromptInput', 'type': 'object', 'properties': {'prompt': {'title': 'Prompt', 'type': 'string'}}}}, {'id': 1, 'type': 'runnable', 'data': {'id': ['langchain', 'prompts', 'prompt', 'PromptTemplate'], 'name': 'PromptTemplate'}}, {'id': 2, 'type': 'schema', 'data': {'title': 'PromptTemplateOutput', 'anyOf': [{'$ref': '#/definitions/StringPromptValue'}, {'$ref': '#/definitions/ChatPromptValueConcrete'}], 'definitions': {'StringPromptValue': {'title': 'StringPromptValue', 'description': 'String prompt value.', 'type': 'object', 'properties': {'text': {'title': 'Text', 'type': 'string'}, 'type': {'title': 'Type', 'default': 'StringPromptValue', 'enum': ['StringPromptValue'], 'type': 'string'}}, 'required': ['text']}, 'AIMessage': {'title': 'AIMessage', 'description': 'Message from an AI.', 'type': 'object', 'properties': {'content': {'title': 'Content', 'anyOf': [{'type': 'string'}, {'type': 'array', 'items': {'anyOf': [{'type': 'string'}, {'type': 'object'}]}}]}, 'additional_kwargs': {'title': 'Additional Kwargs', 'type': 'object'}, 'response_metadata': {'title': 'Response Metadata', 'type': 'object'}, 'type': {'title': 'Type', 'default': 'ai', 'enum': ['ai'], 'type': 'string'}, 'name': {'title': 'Name', 'type': 'string'}, 'id': {'title': 'Id', 'type': 'string'}, 'example': {'title': 'Example', 'default': False, 'type': 'boolean'}}, 'required': ['content']}, 'HumanMessage': {'title': 'HumanMessage', 'description': 'Message from a human.', 'type': 'object', 'properties': {'content': {'title': 'Content', 'anyOf': [{'type': 'string'}, {'type': 'array', 'items': {'anyOf': [{'type': 'string'}, {'type': 'object'}]}}]}, 'additional_kwargs': {'title': 'Additional Kwargs', 'type': 'object'}, 'response_metadata': {'title': 'Response Metadata', 'type': 'object'}, 'type': {'title': 'Type', 'default': 'human', 'enum': ['human'], 'type': 'string'}, 'name': {'title': 'Name', 'type': 'string'}, 'id': {'title': 'Id', 'type': 'string'}, 'example': {'title': 'Example', 'default': False, 'type': 'boolean'}}, 'required': ['content']}, 'ChatMessage': {'title': 'ChatMessage', 'description': 'Message that can be assigned an arbitrary speaker (i.e. role).', 'type': 'object', 'properties': {'content': {'title': 'Content', 'anyOf': [{'type': 'string'}, {'type': 'array', 'items': {'anyOf': [{'type': 'string'}, {'type': 'object'}]}}]}, 'additional_kwargs': {'title': 'Additional Kwargs', 'type': 'object'}, 'response_metadata': {'title': 'Response Metadata', 'type': 'object'}, 'type': {'title': 'Type', 'default': 'chat', 'enum': ['chat'], 'type': 'string'}, 'name': {'title': 'Name', 'type': 'string'}, 'id': {'title': 'Id', 'type': 'string'}, 'role': {'title': 'Role', 'type': 'string'}}, 'required': ['content', 'role']}, 'SystemMessage': {'title': 'SystemMessage', 'description': 'Message for priming AI behavior, usually passed in as the first of a sequence\\nof input messages.', 'type': 'object', 'properties': {'content': {'title': 'Content', 'anyOf': [{'type': 'string'}, {'type': 'array', 'items': {'anyOf': [{'type': 'string'}, {'type': 'object'}]}}]}, 'additional_kwargs': {'title': 'Additional Kwargs', 'type': 'object'}, 'response_metadata': {'title': 'Response Metadata', 'type': 'object'}, 'type': {'title': 'Type', 'default': 'system', 'enum': ['system'], 'type': 'string'}, 'name': {'title': 'Name', 'type': 'string'}, 'id': {'title': 'Id', 'type': 'string'}}, 'required': ['content']}, 'FunctionMessage': {'title': 'FunctionMessage', 'description': 'Message for passing the result of executing a function back to a model.', 'type': 'object', 'properties': {'content': {'title': 'Content', 'anyOf': [{'type': 'string'}, {'type': 'array', 'items': {'anyOf': [{'type': 'string'}, {'type': 'object'}]}}]}, 'additional_kwargs': {'title': 'Additional Kwargs', 'type': 'object'}, 'response_metadata': {'title': 'Response Metadata', 'type': 'object'}, 'type': {'title': 'Type', 'default': 'function', 'enum': ['function'], 'type': 'string'}, 'name': {'title': 'Name', 'type': 'string'}, 'id': {'title': 'Id', 'type': 'string'}}, 'required': ['content', 'name']}, 'ToolMessage': {'title': 'ToolMessage', 'description': 'Message for passing the result of executing a tool back to a model.', 'type': 'object', 'properties': {'content': {'title': 'Content', 'anyOf': [{'type': 'string'}, {'type': 'array', 'items': {'anyOf': [{'type': 'string'}, {'type': 'object'}]}}]}, 'additional_kwargs': {'title': 'Additional Kwargs', 'type': 'object'}, 'response_metadata': {'title': 'Response Metadata', 'type': 'object'}, 'type': {'title': 'Type', 'default': 'tool', 'enum': ['tool'], 'type': 'string'}, 'name': {'title': 'Name', 'type': 'string'}, 'id': {'title': 'Id', 'type': 'string'}, 'tool_call_id': {'title': 'Tool Call Id', 'type': 'string'}}, 'required': ['content', 'tool_call_id']}, 'ChatPromptValueConcrete': {'title': 'ChatPromptValueConcrete', 'description': 'Chat prompt value which explicitly lists out the message types it accepts.\\nFor use in external schemas.', 'type': 'object', 'properties': {'messages': {'title': 'Messages', 'type': 'array', 'items': {'anyOf': [{'$ref': '#/definitions/AIMessage'}, {'$ref': '#/definitions/HumanMessage'}, {'$ref': '#/definitions/ChatMessage'}, {'$ref': '#/definitions/SystemMessage'}, {'$ref': '#/definitions/FunctionMessage'}, {'$ref': '#/definitions/ToolMessage'}]}}, 'type': {'title': 'Type', 'default': 'ChatPromptValueConcrete', 'enum': ['ChatPromptValueConcrete'], 'type': 'string'}}, 'required': ['messages']}}}}], 'edges': [{'source': 0, 'target': 1}, {'source': 1, 'target': 2}]}}}}], 'partial_variables': {}}, 'name': 'ChatPromptTemplate', 'graph': {'nodes': [{'id': 0, 'type': 'schema', 'data': {'title': 'PromptInput', 'type': 'object', 'properties': {'prompt': {'title': 'Prompt', 'type': 'string'}}}}, {'id': 1, 'type': 'runnable', 'data': {'id': ['langchain', 'prompts', 'chat', 'ChatPromptTemplate'], 'name': 'ChatPromptTemplate'}}, {'id': 2, 'type': 'schema', 'data': {'title': 'ChatPromptTemplateOutput', 'anyOf': [{'$ref': '#/definitions/StringPromptValue'}, {'$ref': '#/definitions/ChatPromptValueConcrete'}], 'definitions': {'StringPromptValue': {'title': 'StringPromptValue', 'description': 'String prompt value.', 'type': 'object', 'properties': {'text': {'title': 'Text', 'type': 'string'}, 'type': {'title': 'Type', 'default': 'StringPromptValue', 'enum': ['StringPromptValue'], 'type': 'string'}}, 'required': ['text']}, 'AIMessage': {'title': 'AIMessage', 'description': 'Message from an AI.', 'type': 'object', 'properties': {'content': {'title': 'Content', 'anyOf': [{'type': 'string'}, {'type': 'array', 'items': {'anyOf': [{'type': 'string'}, {'type': 'object'}]}}]}, 'additional_kwargs': {'title': 'Additional Kwargs', 'type': 'object'}, 'response_metadata': {'title': 'Response Metadata', 'type': 'object'}, 'type': {'title': 'Type', 'default': 'ai', 'enum': ['ai'], 'type': 'string'}, 'name': {'title': 'Name', 'type': 'string'}, 'id': {'title': 'Id', 'type': 'string'}, 'example': {'title': 'Example', 'default': False, 'type': 'boolean'}}, 'required': ['content']}, 'HumanMessage': {'title': 'HumanMessage', 'description': 'Message from a human.', 'type': 'object', 'properties': {'content': {'title': 'Content', 'anyOf': [{'type': 'string'}, {'type': 'array', 'items': {'anyOf': [{'type': 'string'}, {'type': 'object'}]}}]}, 'additional_kwargs': {'title': 'Additional Kwargs', 'type': 'object'}, 'response_metadata': {'title': 'Response Metadata', 'type': 'object'}, 'type': {'title': 'Type', 'default': 'human', 'enum': ['human'], 'type': 'string'}, 'name': {'title': 'Name', 'type': 'string'}, 'id': {'title': 'Id', 'type': 'string'}, 'example': {'title': 'Example', 'default': False, 'type': 'boolean'}}, 'required': ['content']}, 'ChatMessage': {'title': 'ChatMessage', 'description': 'Message that can be assigned an arbitrary speaker (i.e. role).', 'type': 'object', 'properties': {'content': {'title': 'Content', 'anyOf': [{'type': 'string'}, {'type': 'array', 'items': {'anyOf': [{'type': 'string'}, {'type': 'object'}]}}]}, 'additional_kwargs': {'title': 'Additional Kwargs', 'type': 'object'}, 'response_metadata': {'title': 'Response Metadata', 'type': 'object'}, 'type': {'title': 'Type', 'default': 'chat', 'enum': ['chat'], 'type': 'string'}, 'name': {'title': 'Name', 'type': 'string'}, 'id': {'title': 'Id', 'type': 'string'}, 'role': {'title': 'Role', 'type': 'string'}}, 'required': ['content', 'role']}, 'SystemMessage': {'title': 'SystemMessage', 'description': 'Message for priming AI behavior, usually passed in as the first of a sequence\\nof input messages.', 'type': 'object', 'properties': {'content': {'title': 'Content', 'anyOf': [{'type': 'string'}, {'type': 'array', 'items': {'anyOf': [{'type': 'string'}, {'type': 'object'}]}}]}, 'additional_kwargs': {'title': 'Additional Kwargs', 'type': 'object'}, 'response_metadata': {'title': 'Response Metadata', 'type': 'object'}, 'type': {'title': 'Type', 'default': 'system', 'enum': ['system'], 'type': 'string'}, 'name': {'title': 'Name', 'type': 'string'}, 'id': {'title': 'Id', 'type': 'string'}}, 'required': ['content']}, 'FunctionMessage': {'title': 'FunctionMessage', 'description': 'Message for passing the result of executing a function back to a model.', 'type': 'object', 'properties': {'content': {'title': 'Content', 'anyOf': [{'type': 'string'}, {'type': 'array', 'items': {'anyOf': [{'type': 'string'}, {'type': 'object'}]}}]}, 'additional_kwargs': {'title': 'Additional Kwargs', 'type': 'object'}, 'response_metadata': {'title': 'Response Metadata', 'type': 'object'}, 'type': {'title': 'Type', 'default': 'function', 'enum': ['function'], 'type': 'string'}, 'name': {'title': 'Name', 'type': 'string'}, 'id': {'title': 'Id', 'type': 'string'}}, 'required': ['content', 'name']}, 'ToolMessage': {'title': 'ToolMessage', 'description': 'Message for passing the result of executing a tool back to a model.', 'type': 'object', 'properties': {'content': {'title': 'Content', 'anyOf': [{'type': 'string'}, {'type': 'array', 'items': {'anyOf': [{'type': 'string'}, {'type': 'object'}]}}]}, 'additional_kwargs': {'title': 'Additional Kwargs', 'type': 'object'}, 'response_metadata': {'title': 'Response Metadata', 'type': 'object'}, 'type': {'title': 'Type', 'default': 'tool', 'enum': ['tool'], 'type': 'string'}, 'name': {'title': 'Name', 'type': 'string'}, 'id': {'title': 'Id', 'type': 'string'}, 'tool_call_id': {'title': 'Tool Call Id', 'type': 'string'}}, 'required': ['content', 'tool_call_id']}, 'ChatPromptValueConcrete': {'title': 'ChatPromptValueConcrete', 'description': 'Chat prompt value which explicitly lists out the message types it accepts.\\nFor use in external schemas.', 'type': 'object', 'properties': {'messages': {'title': 'Messages', 'type': 'array', 'items': {'anyOf': [{'$ref': '#/definitions/AIMessage'}, {'$ref': '#/definitions/HumanMessage'}, {'$ref': '#/definitions/ChatMessage'}, {'$ref': '#/definitions/SystemMessage'}, {'$ref': '#/definitions/FunctionMessage'}, {'$ref': '#/definitions/ToolMessage'}]}}, 'type': {'title': 'Type', 'default': 'ChatPromptValueConcrete', 'enum': ['ChatPromptValueConcrete'], 'type': 'string'}}, 'required': ['messages']}}}}], 'edges': [{'source': 0, 'target': 1}, {'source': 1, 'target': 2}]}}], 'last': {'lc': 1, 'type': 'constructor', 'id': ['langchain', 'chat_models', 'openai', 'ChatOpenAI'], 'kwargs': {'model_name': 'gpt-3.5-turbo', 'temperature': 0.0, 'openai_api_key': {'lc': 1, 'type': 'secret', 'id': ['OPENAI_API_KEY']}}, 'name': 'ChatOpenAI', 'graph': {'nodes': [{'id': 0, 'type': 'schema', 'data': {'title': 'ChatOpenAIInput', 'anyOf': [{'type': 'string'}, {'$ref': '#/definitions/StringPromptValue'}, {'$ref': '#/definitions/ChatPromptValueConcrete'}, {'type': 'array', 'items': {'anyOf': [{'$ref': '#/definitions/AIMessage'}, {'$ref': '#/definitions/HumanMessage'}, {'$ref': '#/definitions/ChatMessage'}, {'$ref': '#/definitions/SystemMessage'}, {'$ref': '#/definitions/FunctionMessage'}, {'$ref': '#/definitions/ToolMessage'}]}}], 'definitions': {'StringPromptValue': {'title': 'StringPromptValue', 'description': 'String prompt value.', 'type': 'object', 'properties': {'text': {'title': 'Text', 'type': 'string'}, 'type': {'title': 'Type', 'default': 'StringPromptValue', 'enum': ['StringPromptValue'], 'type': 'string'}}, 'required': ['text']}, 'AIMessage': {'title': 'AIMessage', 'description': 'Message from an AI.', 'type': 'object', 'properties': {'content': {'title': 'Content', 'anyOf': [{'type': 'string'}, {'type': 'array', 'items': {'anyOf': [{'type': 'string'}, {'type': 'object'}]}}]}, 'additional_kwargs': {'title': 'Additional Kwargs', 'type': 'object'}, 'response_metadata': {'title': 'Response Metadata', 'type': 'object'}, 'type': {'title': 'Type', 'default': 'ai', 'enum': ['ai'], 'type': 'string'}, 'name': {'title': 'Name', 'type': 'string'}, 'id': {'title': 'Id', 'type': 'string'}, 'example': {'title': 'Example', 'default': False, 'type': 'boolean'}}, 'required': ['content']}, 'HumanMessage': {'title': 'HumanMessage', 'description': 'Message from a human.', 'type': 'object', 'properties': {'content': {'title': 'Content', 'anyOf': [{'type': 'string'}, {'type': 'array', 'items': {'anyOf': [{'type': 'string'}, {'type': 'object'}]}}]}, 'additional_kwargs': {'title': 'Additional Kwargs', 'type': 'object'}, 'response_metadata': {'title': 'Response Metadata', 'type': 'object'}, 'type': {'title': 'Type', 'default': 'human', 'enum': ['human'], 'type': 'string'}, 'name': {'title': 'Name', 'type': 'string'}, 'id': {'title': 'Id', 'type': 'string'}, 'example': {'title': 'Example', 'default': False, 'type': 'boolean'}}, 'required': ['content']}, 'ChatMessage': {'title': 'ChatMessage', 'description': 'Message that can be assigned an arbitrary speaker (i.e. role).', 'type': 'object', 'properties': {'content': {'title': 'Content', 'anyOf': [{'type': 'string'}, {'type': 'array', 'items': {'anyOf': [{'type': 'string'}, {'type': 'object'}]}}]}, 'additional_kwargs': {'title': 'Additional Kwargs', 'type': 'object'}, 'response_metadata': {'title': 'Response Metadata', 'type': 'object'}, 'type': {'title': 'Type', 'default': 'chat', 'enum': ['chat'], 'type': 'string'}, 'name': {'title': 'Name', 'type': 'string'}, 'id': {'title': 'Id', 'type': 'string'}, 'role': {'title': 'Role', 'type': 'string'}}, 'required': ['content', 'role']}, 'SystemMessage': {'title': 'SystemMessage', 'description': 'Message for priming AI behavior, usually passed in as the first of a sequence\\nof input messages.', 'type': 'object', 'properties': {'content': {'title': 'Content', 'anyOf': [{'type': 'string'}, {'type': 'array', 'items': {'anyOf': [{'type': 'string'}, {'type': 'object'}]}}]}, 'additional_kwargs': {'title': 'Additional Kwargs', 'type': 'object'}, 'response_metadata': {'title': 'Response Metadata', 'type': 'object'}, 'type': {'title': 'Type', 'default': 'system', 'enum': ['system'], 'type': 'string'}, 'name': {'title': 'Name', 'type': 'string'}, 'id': {'title': 'Id', 'type': 'string'}}, 'required': ['content']}, 'FunctionMessage': {'title': 'FunctionMessage', 'description': 'Message for passing the result of executing a function back to a model.', 'type': 'object', 'properties': {'content': {'title': 'Content', 'anyOf': [{'type': 'string'}, {'type': 'array', 'items': {'anyOf': [{'type': 'string'}, {'type': 'object'}]}}]}, 'additional_kwargs': {'title': 'Additional Kwargs', 'type': 'object'}, 'response_metadata': {'title': 'Response Metadata', 'type': 'object'}, 'type': {'title': 'Type', 'default': 'function', 'enum': ['function'], 'type': 'string'}, 'name': {'title': 'Name', 'type': 'string'}, 'id': {'title': 'Id', 'type': 'string'}}, 'required': ['content', 'name']}, 'ToolMessage': {'title': 'ToolMessage', 'description': 'Message for passing the result of executing a tool back to a model.', 'type': 'object', 'properties': {'content': {'title': 'Content', 'anyOf': [{'type': 'string'}, {'type': 'array', 'items': {'anyOf': [{'type': 'string'}, {'type': 'object'}]}}]}, 'additional_kwargs': {'title': 'Additional Kwargs', 'type': 'object'}, 'response_metadata': {'title': 'Response Metadata', 'type': 'object'}, 'type': {'title': 'Type', 'default': 'tool', 'enum': ['tool'], 'type': 'string'}, 'name': {'title': 'Name', 'type': 'string'}, 'id': {'title': 'Id', 'type': 'string'}, 'tool_call_id': {'title': 'Tool Call Id', 'type': 'string'}}, 'required': ['content', 'tool_call_id']}, 'ChatPromptValueConcrete': {'title': 'ChatPromptValueConcrete', 'description': 'Chat prompt value which explicitly lists out the message types it accepts.\\nFor use in external schemas.', 'type': 'object', 'properties': {'messages': {'title': 'Messages', 'type': 'array', 'items': {'anyOf': [{'$ref': '#/definitions/AIMessage'}, {'$ref': '#/definitions/HumanMessage'}, {'$ref': '#/definitions/ChatMessage'}, {'$ref': '#/definitions/SystemMessage'}, {'$ref': '#/definitions/FunctionMessage'}, {'$ref': '#/definitions/ToolMessage'}]}}, 'type': {'title': 'Type', 'default': 'ChatPromptValueConcrete', 'enum': ['ChatPromptValueConcrete'], 'type': 'string'}}, 'required': ['messages']}}}}, {'id': 1, 'type': 'runnable', 'data': {'id': ['langchain', 'chat_models', 'openai', 'ChatOpenAI'], 'name': 'ChatOpenAI'}}, {'id': 2, 'type': 'schema', 'data': {'title': 'ChatOpenAIOutput', 'anyOf': [{'$ref': '#/definitions/AIMessage'}, {'$ref': '#/definitions/HumanMessage'}, {'$ref': '#/definitions/ChatMessage'}, {'$ref': '#/definitions/SystemMessage'}, {'$ref': '#/definitions/FunctionMessage'}, {'$ref': '#/definitions/ToolMessage'}], 'definitions': {'AIMessage': {'title': 'AIMessage', 'description': 'Message from an AI.', 'type': 'object', 'properties': {'content': {'title': 'Content', 'anyOf': [{'type': 'string'}, {'type': 'array', 'items': {'anyOf': [{'type': 'string'}, {'type': 'object'}]}}]}, 'additional_kwargs': {'title': 'Additional Kwargs', 'type': 'object'}, 'response_metadata': {'title': 'Response Metadata', 'type': 'object'}, 'type': {'title': 'Type', 'default': 'ai', 'enum': ['ai'], 'type': 'string'}, 'name': {'title': 'Name', 'type': 'string'}, 'id': {'title': 'Id', 'type': 'string'}, 'example': {'title': 'Example', 'default': False, 'type': 'boolean'}}, 'required': ['content']}, 'HumanMessage': {'title': 'HumanMessage', 'description': 'Message from a human.', 'type': 'object', 'properties': {'content': {'title': 'Content', 'anyOf': [{'type': 'string'}, {'type': 'array', 'items': {'anyOf': [{'type': 'string'}, {'type': 'object'}]}}]}, 'additional_kwargs': {'title': 'Additional Kwargs', 'type': 'object'}, 'response_metadata': {'title': 'Response Metadata', 'type': 'object'}, 'type': {'title': 'Type', 'default': 'human', 'enum': ['human'], 'type': 'string'}, 'name': {'title': 'Name', 'type': 'string'}, 'id': {'title': 'Id', 'type': 'string'}, 'example': {'title': 'Example', 'default': False, 'type': 'boolean'}}, 'required': ['content']}, 'ChatMessage': {'title': 'ChatMessage', 'description': 'Message that can be assigned an arbitrary speaker (i.e. role).', 'type': 'object', 'properties': {'content': {'title': 'Content', 'anyOf': [{'type': 'string'}, {'type': 'array', 'items': {'anyOf': [{'type': 'string'}, {'type': 'object'}]}}]}, 'additional_kwargs': {'title': 'Additional Kwargs', 'type': 'object'}, 'response_metadata': {'title': 'Response Metadata', 'type': 'object'}, 'type': {'title': 'Type', 'default': 'chat', 'enum': ['chat'], 'type': 'string'}, 'name': {'title': 'Name', 'type': 'string'}, 'id': {'title': 'Id', 'type': 'string'}, 'role': {'title': 'Role', 'type': 'string'}}, 'required': ['content', 'role']}, 'SystemMessage': {'title': 'SystemMessage', 'description': 'Message for priming AI behavior, usually passed in as the first of a sequence\\nof input messages.', 'type': 'object', 'properties': {'content': {'title': 'Content', 'anyOf': [{'type': 'string'}, {'type': 'array', 'items': {'anyOf': [{'type': 'string'}, {'type': 'object'}]}}]}, 'additional_kwargs': {'title': 'Additional Kwargs', 'type': 'object'}, 'response_metadata': {'title': 'Response Metadata', 'type': 'object'}, 'type': {'title': 'Type', 'default': 'system', 'enum': ['system'], 'type': 'string'}, 'name': {'title': 'Name', 'type': 'string'}, 'id': {'title': 'Id', 'type': 'string'}}, 'required': ['content']}, 'FunctionMessage': {'title': 'FunctionMessage', 'description': 'Message for passing the result of executing a function back to a model.', 'type': 'object', 'properties': {'content': {'title': 'Content', 'anyOf': [{'type': 'string'}, {'type': 'array', 'items': {'anyOf': [{'type': 'string'}, {'type': 'object'}]}}]}, 'additional_kwargs': {'title': 'Additional Kwargs', 'type': 'object'}, 'response_metadata': {'title': 'Response Metadata', 'type': 'object'}, 'type': {'title': 'Type', 'default': 'function', 'enum': ['function'], 'type': 'string'}, 'name': {'title': 'Name', 'type': 'string'}, 'id': {'title': 'Id', 'type': 'string'}}, 'required': ['content', 'name']}, 'ToolMessage': {'title': 'ToolMessage', 'description': 'Message for passing the result of executing a tool back to a model.', 'type': 'object', 'properties': {'content': {'title': 'Content', 'anyOf': [{'type': 'string'}, {'type': 'array', 'items': {'anyOf': [{'type': 'string'}, {'type': 'object'}]}}]}, 'additional_kwargs': {'title': 'Additional Kwargs', 'type': 'object'}, 'response_metadata': {'title': 'Response Metadata', 'type': 'object'}, 'type': {'title': 'Type', 'default': 'tool', 'enum': ['tool'], 'type': 'string'}, 'name': {'title': 'Name', 'type': 'string'}, 'id': {'title': 'Id', 'type': 'string'}, 'tool_call_id': {'title': 'Tool Call Id', 'type': 'string'}}, 'required': ['content', 'tool_call_id']}}}}], 'edges': [{'source': 0, 'target': 1}, {'source': 1, 'target': 2}]}}, 'name': None}, 'name': 'RunnableSequence', 'graph': {'nodes': [{'id': 0, 'type': 'schema', 'data': {'title': 'PromptInput', 'type': 'object', 'properties': {'question': {'title': 'Question', 'type': 'string'}}}}, {'id': 1, 'type': 'runnable', 'data': {'id': ['langchain', 'prompts', 'chat', 'ChatPromptTemplate'], 'name': 'ChatPromptTemplate'}}, {'id': 2, 'type': 'runnable', 'data': {'id': ['langchain_core', 'runnables', 'base', 'RunnableLambda'], 'name': 'retrieve_text'}}, {'id': 3, 'type': 'runnable', 'data': {'id': ['langchain', 'prompts', 'chat', 'ChatPromptTemplate'], 'name': 'ChatPromptTemplate'}}, {'id': 4, 'type': 'runnable', 'data': {'id': ['langchain', 'chat_models', 'openai', 'ChatOpenAI'], 'name': 'ChatOpenAI'}}, {'id': 5, 'type': 'schema', 'data': {'title': 'ChatOpenAIOutput', 'anyOf': [{'$ref': '#/definitions/AIMessage'}, {'$ref': '#/definitions/HumanMessage'}, {'$ref': '#/definitions/ChatMessage'}, {'$ref': '#/definitions/SystemMessage'}, {'$ref': '#/definitions/FunctionMessage'}, {'$ref': '#/definitions/ToolMessage'}], 'definitions': {'AIMessage': {'title': 'AIMessage', 'description': 'Message from an AI.', 'type': 'object', 'properties': {'content': {'title': 'Content', 'anyOf': [{'type': 'string'}, {'type': 'array', 'items': {'anyOf': [{'type': 'string'}, {'type': 'object'}]}}]}, 'additional_kwargs': {'title': 'Additional Kwargs', 'type': 'object'}, 'response_metadata': {'title': 'Response Metadata', 'type': 'object'}, 'type': {'title': 'Type', 'default': 'ai', 'enum': ['ai'], 'type': 'string'}, 'name': {'title': 'Name', 'type': 'string'}, 'id': {'title': 'Id', 'type': 'string'}, 'example': {'title': 'Example', 'default': False, 'type': 'boolean'}}, 'required': ['content']}, 'HumanMessage': {'title': 'HumanMessage', 'description': 'Message from a human.', 'type': 'object', 'properties': {'content': {'title': 'Content', 'anyOf': [{'type': 'string'}, {'type': 'array', 'items': {'anyOf': [{'type': 'string'}, {'type': 'object'}]}}]}, 'additional_kwargs': {'title': 'Additional Kwargs', 'type': 'object'}, 'response_metadata': {'title': 'Response Metadata', 'type': 'object'}, 'type': {'title': 'Type', 'default': 'human', 'enum': ['human'], 'type': 'string'}, 'name': {'title': 'Name', 'type': 'string'}, 'id': {'title': 'Id', 'type': 'string'}, 'example': {'title': 'Example', 'default': False, 'type': 'boolean'}}, 'required': ['content']}, 'ChatMessage': {'title': 'ChatMessage', 'description': 'Message that can be assigned an arbitrary speaker (i.e. role).', 'type': 'object', 'properties': {'content': {'title': 'Content', 'anyOf': [{'type': 'string'}, {'type': 'array', 'items': {'anyOf': [{'type': 'string'}, {'type': 'object'}]}}]}, 'additional_kwargs': {'title': 'Additional Kwargs', 'type': 'object'}, 'response_metadata': {'title': 'Response Metadata', 'type': 'object'}, 'type': {'title': 'Type', 'default': 'chat', 'enum': ['chat'], 'type': 'string'}, 'name': {'title': 'Name', 'type': 'string'}, 'id': {'title': 'Id', 'type': 'string'}, 'role': {'title': 'Role', 'type': 'string'}}, 'required': ['content', 'role']}, 'SystemMessage': {'title': 'SystemMessage', 'description': 'Message for priming AI behavior, usually passed in as the first of a sequence\\nof input messages.', 'type': 'object', 'properties': {'content': {'title': 'Content', 'anyOf': [{'type': 'string'}, {'type': 'array', 'items': {'anyOf': [{'type': 'string'}, {'type': 'object'}]}}]}, 'additional_kwargs': {'title': 'Additional Kwargs', 'type': 'object'}, 'response_metadata': {'title': 'Response Metadata', 'type': 'object'}, 'type': {'title': 'Type', 'default': 'system', 'enum': ['system'], 'type': 'string'}, 'name': {'title': 'Name', 'type': 'string'}, 'id': {'title': 'Id', 'type': 'string'}}, 'required': ['content']}, 'FunctionMessage': {'title': 'FunctionMessage', 'description': 'Message for passing the result of executing a function back to a model.', 'type': 'object', 'properties': {'content': {'title': 'Content', 'anyOf': [{'type': 'string'}, {'type': 'array', 'items': {'anyOf': [{'type': 'string'}, {'type': 'object'}]}}]}, 'additional_kwargs': {'title': 'Additional Kwargs', 'type': 'object'}, 'response_metadata': {'title': 'Response Metadata', 'type': 'object'}, 'type': {'title': 'Type', 'default': 'function', 'enum': ['function'], 'type': 'string'}, 'name': {'title': 'Name', 'type': 'string'}, 'id': {'title': 'Id', 'type': 'string'}}, 'required': ['content', 'name']}, 'ToolMessage': {'title': 'ToolMessage', 'description': 'Message for passing the result of executing a tool back to a model.', 'type': 'object', 'properties': {'content': {'title': 'Content', 'anyOf': [{'type': 'string'}, {'type': 'array', 'items': {'anyOf': [{'type': 'string'}, {'type': 'object'}]}}]}, 'additional_kwargs': {'title': 'Additional Kwargs', 'type': 'object'}, 'response_metadata': {'title': 'Response Metadata', 'type': 'object'}, 'type': {'title': 'Type', 'default': 'tool', 'enum': ['tool'], 'type': 'string'}, 'name': {'title': 'Name', 'type': 'string'}, 'id': {'title': 'Id', 'type': 'string'}, 'tool_call_id': {'title': 'Tool Call Id', 'type': 'string'}}, 'required': ['content', 'tool_call_id']}}}}], 'edges': [{'source': 0, 'target': 1}, {'source': 1, 'target': 2}, {'source': 2, 'target': 3}, {'source': 4, 'target': 5}, {'source': 3, 'target': 4}]}}\n",
      "Inputs: \n",
      "{'question': 'What is meant by computational finance?'}\n",
      "Serialized:\n",
      "{'lc': 1, 'type': 'constructor', 'id': ['langchain', 'prompts', 'chat', 'ChatPromptTemplate'], 'kwargs': {'input_variables': ['question'], 'messages': [{'lc': 1, 'type': 'constructor', 'id': ['langchain', 'prompts', 'chat', 'HumanMessagePromptTemplate'], 'kwargs': {'prompt': {'lc': 1, 'type': 'constructor', 'id': ['langchain', 'prompts', 'prompt', 'PromptTemplate'], 'kwargs': {'input_variables': ['question'], 'template': '\\n    Question: {question} \\n    Answer:\\n    ', 'template_format': 'f-string', 'partial_variables': {}}, 'name': 'PromptTemplate', 'graph': {'nodes': [{'id': 0, 'type': 'schema', 'data': {'title': 'PromptInput', 'type': 'object', 'properties': {'question': {'title': 'Question', 'type': 'string'}}}}, {'id': 1, 'type': 'runnable', 'data': {'id': ['langchain', 'prompts', 'prompt', 'PromptTemplate'], 'name': 'PromptTemplate'}}, {'id': 2, 'type': 'schema', 'data': {'title': 'PromptTemplateOutput', 'anyOf': [{'$ref': '#/definitions/StringPromptValue'}, {'$ref': '#/definitions/ChatPromptValueConcrete'}], 'definitions': {'StringPromptValue': {'title': 'StringPromptValue', 'description': 'String prompt value.', 'type': 'object', 'properties': {'text': {'title': 'Text', 'type': 'string'}, 'type': {'title': 'Type', 'default': 'StringPromptValue', 'enum': ['StringPromptValue'], 'type': 'string'}}, 'required': ['text']}, 'AIMessage': {'title': 'AIMessage', 'description': 'Message from an AI.', 'type': 'object', 'properties': {'content': {'title': 'Content', 'anyOf': [{'type': 'string'}, {'type': 'array', 'items': {'anyOf': [{'type': 'string'}, {'type': 'object'}]}}]}, 'additional_kwargs': {'title': 'Additional Kwargs', 'type': 'object'}, 'response_metadata': {'title': 'Response Metadata', 'type': 'object'}, 'type': {'title': 'Type', 'default': 'ai', 'enum': ['ai'], 'type': 'string'}, 'name': {'title': 'Name', 'type': 'string'}, 'id': {'title': 'Id', 'type': 'string'}, 'example': {'title': 'Example', 'default': False, 'type': 'boolean'}}, 'required': ['content']}, 'HumanMessage': {'title': 'HumanMessage', 'description': 'Message from a human.', 'type': 'object', 'properties': {'content': {'title': 'Content', 'anyOf': [{'type': 'string'}, {'type': 'array', 'items': {'anyOf': [{'type': 'string'}, {'type': 'object'}]}}]}, 'additional_kwargs': {'title': 'Additional Kwargs', 'type': 'object'}, 'response_metadata': {'title': 'Response Metadata', 'type': 'object'}, 'type': {'title': 'Type', 'default': 'human', 'enum': ['human'], 'type': 'string'}, 'name': {'title': 'Name', 'type': 'string'}, 'id': {'title': 'Id', 'type': 'string'}, 'example': {'title': 'Example', 'default': False, 'type': 'boolean'}}, 'required': ['content']}, 'ChatMessage': {'title': 'ChatMessage', 'description': 'Message that can be assigned an arbitrary speaker (i.e. role).', 'type': 'object', 'properties': {'content': {'title': 'Content', 'anyOf': [{'type': 'string'}, {'type': 'array', 'items': {'anyOf': [{'type': 'string'}, {'type': 'object'}]}}]}, 'additional_kwargs': {'title': 'Additional Kwargs', 'type': 'object'}, 'response_metadata': {'title': 'Response Metadata', 'type': 'object'}, 'type': {'title': 'Type', 'default': 'chat', 'enum': ['chat'], 'type': 'string'}, 'name': {'title': 'Name', 'type': 'string'}, 'id': {'title': 'Id', 'type': 'string'}, 'role': {'title': 'Role', 'type': 'string'}}, 'required': ['content', 'role']}, 'SystemMessage': {'title': 'SystemMessage', 'description': 'Message for priming AI behavior, usually passed in as the first of a sequence\\nof input messages.', 'type': 'object', 'properties': {'content': {'title': 'Content', 'anyOf': [{'type': 'string'}, {'type': 'array', 'items': {'anyOf': [{'type': 'string'}, {'type': 'object'}]}}]}, 'additional_kwargs': {'title': 'Additional Kwargs', 'type': 'object'}, 'response_metadata': {'title': 'Response Metadata', 'type': 'object'}, 'type': {'title': 'Type', 'default': 'system', 'enum': ['system'], 'type': 'string'}, 'name': {'title': 'Name', 'type': 'string'}, 'id': {'title': 'Id', 'type': 'string'}}, 'required': ['content']}, 'FunctionMessage': {'title': 'FunctionMessage', 'description': 'Message for passing the result of executing a function back to a model.', 'type': 'object', 'properties': {'content': {'title': 'Content', 'anyOf': [{'type': 'string'}, {'type': 'array', 'items': {'anyOf': [{'type': 'string'}, {'type': 'object'}]}}]}, 'additional_kwargs': {'title': 'Additional Kwargs', 'type': 'object'}, 'response_metadata': {'title': 'Response Metadata', 'type': 'object'}, 'type': {'title': 'Type', 'default': 'function', 'enum': ['function'], 'type': 'string'}, 'name': {'title': 'Name', 'type': 'string'}, 'id': {'title': 'Id', 'type': 'string'}}, 'required': ['content', 'name']}, 'ToolMessage': {'title': 'ToolMessage', 'description': 'Message for passing the result of executing a tool back to a model.', 'type': 'object', 'properties': {'content': {'title': 'Content', 'anyOf': [{'type': 'string'}, {'type': 'array', 'items': {'anyOf': [{'type': 'string'}, {'type': 'object'}]}}]}, 'additional_kwargs': {'title': 'Additional Kwargs', 'type': 'object'}, 'response_metadata': {'title': 'Response Metadata', 'type': 'object'}, 'type': {'title': 'Type', 'default': 'tool', 'enum': ['tool'], 'type': 'string'}, 'name': {'title': 'Name', 'type': 'string'}, 'id': {'title': 'Id', 'type': 'string'}, 'tool_call_id': {'title': 'Tool Call Id', 'type': 'string'}}, 'required': ['content', 'tool_call_id']}, 'ChatPromptValueConcrete': {'title': 'ChatPromptValueConcrete', 'description': 'Chat prompt value which explicitly lists out the message types it accepts.\\nFor use in external schemas.', 'type': 'object', 'properties': {'messages': {'title': 'Messages', 'type': 'array', 'items': {'anyOf': [{'$ref': '#/definitions/AIMessage'}, {'$ref': '#/definitions/HumanMessage'}, {'$ref': '#/definitions/ChatMessage'}, {'$ref': '#/definitions/SystemMessage'}, {'$ref': '#/definitions/FunctionMessage'}, {'$ref': '#/definitions/ToolMessage'}]}}, 'type': {'title': 'Type', 'default': 'ChatPromptValueConcrete', 'enum': ['ChatPromptValueConcrete'], 'type': 'string'}}, 'required': ['messages']}}}}], 'edges': [{'source': 0, 'target': 1}, {'source': 1, 'target': 2}]}}}}], 'partial_variables': {}}, 'name': 'ChatPromptTemplate', 'graph': {'nodes': [{'id': 0, 'type': 'schema', 'data': {'title': 'PromptInput', 'type': 'object', 'properties': {'question': {'title': 'Question', 'type': 'string'}}}}, {'id': 1, 'type': 'runnable', 'data': {'id': ['langchain', 'prompts', 'chat', 'ChatPromptTemplate'], 'name': 'ChatPromptTemplate'}}, {'id': 2, 'type': 'schema', 'data': {'title': 'ChatPromptTemplateOutput', 'anyOf': [{'$ref': '#/definitions/StringPromptValue'}, {'$ref': '#/definitions/ChatPromptValueConcrete'}], 'definitions': {'StringPromptValue': {'title': 'StringPromptValue', 'description': 'String prompt value.', 'type': 'object', 'properties': {'text': {'title': 'Text', 'type': 'string'}, 'type': {'title': 'Type', 'default': 'StringPromptValue', 'enum': ['StringPromptValue'], 'type': 'string'}}, 'required': ['text']}, 'AIMessage': {'title': 'AIMessage', 'description': 'Message from an AI.', 'type': 'object', 'properties': {'content': {'title': 'Content', 'anyOf': [{'type': 'string'}, {'type': 'array', 'items': {'anyOf': [{'type': 'string'}, {'type': 'object'}]}}]}, 'additional_kwargs': {'title': 'Additional Kwargs', 'type': 'object'}, 'response_metadata': {'title': 'Response Metadata', 'type': 'object'}, 'type': {'title': 'Type', 'default': 'ai', 'enum': ['ai'], 'type': 'string'}, 'name': {'title': 'Name', 'type': 'string'}, 'id': {'title': 'Id', 'type': 'string'}, 'example': {'title': 'Example', 'default': False, 'type': 'boolean'}}, 'required': ['content']}, 'HumanMessage': {'title': 'HumanMessage', 'description': 'Message from a human.', 'type': 'object', 'properties': {'content': {'title': 'Content', 'anyOf': [{'type': 'string'}, {'type': 'array', 'items': {'anyOf': [{'type': 'string'}, {'type': 'object'}]}}]}, 'additional_kwargs': {'title': 'Additional Kwargs', 'type': 'object'}, 'response_metadata': {'title': 'Response Metadata', 'type': 'object'}, 'type': {'title': 'Type', 'default': 'human', 'enum': ['human'], 'type': 'string'}, 'name': {'title': 'Name', 'type': 'string'}, 'id': {'title': 'Id', 'type': 'string'}, 'example': {'title': 'Example', 'default': False, 'type': 'boolean'}}, 'required': ['content']}, 'ChatMessage': {'title': 'ChatMessage', 'description': 'Message that can be assigned an arbitrary speaker (i.e. role).', 'type': 'object', 'properties': {'content': {'title': 'Content', 'anyOf': [{'type': 'string'}, {'type': 'array', 'items': {'anyOf': [{'type': 'string'}, {'type': 'object'}]}}]}, 'additional_kwargs': {'title': 'Additional Kwargs', 'type': 'object'}, 'response_metadata': {'title': 'Response Metadata', 'type': 'object'}, 'type': {'title': 'Type', 'default': 'chat', 'enum': ['chat'], 'type': 'string'}, 'name': {'title': 'Name', 'type': 'string'}, 'id': {'title': 'Id', 'type': 'string'}, 'role': {'title': 'Role', 'type': 'string'}}, 'required': ['content', 'role']}, 'SystemMessage': {'title': 'SystemMessage', 'description': 'Message for priming AI behavior, usually passed in as the first of a sequence\\nof input messages.', 'type': 'object', 'properties': {'content': {'title': 'Content', 'anyOf': [{'type': 'string'}, {'type': 'array', 'items': {'anyOf': [{'type': 'string'}, {'type': 'object'}]}}]}, 'additional_kwargs': {'title': 'Additional Kwargs', 'type': 'object'}, 'response_metadata': {'title': 'Response Metadata', 'type': 'object'}, 'type': {'title': 'Type', 'default': 'system', 'enum': ['system'], 'type': 'string'}, 'name': {'title': 'Name', 'type': 'string'}, 'id': {'title': 'Id', 'type': 'string'}}, 'required': ['content']}, 'FunctionMessage': {'title': 'FunctionMessage', 'description': 'Message for passing the result of executing a function back to a model.', 'type': 'object', 'properties': {'content': {'title': 'Content', 'anyOf': [{'type': 'string'}, {'type': 'array', 'items': {'anyOf': [{'type': 'string'}, {'type': 'object'}]}}]}, 'additional_kwargs': {'title': 'Additional Kwargs', 'type': 'object'}, 'response_metadata': {'title': 'Response Metadata', 'type': 'object'}, 'type': {'title': 'Type', 'default': 'function', 'enum': ['function'], 'type': 'string'}, 'name': {'title': 'Name', 'type': 'string'}, 'id': {'title': 'Id', 'type': 'string'}}, 'required': ['content', 'name']}, 'ToolMessage': {'title': 'ToolMessage', 'description': 'Message for passing the result of executing a tool back to a model.', 'type': 'object', 'properties': {'content': {'title': 'Content', 'anyOf': [{'type': 'string'}, {'type': 'array', 'items': {'anyOf': [{'type': 'string'}, {'type': 'object'}]}}]}, 'additional_kwargs': {'title': 'Additional Kwargs', 'type': 'object'}, 'response_metadata': {'title': 'Response Metadata', 'type': 'object'}, 'type': {'title': 'Type', 'default': 'tool', 'enum': ['tool'], 'type': 'string'}, 'name': {'title': 'Name', 'type': 'string'}, 'id': {'title': 'Id', 'type': 'string'}, 'tool_call_id': {'title': 'Tool Call Id', 'type': 'string'}}, 'required': ['content', 'tool_call_id']}, 'ChatPromptValueConcrete': {'title': 'ChatPromptValueConcrete', 'description': 'Chat prompt value which explicitly lists out the message types it accepts.\\nFor use in external schemas.', 'type': 'object', 'properties': {'messages': {'title': 'Messages', 'type': 'array', 'items': {'anyOf': [{'$ref': '#/definitions/AIMessage'}, {'$ref': '#/definitions/HumanMessage'}, {'$ref': '#/definitions/ChatMessage'}, {'$ref': '#/definitions/SystemMessage'}, {'$ref': '#/definitions/FunctionMessage'}, {'$ref': '#/definitions/ToolMessage'}]}}, 'type': {'title': 'Type', 'default': 'ChatPromptValueConcrete', 'enum': ['ChatPromptValueConcrete'], 'type': 'string'}}, 'required': ['messages']}}}}], 'edges': [{'source': 0, 'target': 1}, {'source': 1, 'target': 2}]}}\n",
      "Inputs: \n",
      "messages=[HumanMessage(content='\\n    Question: What is meant by computational finance? \\n    Answer:\\n    ')]\n",
      "Serialized:\n",
      "{'lc': 1, 'type': 'not_implemented', 'id': ['langchain_core', 'runnables', 'base', 'RunnableLambda'], 'repr': 'RunnableLambda(retrieve_text)'}\n",
      "Inputs: \n",
      "{'prompt': '\\n    Question: What is meant by computational finance? \\n    Answer:\\n    '}\n",
      "Serialized:\n",
      "{'lc': 1, 'type': 'constructor', 'id': ['langchain', 'prompts', 'chat', 'ChatPromptTemplate'], 'kwargs': {'input_variables': ['prompt'], 'messages': [{'lc': 1, 'type': 'constructor', 'id': ['langchain', 'prompts', 'chat', 'HumanMessagePromptTemplate'], 'kwargs': {'prompt': {'lc': 1, 'type': 'constructor', 'id': ['langchain', 'prompts', 'prompt', 'PromptTemplate'], 'kwargs': {'input_variables': ['prompt'], 'template': 'You are an assistant that helps answer questions. \\n    {prompt}\\n    ', 'template_format': 'f-string', 'partial_variables': {}}, 'name': 'PromptTemplate', 'graph': {'nodes': [{'id': 0, 'type': 'schema', 'data': {'title': 'PromptInput', 'type': 'object', 'properties': {'prompt': {'title': 'Prompt', 'type': 'string'}}}}, {'id': 1, 'type': 'runnable', 'data': {'id': ['langchain', 'prompts', 'prompt', 'PromptTemplate'], 'name': 'PromptTemplate'}}, {'id': 2, 'type': 'schema', 'data': {'title': 'PromptTemplateOutput', 'anyOf': [{'$ref': '#/definitions/StringPromptValue'}, {'$ref': '#/definitions/ChatPromptValueConcrete'}], 'definitions': {'StringPromptValue': {'title': 'StringPromptValue', 'description': 'String prompt value.', 'type': 'object', 'properties': {'text': {'title': 'Text', 'type': 'string'}, 'type': {'title': 'Type', 'default': 'StringPromptValue', 'enum': ['StringPromptValue'], 'type': 'string'}}, 'required': ['text']}, 'AIMessage': {'title': 'AIMessage', 'description': 'Message from an AI.', 'type': 'object', 'properties': {'content': {'title': 'Content', 'anyOf': [{'type': 'string'}, {'type': 'array', 'items': {'anyOf': [{'type': 'string'}, {'type': 'object'}]}}]}, 'additional_kwargs': {'title': 'Additional Kwargs', 'type': 'object'}, 'response_metadata': {'title': 'Response Metadata', 'type': 'object'}, 'type': {'title': 'Type', 'default': 'ai', 'enum': ['ai'], 'type': 'string'}, 'name': {'title': 'Name', 'type': 'string'}, 'id': {'title': 'Id', 'type': 'string'}, 'example': {'title': 'Example', 'default': False, 'type': 'boolean'}}, 'required': ['content']}, 'HumanMessage': {'title': 'HumanMessage', 'description': 'Message from a human.', 'type': 'object', 'properties': {'content': {'title': 'Content', 'anyOf': [{'type': 'string'}, {'type': 'array', 'items': {'anyOf': [{'type': 'string'}, {'type': 'object'}]}}]}, 'additional_kwargs': {'title': 'Additional Kwargs', 'type': 'object'}, 'response_metadata': {'title': 'Response Metadata', 'type': 'object'}, 'type': {'title': 'Type', 'default': 'human', 'enum': ['human'], 'type': 'string'}, 'name': {'title': 'Name', 'type': 'string'}, 'id': {'title': 'Id', 'type': 'string'}, 'example': {'title': 'Example', 'default': False, 'type': 'boolean'}}, 'required': ['content']}, 'ChatMessage': {'title': 'ChatMessage', 'description': 'Message that can be assigned an arbitrary speaker (i.e. role).', 'type': 'object', 'properties': {'content': {'title': 'Content', 'anyOf': [{'type': 'string'}, {'type': 'array', 'items': {'anyOf': [{'type': 'string'}, {'type': 'object'}]}}]}, 'additional_kwargs': {'title': 'Additional Kwargs', 'type': 'object'}, 'response_metadata': {'title': 'Response Metadata', 'type': 'object'}, 'type': {'title': 'Type', 'default': 'chat', 'enum': ['chat'], 'type': 'string'}, 'name': {'title': 'Name', 'type': 'string'}, 'id': {'title': 'Id', 'type': 'string'}, 'role': {'title': 'Role', 'type': 'string'}}, 'required': ['content', 'role']}, 'SystemMessage': {'title': 'SystemMessage', 'description': 'Message for priming AI behavior, usually passed in as the first of a sequence\\nof input messages.', 'type': 'object', 'properties': {'content': {'title': 'Content', 'anyOf': [{'type': 'string'}, {'type': 'array', 'items': {'anyOf': [{'type': 'string'}, {'type': 'object'}]}}]}, 'additional_kwargs': {'title': 'Additional Kwargs', 'type': 'object'}, 'response_metadata': {'title': 'Response Metadata', 'type': 'object'}, 'type': {'title': 'Type', 'default': 'system', 'enum': ['system'], 'type': 'string'}, 'name': {'title': 'Name', 'type': 'string'}, 'id': {'title': 'Id', 'type': 'string'}}, 'required': ['content']}, 'FunctionMessage': {'title': 'FunctionMessage', 'description': 'Message for passing the result of executing a function back to a model.', 'type': 'object', 'properties': {'content': {'title': 'Content', 'anyOf': [{'type': 'string'}, {'type': 'array', 'items': {'anyOf': [{'type': 'string'}, {'type': 'object'}]}}]}, 'additional_kwargs': {'title': 'Additional Kwargs', 'type': 'object'}, 'response_metadata': {'title': 'Response Metadata', 'type': 'object'}, 'type': {'title': 'Type', 'default': 'function', 'enum': ['function'], 'type': 'string'}, 'name': {'title': 'Name', 'type': 'string'}, 'id': {'title': 'Id', 'type': 'string'}}, 'required': ['content', 'name']}, 'ToolMessage': {'title': 'ToolMessage', 'description': 'Message for passing the result of executing a tool back to a model.', 'type': 'object', 'properties': {'content': {'title': 'Content', 'anyOf': [{'type': 'string'}, {'type': 'array', 'items': {'anyOf': [{'type': 'string'}, {'type': 'object'}]}}]}, 'additional_kwargs': {'title': 'Additional Kwargs', 'type': 'object'}, 'response_metadata': {'title': 'Response Metadata', 'type': 'object'}, 'type': {'title': 'Type', 'default': 'tool', 'enum': ['tool'], 'type': 'string'}, 'name': {'title': 'Name', 'type': 'string'}, 'id': {'title': 'Id', 'type': 'string'}, 'tool_call_id': {'title': 'Tool Call Id', 'type': 'string'}}, 'required': ['content', 'tool_call_id']}, 'ChatPromptValueConcrete': {'title': 'ChatPromptValueConcrete', 'description': 'Chat prompt value which explicitly lists out the message types it accepts.\\nFor use in external schemas.', 'type': 'object', 'properties': {'messages': {'title': 'Messages', 'type': 'array', 'items': {'anyOf': [{'$ref': '#/definitions/AIMessage'}, {'$ref': '#/definitions/HumanMessage'}, {'$ref': '#/definitions/ChatMessage'}, {'$ref': '#/definitions/SystemMessage'}, {'$ref': '#/definitions/FunctionMessage'}, {'$ref': '#/definitions/ToolMessage'}]}}, 'type': {'title': 'Type', 'default': 'ChatPromptValueConcrete', 'enum': ['ChatPromptValueConcrete'], 'type': 'string'}}, 'required': ['messages']}}}}], 'edges': [{'source': 0, 'target': 1}, {'source': 1, 'target': 2}]}}}}], 'partial_variables': {}}, 'name': 'ChatPromptTemplate', 'graph': {'nodes': [{'id': 0, 'type': 'schema', 'data': {'title': 'PromptInput', 'type': 'object', 'properties': {'prompt': {'title': 'Prompt', 'type': 'string'}}}}, {'id': 1, 'type': 'runnable', 'data': {'id': ['langchain', 'prompts', 'chat', 'ChatPromptTemplate'], 'name': 'ChatPromptTemplate'}}, {'id': 2, 'type': 'schema', 'data': {'title': 'ChatPromptTemplateOutput', 'anyOf': [{'$ref': '#/definitions/StringPromptValue'}, {'$ref': '#/definitions/ChatPromptValueConcrete'}], 'definitions': {'StringPromptValue': {'title': 'StringPromptValue', 'description': 'String prompt value.', 'type': 'object', 'properties': {'text': {'title': 'Text', 'type': 'string'}, 'type': {'title': 'Type', 'default': 'StringPromptValue', 'enum': ['StringPromptValue'], 'type': 'string'}}, 'required': ['text']}, 'AIMessage': {'title': 'AIMessage', 'description': 'Message from an AI.', 'type': 'object', 'properties': {'content': {'title': 'Content', 'anyOf': [{'type': 'string'}, {'type': 'array', 'items': {'anyOf': [{'type': 'string'}, {'type': 'object'}]}}]}, 'additional_kwargs': {'title': 'Additional Kwargs', 'type': 'object'}, 'response_metadata': {'title': 'Response Metadata', 'type': 'object'}, 'type': {'title': 'Type', 'default': 'ai', 'enum': ['ai'], 'type': 'string'}, 'name': {'title': 'Name', 'type': 'string'}, 'id': {'title': 'Id', 'type': 'string'}, 'example': {'title': 'Example', 'default': False, 'type': 'boolean'}}, 'required': ['content']}, 'HumanMessage': {'title': 'HumanMessage', 'description': 'Message from a human.', 'type': 'object', 'properties': {'content': {'title': 'Content', 'anyOf': [{'type': 'string'}, {'type': 'array', 'items': {'anyOf': [{'type': 'string'}, {'type': 'object'}]}}]}, 'additional_kwargs': {'title': 'Additional Kwargs', 'type': 'object'}, 'response_metadata': {'title': 'Response Metadata', 'type': 'object'}, 'type': {'title': 'Type', 'default': 'human', 'enum': ['human'], 'type': 'string'}, 'name': {'title': 'Name', 'type': 'string'}, 'id': {'title': 'Id', 'type': 'string'}, 'example': {'title': 'Example', 'default': False, 'type': 'boolean'}}, 'required': ['content']}, 'ChatMessage': {'title': 'ChatMessage', 'description': 'Message that can be assigned an arbitrary speaker (i.e. role).', 'type': 'object', 'properties': {'content': {'title': 'Content', 'anyOf': [{'type': 'string'}, {'type': 'array', 'items': {'anyOf': [{'type': 'string'}, {'type': 'object'}]}}]}, 'additional_kwargs': {'title': 'Additional Kwargs', 'type': 'object'}, 'response_metadata': {'title': 'Response Metadata', 'type': 'object'}, 'type': {'title': 'Type', 'default': 'chat', 'enum': ['chat'], 'type': 'string'}, 'name': {'title': 'Name', 'type': 'string'}, 'id': {'title': 'Id', 'type': 'string'}, 'role': {'title': 'Role', 'type': 'string'}}, 'required': ['content', 'role']}, 'SystemMessage': {'title': 'SystemMessage', 'description': 'Message for priming AI behavior, usually passed in as the first of a sequence\\nof input messages.', 'type': 'object', 'properties': {'content': {'title': 'Content', 'anyOf': [{'type': 'string'}, {'type': 'array', 'items': {'anyOf': [{'type': 'string'}, {'type': 'object'}]}}]}, 'additional_kwargs': {'title': 'Additional Kwargs', 'type': 'object'}, 'response_metadata': {'title': 'Response Metadata', 'type': 'object'}, 'type': {'title': 'Type', 'default': 'system', 'enum': ['system'], 'type': 'string'}, 'name': {'title': 'Name', 'type': 'string'}, 'id': {'title': 'Id', 'type': 'string'}}, 'required': ['content']}, 'FunctionMessage': {'title': 'FunctionMessage', 'description': 'Message for passing the result of executing a function back to a model.', 'type': 'object', 'properties': {'content': {'title': 'Content', 'anyOf': [{'type': 'string'}, {'type': 'array', 'items': {'anyOf': [{'type': 'string'}, {'type': 'object'}]}}]}, 'additional_kwargs': {'title': 'Additional Kwargs', 'type': 'object'}, 'response_metadata': {'title': 'Response Metadata', 'type': 'object'}, 'type': {'title': 'Type', 'default': 'function', 'enum': ['function'], 'type': 'string'}, 'name': {'title': 'Name', 'type': 'string'}, 'id': {'title': 'Id', 'type': 'string'}}, 'required': ['content', 'name']}, 'ToolMessage': {'title': 'ToolMessage', 'description': 'Message for passing the result of executing a tool back to a model.', 'type': 'object', 'properties': {'content': {'title': 'Content', 'anyOf': [{'type': 'string'}, {'type': 'array', 'items': {'anyOf': [{'type': 'string'}, {'type': 'object'}]}}]}, 'additional_kwargs': {'title': 'Additional Kwargs', 'type': 'object'}, 'response_metadata': {'title': 'Response Metadata', 'type': 'object'}, 'type': {'title': 'Type', 'default': 'tool', 'enum': ['tool'], 'type': 'string'}, 'name': {'title': 'Name', 'type': 'string'}, 'id': {'title': 'Id', 'type': 'string'}, 'tool_call_id': {'title': 'Tool Call Id', 'type': 'string'}}, 'required': ['content', 'tool_call_id']}, 'ChatPromptValueConcrete': {'title': 'ChatPromptValueConcrete', 'description': 'Chat prompt value which explicitly lists out the message types it accepts.\\nFor use in external schemas.', 'type': 'object', 'properties': {'messages': {'title': 'Messages', 'type': 'array', 'items': {'anyOf': [{'$ref': '#/definitions/AIMessage'}, {'$ref': '#/definitions/HumanMessage'}, {'$ref': '#/definitions/ChatMessage'}, {'$ref': '#/definitions/SystemMessage'}, {'$ref': '#/definitions/FunctionMessage'}, {'$ref': '#/definitions/ToolMessage'}]}}, 'type': {'title': 'Type', 'default': 'ChatPromptValueConcrete', 'enum': ['ChatPromptValueConcrete'], 'type': 'string'}}, 'required': ['messages']}}}}], 'edges': [{'source': 0, 'target': 1}, {'source': 1, 'target': 2}]}}\n"
     ]
    }
   ],
   "source": [
    "handler = NewHandler()\n",
    "out = rag_chain.invoke({\"question\":\"What is meant by computational finance?\"}, {\"callbacks\":[handler]})"
   ]
  },
  {
   "cell_type": "code",
   "execution_count": 168,
   "id": "7d2bddd3-04a9-416e-85b9-dbc9841a9392",
   "metadata": {},
   "outputs": [
    {
     "name": "stdout",
     "output_type": "stream",
     "text": [
      "['langchain', 'schema', 'runnable', 'RunnableSequence']\n",
      "['langchain', 'prompts', 'chat', 'ChatPromptTemplate']\n",
      "['langchain_core', 'runnables', 'base', 'RunnableLambda']\n",
      "['langchain', 'prompts', 'chat', 'ChatPromptTemplate']\n"
     ]
    }
   ],
   "source": [
    "for x in handler.serialized_input:\n",
    "    print(x['id'])"
   ]
  },
  {
   "cell_type": "code",
   "execution_count": 169,
   "id": "fccbcb79-54af-449e-95ee-50744fc37ac2",
   "metadata": {},
   "outputs": [
    {
     "name": "stdout",
     "output_type": "stream",
     "text": [
      "RunnableSequence\n",
      "ChatPromptTemplate\n",
      "RunnableLambda(retrieve_text)\n",
      "ChatPromptTemplate\n"
     ]
    }
   ],
   "source": [
    "for x in handler.serialized_input:\n",
    "    try:\n",
    "        print(x['name'])\n",
    "    except:\n",
    "        print(x['repr'])"
   ]
  },
  {
   "cell_type": "code",
   "execution_count": 172,
   "id": "a31ecf93-91e0-485d-b43d-45289ca29814",
   "metadata": {},
   "outputs": [],
   "source": [
    "class NewHandlerLLM(BaseCallbackHandler):\n",
    "\n",
    "    def __init__(self):\n",
    "        self.serialized_input = []\n",
    "        self.chain_input = []\n",
    "    \n",
    "\n",
    "    def on_chain_start(\n",
    "        self, serialized: Dict[str, Any], inputs: Dict[str, Any], **kwargs: Any\n",
    "    ) -> None:\n",
    "        \"\"\"Print out that we are entering a chain.\"\"\"\n",
    "        # global serialized_input, chain_input\n",
    "        print(\"Inputs: \")\n",
    "        print(inputs)\n",
    "        print(\"Serialized:\")\n",
    "        print(serialized)\n",
    "        self.serialized_input.append(serialized)\n",
    "        self.chain_input.append(inputs)\n",
    "        # class_name = serialized.get(\"name\", serialized.get(\"id\", [\"<unknown>\"])[-1])\n",
    "        # print(f\"\\n\\n\\033[1m> Entering new {class_name} chain...\\033[0m\")  # noqa: T201\n",
    "\n",
    "\n",
    "    def on_llm_start(\n",
    "        self, serialized: Dict[str, Any], prompts: List[str], **kwargs: Any\n",
    "    ) -> Any:\n",
    "        \"\"\"Run when LLM starts running.\"\"\"\n",
    "        self.serialized_input.append(serialized)\n",
    "        self.chain_input.append(prompts)"
   ]
  },
  {
   "cell_type": "code",
   "execution_count": 175,
   "id": "bf687519-360d-4360-8c9a-10b6d50e21a2",
   "metadata": {
    "scrolled": true
   },
   "outputs": [
    {
     "name": "stdout",
     "output_type": "stream",
     "text": [
      "Inputs: \n",
      "{'question': 'What is meant by computational finance?'}\n",
      "Serialized:\n",
      "{'lc': 1, 'type': 'constructor', 'id': ['langchain', 'schema', 'runnable', 'RunnableSequence'], 'kwargs': {'first': {'lc': 1, 'type': 'constructor', 'id': ['langchain', 'prompts', 'chat', 'ChatPromptTemplate'], 'kwargs': {'input_variables': ['question'], 'messages': [{'lc': 1, 'type': 'constructor', 'id': ['langchain', 'prompts', 'chat', 'HumanMessagePromptTemplate'], 'kwargs': {'prompt': {'lc': 1, 'type': 'constructor', 'id': ['langchain', 'prompts', 'prompt', 'PromptTemplate'], 'kwargs': {'input_variables': ['question'], 'template': '\\n    Question: {question} \\n    Answer:\\n    ', 'template_format': 'f-string', 'partial_variables': {}}, 'name': 'PromptTemplate', 'graph': {'nodes': [{'id': 0, 'type': 'schema', 'data': {'title': 'PromptInput', 'type': 'object', 'properties': {'question': {'title': 'Question', 'type': 'string'}}}}, {'id': 1, 'type': 'runnable', 'data': {'id': ['langchain', 'prompts', 'prompt', 'PromptTemplate'], 'name': 'PromptTemplate'}}, {'id': 2, 'type': 'schema', 'data': {'title': 'PromptTemplateOutput', 'anyOf': [{'$ref': '#/definitions/StringPromptValue'}, {'$ref': '#/definitions/ChatPromptValueConcrete'}], 'definitions': {'StringPromptValue': {'title': 'StringPromptValue', 'description': 'String prompt value.', 'type': 'object', 'properties': {'text': {'title': 'Text', 'type': 'string'}, 'type': {'title': 'Type', 'default': 'StringPromptValue', 'enum': ['StringPromptValue'], 'type': 'string'}}, 'required': ['text']}, 'AIMessage': {'title': 'AIMessage', 'description': 'Message from an AI.', 'type': 'object', 'properties': {'content': {'title': 'Content', 'anyOf': [{'type': 'string'}, {'type': 'array', 'items': {'anyOf': [{'type': 'string'}, {'type': 'object'}]}}]}, 'additional_kwargs': {'title': 'Additional Kwargs', 'type': 'object'}, 'response_metadata': {'title': 'Response Metadata', 'type': 'object'}, 'type': {'title': 'Type', 'default': 'ai', 'enum': ['ai'], 'type': 'string'}, 'name': {'title': 'Name', 'type': 'string'}, 'id': {'title': 'Id', 'type': 'string'}, 'example': {'title': 'Example', 'default': False, 'type': 'boolean'}}, 'required': ['content']}, 'HumanMessage': {'title': 'HumanMessage', 'description': 'Message from a human.', 'type': 'object', 'properties': {'content': {'title': 'Content', 'anyOf': [{'type': 'string'}, {'type': 'array', 'items': {'anyOf': [{'type': 'string'}, {'type': 'object'}]}}]}, 'additional_kwargs': {'title': 'Additional Kwargs', 'type': 'object'}, 'response_metadata': {'title': 'Response Metadata', 'type': 'object'}, 'type': {'title': 'Type', 'default': 'human', 'enum': ['human'], 'type': 'string'}, 'name': {'title': 'Name', 'type': 'string'}, 'id': {'title': 'Id', 'type': 'string'}, 'example': {'title': 'Example', 'default': False, 'type': 'boolean'}}, 'required': ['content']}, 'ChatMessage': {'title': 'ChatMessage', 'description': 'Message that can be assigned an arbitrary speaker (i.e. role).', 'type': 'object', 'properties': {'content': {'title': 'Content', 'anyOf': [{'type': 'string'}, {'type': 'array', 'items': {'anyOf': [{'type': 'string'}, {'type': 'object'}]}}]}, 'additional_kwargs': {'title': 'Additional Kwargs', 'type': 'object'}, 'response_metadata': {'title': 'Response Metadata', 'type': 'object'}, 'type': {'title': 'Type', 'default': 'chat', 'enum': ['chat'], 'type': 'string'}, 'name': {'title': 'Name', 'type': 'string'}, 'id': {'title': 'Id', 'type': 'string'}, 'role': {'title': 'Role', 'type': 'string'}}, 'required': ['content', 'role']}, 'SystemMessage': {'title': 'SystemMessage', 'description': 'Message for priming AI behavior, usually passed in as the first of a sequence\\nof input messages.', 'type': 'object', 'properties': {'content': {'title': 'Content', 'anyOf': [{'type': 'string'}, {'type': 'array', 'items': {'anyOf': [{'type': 'string'}, {'type': 'object'}]}}]}, 'additional_kwargs': {'title': 'Additional Kwargs', 'type': 'object'}, 'response_metadata': {'title': 'Response Metadata', 'type': 'object'}, 'type': {'title': 'Type', 'default': 'system', 'enum': ['system'], 'type': 'string'}, 'name': {'title': 'Name', 'type': 'string'}, 'id': {'title': 'Id', 'type': 'string'}}, 'required': ['content']}, 'FunctionMessage': {'title': 'FunctionMessage', 'description': 'Message for passing the result of executing a function back to a model.', 'type': 'object', 'properties': {'content': {'title': 'Content', 'anyOf': [{'type': 'string'}, {'type': 'array', 'items': {'anyOf': [{'type': 'string'}, {'type': 'object'}]}}]}, 'additional_kwargs': {'title': 'Additional Kwargs', 'type': 'object'}, 'response_metadata': {'title': 'Response Metadata', 'type': 'object'}, 'type': {'title': 'Type', 'default': 'function', 'enum': ['function'], 'type': 'string'}, 'name': {'title': 'Name', 'type': 'string'}, 'id': {'title': 'Id', 'type': 'string'}}, 'required': ['content', 'name']}, 'ToolMessage': {'title': 'ToolMessage', 'description': 'Message for passing the result of executing a tool back to a model.', 'type': 'object', 'properties': {'content': {'title': 'Content', 'anyOf': [{'type': 'string'}, {'type': 'array', 'items': {'anyOf': [{'type': 'string'}, {'type': 'object'}]}}]}, 'additional_kwargs': {'title': 'Additional Kwargs', 'type': 'object'}, 'response_metadata': {'title': 'Response Metadata', 'type': 'object'}, 'type': {'title': 'Type', 'default': 'tool', 'enum': ['tool'], 'type': 'string'}, 'name': {'title': 'Name', 'type': 'string'}, 'id': {'title': 'Id', 'type': 'string'}, 'tool_call_id': {'title': 'Tool Call Id', 'type': 'string'}}, 'required': ['content', 'tool_call_id']}, 'ChatPromptValueConcrete': {'title': 'ChatPromptValueConcrete', 'description': 'Chat prompt value which explicitly lists out the message types it accepts.\\nFor use in external schemas.', 'type': 'object', 'properties': {'messages': {'title': 'Messages', 'type': 'array', 'items': {'anyOf': [{'$ref': '#/definitions/AIMessage'}, {'$ref': '#/definitions/HumanMessage'}, {'$ref': '#/definitions/ChatMessage'}, {'$ref': '#/definitions/SystemMessage'}, {'$ref': '#/definitions/FunctionMessage'}, {'$ref': '#/definitions/ToolMessage'}]}}, 'type': {'title': 'Type', 'default': 'ChatPromptValueConcrete', 'enum': ['ChatPromptValueConcrete'], 'type': 'string'}}, 'required': ['messages']}}}}], 'edges': [{'source': 0, 'target': 1}, {'source': 1, 'target': 2}]}}}}], 'partial_variables': {}}, 'name': 'ChatPromptTemplate', 'graph': {'nodes': [{'id': 0, 'type': 'schema', 'data': {'title': 'PromptInput', 'type': 'object', 'properties': {'question': {'title': 'Question', 'type': 'string'}}}}, {'id': 1, 'type': 'runnable', 'data': {'id': ['langchain', 'prompts', 'chat', 'ChatPromptTemplate'], 'name': 'ChatPromptTemplate'}}, {'id': 2, 'type': 'schema', 'data': {'title': 'ChatPromptTemplateOutput', 'anyOf': [{'$ref': '#/definitions/StringPromptValue'}, {'$ref': '#/definitions/ChatPromptValueConcrete'}], 'definitions': {'StringPromptValue': {'title': 'StringPromptValue', 'description': 'String prompt value.', 'type': 'object', 'properties': {'text': {'title': 'Text', 'type': 'string'}, 'type': {'title': 'Type', 'default': 'StringPromptValue', 'enum': ['StringPromptValue'], 'type': 'string'}}, 'required': ['text']}, 'AIMessage': {'title': 'AIMessage', 'description': 'Message from an AI.', 'type': 'object', 'properties': {'content': {'title': 'Content', 'anyOf': [{'type': 'string'}, {'type': 'array', 'items': {'anyOf': [{'type': 'string'}, {'type': 'object'}]}}]}, 'additional_kwargs': {'title': 'Additional Kwargs', 'type': 'object'}, 'response_metadata': {'title': 'Response Metadata', 'type': 'object'}, 'type': {'title': 'Type', 'default': 'ai', 'enum': ['ai'], 'type': 'string'}, 'name': {'title': 'Name', 'type': 'string'}, 'id': {'title': 'Id', 'type': 'string'}, 'example': {'title': 'Example', 'default': False, 'type': 'boolean'}}, 'required': ['content']}, 'HumanMessage': {'title': 'HumanMessage', 'description': 'Message from a human.', 'type': 'object', 'properties': {'content': {'title': 'Content', 'anyOf': [{'type': 'string'}, {'type': 'array', 'items': {'anyOf': [{'type': 'string'}, {'type': 'object'}]}}]}, 'additional_kwargs': {'title': 'Additional Kwargs', 'type': 'object'}, 'response_metadata': {'title': 'Response Metadata', 'type': 'object'}, 'type': {'title': 'Type', 'default': 'human', 'enum': ['human'], 'type': 'string'}, 'name': {'title': 'Name', 'type': 'string'}, 'id': {'title': 'Id', 'type': 'string'}, 'example': {'title': 'Example', 'default': False, 'type': 'boolean'}}, 'required': ['content']}, 'ChatMessage': {'title': 'ChatMessage', 'description': 'Message that can be assigned an arbitrary speaker (i.e. role).', 'type': 'object', 'properties': {'content': {'title': 'Content', 'anyOf': [{'type': 'string'}, {'type': 'array', 'items': {'anyOf': [{'type': 'string'}, {'type': 'object'}]}}]}, 'additional_kwargs': {'title': 'Additional Kwargs', 'type': 'object'}, 'response_metadata': {'title': 'Response Metadata', 'type': 'object'}, 'type': {'title': 'Type', 'default': 'chat', 'enum': ['chat'], 'type': 'string'}, 'name': {'title': 'Name', 'type': 'string'}, 'id': {'title': 'Id', 'type': 'string'}, 'role': {'title': 'Role', 'type': 'string'}}, 'required': ['content', 'role']}, 'SystemMessage': {'title': 'SystemMessage', 'description': 'Message for priming AI behavior, usually passed in as the first of a sequence\\nof input messages.', 'type': 'object', 'properties': {'content': {'title': 'Content', 'anyOf': [{'type': 'string'}, {'type': 'array', 'items': {'anyOf': [{'type': 'string'}, {'type': 'object'}]}}]}, 'additional_kwargs': {'title': 'Additional Kwargs', 'type': 'object'}, 'response_metadata': {'title': 'Response Metadata', 'type': 'object'}, 'type': {'title': 'Type', 'default': 'system', 'enum': ['system'], 'type': 'string'}, 'name': {'title': 'Name', 'type': 'string'}, 'id': {'title': 'Id', 'type': 'string'}}, 'required': ['content']}, 'FunctionMessage': {'title': 'FunctionMessage', 'description': 'Message for passing the result of executing a function back to a model.', 'type': 'object', 'properties': {'content': {'title': 'Content', 'anyOf': [{'type': 'string'}, {'type': 'array', 'items': {'anyOf': [{'type': 'string'}, {'type': 'object'}]}}]}, 'additional_kwargs': {'title': 'Additional Kwargs', 'type': 'object'}, 'response_metadata': {'title': 'Response Metadata', 'type': 'object'}, 'type': {'title': 'Type', 'default': 'function', 'enum': ['function'], 'type': 'string'}, 'name': {'title': 'Name', 'type': 'string'}, 'id': {'title': 'Id', 'type': 'string'}}, 'required': ['content', 'name']}, 'ToolMessage': {'title': 'ToolMessage', 'description': 'Message for passing the result of executing a tool back to a model.', 'type': 'object', 'properties': {'content': {'title': 'Content', 'anyOf': [{'type': 'string'}, {'type': 'array', 'items': {'anyOf': [{'type': 'string'}, {'type': 'object'}]}}]}, 'additional_kwargs': {'title': 'Additional Kwargs', 'type': 'object'}, 'response_metadata': {'title': 'Response Metadata', 'type': 'object'}, 'type': {'title': 'Type', 'default': 'tool', 'enum': ['tool'], 'type': 'string'}, 'name': {'title': 'Name', 'type': 'string'}, 'id': {'title': 'Id', 'type': 'string'}, 'tool_call_id': {'title': 'Tool Call Id', 'type': 'string'}}, 'required': ['content', 'tool_call_id']}, 'ChatPromptValueConcrete': {'title': 'ChatPromptValueConcrete', 'description': 'Chat prompt value which explicitly lists out the message types it accepts.\\nFor use in external schemas.', 'type': 'object', 'properties': {'messages': {'title': 'Messages', 'type': 'array', 'items': {'anyOf': [{'$ref': '#/definitions/AIMessage'}, {'$ref': '#/definitions/HumanMessage'}, {'$ref': '#/definitions/ChatMessage'}, {'$ref': '#/definitions/SystemMessage'}, {'$ref': '#/definitions/FunctionMessage'}, {'$ref': '#/definitions/ToolMessage'}]}}, 'type': {'title': 'Type', 'default': 'ChatPromptValueConcrete', 'enum': ['ChatPromptValueConcrete'], 'type': 'string'}}, 'required': ['messages']}}}}], 'edges': [{'source': 0, 'target': 1}, {'source': 1, 'target': 2}]}}, 'middle': [{'lc': 1, 'type': 'not_implemented', 'id': ['langchain_core', 'runnables', 'base', 'RunnableLambda'], 'repr': 'RunnableLambda(retrieve_text)'}, {'lc': 1, 'type': 'constructor', 'id': ['langchain', 'prompts', 'chat', 'ChatPromptTemplate'], 'kwargs': {'input_variables': ['prompt'], 'messages': [{'lc': 1, 'type': 'constructor', 'id': ['langchain', 'prompts', 'chat', 'HumanMessagePromptTemplate'], 'kwargs': {'prompt': {'lc': 1, 'type': 'constructor', 'id': ['langchain', 'prompts', 'prompt', 'PromptTemplate'], 'kwargs': {'input_variables': ['prompt'], 'template': 'You are an assistant that helps answer questions. \\n    {prompt}\\n    ', 'template_format': 'f-string', 'partial_variables': {}}, 'name': 'PromptTemplate', 'graph': {'nodes': [{'id': 0, 'type': 'schema', 'data': {'title': 'PromptInput', 'type': 'object', 'properties': {'prompt': {'title': 'Prompt', 'type': 'string'}}}}, {'id': 1, 'type': 'runnable', 'data': {'id': ['langchain', 'prompts', 'prompt', 'PromptTemplate'], 'name': 'PromptTemplate'}}, {'id': 2, 'type': 'schema', 'data': {'title': 'PromptTemplateOutput', 'anyOf': [{'$ref': '#/definitions/StringPromptValue'}, {'$ref': '#/definitions/ChatPromptValueConcrete'}], 'definitions': {'StringPromptValue': {'title': 'StringPromptValue', 'description': 'String prompt value.', 'type': 'object', 'properties': {'text': {'title': 'Text', 'type': 'string'}, 'type': {'title': 'Type', 'default': 'StringPromptValue', 'enum': ['StringPromptValue'], 'type': 'string'}}, 'required': ['text']}, 'AIMessage': {'title': 'AIMessage', 'description': 'Message from an AI.', 'type': 'object', 'properties': {'content': {'title': 'Content', 'anyOf': [{'type': 'string'}, {'type': 'array', 'items': {'anyOf': [{'type': 'string'}, {'type': 'object'}]}}]}, 'additional_kwargs': {'title': 'Additional Kwargs', 'type': 'object'}, 'response_metadata': {'title': 'Response Metadata', 'type': 'object'}, 'type': {'title': 'Type', 'default': 'ai', 'enum': ['ai'], 'type': 'string'}, 'name': {'title': 'Name', 'type': 'string'}, 'id': {'title': 'Id', 'type': 'string'}, 'example': {'title': 'Example', 'default': False, 'type': 'boolean'}}, 'required': ['content']}, 'HumanMessage': {'title': 'HumanMessage', 'description': 'Message from a human.', 'type': 'object', 'properties': {'content': {'title': 'Content', 'anyOf': [{'type': 'string'}, {'type': 'array', 'items': {'anyOf': [{'type': 'string'}, {'type': 'object'}]}}]}, 'additional_kwargs': {'title': 'Additional Kwargs', 'type': 'object'}, 'response_metadata': {'title': 'Response Metadata', 'type': 'object'}, 'type': {'title': 'Type', 'default': 'human', 'enum': ['human'], 'type': 'string'}, 'name': {'title': 'Name', 'type': 'string'}, 'id': {'title': 'Id', 'type': 'string'}, 'example': {'title': 'Example', 'default': False, 'type': 'boolean'}}, 'required': ['content']}, 'ChatMessage': {'title': 'ChatMessage', 'description': 'Message that can be assigned an arbitrary speaker (i.e. role).', 'type': 'object', 'properties': {'content': {'title': 'Content', 'anyOf': [{'type': 'string'}, {'type': 'array', 'items': {'anyOf': [{'type': 'string'}, {'type': 'object'}]}}]}, 'additional_kwargs': {'title': 'Additional Kwargs', 'type': 'object'}, 'response_metadata': {'title': 'Response Metadata', 'type': 'object'}, 'type': {'title': 'Type', 'default': 'chat', 'enum': ['chat'], 'type': 'string'}, 'name': {'title': 'Name', 'type': 'string'}, 'id': {'title': 'Id', 'type': 'string'}, 'role': {'title': 'Role', 'type': 'string'}}, 'required': ['content', 'role']}, 'SystemMessage': {'title': 'SystemMessage', 'description': 'Message for priming AI behavior, usually passed in as the first of a sequence\\nof input messages.', 'type': 'object', 'properties': {'content': {'title': 'Content', 'anyOf': [{'type': 'string'}, {'type': 'array', 'items': {'anyOf': [{'type': 'string'}, {'type': 'object'}]}}]}, 'additional_kwargs': {'title': 'Additional Kwargs', 'type': 'object'}, 'response_metadata': {'title': 'Response Metadata', 'type': 'object'}, 'type': {'title': 'Type', 'default': 'system', 'enum': ['system'], 'type': 'string'}, 'name': {'title': 'Name', 'type': 'string'}, 'id': {'title': 'Id', 'type': 'string'}}, 'required': ['content']}, 'FunctionMessage': {'title': 'FunctionMessage', 'description': 'Message for passing the result of executing a function back to a model.', 'type': 'object', 'properties': {'content': {'title': 'Content', 'anyOf': [{'type': 'string'}, {'type': 'array', 'items': {'anyOf': [{'type': 'string'}, {'type': 'object'}]}}]}, 'additional_kwargs': {'title': 'Additional Kwargs', 'type': 'object'}, 'response_metadata': {'title': 'Response Metadata', 'type': 'object'}, 'type': {'title': 'Type', 'default': 'function', 'enum': ['function'], 'type': 'string'}, 'name': {'title': 'Name', 'type': 'string'}, 'id': {'title': 'Id', 'type': 'string'}}, 'required': ['content', 'name']}, 'ToolMessage': {'title': 'ToolMessage', 'description': 'Message for passing the result of executing a tool back to a model.', 'type': 'object', 'properties': {'content': {'title': 'Content', 'anyOf': [{'type': 'string'}, {'type': 'array', 'items': {'anyOf': [{'type': 'string'}, {'type': 'object'}]}}]}, 'additional_kwargs': {'title': 'Additional Kwargs', 'type': 'object'}, 'response_metadata': {'title': 'Response Metadata', 'type': 'object'}, 'type': {'title': 'Type', 'default': 'tool', 'enum': ['tool'], 'type': 'string'}, 'name': {'title': 'Name', 'type': 'string'}, 'id': {'title': 'Id', 'type': 'string'}, 'tool_call_id': {'title': 'Tool Call Id', 'type': 'string'}}, 'required': ['content', 'tool_call_id']}, 'ChatPromptValueConcrete': {'title': 'ChatPromptValueConcrete', 'description': 'Chat prompt value which explicitly lists out the message types it accepts.\\nFor use in external schemas.', 'type': 'object', 'properties': {'messages': {'title': 'Messages', 'type': 'array', 'items': {'anyOf': [{'$ref': '#/definitions/AIMessage'}, {'$ref': '#/definitions/HumanMessage'}, {'$ref': '#/definitions/ChatMessage'}, {'$ref': '#/definitions/SystemMessage'}, {'$ref': '#/definitions/FunctionMessage'}, {'$ref': '#/definitions/ToolMessage'}]}}, 'type': {'title': 'Type', 'default': 'ChatPromptValueConcrete', 'enum': ['ChatPromptValueConcrete'], 'type': 'string'}}, 'required': ['messages']}}}}], 'edges': [{'source': 0, 'target': 1}, {'source': 1, 'target': 2}]}}}}], 'partial_variables': {}}, 'name': 'ChatPromptTemplate', 'graph': {'nodes': [{'id': 0, 'type': 'schema', 'data': {'title': 'PromptInput', 'type': 'object', 'properties': {'prompt': {'title': 'Prompt', 'type': 'string'}}}}, {'id': 1, 'type': 'runnable', 'data': {'id': ['langchain', 'prompts', 'chat', 'ChatPromptTemplate'], 'name': 'ChatPromptTemplate'}}, {'id': 2, 'type': 'schema', 'data': {'title': 'ChatPromptTemplateOutput', 'anyOf': [{'$ref': '#/definitions/StringPromptValue'}, {'$ref': '#/definitions/ChatPromptValueConcrete'}], 'definitions': {'StringPromptValue': {'title': 'StringPromptValue', 'description': 'String prompt value.', 'type': 'object', 'properties': {'text': {'title': 'Text', 'type': 'string'}, 'type': {'title': 'Type', 'default': 'StringPromptValue', 'enum': ['StringPromptValue'], 'type': 'string'}}, 'required': ['text']}, 'AIMessage': {'title': 'AIMessage', 'description': 'Message from an AI.', 'type': 'object', 'properties': {'content': {'title': 'Content', 'anyOf': [{'type': 'string'}, {'type': 'array', 'items': {'anyOf': [{'type': 'string'}, {'type': 'object'}]}}]}, 'additional_kwargs': {'title': 'Additional Kwargs', 'type': 'object'}, 'response_metadata': {'title': 'Response Metadata', 'type': 'object'}, 'type': {'title': 'Type', 'default': 'ai', 'enum': ['ai'], 'type': 'string'}, 'name': {'title': 'Name', 'type': 'string'}, 'id': {'title': 'Id', 'type': 'string'}, 'example': {'title': 'Example', 'default': False, 'type': 'boolean'}}, 'required': ['content']}, 'HumanMessage': {'title': 'HumanMessage', 'description': 'Message from a human.', 'type': 'object', 'properties': {'content': {'title': 'Content', 'anyOf': [{'type': 'string'}, {'type': 'array', 'items': {'anyOf': [{'type': 'string'}, {'type': 'object'}]}}]}, 'additional_kwargs': {'title': 'Additional Kwargs', 'type': 'object'}, 'response_metadata': {'title': 'Response Metadata', 'type': 'object'}, 'type': {'title': 'Type', 'default': 'human', 'enum': ['human'], 'type': 'string'}, 'name': {'title': 'Name', 'type': 'string'}, 'id': {'title': 'Id', 'type': 'string'}, 'example': {'title': 'Example', 'default': False, 'type': 'boolean'}}, 'required': ['content']}, 'ChatMessage': {'title': 'ChatMessage', 'description': 'Message that can be assigned an arbitrary speaker (i.e. role).', 'type': 'object', 'properties': {'content': {'title': 'Content', 'anyOf': [{'type': 'string'}, {'type': 'array', 'items': {'anyOf': [{'type': 'string'}, {'type': 'object'}]}}]}, 'additional_kwargs': {'title': 'Additional Kwargs', 'type': 'object'}, 'response_metadata': {'title': 'Response Metadata', 'type': 'object'}, 'type': {'title': 'Type', 'default': 'chat', 'enum': ['chat'], 'type': 'string'}, 'name': {'title': 'Name', 'type': 'string'}, 'id': {'title': 'Id', 'type': 'string'}, 'role': {'title': 'Role', 'type': 'string'}}, 'required': ['content', 'role']}, 'SystemMessage': {'title': 'SystemMessage', 'description': 'Message for priming AI behavior, usually passed in as the first of a sequence\\nof input messages.', 'type': 'object', 'properties': {'content': {'title': 'Content', 'anyOf': [{'type': 'string'}, {'type': 'array', 'items': {'anyOf': [{'type': 'string'}, {'type': 'object'}]}}]}, 'additional_kwargs': {'title': 'Additional Kwargs', 'type': 'object'}, 'response_metadata': {'title': 'Response Metadata', 'type': 'object'}, 'type': {'title': 'Type', 'default': 'system', 'enum': ['system'], 'type': 'string'}, 'name': {'title': 'Name', 'type': 'string'}, 'id': {'title': 'Id', 'type': 'string'}}, 'required': ['content']}, 'FunctionMessage': {'title': 'FunctionMessage', 'description': 'Message for passing the result of executing a function back to a model.', 'type': 'object', 'properties': {'content': {'title': 'Content', 'anyOf': [{'type': 'string'}, {'type': 'array', 'items': {'anyOf': [{'type': 'string'}, {'type': 'object'}]}}]}, 'additional_kwargs': {'title': 'Additional Kwargs', 'type': 'object'}, 'response_metadata': {'title': 'Response Metadata', 'type': 'object'}, 'type': {'title': 'Type', 'default': 'function', 'enum': ['function'], 'type': 'string'}, 'name': {'title': 'Name', 'type': 'string'}, 'id': {'title': 'Id', 'type': 'string'}}, 'required': ['content', 'name']}, 'ToolMessage': {'title': 'ToolMessage', 'description': 'Message for passing the result of executing a tool back to a model.', 'type': 'object', 'properties': {'content': {'title': 'Content', 'anyOf': [{'type': 'string'}, {'type': 'array', 'items': {'anyOf': [{'type': 'string'}, {'type': 'object'}]}}]}, 'additional_kwargs': {'title': 'Additional Kwargs', 'type': 'object'}, 'response_metadata': {'title': 'Response Metadata', 'type': 'object'}, 'type': {'title': 'Type', 'default': 'tool', 'enum': ['tool'], 'type': 'string'}, 'name': {'title': 'Name', 'type': 'string'}, 'id': {'title': 'Id', 'type': 'string'}, 'tool_call_id': {'title': 'Tool Call Id', 'type': 'string'}}, 'required': ['content', 'tool_call_id']}, 'ChatPromptValueConcrete': {'title': 'ChatPromptValueConcrete', 'description': 'Chat prompt value which explicitly lists out the message types it accepts.\\nFor use in external schemas.', 'type': 'object', 'properties': {'messages': {'title': 'Messages', 'type': 'array', 'items': {'anyOf': [{'$ref': '#/definitions/AIMessage'}, {'$ref': '#/definitions/HumanMessage'}, {'$ref': '#/definitions/ChatMessage'}, {'$ref': '#/definitions/SystemMessage'}, {'$ref': '#/definitions/FunctionMessage'}, {'$ref': '#/definitions/ToolMessage'}]}}, 'type': {'title': 'Type', 'default': 'ChatPromptValueConcrete', 'enum': ['ChatPromptValueConcrete'], 'type': 'string'}}, 'required': ['messages']}}}}], 'edges': [{'source': 0, 'target': 1}, {'source': 1, 'target': 2}]}}], 'last': {'lc': 1, 'type': 'constructor', 'id': ['langchain', 'chat_models', 'openai', 'ChatOpenAI'], 'kwargs': {'model_name': 'gpt-3.5-turbo', 'temperature': 0.0, 'openai_api_key': {'lc': 1, 'type': 'secret', 'id': ['OPENAI_API_KEY']}}, 'name': 'ChatOpenAI', 'graph': {'nodes': [{'id': 0, 'type': 'schema', 'data': {'title': 'ChatOpenAIInput', 'anyOf': [{'type': 'string'}, {'$ref': '#/definitions/StringPromptValue'}, {'$ref': '#/definitions/ChatPromptValueConcrete'}, {'type': 'array', 'items': {'anyOf': [{'$ref': '#/definitions/AIMessage'}, {'$ref': '#/definitions/HumanMessage'}, {'$ref': '#/definitions/ChatMessage'}, {'$ref': '#/definitions/SystemMessage'}, {'$ref': '#/definitions/FunctionMessage'}, {'$ref': '#/definitions/ToolMessage'}]}}], 'definitions': {'StringPromptValue': {'title': 'StringPromptValue', 'description': 'String prompt value.', 'type': 'object', 'properties': {'text': {'title': 'Text', 'type': 'string'}, 'type': {'title': 'Type', 'default': 'StringPromptValue', 'enum': ['StringPromptValue'], 'type': 'string'}}, 'required': ['text']}, 'AIMessage': {'title': 'AIMessage', 'description': 'Message from an AI.', 'type': 'object', 'properties': {'content': {'title': 'Content', 'anyOf': [{'type': 'string'}, {'type': 'array', 'items': {'anyOf': [{'type': 'string'}, {'type': 'object'}]}}]}, 'additional_kwargs': {'title': 'Additional Kwargs', 'type': 'object'}, 'response_metadata': {'title': 'Response Metadata', 'type': 'object'}, 'type': {'title': 'Type', 'default': 'ai', 'enum': ['ai'], 'type': 'string'}, 'name': {'title': 'Name', 'type': 'string'}, 'id': {'title': 'Id', 'type': 'string'}, 'example': {'title': 'Example', 'default': False, 'type': 'boolean'}}, 'required': ['content']}, 'HumanMessage': {'title': 'HumanMessage', 'description': 'Message from a human.', 'type': 'object', 'properties': {'content': {'title': 'Content', 'anyOf': [{'type': 'string'}, {'type': 'array', 'items': {'anyOf': [{'type': 'string'}, {'type': 'object'}]}}]}, 'additional_kwargs': {'title': 'Additional Kwargs', 'type': 'object'}, 'response_metadata': {'title': 'Response Metadata', 'type': 'object'}, 'type': {'title': 'Type', 'default': 'human', 'enum': ['human'], 'type': 'string'}, 'name': {'title': 'Name', 'type': 'string'}, 'id': {'title': 'Id', 'type': 'string'}, 'example': {'title': 'Example', 'default': False, 'type': 'boolean'}}, 'required': ['content']}, 'ChatMessage': {'title': 'ChatMessage', 'description': 'Message that can be assigned an arbitrary speaker (i.e. role).', 'type': 'object', 'properties': {'content': {'title': 'Content', 'anyOf': [{'type': 'string'}, {'type': 'array', 'items': {'anyOf': [{'type': 'string'}, {'type': 'object'}]}}]}, 'additional_kwargs': {'title': 'Additional Kwargs', 'type': 'object'}, 'response_metadata': {'title': 'Response Metadata', 'type': 'object'}, 'type': {'title': 'Type', 'default': 'chat', 'enum': ['chat'], 'type': 'string'}, 'name': {'title': 'Name', 'type': 'string'}, 'id': {'title': 'Id', 'type': 'string'}, 'role': {'title': 'Role', 'type': 'string'}}, 'required': ['content', 'role']}, 'SystemMessage': {'title': 'SystemMessage', 'description': 'Message for priming AI behavior, usually passed in as the first of a sequence\\nof input messages.', 'type': 'object', 'properties': {'content': {'title': 'Content', 'anyOf': [{'type': 'string'}, {'type': 'array', 'items': {'anyOf': [{'type': 'string'}, {'type': 'object'}]}}]}, 'additional_kwargs': {'title': 'Additional Kwargs', 'type': 'object'}, 'response_metadata': {'title': 'Response Metadata', 'type': 'object'}, 'type': {'title': 'Type', 'default': 'system', 'enum': ['system'], 'type': 'string'}, 'name': {'title': 'Name', 'type': 'string'}, 'id': {'title': 'Id', 'type': 'string'}}, 'required': ['content']}, 'FunctionMessage': {'title': 'FunctionMessage', 'description': 'Message for passing the result of executing a function back to a model.', 'type': 'object', 'properties': {'content': {'title': 'Content', 'anyOf': [{'type': 'string'}, {'type': 'array', 'items': {'anyOf': [{'type': 'string'}, {'type': 'object'}]}}]}, 'additional_kwargs': {'title': 'Additional Kwargs', 'type': 'object'}, 'response_metadata': {'title': 'Response Metadata', 'type': 'object'}, 'type': {'title': 'Type', 'default': 'function', 'enum': ['function'], 'type': 'string'}, 'name': {'title': 'Name', 'type': 'string'}, 'id': {'title': 'Id', 'type': 'string'}}, 'required': ['content', 'name']}, 'ToolMessage': {'title': 'ToolMessage', 'description': 'Message for passing the result of executing a tool back to a model.', 'type': 'object', 'properties': {'content': {'title': 'Content', 'anyOf': [{'type': 'string'}, {'type': 'array', 'items': {'anyOf': [{'type': 'string'}, {'type': 'object'}]}}]}, 'additional_kwargs': {'title': 'Additional Kwargs', 'type': 'object'}, 'response_metadata': {'title': 'Response Metadata', 'type': 'object'}, 'type': {'title': 'Type', 'default': 'tool', 'enum': ['tool'], 'type': 'string'}, 'name': {'title': 'Name', 'type': 'string'}, 'id': {'title': 'Id', 'type': 'string'}, 'tool_call_id': {'title': 'Tool Call Id', 'type': 'string'}}, 'required': ['content', 'tool_call_id']}, 'ChatPromptValueConcrete': {'title': 'ChatPromptValueConcrete', 'description': 'Chat prompt value which explicitly lists out the message types it accepts.\\nFor use in external schemas.', 'type': 'object', 'properties': {'messages': {'title': 'Messages', 'type': 'array', 'items': {'anyOf': [{'$ref': '#/definitions/AIMessage'}, {'$ref': '#/definitions/HumanMessage'}, {'$ref': '#/definitions/ChatMessage'}, {'$ref': '#/definitions/SystemMessage'}, {'$ref': '#/definitions/FunctionMessage'}, {'$ref': '#/definitions/ToolMessage'}]}}, 'type': {'title': 'Type', 'default': 'ChatPromptValueConcrete', 'enum': ['ChatPromptValueConcrete'], 'type': 'string'}}, 'required': ['messages']}}}}, {'id': 1, 'type': 'runnable', 'data': {'id': ['langchain', 'chat_models', 'openai', 'ChatOpenAI'], 'name': 'ChatOpenAI'}}, {'id': 2, 'type': 'schema', 'data': {'title': 'ChatOpenAIOutput', 'anyOf': [{'$ref': '#/definitions/AIMessage'}, {'$ref': '#/definitions/HumanMessage'}, {'$ref': '#/definitions/ChatMessage'}, {'$ref': '#/definitions/SystemMessage'}, {'$ref': '#/definitions/FunctionMessage'}, {'$ref': '#/definitions/ToolMessage'}], 'definitions': {'AIMessage': {'title': 'AIMessage', 'description': 'Message from an AI.', 'type': 'object', 'properties': {'content': {'title': 'Content', 'anyOf': [{'type': 'string'}, {'type': 'array', 'items': {'anyOf': [{'type': 'string'}, {'type': 'object'}]}}]}, 'additional_kwargs': {'title': 'Additional Kwargs', 'type': 'object'}, 'response_metadata': {'title': 'Response Metadata', 'type': 'object'}, 'type': {'title': 'Type', 'default': 'ai', 'enum': ['ai'], 'type': 'string'}, 'name': {'title': 'Name', 'type': 'string'}, 'id': {'title': 'Id', 'type': 'string'}, 'example': {'title': 'Example', 'default': False, 'type': 'boolean'}}, 'required': ['content']}, 'HumanMessage': {'title': 'HumanMessage', 'description': 'Message from a human.', 'type': 'object', 'properties': {'content': {'title': 'Content', 'anyOf': [{'type': 'string'}, {'type': 'array', 'items': {'anyOf': [{'type': 'string'}, {'type': 'object'}]}}]}, 'additional_kwargs': {'title': 'Additional Kwargs', 'type': 'object'}, 'response_metadata': {'title': 'Response Metadata', 'type': 'object'}, 'type': {'title': 'Type', 'default': 'human', 'enum': ['human'], 'type': 'string'}, 'name': {'title': 'Name', 'type': 'string'}, 'id': {'title': 'Id', 'type': 'string'}, 'example': {'title': 'Example', 'default': False, 'type': 'boolean'}}, 'required': ['content']}, 'ChatMessage': {'title': 'ChatMessage', 'description': 'Message that can be assigned an arbitrary speaker (i.e. role).', 'type': 'object', 'properties': {'content': {'title': 'Content', 'anyOf': [{'type': 'string'}, {'type': 'array', 'items': {'anyOf': [{'type': 'string'}, {'type': 'object'}]}}]}, 'additional_kwargs': {'title': 'Additional Kwargs', 'type': 'object'}, 'response_metadata': {'title': 'Response Metadata', 'type': 'object'}, 'type': {'title': 'Type', 'default': 'chat', 'enum': ['chat'], 'type': 'string'}, 'name': {'title': 'Name', 'type': 'string'}, 'id': {'title': 'Id', 'type': 'string'}, 'role': {'title': 'Role', 'type': 'string'}}, 'required': ['content', 'role']}, 'SystemMessage': {'title': 'SystemMessage', 'description': 'Message for priming AI behavior, usually passed in as the first of a sequence\\nof input messages.', 'type': 'object', 'properties': {'content': {'title': 'Content', 'anyOf': [{'type': 'string'}, {'type': 'array', 'items': {'anyOf': [{'type': 'string'}, {'type': 'object'}]}}]}, 'additional_kwargs': {'title': 'Additional Kwargs', 'type': 'object'}, 'response_metadata': {'title': 'Response Metadata', 'type': 'object'}, 'type': {'title': 'Type', 'default': 'system', 'enum': ['system'], 'type': 'string'}, 'name': {'title': 'Name', 'type': 'string'}, 'id': {'title': 'Id', 'type': 'string'}}, 'required': ['content']}, 'FunctionMessage': {'title': 'FunctionMessage', 'description': 'Message for passing the result of executing a function back to a model.', 'type': 'object', 'properties': {'content': {'title': 'Content', 'anyOf': [{'type': 'string'}, {'type': 'array', 'items': {'anyOf': [{'type': 'string'}, {'type': 'object'}]}}]}, 'additional_kwargs': {'title': 'Additional Kwargs', 'type': 'object'}, 'response_metadata': {'title': 'Response Metadata', 'type': 'object'}, 'type': {'title': 'Type', 'default': 'function', 'enum': ['function'], 'type': 'string'}, 'name': {'title': 'Name', 'type': 'string'}, 'id': {'title': 'Id', 'type': 'string'}}, 'required': ['content', 'name']}, 'ToolMessage': {'title': 'ToolMessage', 'description': 'Message for passing the result of executing a tool back to a model.', 'type': 'object', 'properties': {'content': {'title': 'Content', 'anyOf': [{'type': 'string'}, {'type': 'array', 'items': {'anyOf': [{'type': 'string'}, {'type': 'object'}]}}]}, 'additional_kwargs': {'title': 'Additional Kwargs', 'type': 'object'}, 'response_metadata': {'title': 'Response Metadata', 'type': 'object'}, 'type': {'title': 'Type', 'default': 'tool', 'enum': ['tool'], 'type': 'string'}, 'name': {'title': 'Name', 'type': 'string'}, 'id': {'title': 'Id', 'type': 'string'}, 'tool_call_id': {'title': 'Tool Call Id', 'type': 'string'}}, 'required': ['content', 'tool_call_id']}}}}], 'edges': [{'source': 0, 'target': 1}, {'source': 1, 'target': 2}]}}, 'name': None}, 'name': 'RunnableSequence', 'graph': {'nodes': [{'id': 0, 'type': 'schema', 'data': {'title': 'PromptInput', 'type': 'object', 'properties': {'question': {'title': 'Question', 'type': 'string'}}}}, {'id': 1, 'type': 'runnable', 'data': {'id': ['langchain', 'prompts', 'chat', 'ChatPromptTemplate'], 'name': 'ChatPromptTemplate'}}, {'id': 2, 'type': 'runnable', 'data': {'id': ['langchain_core', 'runnables', 'base', 'RunnableLambda'], 'name': 'retrieve_text'}}, {'id': 3, 'type': 'runnable', 'data': {'id': ['langchain', 'prompts', 'chat', 'ChatPromptTemplate'], 'name': 'ChatPromptTemplate'}}, {'id': 4, 'type': 'runnable', 'data': {'id': ['langchain', 'chat_models', 'openai', 'ChatOpenAI'], 'name': 'ChatOpenAI'}}, {'id': 5, 'type': 'schema', 'data': {'title': 'ChatOpenAIOutput', 'anyOf': [{'$ref': '#/definitions/AIMessage'}, {'$ref': '#/definitions/HumanMessage'}, {'$ref': '#/definitions/ChatMessage'}, {'$ref': '#/definitions/SystemMessage'}, {'$ref': '#/definitions/FunctionMessage'}, {'$ref': '#/definitions/ToolMessage'}], 'definitions': {'AIMessage': {'title': 'AIMessage', 'description': 'Message from an AI.', 'type': 'object', 'properties': {'content': {'title': 'Content', 'anyOf': [{'type': 'string'}, {'type': 'array', 'items': {'anyOf': [{'type': 'string'}, {'type': 'object'}]}}]}, 'additional_kwargs': {'title': 'Additional Kwargs', 'type': 'object'}, 'response_metadata': {'title': 'Response Metadata', 'type': 'object'}, 'type': {'title': 'Type', 'default': 'ai', 'enum': ['ai'], 'type': 'string'}, 'name': {'title': 'Name', 'type': 'string'}, 'id': {'title': 'Id', 'type': 'string'}, 'example': {'title': 'Example', 'default': False, 'type': 'boolean'}}, 'required': ['content']}, 'HumanMessage': {'title': 'HumanMessage', 'description': 'Message from a human.', 'type': 'object', 'properties': {'content': {'title': 'Content', 'anyOf': [{'type': 'string'}, {'type': 'array', 'items': {'anyOf': [{'type': 'string'}, {'type': 'object'}]}}]}, 'additional_kwargs': {'title': 'Additional Kwargs', 'type': 'object'}, 'response_metadata': {'title': 'Response Metadata', 'type': 'object'}, 'type': {'title': 'Type', 'default': 'human', 'enum': ['human'], 'type': 'string'}, 'name': {'title': 'Name', 'type': 'string'}, 'id': {'title': 'Id', 'type': 'string'}, 'example': {'title': 'Example', 'default': False, 'type': 'boolean'}}, 'required': ['content']}, 'ChatMessage': {'title': 'ChatMessage', 'description': 'Message that can be assigned an arbitrary speaker (i.e. role).', 'type': 'object', 'properties': {'content': {'title': 'Content', 'anyOf': [{'type': 'string'}, {'type': 'array', 'items': {'anyOf': [{'type': 'string'}, {'type': 'object'}]}}]}, 'additional_kwargs': {'title': 'Additional Kwargs', 'type': 'object'}, 'response_metadata': {'title': 'Response Metadata', 'type': 'object'}, 'type': {'title': 'Type', 'default': 'chat', 'enum': ['chat'], 'type': 'string'}, 'name': {'title': 'Name', 'type': 'string'}, 'id': {'title': 'Id', 'type': 'string'}, 'role': {'title': 'Role', 'type': 'string'}}, 'required': ['content', 'role']}, 'SystemMessage': {'title': 'SystemMessage', 'description': 'Message for priming AI behavior, usually passed in as the first of a sequence\\nof input messages.', 'type': 'object', 'properties': {'content': {'title': 'Content', 'anyOf': [{'type': 'string'}, {'type': 'array', 'items': {'anyOf': [{'type': 'string'}, {'type': 'object'}]}}]}, 'additional_kwargs': {'title': 'Additional Kwargs', 'type': 'object'}, 'response_metadata': {'title': 'Response Metadata', 'type': 'object'}, 'type': {'title': 'Type', 'default': 'system', 'enum': ['system'], 'type': 'string'}, 'name': {'title': 'Name', 'type': 'string'}, 'id': {'title': 'Id', 'type': 'string'}}, 'required': ['content']}, 'FunctionMessage': {'title': 'FunctionMessage', 'description': 'Message for passing the result of executing a function back to a model.', 'type': 'object', 'properties': {'content': {'title': 'Content', 'anyOf': [{'type': 'string'}, {'type': 'array', 'items': {'anyOf': [{'type': 'string'}, {'type': 'object'}]}}]}, 'additional_kwargs': {'title': 'Additional Kwargs', 'type': 'object'}, 'response_metadata': {'title': 'Response Metadata', 'type': 'object'}, 'type': {'title': 'Type', 'default': 'function', 'enum': ['function'], 'type': 'string'}, 'name': {'title': 'Name', 'type': 'string'}, 'id': {'title': 'Id', 'type': 'string'}}, 'required': ['content', 'name']}, 'ToolMessage': {'title': 'ToolMessage', 'description': 'Message for passing the result of executing a tool back to a model.', 'type': 'object', 'properties': {'content': {'title': 'Content', 'anyOf': [{'type': 'string'}, {'type': 'array', 'items': {'anyOf': [{'type': 'string'}, {'type': 'object'}]}}]}, 'additional_kwargs': {'title': 'Additional Kwargs', 'type': 'object'}, 'response_metadata': {'title': 'Response Metadata', 'type': 'object'}, 'type': {'title': 'Type', 'default': 'tool', 'enum': ['tool'], 'type': 'string'}, 'name': {'title': 'Name', 'type': 'string'}, 'id': {'title': 'Id', 'type': 'string'}, 'tool_call_id': {'title': 'Tool Call Id', 'type': 'string'}}, 'required': ['content', 'tool_call_id']}}}}], 'edges': [{'source': 0, 'target': 1}, {'source': 1, 'target': 2}, {'source': 2, 'target': 3}, {'source': 4, 'target': 5}, {'source': 3, 'target': 4}]}}\n",
      "Inputs: \n",
      "{'question': 'What is meant by computational finance?'}\n",
      "Serialized:\n",
      "{'lc': 1, 'type': 'constructor', 'id': ['langchain', 'prompts', 'chat', 'ChatPromptTemplate'], 'kwargs': {'input_variables': ['question'], 'messages': [{'lc': 1, 'type': 'constructor', 'id': ['langchain', 'prompts', 'chat', 'HumanMessagePromptTemplate'], 'kwargs': {'prompt': {'lc': 1, 'type': 'constructor', 'id': ['langchain', 'prompts', 'prompt', 'PromptTemplate'], 'kwargs': {'input_variables': ['question'], 'template': '\\n    Question: {question} \\n    Answer:\\n    ', 'template_format': 'f-string', 'partial_variables': {}}, 'name': 'PromptTemplate', 'graph': {'nodes': [{'id': 0, 'type': 'schema', 'data': {'title': 'PromptInput', 'type': 'object', 'properties': {'question': {'title': 'Question', 'type': 'string'}}}}, {'id': 1, 'type': 'runnable', 'data': {'id': ['langchain', 'prompts', 'prompt', 'PromptTemplate'], 'name': 'PromptTemplate'}}, {'id': 2, 'type': 'schema', 'data': {'title': 'PromptTemplateOutput', 'anyOf': [{'$ref': '#/definitions/StringPromptValue'}, {'$ref': '#/definitions/ChatPromptValueConcrete'}], 'definitions': {'StringPromptValue': {'title': 'StringPromptValue', 'description': 'String prompt value.', 'type': 'object', 'properties': {'text': {'title': 'Text', 'type': 'string'}, 'type': {'title': 'Type', 'default': 'StringPromptValue', 'enum': ['StringPromptValue'], 'type': 'string'}}, 'required': ['text']}, 'AIMessage': {'title': 'AIMessage', 'description': 'Message from an AI.', 'type': 'object', 'properties': {'content': {'title': 'Content', 'anyOf': [{'type': 'string'}, {'type': 'array', 'items': {'anyOf': [{'type': 'string'}, {'type': 'object'}]}}]}, 'additional_kwargs': {'title': 'Additional Kwargs', 'type': 'object'}, 'response_metadata': {'title': 'Response Metadata', 'type': 'object'}, 'type': {'title': 'Type', 'default': 'ai', 'enum': ['ai'], 'type': 'string'}, 'name': {'title': 'Name', 'type': 'string'}, 'id': {'title': 'Id', 'type': 'string'}, 'example': {'title': 'Example', 'default': False, 'type': 'boolean'}}, 'required': ['content']}, 'HumanMessage': {'title': 'HumanMessage', 'description': 'Message from a human.', 'type': 'object', 'properties': {'content': {'title': 'Content', 'anyOf': [{'type': 'string'}, {'type': 'array', 'items': {'anyOf': [{'type': 'string'}, {'type': 'object'}]}}]}, 'additional_kwargs': {'title': 'Additional Kwargs', 'type': 'object'}, 'response_metadata': {'title': 'Response Metadata', 'type': 'object'}, 'type': {'title': 'Type', 'default': 'human', 'enum': ['human'], 'type': 'string'}, 'name': {'title': 'Name', 'type': 'string'}, 'id': {'title': 'Id', 'type': 'string'}, 'example': {'title': 'Example', 'default': False, 'type': 'boolean'}}, 'required': ['content']}, 'ChatMessage': {'title': 'ChatMessage', 'description': 'Message that can be assigned an arbitrary speaker (i.e. role).', 'type': 'object', 'properties': {'content': {'title': 'Content', 'anyOf': [{'type': 'string'}, {'type': 'array', 'items': {'anyOf': [{'type': 'string'}, {'type': 'object'}]}}]}, 'additional_kwargs': {'title': 'Additional Kwargs', 'type': 'object'}, 'response_metadata': {'title': 'Response Metadata', 'type': 'object'}, 'type': {'title': 'Type', 'default': 'chat', 'enum': ['chat'], 'type': 'string'}, 'name': {'title': 'Name', 'type': 'string'}, 'id': {'title': 'Id', 'type': 'string'}, 'role': {'title': 'Role', 'type': 'string'}}, 'required': ['content', 'role']}, 'SystemMessage': {'title': 'SystemMessage', 'description': 'Message for priming AI behavior, usually passed in as the first of a sequence\\nof input messages.', 'type': 'object', 'properties': {'content': {'title': 'Content', 'anyOf': [{'type': 'string'}, {'type': 'array', 'items': {'anyOf': [{'type': 'string'}, {'type': 'object'}]}}]}, 'additional_kwargs': {'title': 'Additional Kwargs', 'type': 'object'}, 'response_metadata': {'title': 'Response Metadata', 'type': 'object'}, 'type': {'title': 'Type', 'default': 'system', 'enum': ['system'], 'type': 'string'}, 'name': {'title': 'Name', 'type': 'string'}, 'id': {'title': 'Id', 'type': 'string'}}, 'required': ['content']}, 'FunctionMessage': {'title': 'FunctionMessage', 'description': 'Message for passing the result of executing a function back to a model.', 'type': 'object', 'properties': {'content': {'title': 'Content', 'anyOf': [{'type': 'string'}, {'type': 'array', 'items': {'anyOf': [{'type': 'string'}, {'type': 'object'}]}}]}, 'additional_kwargs': {'title': 'Additional Kwargs', 'type': 'object'}, 'response_metadata': {'title': 'Response Metadata', 'type': 'object'}, 'type': {'title': 'Type', 'default': 'function', 'enum': ['function'], 'type': 'string'}, 'name': {'title': 'Name', 'type': 'string'}, 'id': {'title': 'Id', 'type': 'string'}}, 'required': ['content', 'name']}, 'ToolMessage': {'title': 'ToolMessage', 'description': 'Message for passing the result of executing a tool back to a model.', 'type': 'object', 'properties': {'content': {'title': 'Content', 'anyOf': [{'type': 'string'}, {'type': 'array', 'items': {'anyOf': [{'type': 'string'}, {'type': 'object'}]}}]}, 'additional_kwargs': {'title': 'Additional Kwargs', 'type': 'object'}, 'response_metadata': {'title': 'Response Metadata', 'type': 'object'}, 'type': {'title': 'Type', 'default': 'tool', 'enum': ['tool'], 'type': 'string'}, 'name': {'title': 'Name', 'type': 'string'}, 'id': {'title': 'Id', 'type': 'string'}, 'tool_call_id': {'title': 'Tool Call Id', 'type': 'string'}}, 'required': ['content', 'tool_call_id']}, 'ChatPromptValueConcrete': {'title': 'ChatPromptValueConcrete', 'description': 'Chat prompt value which explicitly lists out the message types it accepts.\\nFor use in external schemas.', 'type': 'object', 'properties': {'messages': {'title': 'Messages', 'type': 'array', 'items': {'anyOf': [{'$ref': '#/definitions/AIMessage'}, {'$ref': '#/definitions/HumanMessage'}, {'$ref': '#/definitions/ChatMessage'}, {'$ref': '#/definitions/SystemMessage'}, {'$ref': '#/definitions/FunctionMessage'}, {'$ref': '#/definitions/ToolMessage'}]}}, 'type': {'title': 'Type', 'default': 'ChatPromptValueConcrete', 'enum': ['ChatPromptValueConcrete'], 'type': 'string'}}, 'required': ['messages']}}}}], 'edges': [{'source': 0, 'target': 1}, {'source': 1, 'target': 2}]}}}}], 'partial_variables': {}}, 'name': 'ChatPromptTemplate', 'graph': {'nodes': [{'id': 0, 'type': 'schema', 'data': {'title': 'PromptInput', 'type': 'object', 'properties': {'question': {'title': 'Question', 'type': 'string'}}}}, {'id': 1, 'type': 'runnable', 'data': {'id': ['langchain', 'prompts', 'chat', 'ChatPromptTemplate'], 'name': 'ChatPromptTemplate'}}, {'id': 2, 'type': 'schema', 'data': {'title': 'ChatPromptTemplateOutput', 'anyOf': [{'$ref': '#/definitions/StringPromptValue'}, {'$ref': '#/definitions/ChatPromptValueConcrete'}], 'definitions': {'StringPromptValue': {'title': 'StringPromptValue', 'description': 'String prompt value.', 'type': 'object', 'properties': {'text': {'title': 'Text', 'type': 'string'}, 'type': {'title': 'Type', 'default': 'StringPromptValue', 'enum': ['StringPromptValue'], 'type': 'string'}}, 'required': ['text']}, 'AIMessage': {'title': 'AIMessage', 'description': 'Message from an AI.', 'type': 'object', 'properties': {'content': {'title': 'Content', 'anyOf': [{'type': 'string'}, {'type': 'array', 'items': {'anyOf': [{'type': 'string'}, {'type': 'object'}]}}]}, 'additional_kwargs': {'title': 'Additional Kwargs', 'type': 'object'}, 'response_metadata': {'title': 'Response Metadata', 'type': 'object'}, 'type': {'title': 'Type', 'default': 'ai', 'enum': ['ai'], 'type': 'string'}, 'name': {'title': 'Name', 'type': 'string'}, 'id': {'title': 'Id', 'type': 'string'}, 'example': {'title': 'Example', 'default': False, 'type': 'boolean'}}, 'required': ['content']}, 'HumanMessage': {'title': 'HumanMessage', 'description': 'Message from a human.', 'type': 'object', 'properties': {'content': {'title': 'Content', 'anyOf': [{'type': 'string'}, {'type': 'array', 'items': {'anyOf': [{'type': 'string'}, {'type': 'object'}]}}]}, 'additional_kwargs': {'title': 'Additional Kwargs', 'type': 'object'}, 'response_metadata': {'title': 'Response Metadata', 'type': 'object'}, 'type': {'title': 'Type', 'default': 'human', 'enum': ['human'], 'type': 'string'}, 'name': {'title': 'Name', 'type': 'string'}, 'id': {'title': 'Id', 'type': 'string'}, 'example': {'title': 'Example', 'default': False, 'type': 'boolean'}}, 'required': ['content']}, 'ChatMessage': {'title': 'ChatMessage', 'description': 'Message that can be assigned an arbitrary speaker (i.e. role).', 'type': 'object', 'properties': {'content': {'title': 'Content', 'anyOf': [{'type': 'string'}, {'type': 'array', 'items': {'anyOf': [{'type': 'string'}, {'type': 'object'}]}}]}, 'additional_kwargs': {'title': 'Additional Kwargs', 'type': 'object'}, 'response_metadata': {'title': 'Response Metadata', 'type': 'object'}, 'type': {'title': 'Type', 'default': 'chat', 'enum': ['chat'], 'type': 'string'}, 'name': {'title': 'Name', 'type': 'string'}, 'id': {'title': 'Id', 'type': 'string'}, 'role': {'title': 'Role', 'type': 'string'}}, 'required': ['content', 'role']}, 'SystemMessage': {'title': 'SystemMessage', 'description': 'Message for priming AI behavior, usually passed in as the first of a sequence\\nof input messages.', 'type': 'object', 'properties': {'content': {'title': 'Content', 'anyOf': [{'type': 'string'}, {'type': 'array', 'items': {'anyOf': [{'type': 'string'}, {'type': 'object'}]}}]}, 'additional_kwargs': {'title': 'Additional Kwargs', 'type': 'object'}, 'response_metadata': {'title': 'Response Metadata', 'type': 'object'}, 'type': {'title': 'Type', 'default': 'system', 'enum': ['system'], 'type': 'string'}, 'name': {'title': 'Name', 'type': 'string'}, 'id': {'title': 'Id', 'type': 'string'}}, 'required': ['content']}, 'FunctionMessage': {'title': 'FunctionMessage', 'description': 'Message for passing the result of executing a function back to a model.', 'type': 'object', 'properties': {'content': {'title': 'Content', 'anyOf': [{'type': 'string'}, {'type': 'array', 'items': {'anyOf': [{'type': 'string'}, {'type': 'object'}]}}]}, 'additional_kwargs': {'title': 'Additional Kwargs', 'type': 'object'}, 'response_metadata': {'title': 'Response Metadata', 'type': 'object'}, 'type': {'title': 'Type', 'default': 'function', 'enum': ['function'], 'type': 'string'}, 'name': {'title': 'Name', 'type': 'string'}, 'id': {'title': 'Id', 'type': 'string'}}, 'required': ['content', 'name']}, 'ToolMessage': {'title': 'ToolMessage', 'description': 'Message for passing the result of executing a tool back to a model.', 'type': 'object', 'properties': {'content': {'title': 'Content', 'anyOf': [{'type': 'string'}, {'type': 'array', 'items': {'anyOf': [{'type': 'string'}, {'type': 'object'}]}}]}, 'additional_kwargs': {'title': 'Additional Kwargs', 'type': 'object'}, 'response_metadata': {'title': 'Response Metadata', 'type': 'object'}, 'type': {'title': 'Type', 'default': 'tool', 'enum': ['tool'], 'type': 'string'}, 'name': {'title': 'Name', 'type': 'string'}, 'id': {'title': 'Id', 'type': 'string'}, 'tool_call_id': {'title': 'Tool Call Id', 'type': 'string'}}, 'required': ['content', 'tool_call_id']}, 'ChatPromptValueConcrete': {'title': 'ChatPromptValueConcrete', 'description': 'Chat prompt value which explicitly lists out the message types it accepts.\\nFor use in external schemas.', 'type': 'object', 'properties': {'messages': {'title': 'Messages', 'type': 'array', 'items': {'anyOf': [{'$ref': '#/definitions/AIMessage'}, {'$ref': '#/definitions/HumanMessage'}, {'$ref': '#/definitions/ChatMessage'}, {'$ref': '#/definitions/SystemMessage'}, {'$ref': '#/definitions/FunctionMessage'}, {'$ref': '#/definitions/ToolMessage'}]}}, 'type': {'title': 'Type', 'default': 'ChatPromptValueConcrete', 'enum': ['ChatPromptValueConcrete'], 'type': 'string'}}, 'required': ['messages']}}}}], 'edges': [{'source': 0, 'target': 1}, {'source': 1, 'target': 2}]}}\n",
      "Inputs: \n",
      "messages=[HumanMessage(content='\\n    Question: What is meant by computational finance? \\n    Answer:\\n    ')]\n",
      "Serialized:\n",
      "{'lc': 1, 'type': 'not_implemented', 'id': ['langchain_core', 'runnables', 'base', 'RunnableLambda'], 'repr': 'RunnableLambda(retrieve_text)'}\n",
      "Inputs: \n",
      "{'prompt': '\\n    Question: What is meant by computational finance? \\n    Answer:\\n    '}\n",
      "Serialized:\n",
      "{'lc': 1, 'type': 'constructor', 'id': ['langchain', 'prompts', 'chat', 'ChatPromptTemplate'], 'kwargs': {'input_variables': ['prompt'], 'messages': [{'lc': 1, 'type': 'constructor', 'id': ['langchain', 'prompts', 'chat', 'HumanMessagePromptTemplate'], 'kwargs': {'prompt': {'lc': 1, 'type': 'constructor', 'id': ['langchain', 'prompts', 'prompt', 'PromptTemplate'], 'kwargs': {'input_variables': ['prompt'], 'template': 'You are an assistant that helps answer questions. \\n    {prompt}\\n    ', 'template_format': 'f-string', 'partial_variables': {}}, 'name': 'PromptTemplate', 'graph': {'nodes': [{'id': 0, 'type': 'schema', 'data': {'title': 'PromptInput', 'type': 'object', 'properties': {'prompt': {'title': 'Prompt', 'type': 'string'}}}}, {'id': 1, 'type': 'runnable', 'data': {'id': ['langchain', 'prompts', 'prompt', 'PromptTemplate'], 'name': 'PromptTemplate'}}, {'id': 2, 'type': 'schema', 'data': {'title': 'PromptTemplateOutput', 'anyOf': [{'$ref': '#/definitions/StringPromptValue'}, {'$ref': '#/definitions/ChatPromptValueConcrete'}], 'definitions': {'StringPromptValue': {'title': 'StringPromptValue', 'description': 'String prompt value.', 'type': 'object', 'properties': {'text': {'title': 'Text', 'type': 'string'}, 'type': {'title': 'Type', 'default': 'StringPromptValue', 'enum': ['StringPromptValue'], 'type': 'string'}}, 'required': ['text']}, 'AIMessage': {'title': 'AIMessage', 'description': 'Message from an AI.', 'type': 'object', 'properties': {'content': {'title': 'Content', 'anyOf': [{'type': 'string'}, {'type': 'array', 'items': {'anyOf': [{'type': 'string'}, {'type': 'object'}]}}]}, 'additional_kwargs': {'title': 'Additional Kwargs', 'type': 'object'}, 'response_metadata': {'title': 'Response Metadata', 'type': 'object'}, 'type': {'title': 'Type', 'default': 'ai', 'enum': ['ai'], 'type': 'string'}, 'name': {'title': 'Name', 'type': 'string'}, 'id': {'title': 'Id', 'type': 'string'}, 'example': {'title': 'Example', 'default': False, 'type': 'boolean'}}, 'required': ['content']}, 'HumanMessage': {'title': 'HumanMessage', 'description': 'Message from a human.', 'type': 'object', 'properties': {'content': {'title': 'Content', 'anyOf': [{'type': 'string'}, {'type': 'array', 'items': {'anyOf': [{'type': 'string'}, {'type': 'object'}]}}]}, 'additional_kwargs': {'title': 'Additional Kwargs', 'type': 'object'}, 'response_metadata': {'title': 'Response Metadata', 'type': 'object'}, 'type': {'title': 'Type', 'default': 'human', 'enum': ['human'], 'type': 'string'}, 'name': {'title': 'Name', 'type': 'string'}, 'id': {'title': 'Id', 'type': 'string'}, 'example': {'title': 'Example', 'default': False, 'type': 'boolean'}}, 'required': ['content']}, 'ChatMessage': {'title': 'ChatMessage', 'description': 'Message that can be assigned an arbitrary speaker (i.e. role).', 'type': 'object', 'properties': {'content': {'title': 'Content', 'anyOf': [{'type': 'string'}, {'type': 'array', 'items': {'anyOf': [{'type': 'string'}, {'type': 'object'}]}}]}, 'additional_kwargs': {'title': 'Additional Kwargs', 'type': 'object'}, 'response_metadata': {'title': 'Response Metadata', 'type': 'object'}, 'type': {'title': 'Type', 'default': 'chat', 'enum': ['chat'], 'type': 'string'}, 'name': {'title': 'Name', 'type': 'string'}, 'id': {'title': 'Id', 'type': 'string'}, 'role': {'title': 'Role', 'type': 'string'}}, 'required': ['content', 'role']}, 'SystemMessage': {'title': 'SystemMessage', 'description': 'Message for priming AI behavior, usually passed in as the first of a sequence\\nof input messages.', 'type': 'object', 'properties': {'content': {'title': 'Content', 'anyOf': [{'type': 'string'}, {'type': 'array', 'items': {'anyOf': [{'type': 'string'}, {'type': 'object'}]}}]}, 'additional_kwargs': {'title': 'Additional Kwargs', 'type': 'object'}, 'response_metadata': {'title': 'Response Metadata', 'type': 'object'}, 'type': {'title': 'Type', 'default': 'system', 'enum': ['system'], 'type': 'string'}, 'name': {'title': 'Name', 'type': 'string'}, 'id': {'title': 'Id', 'type': 'string'}}, 'required': ['content']}, 'FunctionMessage': {'title': 'FunctionMessage', 'description': 'Message for passing the result of executing a function back to a model.', 'type': 'object', 'properties': {'content': {'title': 'Content', 'anyOf': [{'type': 'string'}, {'type': 'array', 'items': {'anyOf': [{'type': 'string'}, {'type': 'object'}]}}]}, 'additional_kwargs': {'title': 'Additional Kwargs', 'type': 'object'}, 'response_metadata': {'title': 'Response Metadata', 'type': 'object'}, 'type': {'title': 'Type', 'default': 'function', 'enum': ['function'], 'type': 'string'}, 'name': {'title': 'Name', 'type': 'string'}, 'id': {'title': 'Id', 'type': 'string'}}, 'required': ['content', 'name']}, 'ToolMessage': {'title': 'ToolMessage', 'description': 'Message for passing the result of executing a tool back to a model.', 'type': 'object', 'properties': {'content': {'title': 'Content', 'anyOf': [{'type': 'string'}, {'type': 'array', 'items': {'anyOf': [{'type': 'string'}, {'type': 'object'}]}}]}, 'additional_kwargs': {'title': 'Additional Kwargs', 'type': 'object'}, 'response_metadata': {'title': 'Response Metadata', 'type': 'object'}, 'type': {'title': 'Type', 'default': 'tool', 'enum': ['tool'], 'type': 'string'}, 'name': {'title': 'Name', 'type': 'string'}, 'id': {'title': 'Id', 'type': 'string'}, 'tool_call_id': {'title': 'Tool Call Id', 'type': 'string'}}, 'required': ['content', 'tool_call_id']}, 'ChatPromptValueConcrete': {'title': 'ChatPromptValueConcrete', 'description': 'Chat prompt value which explicitly lists out the message types it accepts.\\nFor use in external schemas.', 'type': 'object', 'properties': {'messages': {'title': 'Messages', 'type': 'array', 'items': {'anyOf': [{'$ref': '#/definitions/AIMessage'}, {'$ref': '#/definitions/HumanMessage'}, {'$ref': '#/definitions/ChatMessage'}, {'$ref': '#/definitions/SystemMessage'}, {'$ref': '#/definitions/FunctionMessage'}, {'$ref': '#/definitions/ToolMessage'}]}}, 'type': {'title': 'Type', 'default': 'ChatPromptValueConcrete', 'enum': ['ChatPromptValueConcrete'], 'type': 'string'}}, 'required': ['messages']}}}}], 'edges': [{'source': 0, 'target': 1}, {'source': 1, 'target': 2}]}}}}], 'partial_variables': {}}, 'name': 'ChatPromptTemplate', 'graph': {'nodes': [{'id': 0, 'type': 'schema', 'data': {'title': 'PromptInput', 'type': 'object', 'properties': {'prompt': {'title': 'Prompt', 'type': 'string'}}}}, {'id': 1, 'type': 'runnable', 'data': {'id': ['langchain', 'prompts', 'chat', 'ChatPromptTemplate'], 'name': 'ChatPromptTemplate'}}, {'id': 2, 'type': 'schema', 'data': {'title': 'ChatPromptTemplateOutput', 'anyOf': [{'$ref': '#/definitions/StringPromptValue'}, {'$ref': '#/definitions/ChatPromptValueConcrete'}], 'definitions': {'StringPromptValue': {'title': 'StringPromptValue', 'description': 'String prompt value.', 'type': 'object', 'properties': {'text': {'title': 'Text', 'type': 'string'}, 'type': {'title': 'Type', 'default': 'StringPromptValue', 'enum': ['StringPromptValue'], 'type': 'string'}}, 'required': ['text']}, 'AIMessage': {'title': 'AIMessage', 'description': 'Message from an AI.', 'type': 'object', 'properties': {'content': {'title': 'Content', 'anyOf': [{'type': 'string'}, {'type': 'array', 'items': {'anyOf': [{'type': 'string'}, {'type': 'object'}]}}]}, 'additional_kwargs': {'title': 'Additional Kwargs', 'type': 'object'}, 'response_metadata': {'title': 'Response Metadata', 'type': 'object'}, 'type': {'title': 'Type', 'default': 'ai', 'enum': ['ai'], 'type': 'string'}, 'name': {'title': 'Name', 'type': 'string'}, 'id': {'title': 'Id', 'type': 'string'}, 'example': {'title': 'Example', 'default': False, 'type': 'boolean'}}, 'required': ['content']}, 'HumanMessage': {'title': 'HumanMessage', 'description': 'Message from a human.', 'type': 'object', 'properties': {'content': {'title': 'Content', 'anyOf': [{'type': 'string'}, {'type': 'array', 'items': {'anyOf': [{'type': 'string'}, {'type': 'object'}]}}]}, 'additional_kwargs': {'title': 'Additional Kwargs', 'type': 'object'}, 'response_metadata': {'title': 'Response Metadata', 'type': 'object'}, 'type': {'title': 'Type', 'default': 'human', 'enum': ['human'], 'type': 'string'}, 'name': {'title': 'Name', 'type': 'string'}, 'id': {'title': 'Id', 'type': 'string'}, 'example': {'title': 'Example', 'default': False, 'type': 'boolean'}}, 'required': ['content']}, 'ChatMessage': {'title': 'ChatMessage', 'description': 'Message that can be assigned an arbitrary speaker (i.e. role).', 'type': 'object', 'properties': {'content': {'title': 'Content', 'anyOf': [{'type': 'string'}, {'type': 'array', 'items': {'anyOf': [{'type': 'string'}, {'type': 'object'}]}}]}, 'additional_kwargs': {'title': 'Additional Kwargs', 'type': 'object'}, 'response_metadata': {'title': 'Response Metadata', 'type': 'object'}, 'type': {'title': 'Type', 'default': 'chat', 'enum': ['chat'], 'type': 'string'}, 'name': {'title': 'Name', 'type': 'string'}, 'id': {'title': 'Id', 'type': 'string'}, 'role': {'title': 'Role', 'type': 'string'}}, 'required': ['content', 'role']}, 'SystemMessage': {'title': 'SystemMessage', 'description': 'Message for priming AI behavior, usually passed in as the first of a sequence\\nof input messages.', 'type': 'object', 'properties': {'content': {'title': 'Content', 'anyOf': [{'type': 'string'}, {'type': 'array', 'items': {'anyOf': [{'type': 'string'}, {'type': 'object'}]}}]}, 'additional_kwargs': {'title': 'Additional Kwargs', 'type': 'object'}, 'response_metadata': {'title': 'Response Metadata', 'type': 'object'}, 'type': {'title': 'Type', 'default': 'system', 'enum': ['system'], 'type': 'string'}, 'name': {'title': 'Name', 'type': 'string'}, 'id': {'title': 'Id', 'type': 'string'}}, 'required': ['content']}, 'FunctionMessage': {'title': 'FunctionMessage', 'description': 'Message for passing the result of executing a function back to a model.', 'type': 'object', 'properties': {'content': {'title': 'Content', 'anyOf': [{'type': 'string'}, {'type': 'array', 'items': {'anyOf': [{'type': 'string'}, {'type': 'object'}]}}]}, 'additional_kwargs': {'title': 'Additional Kwargs', 'type': 'object'}, 'response_metadata': {'title': 'Response Metadata', 'type': 'object'}, 'type': {'title': 'Type', 'default': 'function', 'enum': ['function'], 'type': 'string'}, 'name': {'title': 'Name', 'type': 'string'}, 'id': {'title': 'Id', 'type': 'string'}}, 'required': ['content', 'name']}, 'ToolMessage': {'title': 'ToolMessage', 'description': 'Message for passing the result of executing a tool back to a model.', 'type': 'object', 'properties': {'content': {'title': 'Content', 'anyOf': [{'type': 'string'}, {'type': 'array', 'items': {'anyOf': [{'type': 'string'}, {'type': 'object'}]}}]}, 'additional_kwargs': {'title': 'Additional Kwargs', 'type': 'object'}, 'response_metadata': {'title': 'Response Metadata', 'type': 'object'}, 'type': {'title': 'Type', 'default': 'tool', 'enum': ['tool'], 'type': 'string'}, 'name': {'title': 'Name', 'type': 'string'}, 'id': {'title': 'Id', 'type': 'string'}, 'tool_call_id': {'title': 'Tool Call Id', 'type': 'string'}}, 'required': ['content', 'tool_call_id']}, 'ChatPromptValueConcrete': {'title': 'ChatPromptValueConcrete', 'description': 'Chat prompt value which explicitly lists out the message types it accepts.\\nFor use in external schemas.', 'type': 'object', 'properties': {'messages': {'title': 'Messages', 'type': 'array', 'items': {'anyOf': [{'$ref': '#/definitions/AIMessage'}, {'$ref': '#/definitions/HumanMessage'}, {'$ref': '#/definitions/ChatMessage'}, {'$ref': '#/definitions/SystemMessage'}, {'$ref': '#/definitions/FunctionMessage'}, {'$ref': '#/definitions/ToolMessage'}]}}, 'type': {'title': 'Type', 'default': 'ChatPromptValueConcrete', 'enum': ['ChatPromptValueConcrete'], 'type': 'string'}}, 'required': ['messages']}}}}], 'edges': [{'source': 0, 'target': 1}, {'source': 1, 'target': 2}]}}\n"
     ]
    }
   ],
   "source": [
    "handler = NewHandlerLLM()\n",
    "out = rag_chain.invoke({\"question\":\"What is meant by computational finance?\"}, {\"callbacks\":[handler]})"
   ]
  },
  {
   "cell_type": "code",
   "execution_count": 176,
   "id": "29cbe90c-5653-44c5-8c3e-1cadb76760e4",
   "metadata": {},
   "outputs": [
    {
     "name": "stdout",
     "output_type": "stream",
     "text": [
      "['langchain', 'schema', 'runnable', 'RunnableSequence']\n",
      "['langchain', 'prompts', 'chat', 'ChatPromptTemplate']\n",
      "['langchain_core', 'runnables', 'base', 'RunnableLambda']\n",
      "['langchain', 'prompts', 'chat', 'ChatPromptTemplate']\n",
      "['langchain', 'chat_models', 'openai', 'ChatOpenAI']\n"
     ]
    }
   ],
   "source": [
    "for x in handler.serialized_input:\n",
    "    print(x['id'])"
   ]
  },
  {
   "cell_type": "code",
   "execution_count": 177,
   "id": "16911aa6-2dbb-425e-940d-9252c4318290",
   "metadata": {},
   "outputs": [
    {
     "name": "stdout",
     "output_type": "stream",
     "text": [
      "RunnableSequence\n",
      "ChatPromptTemplate\n",
      "RunnableLambda(retrieve_text)\n",
      "ChatPromptTemplate\n",
      "ChatOpenAI\n"
     ]
    }
   ],
   "source": [
    "for x in handler.serialized_input:\n",
    "    try:\n",
    "        print(x['name'])\n",
    "    except:\n",
    "        print(x['repr'])"
   ]
  },
  {
   "cell_type": "code",
   "execution_count": 178,
   "id": "9161d4a5-fca3-4d03-b36a-9a7d33a696fa",
   "metadata": {},
   "outputs": [
    {
     "name": "stdout",
     "output_type": "stream",
     "text": [
      "name: RunnableSequence\n",
      "type: constructor\n",
      "id: ['langchain', 'schema', 'runnable', 'RunnableSequence']\n",
      "kwargs_keys: dict_keys(['first', 'middle', 'last', 'name'])\n"
     ]
    }
   ],
   "source": [
    "getChainBreakdown(handler.serialized_input[0])"
   ]
  },
  {
   "cell_type": "code",
   "execution_count": 179,
   "id": "0e91ae12-db62-4208-a4be-124b56b198fb",
   "metadata": {},
   "outputs": [
    {
     "name": "stdout",
     "output_type": "stream",
     "text": [
      "name: ChatPromptTemplate\n",
      "type: constructor\n",
      "id: ['langchain', 'prompts', 'chat', 'ChatPromptTemplate']\n",
      "kwargs_keys: dict_keys(['input_variables', 'messages', 'partial_variables'])\n"
     ]
    }
   ],
   "source": [
    "getChainBreakdown(handler.serialized_input[0]['kwargs']['first'])"
   ]
  },
  {
   "cell_type": "code",
   "execution_count": 180,
   "id": "44e102e2-a7bf-4281-968d-c9e2e9350b53",
   "metadata": {},
   "outputs": [
    {
     "name": "stdout",
     "output_type": "stream",
     "text": [
      "name: ChatOpenAI\n",
      "type: constructor\n",
      "id: ['langchain', 'chat_models', 'openai', 'ChatOpenAI']\n",
      "kwargs_keys: dict_keys(['model_name', 'temperature', 'openai_api_key'])\n"
     ]
    }
   ],
   "source": [
    "getChainBreakdown(handler.serialized_input[0]['kwargs']['last'])"
   ]
  },
  {
   "cell_type": "markdown",
   "id": "d36a5f29-8684-4d65-b263-5ab7aaa747ad",
   "metadata": {},
   "source": [
    "## Chain 3"
   ]
  },
  {
   "cell_type": "code",
   "execution_count": 212,
   "id": "9ba9d763-3032-4b0a-85d1-3a768e290584",
   "metadata": {},
   "outputs": [],
   "source": [
    "def format_docs(docs):\n",
    "    return \"\\n\\n ------------\".join(doc.page_content for doc in docs)\n",
    "    \n",
    "retriever = store.as_retriever()"
   ]
  },
  {
   "cell_type": "code",
   "execution_count": 213,
   "id": "64a51dc2-e0e2-4fb4-9298-e018025e7747",
   "metadata": {},
   "outputs": [],
   "source": [
    "qa_template = \"\"\" You are a helpful assistant that answers questions\n",
    "    Question: {question} \n",
    "    Context: {context}\n",
    "    Answer:\n",
    "    \"\"\"\n",
    "qa_prompt = ChatPromptTemplate.from_template(qa_template)\n",
    "\n",
    "rag_chain = ( {'context': retriever | format_docs , 'question': RunnablePassthrough() } | qa_prompt)"
   ]
  },
  {
   "cell_type": "code",
   "execution_count": 214,
   "id": "dc780856-8a5e-4408-a993-488a63b3a28e",
   "metadata": {
    "scrolled": true
   },
   "outputs": [
    {
     "name": "stdout",
     "output_type": "stream",
     "text": [
      "chain start\n",
      "chain start\n",
      "chain start\n",
      "chain start\n",
      "chain start\n",
      "chain start\n"
     ]
    },
    {
     "data": {
      "text/plain": [
       "ChatPromptValue(messages=[HumanMessage(content=' You are a helpful assistant that answers questions\\n    Question: What is computational finance? \\n    Context: Agent-based Computational Finance\\nBlake LeBaron∗\\nBrandeis University\\nApril 21st, 2005: Comments still welcome!\\nAbstract\\nThis chapter surveys research on agent-based models used in ﬁnance. It will concentrate on models\\nwhere the use of computational tools is critical for the process of crafting models which give insights into\\nthe importance and dynamics of investor heterogeneity in many ﬁnancial settings.\\n∗International Business School, Brandeis University, 415 South Street, Mailstop 32, Waltham, MA 02453 - 2728, ble-\\nbaron@brandeis.edu, www.brandeis.edu/∼blebaron. The author is also a research associate at the National Bureau of Economic\\nResearch. This is a preliminary draft for The Handbook of Computational Economics, vol. II, , edited by K. L. Judd and L.\\nTesfatsion. The author is grateful to many people who have made comments on earlier drafts. These include W. A. Brock,\\nCars Hommes, Leigh Tesfatsion, Frank Westerhoﬀ, and two anonymous referees.\\n1\\n\\n ------------1 Introduction\\nIn the mid to later part of the 20th century, ﬁnance witnessed a revolution. The advent of the eﬃcient\\nmarkets hypothesis, the capital asset pricing model, and the Black/Scholes options pricing formula put the\\nﬁeld on a new, solid scientiﬁc foundation. This world was built on the assumption that asset markets were\\npowerful computational engines, and were able to aggregate and process the beliefs and demands of traders,\\nleaving in prices the full set of properly processed information currently available. At the core of asset\\npricing, eﬃcient market theories give a clean and compelling picture of the world which is as appealing\\nto ﬁnancial economists as it is potentially unappealing to ﬁnancial practitioners.1It is interesting to note\\nthat these foundations came with a very important computational dimension. The early availability of large\\nmachine-readable data sets, and the computational power to analyze them, laid the critical foundation for\\nthis new ﬁnancial rigor.2In agent-based computational models the computer is once again at the center\\nof a change in thinking about ﬁnancial markets. This time it is helping to pursue a world view in which\\nagents may diﬀer in many ways, not just in their information, but in their ability to process information,\\ntheir attitudes toward risk, and in many other dimensions.\\nModels in the realm of agent-based computational ﬁnance view ﬁnancial markets as interacting groups\\nof learning, boundedly-rational agents. The computer may or may not be a necessary tool to understand\\nthe dynamics of these markets. This survey will concentrate on the cases where analytic solutions would\\nbe impossible, and computational tools are necessary.3It is important to distinguish agent-based models\\nfrom other more general heterogeneous agent models in ﬁnance, since the latter have been part of the ﬁeld\\nfor some time.4In agent-based ﬁnancial markets, dynamic heterogeneity is critical. This heterogeneity is\\nrepresented by a distribution of agents, or wealth, across either a ﬁxed or changing set of strategies. In\\nprinciple, optimizing agents would respond optimally to this distribution of other agent strategies, but in\\ngeneral, this state space is far too complicated to begin to calculate an optimal strategy, forcing some form\\nof bounded rationality on both agents and the modeler. It is important to note that in these worlds bounded\\nrationality is driven by the complexity of the state space more than the perceived limitations of individual\\nagents. It is also important to remember that the simpliﬁed rules of thumb used by agents do not suggest\\nthat the exercise is forcing some sort of simpliﬁed solution on the dynamics of the steady state or the model,\\n1This view is not far oﬀ the more general perspective on information dissemination in the economy as a whole put forth in\\nHayek (1945).\\n2A good early collection of work from this era is Cootner (1964).\\n3The survey by Hommes (2005) covers the more analytic heterogeneous agent models. Also, the recent book by Levy, Levy\\n& Solomon (2000) provides another survey of recent work in the ﬁeld.\\n4See Tesfatsion (forthcoming 2005) for more extensive deﬁnitions of agent-based approaches in economics.\\n1\\n\\n ------------cases these models are more analytic than computational. Many of these models follow the early lead of\\nFrankel & Froot (1988), Kirman (1991), and De Grauwe et al. (1993). In these papers it is assumed that there\\nis a population of traders following two diﬀerent types of strategies, labeled “technical” and “fundamental.”\\nTechnical traders are generally responsive to past moves in prices, while fundamental traders make decisions\\nbased on some perceived fundamental value. The relative numbers in the populations usually respond to\\npast performance of the given strategies. The simplicity of these models makes them an important base\\ncase for the more complicated computational models which will be discussed later. Most of these models are\\nanalytic, but several with small strategy sets still require computational techniques to get their dynamics.\\nThese will be discussed here.27\\nOne of the earliest few-type ﬁnancial market models was developed by Figlewski (1978). This market\\nmodel examines the impact of shifting wealth across diﬀerentially-informed agents in a simple asset pricing\\nframework. In this market agents possess a critical piece of information which might be unrealistic when\\nconsidering real ﬁnancial markets. It is assumed that they know the wealth level of the other type of agent in\\nthe market. This is critical in forming price expectations across the two types. There is an eﬃcient market\\nbenchmark, and many of the simulation runs converge to this. Certain sets of parameters do not perform\\nwell in terms of convergence. Among these is the case where one set of agents has better information in\\nterms of signal variance. In this case the simulated variance in the market is 14 percent larger than they\\neﬃcient market benchmark. Actually, the simulations show that overall market eﬃciency might be reduced\\nby the addition of traders with inferior information. Though this paper contains little information on the\\ndynamics of prices and trades, it is still an important early reminder on how wealth dynamics aﬀect the\\nconvergence to an eﬃcient market.\\nKim & Markowitz (1989) are interested in the problem of market instability, and the impact that com-\\nputerized strategies such as portfolio insurance may have had on the crash of 1987. Portfolio insurance\\nstrategies attempt to put a ﬂoor on the value of a portfolio through the use of a dynamic trading strategy.\\nAs the market falls, investors move holdings to cash to stop their losses. It is obvious that a market with\\nmany traders using portfolio insurance strategies can be very unstable. Since the strategy is well deﬁned,\\nthis allows for a simple computational test bed to assess their impact. The authors ﬁnd that price volatility,\\ntrading volume, and the size of extreme price changes is increased as the fraction of portfolio insurance\\ntraders increases.\\n27Other important early papers in this area which are discussed in Hommes (2005) are Beja & Goldman (1980), Brock &\\nHommes (1998), Chiarella (1992), Cont & Bouchaud (2000), Day & Huang (1990), Lux (1997), and Zeeman (1974).\\n12\\n\\n ------------3.2 Model dynamics under learning\\nThe papers described in this section are more computational than those mentioned previously. In most\\ncases the small sets of tractable trading rules are replaced with larger sets of strategies, which are usually\\nrepresented using various computational techniques. These will be referred to as many-type models. This\\nﬁrst section concentrates on applications where the economic environment is well understood and where there\\nis often a simple homogeneous rational expectations equilibrium which gives a useful benchmark comparison.\\nLettau (1997) provides a good example of a computational model of this type. He implements a ﬁnancial\\nmarket model with a set of heterogeneous learning agents, that is simple, transparent, and easy to implement.\\nThe model is a portfolio choice environment where investors must decide what fraction of wealth to put in\\na risky asset. There is also a risk-free asset paying zero interest. The world is a repeated two-period model\\nwith myopic preferences based only on wealth in the second period. The risky asset has an exogenously\\ngiven price and pays a random dividend, d, which follows a normal distribution. The second period wealth\\nof agents is given by,\\nw=s(d−p), (2)\\nand their preferences are assumed to exhibit constant absolute risk aversion which can be parameterized as\\nin,\\nU(w) =−e−γw. (3)\\nThis is clearly a very simpliﬁed market. No attempt is made to look at the feedback from agents’ demands\\nto returns on the risky asset. There is no consumption, and wealth is not linked to agents’ impact on asset\\nprices, or evolution. However, it is a very straightforward test of learning in a ﬁnancial market.\\nGiven the normally distributed dividend process, there is a well-known optimal solution to the portfolio\\nproblem given by,\\ns∗=α∗(¯d−p) (4)\\nα∗=1\\nγσ2\\nd(5)\\nwhere σ2\\ndis the variance of the random dividend payout. The main exercise in Lettau’s paper is to see if and\\nwhen agents are able to learn this optimal portfolio strategy using a genetic algorithm. In general, agents’\\npolicy functions could take the form of\\ns=s(¯d, p), (6)\\n13\\n    Answer:\\n    ')])"
      ]
     },
     "execution_count": 214,
     "metadata": {},
     "output_type": "execute_result"
    }
   ],
   "source": [
    "handler = NewHandler()\n",
    "\n",
    "rag_chain.invoke(\"What is computational finance?\", {\"callbacks\":[handler]})"
   ]
  },
  {
   "cell_type": "code",
   "execution_count": 194,
   "id": "c6991013-7653-439c-862d-6403073de0a9",
   "metadata": {},
   "outputs": [
    {
     "name": "stdout",
     "output_type": "stream",
     "text": [
      "['langchain', 'schema', 'runnable', 'RunnableSequence']\n",
      "['langchain', 'schema', 'runnable', 'RunnableParallel']\n",
      "['langchain', 'schema', 'runnable', 'RunnableSequence']\n",
      "['langchain', 'schema', 'runnable', 'RunnablePassthrough']\n",
      "['langchain_core', 'runnables', 'base', 'RunnableLambda']\n",
      "['langchain', 'prompts', 'chat', 'ChatPromptTemplate']\n"
     ]
    }
   ],
   "source": [
    "for x in handler.serialized_input:\n",
    "    print(x['id'])"
   ]
  },
  {
   "cell_type": "code",
   "execution_count": 195,
   "id": "86c1e911-ea85-4789-a71a-8d4c3c380ea8",
   "metadata": {},
   "outputs": [
    {
     "name": "stdout",
     "output_type": "stream",
     "text": [
      "RunnableSequence\n",
      "RunnableParallel<context,question>\n",
      "RunnableSequence\n",
      "RunnablePassthrough\n",
      "RunnableLambda(format_docs)\n",
      "ChatPromptTemplate\n"
     ]
    }
   ],
   "source": [
    "for x in handler.serialized_input:\n",
    "    try:\n",
    "        print(x['name'])\n",
    "    except:\n",
    "        print(x['repr'])"
   ]
  },
  {
   "cell_type": "code",
   "execution_count": 196,
   "id": "1ab1f163-0fbc-47b4-9698-c4462dd7af79",
   "metadata": {},
   "outputs": [
    {
     "name": "stdout",
     "output_type": "stream",
     "text": [
      "name: RunnableSequence\n",
      "type: constructor\n",
      "id: ['langchain', 'schema', 'runnable', 'RunnableSequence']\n",
      "kwargs_keys: dict_keys(['first', 'middle', 'last', 'name'])\n"
     ]
    }
   ],
   "source": [
    "getChainBreakdown(handler.serialized_input[0])"
   ]
  },
  {
   "cell_type": "code",
   "execution_count": 199,
   "id": "7e16024a-5f7f-4d4c-b65e-c11c274116d8",
   "metadata": {},
   "outputs": [
    {
     "name": "stdout",
     "output_type": "stream",
     "text": [
      "name: RunnableParallel<context,question>\n",
      "type: constructor\n",
      "id: ['langchain', 'schema', 'runnable', 'RunnableParallel']\n",
      "kwargs_keys: dict_keys(['steps'])\n"
     ]
    }
   ],
   "source": [
    "getChainBreakdown(handler.serialized_input[0]['kwargs']['first'])"
   ]
  },
  {
   "cell_type": "code",
   "execution_count": 200,
   "id": "33662ac7-db0e-4618-a7df-36e5fa065118",
   "metadata": {},
   "outputs": [
    {
     "name": "stdout",
     "output_type": "stream",
     "text": [
      "name: ChatPromptTemplate\n",
      "type: constructor\n",
      "id: ['langchain', 'prompts', 'chat', 'ChatPromptTemplate']\n",
      "kwargs_keys: dict_keys(['input_variables', 'messages', 'partial_variables'])\n"
     ]
    }
   ],
   "source": [
    "getChainBreakdown(handler.serialized_input[0]['kwargs']['last'])"
   ]
  },
  {
   "cell_type": "code",
   "execution_count": 197,
   "id": "0fddc533-dcbe-47c7-af12-65d1d4de138a",
   "metadata": {},
   "outputs": [
    {
     "name": "stdout",
     "output_type": "stream",
     "text": [
      "name: RunnableParallel<context,question>\n",
      "type: constructor\n",
      "id: ['langchain', 'schema', 'runnable', 'RunnableParallel']\n",
      "kwargs_keys: dict_keys(['steps'])\n"
     ]
    }
   ],
   "source": [
    "getChainBreakdown(handler.serialized_input[1])"
   ]
  },
  {
   "cell_type": "code",
   "execution_count": 198,
   "id": "043090a2-c9a8-4249-b5b8-1e614ceec454",
   "metadata": {},
   "outputs": [
    {
     "name": "stdout",
     "output_type": "stream",
     "text": [
      "name: RunnableSequence\n",
      "type: constructor\n",
      "id: ['langchain', 'schema', 'runnable', 'RunnableSequence']\n",
      "kwargs_keys: dict_keys(['first', 'middle', 'last', 'name'])\n"
     ]
    }
   ],
   "source": [
    "getChainBreakdown(handler.serialized_input[2])"
   ]
  },
  {
   "cell_type": "code",
   "execution_count": 202,
   "id": "ce403f01-1c8a-4c0a-819b-a0d2058b1b07",
   "metadata": {
    "scrolled": true
   },
   "outputs": [
    {
     "data": {
      "text/plain": [
       "{'lc': 1,\n",
       " 'type': 'not_implemented',\n",
       " 'id': ['langchain_core', 'vectorstores', 'VectorStoreRetriever'],\n",
       " 'repr': \"VectorStoreRetriever(tags=['FAISS', 'OpenAIEmbeddings'], vectorstore=<langchain_community.vectorstores.faiss.FAISS object at 0x1781a7a90>)\",\n",
       " 'name': 'VectorStoreRetriever',\n",
       " 'graph': {'nodes': [{'id': 0,\n",
       "    'type': 'schema',\n",
       "    'data': {'title': 'VectorStoreRetrieverInput', 'type': 'string'}},\n",
       "   {'id': 1,\n",
       "    'type': 'runnable',\n",
       "    'data': {'id': ['langchain_core', 'vectorstores', 'VectorStoreRetriever'],\n",
       "     'name': 'VectorStoreRetriever'}},\n",
       "   {'id': 2,\n",
       "    'type': 'schema',\n",
       "    'data': {'title': 'VectorStoreRetrieverOutput',\n",
       "     'type': 'array',\n",
       "     'items': {'$ref': '#/definitions/Document'},\n",
       "     'definitions': {'Document': {'title': 'Document',\n",
       "       'description': 'Class for storing a piece of text and associated metadata.',\n",
       "       'type': 'object',\n",
       "       'properties': {'page_content': {'title': 'Page Content',\n",
       "         'type': 'string'},\n",
       "        'metadata': {'title': 'Metadata', 'type': 'object'},\n",
       "        'type': {'title': 'Type',\n",
       "         'default': 'Document',\n",
       "         'enum': ['Document'],\n",
       "         'type': 'string'}},\n",
       "       'required': ['page_content']}}}}],\n",
       "  'edges': [{'source': 0, 'target': 1}, {'source': 1, 'target': 2}]}}"
      ]
     },
     "execution_count": 202,
     "metadata": {},
     "output_type": "execute_result"
    }
   ],
   "source": [
    "handler.serialized_input[2]['kwargs']['first']"
   ]
  },
  {
   "cell_type": "code",
   "execution_count": 203,
   "id": "3fac6a16-28fb-46b8-9ead-701862bc7ccf",
   "metadata": {},
   "outputs": [
    {
     "data": {
      "text/plain": [
       "{'lc': 1,\n",
       " 'type': 'not_implemented',\n",
       " 'id': ['langchain_core', 'runnables', 'base', 'RunnableLambda'],\n",
       " 'repr': 'RunnableLambda(format_docs)'}"
      ]
     },
     "execution_count": 203,
     "metadata": {},
     "output_type": "execute_result"
    }
   ],
   "source": [
    "handler.serialized_input[2]['kwargs']['last']"
   ]
  },
  {
   "cell_type": "markdown",
   "id": "63ce94a2-186c-4540-8869-dd4666cca541",
   "metadata": {
    "jp-MarkdownHeadingCollapsed": true
   },
   "source": [
    "## Chain 4"
   ]
  },
  {
   "cell_type": "code",
   "execution_count": 98,
   "id": "4a917fc6-73bb-43bf-adcf-081ff0ac4f5a",
   "metadata": {},
   "outputs": [],
   "source": [
    "qa_template = \"\"\"You are an assistant that helps answer questions. \n",
    "    If you don't know the answer, just say that you don't know. \n",
    "    Use three sentences maximum and keep the answer concise.\n",
    "    Question: {question} \n",
    "    Answer:\n",
    "    \"\"\"\n",
    "qa_prompt = ChatPromptTemplate.from_template(qa_template)\n",
    "llm = ChatOpenAI(model_name=\"gpt-3.5-turbo\", temperature=0)\n",
    "\n",
    "rag_chain =  qa_prompt | llm\n"
   ]
  },
  {
   "cell_type": "code",
   "execution_count": 102,
   "id": "c2d607e6-8faa-4d06-ba7a-70419f03a670",
   "metadata": {
    "scrolled": true
   },
   "outputs": [
    {
     "name": "stdout",
     "output_type": "stream",
     "text": [
      "Inputs: \n",
      "{'question': 'What is meant by computational finance?'}\n",
      "Serialized:\n",
      "{'lc': 1, 'type': 'constructor', 'id': ['langchain', 'schema', 'runnable', 'RunnableSequence'], 'kwargs': {'first': {'lc': 1, 'type': 'constructor', 'id': ['langchain', 'prompts', 'chat', 'ChatPromptTemplate'], 'kwargs': {'input_variables': ['question'], 'messages': [{'lc': 1, 'type': 'constructor', 'id': ['langchain', 'prompts', 'chat', 'HumanMessagePromptTemplate'], 'kwargs': {'prompt': {'lc': 1, 'type': 'constructor', 'id': ['langchain', 'prompts', 'prompt', 'PromptTemplate'], 'kwargs': {'input_variables': ['question'], 'template': \"You are an assistant that helps answer questions. \\n    If you don't know the answer, just say that you don't know. \\n    Use three sentences maximum and keep the answer concise.\\n    Question: {question} \\n    Answer:\\n    \", 'template_format': 'f-string', 'partial_variables': {}}, 'name': 'PromptTemplate', 'graph': {'nodes': [{'id': 0, 'type': 'schema', 'data': {'title': 'PromptInput', 'type': 'object', 'properties': {'question': {'title': 'Question', 'type': 'string'}}}}, {'id': 1, 'type': 'runnable', 'data': {'id': ['langchain', 'prompts', 'prompt', 'PromptTemplate'], 'name': 'PromptTemplate'}}, {'id': 2, 'type': 'schema', 'data': {'title': 'PromptTemplateOutput', 'anyOf': [{'$ref': '#/definitions/StringPromptValue'}, {'$ref': '#/definitions/ChatPromptValueConcrete'}], 'definitions': {'StringPromptValue': {'title': 'StringPromptValue', 'description': 'String prompt value.', 'type': 'object', 'properties': {'text': {'title': 'Text', 'type': 'string'}, 'type': {'title': 'Type', 'default': 'StringPromptValue', 'enum': ['StringPromptValue'], 'type': 'string'}}, 'required': ['text']}, 'AIMessage': {'title': 'AIMessage', 'description': 'Message from an AI.', 'type': 'object', 'properties': {'content': {'title': 'Content', 'anyOf': [{'type': 'string'}, {'type': 'array', 'items': {'anyOf': [{'type': 'string'}, {'type': 'object'}]}}]}, 'additional_kwargs': {'title': 'Additional Kwargs', 'type': 'object'}, 'response_metadata': {'title': 'Response Metadata', 'type': 'object'}, 'type': {'title': 'Type', 'default': 'ai', 'enum': ['ai'], 'type': 'string'}, 'name': {'title': 'Name', 'type': 'string'}, 'id': {'title': 'Id', 'type': 'string'}, 'example': {'title': 'Example', 'default': False, 'type': 'boolean'}}, 'required': ['content']}, 'HumanMessage': {'title': 'HumanMessage', 'description': 'Message from a human.', 'type': 'object', 'properties': {'content': {'title': 'Content', 'anyOf': [{'type': 'string'}, {'type': 'array', 'items': {'anyOf': [{'type': 'string'}, {'type': 'object'}]}}]}, 'additional_kwargs': {'title': 'Additional Kwargs', 'type': 'object'}, 'response_metadata': {'title': 'Response Metadata', 'type': 'object'}, 'type': {'title': 'Type', 'default': 'human', 'enum': ['human'], 'type': 'string'}, 'name': {'title': 'Name', 'type': 'string'}, 'id': {'title': 'Id', 'type': 'string'}, 'example': {'title': 'Example', 'default': False, 'type': 'boolean'}}, 'required': ['content']}, 'ChatMessage': {'title': 'ChatMessage', 'description': 'Message that can be assigned an arbitrary speaker (i.e. role).', 'type': 'object', 'properties': {'content': {'title': 'Content', 'anyOf': [{'type': 'string'}, {'type': 'array', 'items': {'anyOf': [{'type': 'string'}, {'type': 'object'}]}}]}, 'additional_kwargs': {'title': 'Additional Kwargs', 'type': 'object'}, 'response_metadata': {'title': 'Response Metadata', 'type': 'object'}, 'type': {'title': 'Type', 'default': 'chat', 'enum': ['chat'], 'type': 'string'}, 'name': {'title': 'Name', 'type': 'string'}, 'id': {'title': 'Id', 'type': 'string'}, 'role': {'title': 'Role', 'type': 'string'}}, 'required': ['content', 'role']}, 'SystemMessage': {'title': 'SystemMessage', 'description': 'Message for priming AI behavior, usually passed in as the first of a sequence\\nof input messages.', 'type': 'object', 'properties': {'content': {'title': 'Content', 'anyOf': [{'type': 'string'}, {'type': 'array', 'items': {'anyOf': [{'type': 'string'}, {'type': 'object'}]}}]}, 'additional_kwargs': {'title': 'Additional Kwargs', 'type': 'object'}, 'response_metadata': {'title': 'Response Metadata', 'type': 'object'}, 'type': {'title': 'Type', 'default': 'system', 'enum': ['system'], 'type': 'string'}, 'name': {'title': 'Name', 'type': 'string'}, 'id': {'title': 'Id', 'type': 'string'}}, 'required': ['content']}, 'FunctionMessage': {'title': 'FunctionMessage', 'description': 'Message for passing the result of executing a function back to a model.', 'type': 'object', 'properties': {'content': {'title': 'Content', 'anyOf': [{'type': 'string'}, {'type': 'array', 'items': {'anyOf': [{'type': 'string'}, {'type': 'object'}]}}]}, 'additional_kwargs': {'title': 'Additional Kwargs', 'type': 'object'}, 'response_metadata': {'title': 'Response Metadata', 'type': 'object'}, 'type': {'title': 'Type', 'default': 'function', 'enum': ['function'], 'type': 'string'}, 'name': {'title': 'Name', 'type': 'string'}, 'id': {'title': 'Id', 'type': 'string'}}, 'required': ['content', 'name']}, 'ToolMessage': {'title': 'ToolMessage', 'description': 'Message for passing the result of executing a tool back to a model.', 'type': 'object', 'properties': {'content': {'title': 'Content', 'anyOf': [{'type': 'string'}, {'type': 'array', 'items': {'anyOf': [{'type': 'string'}, {'type': 'object'}]}}]}, 'additional_kwargs': {'title': 'Additional Kwargs', 'type': 'object'}, 'response_metadata': {'title': 'Response Metadata', 'type': 'object'}, 'type': {'title': 'Type', 'default': 'tool', 'enum': ['tool'], 'type': 'string'}, 'name': {'title': 'Name', 'type': 'string'}, 'id': {'title': 'Id', 'type': 'string'}, 'tool_call_id': {'title': 'Tool Call Id', 'type': 'string'}}, 'required': ['content', 'tool_call_id']}, 'ChatPromptValueConcrete': {'title': 'ChatPromptValueConcrete', 'description': 'Chat prompt value which explicitly lists out the message types it accepts.\\nFor use in external schemas.', 'type': 'object', 'properties': {'messages': {'title': 'Messages', 'type': 'array', 'items': {'anyOf': [{'$ref': '#/definitions/AIMessage'}, {'$ref': '#/definitions/HumanMessage'}, {'$ref': '#/definitions/ChatMessage'}, {'$ref': '#/definitions/SystemMessage'}, {'$ref': '#/definitions/FunctionMessage'}, {'$ref': '#/definitions/ToolMessage'}]}}, 'type': {'title': 'Type', 'default': 'ChatPromptValueConcrete', 'enum': ['ChatPromptValueConcrete'], 'type': 'string'}}, 'required': ['messages']}}}}], 'edges': [{'source': 0, 'target': 1}, {'source': 1, 'target': 2}]}}}}], 'partial_variables': {}}, 'name': 'ChatPromptTemplate', 'graph': {'nodes': [{'id': 0, 'type': 'schema', 'data': {'title': 'PromptInput', 'type': 'object', 'properties': {'question': {'title': 'Question', 'type': 'string'}}}}, {'id': 1, 'type': 'runnable', 'data': {'id': ['langchain', 'prompts', 'chat', 'ChatPromptTemplate'], 'name': 'ChatPromptTemplate'}}, {'id': 2, 'type': 'schema', 'data': {'title': 'ChatPromptTemplateOutput', 'anyOf': [{'$ref': '#/definitions/StringPromptValue'}, {'$ref': '#/definitions/ChatPromptValueConcrete'}], 'definitions': {'StringPromptValue': {'title': 'StringPromptValue', 'description': 'String prompt value.', 'type': 'object', 'properties': {'text': {'title': 'Text', 'type': 'string'}, 'type': {'title': 'Type', 'default': 'StringPromptValue', 'enum': ['StringPromptValue'], 'type': 'string'}}, 'required': ['text']}, 'AIMessage': {'title': 'AIMessage', 'description': 'Message from an AI.', 'type': 'object', 'properties': {'content': {'title': 'Content', 'anyOf': [{'type': 'string'}, {'type': 'array', 'items': {'anyOf': [{'type': 'string'}, {'type': 'object'}]}}]}, 'additional_kwargs': {'title': 'Additional Kwargs', 'type': 'object'}, 'response_metadata': {'title': 'Response Metadata', 'type': 'object'}, 'type': {'title': 'Type', 'default': 'ai', 'enum': ['ai'], 'type': 'string'}, 'name': {'title': 'Name', 'type': 'string'}, 'id': {'title': 'Id', 'type': 'string'}, 'example': {'title': 'Example', 'default': False, 'type': 'boolean'}}, 'required': ['content']}, 'HumanMessage': {'title': 'HumanMessage', 'description': 'Message from a human.', 'type': 'object', 'properties': {'content': {'title': 'Content', 'anyOf': [{'type': 'string'}, {'type': 'array', 'items': {'anyOf': [{'type': 'string'}, {'type': 'object'}]}}]}, 'additional_kwargs': {'title': 'Additional Kwargs', 'type': 'object'}, 'response_metadata': {'title': 'Response Metadata', 'type': 'object'}, 'type': {'title': 'Type', 'default': 'human', 'enum': ['human'], 'type': 'string'}, 'name': {'title': 'Name', 'type': 'string'}, 'id': {'title': 'Id', 'type': 'string'}, 'example': {'title': 'Example', 'default': False, 'type': 'boolean'}}, 'required': ['content']}, 'ChatMessage': {'title': 'ChatMessage', 'description': 'Message that can be assigned an arbitrary speaker (i.e. role).', 'type': 'object', 'properties': {'content': {'title': 'Content', 'anyOf': [{'type': 'string'}, {'type': 'array', 'items': {'anyOf': [{'type': 'string'}, {'type': 'object'}]}}]}, 'additional_kwargs': {'title': 'Additional Kwargs', 'type': 'object'}, 'response_metadata': {'title': 'Response Metadata', 'type': 'object'}, 'type': {'title': 'Type', 'default': 'chat', 'enum': ['chat'], 'type': 'string'}, 'name': {'title': 'Name', 'type': 'string'}, 'id': {'title': 'Id', 'type': 'string'}, 'role': {'title': 'Role', 'type': 'string'}}, 'required': ['content', 'role']}, 'SystemMessage': {'title': 'SystemMessage', 'description': 'Message for priming AI behavior, usually passed in as the first of a sequence\\nof input messages.', 'type': 'object', 'properties': {'content': {'title': 'Content', 'anyOf': [{'type': 'string'}, {'type': 'array', 'items': {'anyOf': [{'type': 'string'}, {'type': 'object'}]}}]}, 'additional_kwargs': {'title': 'Additional Kwargs', 'type': 'object'}, 'response_metadata': {'title': 'Response Metadata', 'type': 'object'}, 'type': {'title': 'Type', 'default': 'system', 'enum': ['system'], 'type': 'string'}, 'name': {'title': 'Name', 'type': 'string'}, 'id': {'title': 'Id', 'type': 'string'}}, 'required': ['content']}, 'FunctionMessage': {'title': 'FunctionMessage', 'description': 'Message for passing the result of executing a function back to a model.', 'type': 'object', 'properties': {'content': {'title': 'Content', 'anyOf': [{'type': 'string'}, {'type': 'array', 'items': {'anyOf': [{'type': 'string'}, {'type': 'object'}]}}]}, 'additional_kwargs': {'title': 'Additional Kwargs', 'type': 'object'}, 'response_metadata': {'title': 'Response Metadata', 'type': 'object'}, 'type': {'title': 'Type', 'default': 'function', 'enum': ['function'], 'type': 'string'}, 'name': {'title': 'Name', 'type': 'string'}, 'id': {'title': 'Id', 'type': 'string'}}, 'required': ['content', 'name']}, 'ToolMessage': {'title': 'ToolMessage', 'description': 'Message for passing the result of executing a tool back to a model.', 'type': 'object', 'properties': {'content': {'title': 'Content', 'anyOf': [{'type': 'string'}, {'type': 'array', 'items': {'anyOf': [{'type': 'string'}, {'type': 'object'}]}}]}, 'additional_kwargs': {'title': 'Additional Kwargs', 'type': 'object'}, 'response_metadata': {'title': 'Response Metadata', 'type': 'object'}, 'type': {'title': 'Type', 'default': 'tool', 'enum': ['tool'], 'type': 'string'}, 'name': {'title': 'Name', 'type': 'string'}, 'id': {'title': 'Id', 'type': 'string'}, 'tool_call_id': {'title': 'Tool Call Id', 'type': 'string'}}, 'required': ['content', 'tool_call_id']}, 'ChatPromptValueConcrete': {'title': 'ChatPromptValueConcrete', 'description': 'Chat prompt value which explicitly lists out the message types it accepts.\\nFor use in external schemas.', 'type': 'object', 'properties': {'messages': {'title': 'Messages', 'type': 'array', 'items': {'anyOf': [{'$ref': '#/definitions/AIMessage'}, {'$ref': '#/definitions/HumanMessage'}, {'$ref': '#/definitions/ChatMessage'}, {'$ref': '#/definitions/SystemMessage'}, {'$ref': '#/definitions/FunctionMessage'}, {'$ref': '#/definitions/ToolMessage'}]}}, 'type': {'title': 'Type', 'default': 'ChatPromptValueConcrete', 'enum': ['ChatPromptValueConcrete'], 'type': 'string'}}, 'required': ['messages']}}}}], 'edges': [{'source': 0, 'target': 1}, {'source': 1, 'target': 2}]}}, 'middle': [], 'last': {'lc': 1, 'type': 'constructor', 'id': ['langchain', 'chat_models', 'openai', 'ChatOpenAI'], 'kwargs': {'model_name': 'gpt-3.5-turbo', 'temperature': 0.0, 'openai_api_key': {'lc': 1, 'type': 'secret', 'id': ['OPENAI_API_KEY']}}, 'name': 'ChatOpenAI', 'graph': {'nodes': [{'id': 0, 'type': 'schema', 'data': {'title': 'ChatOpenAIInput', 'anyOf': [{'type': 'string'}, {'$ref': '#/definitions/StringPromptValue'}, {'$ref': '#/definitions/ChatPromptValueConcrete'}, {'type': 'array', 'items': {'anyOf': [{'$ref': '#/definitions/AIMessage'}, {'$ref': '#/definitions/HumanMessage'}, {'$ref': '#/definitions/ChatMessage'}, {'$ref': '#/definitions/SystemMessage'}, {'$ref': '#/definitions/FunctionMessage'}, {'$ref': '#/definitions/ToolMessage'}]}}], 'definitions': {'StringPromptValue': {'title': 'StringPromptValue', 'description': 'String prompt value.', 'type': 'object', 'properties': {'text': {'title': 'Text', 'type': 'string'}, 'type': {'title': 'Type', 'default': 'StringPromptValue', 'enum': ['StringPromptValue'], 'type': 'string'}}, 'required': ['text']}, 'AIMessage': {'title': 'AIMessage', 'description': 'Message from an AI.', 'type': 'object', 'properties': {'content': {'title': 'Content', 'anyOf': [{'type': 'string'}, {'type': 'array', 'items': {'anyOf': [{'type': 'string'}, {'type': 'object'}]}}]}, 'additional_kwargs': {'title': 'Additional Kwargs', 'type': 'object'}, 'response_metadata': {'title': 'Response Metadata', 'type': 'object'}, 'type': {'title': 'Type', 'default': 'ai', 'enum': ['ai'], 'type': 'string'}, 'name': {'title': 'Name', 'type': 'string'}, 'id': {'title': 'Id', 'type': 'string'}, 'example': {'title': 'Example', 'default': False, 'type': 'boolean'}}, 'required': ['content']}, 'HumanMessage': {'title': 'HumanMessage', 'description': 'Message from a human.', 'type': 'object', 'properties': {'content': {'title': 'Content', 'anyOf': [{'type': 'string'}, {'type': 'array', 'items': {'anyOf': [{'type': 'string'}, {'type': 'object'}]}}]}, 'additional_kwargs': {'title': 'Additional Kwargs', 'type': 'object'}, 'response_metadata': {'title': 'Response Metadata', 'type': 'object'}, 'type': {'title': 'Type', 'default': 'human', 'enum': ['human'], 'type': 'string'}, 'name': {'title': 'Name', 'type': 'string'}, 'id': {'title': 'Id', 'type': 'string'}, 'example': {'title': 'Example', 'default': False, 'type': 'boolean'}}, 'required': ['content']}, 'ChatMessage': {'title': 'ChatMessage', 'description': 'Message that can be assigned an arbitrary speaker (i.e. role).', 'type': 'object', 'properties': {'content': {'title': 'Content', 'anyOf': [{'type': 'string'}, {'type': 'array', 'items': {'anyOf': [{'type': 'string'}, {'type': 'object'}]}}]}, 'additional_kwargs': {'title': 'Additional Kwargs', 'type': 'object'}, 'response_metadata': {'title': 'Response Metadata', 'type': 'object'}, 'type': {'title': 'Type', 'default': 'chat', 'enum': ['chat'], 'type': 'string'}, 'name': {'title': 'Name', 'type': 'string'}, 'id': {'title': 'Id', 'type': 'string'}, 'role': {'title': 'Role', 'type': 'string'}}, 'required': ['content', 'role']}, 'SystemMessage': {'title': 'SystemMessage', 'description': 'Message for priming AI behavior, usually passed in as the first of a sequence\\nof input messages.', 'type': 'object', 'properties': {'content': {'title': 'Content', 'anyOf': [{'type': 'string'}, {'type': 'array', 'items': {'anyOf': [{'type': 'string'}, {'type': 'object'}]}}]}, 'additional_kwargs': {'title': 'Additional Kwargs', 'type': 'object'}, 'response_metadata': {'title': 'Response Metadata', 'type': 'object'}, 'type': {'title': 'Type', 'default': 'system', 'enum': ['system'], 'type': 'string'}, 'name': {'title': 'Name', 'type': 'string'}, 'id': {'title': 'Id', 'type': 'string'}}, 'required': ['content']}, 'FunctionMessage': {'title': 'FunctionMessage', 'description': 'Message for passing the result of executing a function back to a model.', 'type': 'object', 'properties': {'content': {'title': 'Content', 'anyOf': [{'type': 'string'}, {'type': 'array', 'items': {'anyOf': [{'type': 'string'}, {'type': 'object'}]}}]}, 'additional_kwargs': {'title': 'Additional Kwargs', 'type': 'object'}, 'response_metadata': {'title': 'Response Metadata', 'type': 'object'}, 'type': {'title': 'Type', 'default': 'function', 'enum': ['function'], 'type': 'string'}, 'name': {'title': 'Name', 'type': 'string'}, 'id': {'title': 'Id', 'type': 'string'}}, 'required': ['content', 'name']}, 'ToolMessage': {'title': 'ToolMessage', 'description': 'Message for passing the result of executing a tool back to a model.', 'type': 'object', 'properties': {'content': {'title': 'Content', 'anyOf': [{'type': 'string'}, {'type': 'array', 'items': {'anyOf': [{'type': 'string'}, {'type': 'object'}]}}]}, 'additional_kwargs': {'title': 'Additional Kwargs', 'type': 'object'}, 'response_metadata': {'title': 'Response Metadata', 'type': 'object'}, 'type': {'title': 'Type', 'default': 'tool', 'enum': ['tool'], 'type': 'string'}, 'name': {'title': 'Name', 'type': 'string'}, 'id': {'title': 'Id', 'type': 'string'}, 'tool_call_id': {'title': 'Tool Call Id', 'type': 'string'}}, 'required': ['content', 'tool_call_id']}, 'ChatPromptValueConcrete': {'title': 'ChatPromptValueConcrete', 'description': 'Chat prompt value which explicitly lists out the message types it accepts.\\nFor use in external schemas.', 'type': 'object', 'properties': {'messages': {'title': 'Messages', 'type': 'array', 'items': {'anyOf': [{'$ref': '#/definitions/AIMessage'}, {'$ref': '#/definitions/HumanMessage'}, {'$ref': '#/definitions/ChatMessage'}, {'$ref': '#/definitions/SystemMessage'}, {'$ref': '#/definitions/FunctionMessage'}, {'$ref': '#/definitions/ToolMessage'}]}}, 'type': {'title': 'Type', 'default': 'ChatPromptValueConcrete', 'enum': ['ChatPromptValueConcrete'], 'type': 'string'}}, 'required': ['messages']}}}}, {'id': 1, 'type': 'runnable', 'data': {'id': ['langchain', 'chat_models', 'openai', 'ChatOpenAI'], 'name': 'ChatOpenAI'}}, {'id': 2, 'type': 'schema', 'data': {'title': 'ChatOpenAIOutput', 'anyOf': [{'$ref': '#/definitions/AIMessage'}, {'$ref': '#/definitions/HumanMessage'}, {'$ref': '#/definitions/ChatMessage'}, {'$ref': '#/definitions/SystemMessage'}, {'$ref': '#/definitions/FunctionMessage'}, {'$ref': '#/definitions/ToolMessage'}], 'definitions': {'AIMessage': {'title': 'AIMessage', 'description': 'Message from an AI.', 'type': 'object', 'properties': {'content': {'title': 'Content', 'anyOf': [{'type': 'string'}, {'type': 'array', 'items': {'anyOf': [{'type': 'string'}, {'type': 'object'}]}}]}, 'additional_kwargs': {'title': 'Additional Kwargs', 'type': 'object'}, 'response_metadata': {'title': 'Response Metadata', 'type': 'object'}, 'type': {'title': 'Type', 'default': 'ai', 'enum': ['ai'], 'type': 'string'}, 'name': {'title': 'Name', 'type': 'string'}, 'id': {'title': 'Id', 'type': 'string'}, 'example': {'title': 'Example', 'default': False, 'type': 'boolean'}}, 'required': ['content']}, 'HumanMessage': {'title': 'HumanMessage', 'description': 'Message from a human.', 'type': 'object', 'properties': {'content': {'title': 'Content', 'anyOf': [{'type': 'string'}, {'type': 'array', 'items': {'anyOf': [{'type': 'string'}, {'type': 'object'}]}}]}, 'additional_kwargs': {'title': 'Additional Kwargs', 'type': 'object'}, 'response_metadata': {'title': 'Response Metadata', 'type': 'object'}, 'type': {'title': 'Type', 'default': 'human', 'enum': ['human'], 'type': 'string'}, 'name': {'title': 'Name', 'type': 'string'}, 'id': {'title': 'Id', 'type': 'string'}, 'example': {'title': 'Example', 'default': False, 'type': 'boolean'}}, 'required': ['content']}, 'ChatMessage': {'title': 'ChatMessage', 'description': 'Message that can be assigned an arbitrary speaker (i.e. role).', 'type': 'object', 'properties': {'content': {'title': 'Content', 'anyOf': [{'type': 'string'}, {'type': 'array', 'items': {'anyOf': [{'type': 'string'}, {'type': 'object'}]}}]}, 'additional_kwargs': {'title': 'Additional Kwargs', 'type': 'object'}, 'response_metadata': {'title': 'Response Metadata', 'type': 'object'}, 'type': {'title': 'Type', 'default': 'chat', 'enum': ['chat'], 'type': 'string'}, 'name': {'title': 'Name', 'type': 'string'}, 'id': {'title': 'Id', 'type': 'string'}, 'role': {'title': 'Role', 'type': 'string'}}, 'required': ['content', 'role']}, 'SystemMessage': {'title': 'SystemMessage', 'description': 'Message for priming AI behavior, usually passed in as the first of a sequence\\nof input messages.', 'type': 'object', 'properties': {'content': {'title': 'Content', 'anyOf': [{'type': 'string'}, {'type': 'array', 'items': {'anyOf': [{'type': 'string'}, {'type': 'object'}]}}]}, 'additional_kwargs': {'title': 'Additional Kwargs', 'type': 'object'}, 'response_metadata': {'title': 'Response Metadata', 'type': 'object'}, 'type': {'title': 'Type', 'default': 'system', 'enum': ['system'], 'type': 'string'}, 'name': {'title': 'Name', 'type': 'string'}, 'id': {'title': 'Id', 'type': 'string'}}, 'required': ['content']}, 'FunctionMessage': {'title': 'FunctionMessage', 'description': 'Message for passing the result of executing a function back to a model.', 'type': 'object', 'properties': {'content': {'title': 'Content', 'anyOf': [{'type': 'string'}, {'type': 'array', 'items': {'anyOf': [{'type': 'string'}, {'type': 'object'}]}}]}, 'additional_kwargs': {'title': 'Additional Kwargs', 'type': 'object'}, 'response_metadata': {'title': 'Response Metadata', 'type': 'object'}, 'type': {'title': 'Type', 'default': 'function', 'enum': ['function'], 'type': 'string'}, 'name': {'title': 'Name', 'type': 'string'}, 'id': {'title': 'Id', 'type': 'string'}}, 'required': ['content', 'name']}, 'ToolMessage': {'title': 'ToolMessage', 'description': 'Message for passing the result of executing a tool back to a model.', 'type': 'object', 'properties': {'content': {'title': 'Content', 'anyOf': [{'type': 'string'}, {'type': 'array', 'items': {'anyOf': [{'type': 'string'}, {'type': 'object'}]}}]}, 'additional_kwargs': {'title': 'Additional Kwargs', 'type': 'object'}, 'response_metadata': {'title': 'Response Metadata', 'type': 'object'}, 'type': {'title': 'Type', 'default': 'tool', 'enum': ['tool'], 'type': 'string'}, 'name': {'title': 'Name', 'type': 'string'}, 'id': {'title': 'Id', 'type': 'string'}, 'tool_call_id': {'title': 'Tool Call Id', 'type': 'string'}}, 'required': ['content', 'tool_call_id']}}}}], 'edges': [{'source': 0, 'target': 1}, {'source': 1, 'target': 2}]}}, 'name': None}, 'name': 'RunnableSequence', 'graph': {'nodes': [{'id': 0, 'type': 'schema', 'data': {'title': 'PromptInput', 'type': 'object', 'properties': {'question': {'title': 'Question', 'type': 'string'}}}}, {'id': 1, 'type': 'runnable', 'data': {'id': ['langchain', 'prompts', 'chat', 'ChatPromptTemplate'], 'name': 'ChatPromptTemplate'}}, {'id': 2, 'type': 'runnable', 'data': {'id': ['langchain', 'chat_models', 'openai', 'ChatOpenAI'], 'name': 'ChatOpenAI'}}, {'id': 3, 'type': 'schema', 'data': {'title': 'ChatOpenAIOutput', 'anyOf': [{'$ref': '#/definitions/AIMessage'}, {'$ref': '#/definitions/HumanMessage'}, {'$ref': '#/definitions/ChatMessage'}, {'$ref': '#/definitions/SystemMessage'}, {'$ref': '#/definitions/FunctionMessage'}, {'$ref': '#/definitions/ToolMessage'}], 'definitions': {'AIMessage': {'title': 'AIMessage', 'description': 'Message from an AI.', 'type': 'object', 'properties': {'content': {'title': 'Content', 'anyOf': [{'type': 'string'}, {'type': 'array', 'items': {'anyOf': [{'type': 'string'}, {'type': 'object'}]}}]}, 'additional_kwargs': {'title': 'Additional Kwargs', 'type': 'object'}, 'response_metadata': {'title': 'Response Metadata', 'type': 'object'}, 'type': {'title': 'Type', 'default': 'ai', 'enum': ['ai'], 'type': 'string'}, 'name': {'title': 'Name', 'type': 'string'}, 'id': {'title': 'Id', 'type': 'string'}, 'example': {'title': 'Example', 'default': False, 'type': 'boolean'}}, 'required': ['content']}, 'HumanMessage': {'title': 'HumanMessage', 'description': 'Message from a human.', 'type': 'object', 'properties': {'content': {'title': 'Content', 'anyOf': [{'type': 'string'}, {'type': 'array', 'items': {'anyOf': [{'type': 'string'}, {'type': 'object'}]}}]}, 'additional_kwargs': {'title': 'Additional Kwargs', 'type': 'object'}, 'response_metadata': {'title': 'Response Metadata', 'type': 'object'}, 'type': {'title': 'Type', 'default': 'human', 'enum': ['human'], 'type': 'string'}, 'name': {'title': 'Name', 'type': 'string'}, 'id': {'title': 'Id', 'type': 'string'}, 'example': {'title': 'Example', 'default': False, 'type': 'boolean'}}, 'required': ['content']}, 'ChatMessage': {'title': 'ChatMessage', 'description': 'Message that can be assigned an arbitrary speaker (i.e. role).', 'type': 'object', 'properties': {'content': {'title': 'Content', 'anyOf': [{'type': 'string'}, {'type': 'array', 'items': {'anyOf': [{'type': 'string'}, {'type': 'object'}]}}]}, 'additional_kwargs': {'title': 'Additional Kwargs', 'type': 'object'}, 'response_metadata': {'title': 'Response Metadata', 'type': 'object'}, 'type': {'title': 'Type', 'default': 'chat', 'enum': ['chat'], 'type': 'string'}, 'name': {'title': 'Name', 'type': 'string'}, 'id': {'title': 'Id', 'type': 'string'}, 'role': {'title': 'Role', 'type': 'string'}}, 'required': ['content', 'role']}, 'SystemMessage': {'title': 'SystemMessage', 'description': 'Message for priming AI behavior, usually passed in as the first of a sequence\\nof input messages.', 'type': 'object', 'properties': {'content': {'title': 'Content', 'anyOf': [{'type': 'string'}, {'type': 'array', 'items': {'anyOf': [{'type': 'string'}, {'type': 'object'}]}}]}, 'additional_kwargs': {'title': 'Additional Kwargs', 'type': 'object'}, 'response_metadata': {'title': 'Response Metadata', 'type': 'object'}, 'type': {'title': 'Type', 'default': 'system', 'enum': ['system'], 'type': 'string'}, 'name': {'title': 'Name', 'type': 'string'}, 'id': {'title': 'Id', 'type': 'string'}}, 'required': ['content']}, 'FunctionMessage': {'title': 'FunctionMessage', 'description': 'Message for passing the result of executing a function back to a model.', 'type': 'object', 'properties': {'content': {'title': 'Content', 'anyOf': [{'type': 'string'}, {'type': 'array', 'items': {'anyOf': [{'type': 'string'}, {'type': 'object'}]}}]}, 'additional_kwargs': {'title': 'Additional Kwargs', 'type': 'object'}, 'response_metadata': {'title': 'Response Metadata', 'type': 'object'}, 'type': {'title': 'Type', 'default': 'function', 'enum': ['function'], 'type': 'string'}, 'name': {'title': 'Name', 'type': 'string'}, 'id': {'title': 'Id', 'type': 'string'}}, 'required': ['content', 'name']}, 'ToolMessage': {'title': 'ToolMessage', 'description': 'Message for passing the result of executing a tool back to a model.', 'type': 'object', 'properties': {'content': {'title': 'Content', 'anyOf': [{'type': 'string'}, {'type': 'array', 'items': {'anyOf': [{'type': 'string'}, {'type': 'object'}]}}]}, 'additional_kwargs': {'title': 'Additional Kwargs', 'type': 'object'}, 'response_metadata': {'title': 'Response Metadata', 'type': 'object'}, 'type': {'title': 'Type', 'default': 'tool', 'enum': ['tool'], 'type': 'string'}, 'name': {'title': 'Name', 'type': 'string'}, 'id': {'title': 'Id', 'type': 'string'}, 'tool_call_id': {'title': 'Tool Call Id', 'type': 'string'}}, 'required': ['content', 'tool_call_id']}}}}], 'edges': [{'source': 0, 'target': 1}, {'source': 2, 'target': 3}, {'source': 1, 'target': 2}]}}\n",
      "Inputs: \n",
      "{'question': 'What is meant by computational finance?'}\n",
      "Serialized:\n",
      "{'lc': 1, 'type': 'constructor', 'id': ['langchain', 'prompts', 'chat', 'ChatPromptTemplate'], 'kwargs': {'input_variables': ['question'], 'messages': [{'lc': 1, 'type': 'constructor', 'id': ['langchain', 'prompts', 'chat', 'HumanMessagePromptTemplate'], 'kwargs': {'prompt': {'lc': 1, 'type': 'constructor', 'id': ['langchain', 'prompts', 'prompt', 'PromptTemplate'], 'kwargs': {'input_variables': ['question'], 'template': \"You are an assistant that helps answer questions. \\n    If you don't know the answer, just say that you don't know. \\n    Use three sentences maximum and keep the answer concise.\\n    Question: {question} \\n    Answer:\\n    \", 'template_format': 'f-string', 'partial_variables': {}}, 'name': 'PromptTemplate', 'graph': {'nodes': [{'id': 0, 'type': 'schema', 'data': {'title': 'PromptInput', 'type': 'object', 'properties': {'question': {'title': 'Question', 'type': 'string'}}}}, {'id': 1, 'type': 'runnable', 'data': {'id': ['langchain', 'prompts', 'prompt', 'PromptTemplate'], 'name': 'PromptTemplate'}}, {'id': 2, 'type': 'schema', 'data': {'title': 'PromptTemplateOutput', 'anyOf': [{'$ref': '#/definitions/StringPromptValue'}, {'$ref': '#/definitions/ChatPromptValueConcrete'}], 'definitions': {'StringPromptValue': {'title': 'StringPromptValue', 'description': 'String prompt value.', 'type': 'object', 'properties': {'text': {'title': 'Text', 'type': 'string'}, 'type': {'title': 'Type', 'default': 'StringPromptValue', 'enum': ['StringPromptValue'], 'type': 'string'}}, 'required': ['text']}, 'AIMessage': {'title': 'AIMessage', 'description': 'Message from an AI.', 'type': 'object', 'properties': {'content': {'title': 'Content', 'anyOf': [{'type': 'string'}, {'type': 'array', 'items': {'anyOf': [{'type': 'string'}, {'type': 'object'}]}}]}, 'additional_kwargs': {'title': 'Additional Kwargs', 'type': 'object'}, 'response_metadata': {'title': 'Response Metadata', 'type': 'object'}, 'type': {'title': 'Type', 'default': 'ai', 'enum': ['ai'], 'type': 'string'}, 'name': {'title': 'Name', 'type': 'string'}, 'id': {'title': 'Id', 'type': 'string'}, 'example': {'title': 'Example', 'default': False, 'type': 'boolean'}}, 'required': ['content']}, 'HumanMessage': {'title': 'HumanMessage', 'description': 'Message from a human.', 'type': 'object', 'properties': {'content': {'title': 'Content', 'anyOf': [{'type': 'string'}, {'type': 'array', 'items': {'anyOf': [{'type': 'string'}, {'type': 'object'}]}}]}, 'additional_kwargs': {'title': 'Additional Kwargs', 'type': 'object'}, 'response_metadata': {'title': 'Response Metadata', 'type': 'object'}, 'type': {'title': 'Type', 'default': 'human', 'enum': ['human'], 'type': 'string'}, 'name': {'title': 'Name', 'type': 'string'}, 'id': {'title': 'Id', 'type': 'string'}, 'example': {'title': 'Example', 'default': False, 'type': 'boolean'}}, 'required': ['content']}, 'ChatMessage': {'title': 'ChatMessage', 'description': 'Message that can be assigned an arbitrary speaker (i.e. role).', 'type': 'object', 'properties': {'content': {'title': 'Content', 'anyOf': [{'type': 'string'}, {'type': 'array', 'items': {'anyOf': [{'type': 'string'}, {'type': 'object'}]}}]}, 'additional_kwargs': {'title': 'Additional Kwargs', 'type': 'object'}, 'response_metadata': {'title': 'Response Metadata', 'type': 'object'}, 'type': {'title': 'Type', 'default': 'chat', 'enum': ['chat'], 'type': 'string'}, 'name': {'title': 'Name', 'type': 'string'}, 'id': {'title': 'Id', 'type': 'string'}, 'role': {'title': 'Role', 'type': 'string'}}, 'required': ['content', 'role']}, 'SystemMessage': {'title': 'SystemMessage', 'description': 'Message for priming AI behavior, usually passed in as the first of a sequence\\nof input messages.', 'type': 'object', 'properties': {'content': {'title': 'Content', 'anyOf': [{'type': 'string'}, {'type': 'array', 'items': {'anyOf': [{'type': 'string'}, {'type': 'object'}]}}]}, 'additional_kwargs': {'title': 'Additional Kwargs', 'type': 'object'}, 'response_metadata': {'title': 'Response Metadata', 'type': 'object'}, 'type': {'title': 'Type', 'default': 'system', 'enum': ['system'], 'type': 'string'}, 'name': {'title': 'Name', 'type': 'string'}, 'id': {'title': 'Id', 'type': 'string'}}, 'required': ['content']}, 'FunctionMessage': {'title': 'FunctionMessage', 'description': 'Message for passing the result of executing a function back to a model.', 'type': 'object', 'properties': {'content': {'title': 'Content', 'anyOf': [{'type': 'string'}, {'type': 'array', 'items': {'anyOf': [{'type': 'string'}, {'type': 'object'}]}}]}, 'additional_kwargs': {'title': 'Additional Kwargs', 'type': 'object'}, 'response_metadata': {'title': 'Response Metadata', 'type': 'object'}, 'type': {'title': 'Type', 'default': 'function', 'enum': ['function'], 'type': 'string'}, 'name': {'title': 'Name', 'type': 'string'}, 'id': {'title': 'Id', 'type': 'string'}}, 'required': ['content', 'name']}, 'ToolMessage': {'title': 'ToolMessage', 'description': 'Message for passing the result of executing a tool back to a model.', 'type': 'object', 'properties': {'content': {'title': 'Content', 'anyOf': [{'type': 'string'}, {'type': 'array', 'items': {'anyOf': [{'type': 'string'}, {'type': 'object'}]}}]}, 'additional_kwargs': {'title': 'Additional Kwargs', 'type': 'object'}, 'response_metadata': {'title': 'Response Metadata', 'type': 'object'}, 'type': {'title': 'Type', 'default': 'tool', 'enum': ['tool'], 'type': 'string'}, 'name': {'title': 'Name', 'type': 'string'}, 'id': {'title': 'Id', 'type': 'string'}, 'tool_call_id': {'title': 'Tool Call Id', 'type': 'string'}}, 'required': ['content', 'tool_call_id']}, 'ChatPromptValueConcrete': {'title': 'ChatPromptValueConcrete', 'description': 'Chat prompt value which explicitly lists out the message types it accepts.\\nFor use in external schemas.', 'type': 'object', 'properties': {'messages': {'title': 'Messages', 'type': 'array', 'items': {'anyOf': [{'$ref': '#/definitions/AIMessage'}, {'$ref': '#/definitions/HumanMessage'}, {'$ref': '#/definitions/ChatMessage'}, {'$ref': '#/definitions/SystemMessage'}, {'$ref': '#/definitions/FunctionMessage'}, {'$ref': '#/definitions/ToolMessage'}]}}, 'type': {'title': 'Type', 'default': 'ChatPromptValueConcrete', 'enum': ['ChatPromptValueConcrete'], 'type': 'string'}}, 'required': ['messages']}}}}], 'edges': [{'source': 0, 'target': 1}, {'source': 1, 'target': 2}]}}}}], 'partial_variables': {}}, 'name': 'ChatPromptTemplate', 'graph': {'nodes': [{'id': 0, 'type': 'schema', 'data': {'title': 'PromptInput', 'type': 'object', 'properties': {'question': {'title': 'Question', 'type': 'string'}}}}, {'id': 1, 'type': 'runnable', 'data': {'id': ['langchain', 'prompts', 'chat', 'ChatPromptTemplate'], 'name': 'ChatPromptTemplate'}}, {'id': 2, 'type': 'schema', 'data': {'title': 'ChatPromptTemplateOutput', 'anyOf': [{'$ref': '#/definitions/StringPromptValue'}, {'$ref': '#/definitions/ChatPromptValueConcrete'}], 'definitions': {'StringPromptValue': {'title': 'StringPromptValue', 'description': 'String prompt value.', 'type': 'object', 'properties': {'text': {'title': 'Text', 'type': 'string'}, 'type': {'title': 'Type', 'default': 'StringPromptValue', 'enum': ['StringPromptValue'], 'type': 'string'}}, 'required': ['text']}, 'AIMessage': {'title': 'AIMessage', 'description': 'Message from an AI.', 'type': 'object', 'properties': {'content': {'title': 'Content', 'anyOf': [{'type': 'string'}, {'type': 'array', 'items': {'anyOf': [{'type': 'string'}, {'type': 'object'}]}}]}, 'additional_kwargs': {'title': 'Additional Kwargs', 'type': 'object'}, 'response_metadata': {'title': 'Response Metadata', 'type': 'object'}, 'type': {'title': 'Type', 'default': 'ai', 'enum': ['ai'], 'type': 'string'}, 'name': {'title': 'Name', 'type': 'string'}, 'id': {'title': 'Id', 'type': 'string'}, 'example': {'title': 'Example', 'default': False, 'type': 'boolean'}}, 'required': ['content']}, 'HumanMessage': {'title': 'HumanMessage', 'description': 'Message from a human.', 'type': 'object', 'properties': {'content': {'title': 'Content', 'anyOf': [{'type': 'string'}, {'type': 'array', 'items': {'anyOf': [{'type': 'string'}, {'type': 'object'}]}}]}, 'additional_kwargs': {'title': 'Additional Kwargs', 'type': 'object'}, 'response_metadata': {'title': 'Response Metadata', 'type': 'object'}, 'type': {'title': 'Type', 'default': 'human', 'enum': ['human'], 'type': 'string'}, 'name': {'title': 'Name', 'type': 'string'}, 'id': {'title': 'Id', 'type': 'string'}, 'example': {'title': 'Example', 'default': False, 'type': 'boolean'}}, 'required': ['content']}, 'ChatMessage': {'title': 'ChatMessage', 'description': 'Message that can be assigned an arbitrary speaker (i.e. role).', 'type': 'object', 'properties': {'content': {'title': 'Content', 'anyOf': [{'type': 'string'}, {'type': 'array', 'items': {'anyOf': [{'type': 'string'}, {'type': 'object'}]}}]}, 'additional_kwargs': {'title': 'Additional Kwargs', 'type': 'object'}, 'response_metadata': {'title': 'Response Metadata', 'type': 'object'}, 'type': {'title': 'Type', 'default': 'chat', 'enum': ['chat'], 'type': 'string'}, 'name': {'title': 'Name', 'type': 'string'}, 'id': {'title': 'Id', 'type': 'string'}, 'role': {'title': 'Role', 'type': 'string'}}, 'required': ['content', 'role']}, 'SystemMessage': {'title': 'SystemMessage', 'description': 'Message for priming AI behavior, usually passed in as the first of a sequence\\nof input messages.', 'type': 'object', 'properties': {'content': {'title': 'Content', 'anyOf': [{'type': 'string'}, {'type': 'array', 'items': {'anyOf': [{'type': 'string'}, {'type': 'object'}]}}]}, 'additional_kwargs': {'title': 'Additional Kwargs', 'type': 'object'}, 'response_metadata': {'title': 'Response Metadata', 'type': 'object'}, 'type': {'title': 'Type', 'default': 'system', 'enum': ['system'], 'type': 'string'}, 'name': {'title': 'Name', 'type': 'string'}, 'id': {'title': 'Id', 'type': 'string'}}, 'required': ['content']}, 'FunctionMessage': {'title': 'FunctionMessage', 'description': 'Message for passing the result of executing a function back to a model.', 'type': 'object', 'properties': {'content': {'title': 'Content', 'anyOf': [{'type': 'string'}, {'type': 'array', 'items': {'anyOf': [{'type': 'string'}, {'type': 'object'}]}}]}, 'additional_kwargs': {'title': 'Additional Kwargs', 'type': 'object'}, 'response_metadata': {'title': 'Response Metadata', 'type': 'object'}, 'type': {'title': 'Type', 'default': 'function', 'enum': ['function'], 'type': 'string'}, 'name': {'title': 'Name', 'type': 'string'}, 'id': {'title': 'Id', 'type': 'string'}}, 'required': ['content', 'name']}, 'ToolMessage': {'title': 'ToolMessage', 'description': 'Message for passing the result of executing a tool back to a model.', 'type': 'object', 'properties': {'content': {'title': 'Content', 'anyOf': [{'type': 'string'}, {'type': 'array', 'items': {'anyOf': [{'type': 'string'}, {'type': 'object'}]}}]}, 'additional_kwargs': {'title': 'Additional Kwargs', 'type': 'object'}, 'response_metadata': {'title': 'Response Metadata', 'type': 'object'}, 'type': {'title': 'Type', 'default': 'tool', 'enum': ['tool'], 'type': 'string'}, 'name': {'title': 'Name', 'type': 'string'}, 'id': {'title': 'Id', 'type': 'string'}, 'tool_call_id': {'title': 'Tool Call Id', 'type': 'string'}}, 'required': ['content', 'tool_call_id']}, 'ChatPromptValueConcrete': {'title': 'ChatPromptValueConcrete', 'description': 'Chat prompt value which explicitly lists out the message types it accepts.\\nFor use in external schemas.', 'type': 'object', 'properties': {'messages': {'title': 'Messages', 'type': 'array', 'items': {'anyOf': [{'$ref': '#/definitions/AIMessage'}, {'$ref': '#/definitions/HumanMessage'}, {'$ref': '#/definitions/ChatMessage'}, {'$ref': '#/definitions/SystemMessage'}, {'$ref': '#/definitions/FunctionMessage'}, {'$ref': '#/definitions/ToolMessage'}]}}, 'type': {'title': 'Type', 'default': 'ChatPromptValueConcrete', 'enum': ['ChatPromptValueConcrete'], 'type': 'string'}}, 'required': ['messages']}}}}], 'edges': [{'source': 0, 'target': 1}, {'source': 1, 'target': 2}]}}\n"
     ]
    }
   ],
   "source": [
    "handler = NewHandler()\n",
    "\n",
    "output = rag_chain.invoke({\"question\":\"What is meant by computational finance?\"}, {\"callbacks\":[handler]})"
   ]
  },
  {
   "cell_type": "code",
   "execution_count": 104,
   "id": "14264109-5a51-40b7-8130-077ad8f0f597",
   "metadata": {},
   "outputs": [
    {
     "data": {
      "text/plain": [
       "[{'question': 'What is meant by computational finance?'},\n",
       " {'question': 'What is meant by computational finance?'}]"
      ]
     },
     "execution_count": 104,
     "metadata": {},
     "output_type": "execute_result"
    }
   ],
   "source": [
    "handler.chain_input"
   ]
  },
  {
   "cell_type": "code",
   "execution_count": 106,
   "id": "0bd47d0d-3d4b-42f6-a520-7ef8378a12eb",
   "metadata": {
    "scrolled": true
   },
   "outputs": [
    {
     "data": {
      "text/plain": [
       "{'lc': 1,\n",
       " 'type': 'constructor',\n",
       " 'id': ['langchain', 'schema', 'runnable', 'RunnableSequence'],\n",
       " 'kwargs': {'first': {'lc': 1,\n",
       "   'type': 'constructor',\n",
       "   'id': ['langchain', 'prompts', 'chat', 'ChatPromptTemplate'],\n",
       "   'kwargs': {'input_variables': ['question'],\n",
       "    'messages': [{'lc': 1,\n",
       "      'type': 'constructor',\n",
       "      'id': ['langchain', 'prompts', 'chat', 'HumanMessagePromptTemplate'],\n",
       "      'kwargs': {'prompt': {'lc': 1,\n",
       "        'type': 'constructor',\n",
       "        'id': ['langchain', 'prompts', 'prompt', 'PromptTemplate'],\n",
       "        'kwargs': {'input_variables': ['question'],\n",
       "         'template': \"You are an assistant that helps answer questions. \\n    If you don't know the answer, just say that you don't know. \\n    Use three sentences maximum and keep the answer concise.\\n    Question: {question} \\n    Answer:\\n    \",\n",
       "         'template_format': 'f-string',\n",
       "         'partial_variables': {}},\n",
       "        'name': 'PromptTemplate',\n",
       "        'graph': {'nodes': [{'id': 0,\n",
       "           'type': 'schema',\n",
       "           'data': {'title': 'PromptInput',\n",
       "            'type': 'object',\n",
       "            'properties': {'question': {'title': 'Question',\n",
       "              'type': 'string'}}}},\n",
       "          {'id': 1,\n",
       "           'type': 'runnable',\n",
       "           'data': {'id': ['langchain', 'prompts', 'prompt', 'PromptTemplate'],\n",
       "            'name': 'PromptTemplate'}},\n",
       "          {'id': 2,\n",
       "           'type': 'schema',\n",
       "           'data': {'title': 'PromptTemplateOutput',\n",
       "            'anyOf': [{'$ref': '#/definitions/StringPromptValue'},\n",
       "             {'$ref': '#/definitions/ChatPromptValueConcrete'}],\n",
       "            'definitions': {'StringPromptValue': {'title': 'StringPromptValue',\n",
       "              'description': 'String prompt value.',\n",
       "              'type': 'object',\n",
       "              'properties': {'text': {'title': 'Text', 'type': 'string'},\n",
       "               'type': {'title': 'Type',\n",
       "                'default': 'StringPromptValue',\n",
       "                'enum': ['StringPromptValue'],\n",
       "                'type': 'string'}},\n",
       "              'required': ['text']},\n",
       "             'AIMessage': {'title': 'AIMessage',\n",
       "              'description': 'Message from an AI.',\n",
       "              'type': 'object',\n",
       "              'properties': {'content': {'title': 'Content',\n",
       "                'anyOf': [{'type': 'string'},\n",
       "                 {'type': 'array',\n",
       "                  'items': {'anyOf': [{'type': 'string'},\n",
       "                    {'type': 'object'}]}}]},\n",
       "               'additional_kwargs': {'title': 'Additional Kwargs',\n",
       "                'type': 'object'},\n",
       "               'response_metadata': {'title': 'Response Metadata',\n",
       "                'type': 'object'},\n",
       "               'type': {'title': 'Type',\n",
       "                'default': 'ai',\n",
       "                'enum': ['ai'],\n",
       "                'type': 'string'},\n",
       "               'name': {'title': 'Name', 'type': 'string'},\n",
       "               'id': {'title': 'Id', 'type': 'string'},\n",
       "               'example': {'title': 'Example',\n",
       "                'default': False,\n",
       "                'type': 'boolean'}},\n",
       "              'required': ['content']},\n",
       "             'HumanMessage': {'title': 'HumanMessage',\n",
       "              'description': 'Message from a human.',\n",
       "              'type': 'object',\n",
       "              'properties': {'content': {'title': 'Content',\n",
       "                'anyOf': [{'type': 'string'},\n",
       "                 {'type': 'array',\n",
       "                  'items': {'anyOf': [{'type': 'string'},\n",
       "                    {'type': 'object'}]}}]},\n",
       "               'additional_kwargs': {'title': 'Additional Kwargs',\n",
       "                'type': 'object'},\n",
       "               'response_metadata': {'title': 'Response Metadata',\n",
       "                'type': 'object'},\n",
       "               'type': {'title': 'Type',\n",
       "                'default': 'human',\n",
       "                'enum': ['human'],\n",
       "                'type': 'string'},\n",
       "               'name': {'title': 'Name', 'type': 'string'},\n",
       "               'id': {'title': 'Id', 'type': 'string'},\n",
       "               'example': {'title': 'Example',\n",
       "                'default': False,\n",
       "                'type': 'boolean'}},\n",
       "              'required': ['content']},\n",
       "             'ChatMessage': {'title': 'ChatMessage',\n",
       "              'description': 'Message that can be assigned an arbitrary speaker (i.e. role).',\n",
       "              'type': 'object',\n",
       "              'properties': {'content': {'title': 'Content',\n",
       "                'anyOf': [{'type': 'string'},\n",
       "                 {'type': 'array',\n",
       "                  'items': {'anyOf': [{'type': 'string'},\n",
       "                    {'type': 'object'}]}}]},\n",
       "               'additional_kwargs': {'title': 'Additional Kwargs',\n",
       "                'type': 'object'},\n",
       "               'response_metadata': {'title': 'Response Metadata',\n",
       "                'type': 'object'},\n",
       "               'type': {'title': 'Type',\n",
       "                'default': 'chat',\n",
       "                'enum': ['chat'],\n",
       "                'type': 'string'},\n",
       "               'name': {'title': 'Name', 'type': 'string'},\n",
       "               'id': {'title': 'Id', 'type': 'string'},\n",
       "               'role': {'title': 'Role', 'type': 'string'}},\n",
       "              'required': ['content', 'role']},\n",
       "             'SystemMessage': {'title': 'SystemMessage',\n",
       "              'description': 'Message for priming AI behavior, usually passed in as the first of a sequence\\nof input messages.',\n",
       "              'type': 'object',\n",
       "              'properties': {'content': {'title': 'Content',\n",
       "                'anyOf': [{'type': 'string'},\n",
       "                 {'type': 'array',\n",
       "                  'items': {'anyOf': [{'type': 'string'},\n",
       "                    {'type': 'object'}]}}]},\n",
       "               'additional_kwargs': {'title': 'Additional Kwargs',\n",
       "                'type': 'object'},\n",
       "               'response_metadata': {'title': 'Response Metadata',\n",
       "                'type': 'object'},\n",
       "               'type': {'title': 'Type',\n",
       "                'default': 'system',\n",
       "                'enum': ['system'],\n",
       "                'type': 'string'},\n",
       "               'name': {'title': 'Name', 'type': 'string'},\n",
       "               'id': {'title': 'Id', 'type': 'string'}},\n",
       "              'required': ['content']},\n",
       "             'FunctionMessage': {'title': 'FunctionMessage',\n",
       "              'description': 'Message for passing the result of executing a function back to a model.',\n",
       "              'type': 'object',\n",
       "              'properties': {'content': {'title': 'Content',\n",
       "                'anyOf': [{'type': 'string'},\n",
       "                 {'type': 'array',\n",
       "                  'items': {'anyOf': [{'type': 'string'},\n",
       "                    {'type': 'object'}]}}]},\n",
       "               'additional_kwargs': {'title': 'Additional Kwargs',\n",
       "                'type': 'object'},\n",
       "               'response_metadata': {'title': 'Response Metadata',\n",
       "                'type': 'object'},\n",
       "               'type': {'title': 'Type',\n",
       "                'default': 'function',\n",
       "                'enum': ['function'],\n",
       "                'type': 'string'},\n",
       "               'name': {'title': 'Name', 'type': 'string'},\n",
       "               'id': {'title': 'Id', 'type': 'string'}},\n",
       "              'required': ['content', 'name']},\n",
       "             'ToolMessage': {'title': 'ToolMessage',\n",
       "              'description': 'Message for passing the result of executing a tool back to a model.',\n",
       "              'type': 'object',\n",
       "              'properties': {'content': {'title': 'Content',\n",
       "                'anyOf': [{'type': 'string'},\n",
       "                 {'type': 'array',\n",
       "                  'items': {'anyOf': [{'type': 'string'},\n",
       "                    {'type': 'object'}]}}]},\n",
       "               'additional_kwargs': {'title': 'Additional Kwargs',\n",
       "                'type': 'object'},\n",
       "               'response_metadata': {'title': 'Response Metadata',\n",
       "                'type': 'object'},\n",
       "               'type': {'title': 'Type',\n",
       "                'default': 'tool',\n",
       "                'enum': ['tool'],\n",
       "                'type': 'string'},\n",
       "               'name': {'title': 'Name', 'type': 'string'},\n",
       "               'id': {'title': 'Id', 'type': 'string'},\n",
       "               'tool_call_id': {'title': 'Tool Call Id', 'type': 'string'}},\n",
       "              'required': ['content', 'tool_call_id']},\n",
       "             'ChatPromptValueConcrete': {'title': 'ChatPromptValueConcrete',\n",
       "              'description': 'Chat prompt value which explicitly lists out the message types it accepts.\\nFor use in external schemas.',\n",
       "              'type': 'object',\n",
       "              'properties': {'messages': {'title': 'Messages',\n",
       "                'type': 'array',\n",
       "                'items': {'anyOf': [{'$ref': '#/definitions/AIMessage'},\n",
       "                  {'$ref': '#/definitions/HumanMessage'},\n",
       "                  {'$ref': '#/definitions/ChatMessage'},\n",
       "                  {'$ref': '#/definitions/SystemMessage'},\n",
       "                  {'$ref': '#/definitions/FunctionMessage'},\n",
       "                  {'$ref': '#/definitions/ToolMessage'}]}},\n",
       "               'type': {'title': 'Type',\n",
       "                'default': 'ChatPromptValueConcrete',\n",
       "                'enum': ['ChatPromptValueConcrete'],\n",
       "                'type': 'string'}},\n",
       "              'required': ['messages']}}}}],\n",
       "         'edges': [{'source': 0, 'target': 1},\n",
       "          {'source': 1, 'target': 2}]}}}}],\n",
       "    'partial_variables': {}},\n",
       "   'name': 'ChatPromptTemplate',\n",
       "   'graph': {'nodes': [{'id': 0,\n",
       "      'type': 'schema',\n",
       "      'data': {'title': 'PromptInput',\n",
       "       'type': 'object',\n",
       "       'properties': {'question': {'title': 'Question', 'type': 'string'}}}},\n",
       "     {'id': 1,\n",
       "      'type': 'runnable',\n",
       "      'data': {'id': ['langchain', 'prompts', 'chat', 'ChatPromptTemplate'],\n",
       "       'name': 'ChatPromptTemplate'}},\n",
       "     {'id': 2,\n",
       "      'type': 'schema',\n",
       "      'data': {'title': 'ChatPromptTemplateOutput',\n",
       "       'anyOf': [{'$ref': '#/definitions/StringPromptValue'},\n",
       "        {'$ref': '#/definitions/ChatPromptValueConcrete'}],\n",
       "       'definitions': {'StringPromptValue': {'title': 'StringPromptValue',\n",
       "         'description': 'String prompt value.',\n",
       "         'type': 'object',\n",
       "         'properties': {'text': {'title': 'Text', 'type': 'string'},\n",
       "          'type': {'title': 'Type',\n",
       "           'default': 'StringPromptValue',\n",
       "           'enum': ['StringPromptValue'],\n",
       "           'type': 'string'}},\n",
       "         'required': ['text']},\n",
       "        'AIMessage': {'title': 'AIMessage',\n",
       "         'description': 'Message from an AI.',\n",
       "         'type': 'object',\n",
       "         'properties': {'content': {'title': 'Content',\n",
       "           'anyOf': [{'type': 'string'},\n",
       "            {'type': 'array',\n",
       "             'items': {'anyOf': [{'type': 'string'}, {'type': 'object'}]}}]},\n",
       "          'additional_kwargs': {'title': 'Additional Kwargs',\n",
       "           'type': 'object'},\n",
       "          'response_metadata': {'title': 'Response Metadata',\n",
       "           'type': 'object'},\n",
       "          'type': {'title': 'Type',\n",
       "           'default': 'ai',\n",
       "           'enum': ['ai'],\n",
       "           'type': 'string'},\n",
       "          'name': {'title': 'Name', 'type': 'string'},\n",
       "          'id': {'title': 'Id', 'type': 'string'},\n",
       "          'example': {'title': 'Example',\n",
       "           'default': False,\n",
       "           'type': 'boolean'}},\n",
       "         'required': ['content']},\n",
       "        'HumanMessage': {'title': 'HumanMessage',\n",
       "         'description': 'Message from a human.',\n",
       "         'type': 'object',\n",
       "         'properties': {'content': {'title': 'Content',\n",
       "           'anyOf': [{'type': 'string'},\n",
       "            {'type': 'array',\n",
       "             'items': {'anyOf': [{'type': 'string'}, {'type': 'object'}]}}]},\n",
       "          'additional_kwargs': {'title': 'Additional Kwargs',\n",
       "           'type': 'object'},\n",
       "          'response_metadata': {'title': 'Response Metadata',\n",
       "           'type': 'object'},\n",
       "          'type': {'title': 'Type',\n",
       "           'default': 'human',\n",
       "           'enum': ['human'],\n",
       "           'type': 'string'},\n",
       "          'name': {'title': 'Name', 'type': 'string'},\n",
       "          'id': {'title': 'Id', 'type': 'string'},\n",
       "          'example': {'title': 'Example',\n",
       "           'default': False,\n",
       "           'type': 'boolean'}},\n",
       "         'required': ['content']},\n",
       "        'ChatMessage': {'title': 'ChatMessage',\n",
       "         'description': 'Message that can be assigned an arbitrary speaker (i.e. role).',\n",
       "         'type': 'object',\n",
       "         'properties': {'content': {'title': 'Content',\n",
       "           'anyOf': [{'type': 'string'},\n",
       "            {'type': 'array',\n",
       "             'items': {'anyOf': [{'type': 'string'}, {'type': 'object'}]}}]},\n",
       "          'additional_kwargs': {'title': 'Additional Kwargs',\n",
       "           'type': 'object'},\n",
       "          'response_metadata': {'title': 'Response Metadata',\n",
       "           'type': 'object'},\n",
       "          'type': {'title': 'Type',\n",
       "           'default': 'chat',\n",
       "           'enum': ['chat'],\n",
       "           'type': 'string'},\n",
       "          'name': {'title': 'Name', 'type': 'string'},\n",
       "          'id': {'title': 'Id', 'type': 'string'},\n",
       "          'role': {'title': 'Role', 'type': 'string'}},\n",
       "         'required': ['content', 'role']},\n",
       "        'SystemMessage': {'title': 'SystemMessage',\n",
       "         'description': 'Message for priming AI behavior, usually passed in as the first of a sequence\\nof input messages.',\n",
       "         'type': 'object',\n",
       "         'properties': {'content': {'title': 'Content',\n",
       "           'anyOf': [{'type': 'string'},\n",
       "            {'type': 'array',\n",
       "             'items': {'anyOf': [{'type': 'string'}, {'type': 'object'}]}}]},\n",
       "          'additional_kwargs': {'title': 'Additional Kwargs',\n",
       "           'type': 'object'},\n",
       "          'response_metadata': {'title': 'Response Metadata',\n",
       "           'type': 'object'},\n",
       "          'type': {'title': 'Type',\n",
       "           'default': 'system',\n",
       "           'enum': ['system'],\n",
       "           'type': 'string'},\n",
       "          'name': {'title': 'Name', 'type': 'string'},\n",
       "          'id': {'title': 'Id', 'type': 'string'}},\n",
       "         'required': ['content']},\n",
       "        'FunctionMessage': {'title': 'FunctionMessage',\n",
       "         'description': 'Message for passing the result of executing a function back to a model.',\n",
       "         'type': 'object',\n",
       "         'properties': {'content': {'title': 'Content',\n",
       "           'anyOf': [{'type': 'string'},\n",
       "            {'type': 'array',\n",
       "             'items': {'anyOf': [{'type': 'string'}, {'type': 'object'}]}}]},\n",
       "          'additional_kwargs': {'title': 'Additional Kwargs',\n",
       "           'type': 'object'},\n",
       "          'response_metadata': {'title': 'Response Metadata',\n",
       "           'type': 'object'},\n",
       "          'type': {'title': 'Type',\n",
       "           'default': 'function',\n",
       "           'enum': ['function'],\n",
       "           'type': 'string'},\n",
       "          'name': {'title': 'Name', 'type': 'string'},\n",
       "          'id': {'title': 'Id', 'type': 'string'}},\n",
       "         'required': ['content', 'name']},\n",
       "        'ToolMessage': {'title': 'ToolMessage',\n",
       "         'description': 'Message for passing the result of executing a tool back to a model.',\n",
       "         'type': 'object',\n",
       "         'properties': {'content': {'title': 'Content',\n",
       "           'anyOf': [{'type': 'string'},\n",
       "            {'type': 'array',\n",
       "             'items': {'anyOf': [{'type': 'string'}, {'type': 'object'}]}}]},\n",
       "          'additional_kwargs': {'title': 'Additional Kwargs',\n",
       "           'type': 'object'},\n",
       "          'response_metadata': {'title': 'Response Metadata',\n",
       "           'type': 'object'},\n",
       "          'type': {'title': 'Type',\n",
       "           'default': 'tool',\n",
       "           'enum': ['tool'],\n",
       "           'type': 'string'},\n",
       "          'name': {'title': 'Name', 'type': 'string'},\n",
       "          'id': {'title': 'Id', 'type': 'string'},\n",
       "          'tool_call_id': {'title': 'Tool Call Id', 'type': 'string'}},\n",
       "         'required': ['content', 'tool_call_id']},\n",
       "        'ChatPromptValueConcrete': {'title': 'ChatPromptValueConcrete',\n",
       "         'description': 'Chat prompt value which explicitly lists out the message types it accepts.\\nFor use in external schemas.',\n",
       "         'type': 'object',\n",
       "         'properties': {'messages': {'title': 'Messages',\n",
       "           'type': 'array',\n",
       "           'items': {'anyOf': [{'$ref': '#/definitions/AIMessage'},\n",
       "             {'$ref': '#/definitions/HumanMessage'},\n",
       "             {'$ref': '#/definitions/ChatMessage'},\n",
       "             {'$ref': '#/definitions/SystemMessage'},\n",
       "             {'$ref': '#/definitions/FunctionMessage'},\n",
       "             {'$ref': '#/definitions/ToolMessage'}]}},\n",
       "          'type': {'title': 'Type',\n",
       "           'default': 'ChatPromptValueConcrete',\n",
       "           'enum': ['ChatPromptValueConcrete'],\n",
       "           'type': 'string'}},\n",
       "         'required': ['messages']}}}}],\n",
       "    'edges': [{'source': 0, 'target': 1}, {'source': 1, 'target': 2}]}},\n",
       "  'middle': [],\n",
       "  'last': {'lc': 1,\n",
       "   'type': 'constructor',\n",
       "   'id': ['langchain', 'chat_models', 'openai', 'ChatOpenAI'],\n",
       "   'kwargs': {'model_name': 'gpt-3.5-turbo',\n",
       "    'temperature': 0.0,\n",
       "    'openai_api_key': {'lc': 1, 'type': 'secret', 'id': ['OPENAI_API_KEY']}},\n",
       "   'name': 'ChatOpenAI',\n",
       "   'graph': {'nodes': [{'id': 0,\n",
       "      'type': 'schema',\n",
       "      'data': {'title': 'ChatOpenAIInput',\n",
       "       'anyOf': [{'type': 'string'},\n",
       "        {'$ref': '#/definitions/StringPromptValue'},\n",
       "        {'$ref': '#/definitions/ChatPromptValueConcrete'},\n",
       "        {'type': 'array',\n",
       "         'items': {'anyOf': [{'$ref': '#/definitions/AIMessage'},\n",
       "           {'$ref': '#/definitions/HumanMessage'},\n",
       "           {'$ref': '#/definitions/ChatMessage'},\n",
       "           {'$ref': '#/definitions/SystemMessage'},\n",
       "           {'$ref': '#/definitions/FunctionMessage'},\n",
       "           {'$ref': '#/definitions/ToolMessage'}]}}],\n",
       "       'definitions': {'StringPromptValue': {'title': 'StringPromptValue',\n",
       "         'description': 'String prompt value.',\n",
       "         'type': 'object',\n",
       "         'properties': {'text': {'title': 'Text', 'type': 'string'},\n",
       "          'type': {'title': 'Type',\n",
       "           'default': 'StringPromptValue',\n",
       "           'enum': ['StringPromptValue'],\n",
       "           'type': 'string'}},\n",
       "         'required': ['text']},\n",
       "        'AIMessage': {'title': 'AIMessage',\n",
       "         'description': 'Message from an AI.',\n",
       "         'type': 'object',\n",
       "         'properties': {'content': {'title': 'Content',\n",
       "           'anyOf': [{'type': 'string'},\n",
       "            {'type': 'array',\n",
       "             'items': {'anyOf': [{'type': 'string'}, {'type': 'object'}]}}]},\n",
       "          'additional_kwargs': {'title': 'Additional Kwargs',\n",
       "           'type': 'object'},\n",
       "          'response_metadata': {'title': 'Response Metadata',\n",
       "           'type': 'object'},\n",
       "          'type': {'title': 'Type',\n",
       "           'default': 'ai',\n",
       "           'enum': ['ai'],\n",
       "           'type': 'string'},\n",
       "          'name': {'title': 'Name', 'type': 'string'},\n",
       "          'id': {'title': 'Id', 'type': 'string'},\n",
       "          'example': {'title': 'Example',\n",
       "           'default': False,\n",
       "           'type': 'boolean'}},\n",
       "         'required': ['content']},\n",
       "        'HumanMessage': {'title': 'HumanMessage',\n",
       "         'description': 'Message from a human.',\n",
       "         'type': 'object',\n",
       "         'properties': {'content': {'title': 'Content',\n",
       "           'anyOf': [{'type': 'string'},\n",
       "            {'type': 'array',\n",
       "             'items': {'anyOf': [{'type': 'string'}, {'type': 'object'}]}}]},\n",
       "          'additional_kwargs': {'title': 'Additional Kwargs',\n",
       "           'type': 'object'},\n",
       "          'response_metadata': {'title': 'Response Metadata',\n",
       "           'type': 'object'},\n",
       "          'type': {'title': 'Type',\n",
       "           'default': 'human',\n",
       "           'enum': ['human'],\n",
       "           'type': 'string'},\n",
       "          'name': {'title': 'Name', 'type': 'string'},\n",
       "          'id': {'title': 'Id', 'type': 'string'},\n",
       "          'example': {'title': 'Example',\n",
       "           'default': False,\n",
       "           'type': 'boolean'}},\n",
       "         'required': ['content']},\n",
       "        'ChatMessage': {'title': 'ChatMessage',\n",
       "         'description': 'Message that can be assigned an arbitrary speaker (i.e. role).',\n",
       "         'type': 'object',\n",
       "         'properties': {'content': {'title': 'Content',\n",
       "           'anyOf': [{'type': 'string'},\n",
       "            {'type': 'array',\n",
       "             'items': {'anyOf': [{'type': 'string'}, {'type': 'object'}]}}]},\n",
       "          'additional_kwargs': {'title': 'Additional Kwargs',\n",
       "           'type': 'object'},\n",
       "          'response_metadata': {'title': 'Response Metadata',\n",
       "           'type': 'object'},\n",
       "          'type': {'title': 'Type',\n",
       "           'default': 'chat',\n",
       "           'enum': ['chat'],\n",
       "           'type': 'string'},\n",
       "          'name': {'title': 'Name', 'type': 'string'},\n",
       "          'id': {'title': 'Id', 'type': 'string'},\n",
       "          'role': {'title': 'Role', 'type': 'string'}},\n",
       "         'required': ['content', 'role']},\n",
       "        'SystemMessage': {'title': 'SystemMessage',\n",
       "         'description': 'Message for priming AI behavior, usually passed in as the first of a sequence\\nof input messages.',\n",
       "         'type': 'object',\n",
       "         'properties': {'content': {'title': 'Content',\n",
       "           'anyOf': [{'type': 'string'},\n",
       "            {'type': 'array',\n",
       "             'items': {'anyOf': [{'type': 'string'}, {'type': 'object'}]}}]},\n",
       "          'additional_kwargs': {'title': 'Additional Kwargs',\n",
       "           'type': 'object'},\n",
       "          'response_metadata': {'title': 'Response Metadata',\n",
       "           'type': 'object'},\n",
       "          'type': {'title': 'Type',\n",
       "           'default': 'system',\n",
       "           'enum': ['system'],\n",
       "           'type': 'string'},\n",
       "          'name': {'title': 'Name', 'type': 'string'},\n",
       "          'id': {'title': 'Id', 'type': 'string'}},\n",
       "         'required': ['content']},\n",
       "        'FunctionMessage': {'title': 'FunctionMessage',\n",
       "         'description': 'Message for passing the result of executing a function back to a model.',\n",
       "         'type': 'object',\n",
       "         'properties': {'content': {'title': 'Content',\n",
       "           'anyOf': [{'type': 'string'},\n",
       "            {'type': 'array',\n",
       "             'items': {'anyOf': [{'type': 'string'}, {'type': 'object'}]}}]},\n",
       "          'additional_kwargs': {'title': 'Additional Kwargs',\n",
       "           'type': 'object'},\n",
       "          'response_metadata': {'title': 'Response Metadata',\n",
       "           'type': 'object'},\n",
       "          'type': {'title': 'Type',\n",
       "           'default': 'function',\n",
       "           'enum': ['function'],\n",
       "           'type': 'string'},\n",
       "          'name': {'title': 'Name', 'type': 'string'},\n",
       "          'id': {'title': 'Id', 'type': 'string'}},\n",
       "         'required': ['content', 'name']},\n",
       "        'ToolMessage': {'title': 'ToolMessage',\n",
       "         'description': 'Message for passing the result of executing a tool back to a model.',\n",
       "         'type': 'object',\n",
       "         'properties': {'content': {'title': 'Content',\n",
       "           'anyOf': [{'type': 'string'},\n",
       "            {'type': 'array',\n",
       "             'items': {'anyOf': [{'type': 'string'}, {'type': 'object'}]}}]},\n",
       "          'additional_kwargs': {'title': 'Additional Kwargs',\n",
       "           'type': 'object'},\n",
       "          'response_metadata': {'title': 'Response Metadata',\n",
       "           'type': 'object'},\n",
       "          'type': {'title': 'Type',\n",
       "           'default': 'tool',\n",
       "           'enum': ['tool'],\n",
       "           'type': 'string'},\n",
       "          'name': {'title': 'Name', 'type': 'string'},\n",
       "          'id': {'title': 'Id', 'type': 'string'},\n",
       "          'tool_call_id': {'title': 'Tool Call Id', 'type': 'string'}},\n",
       "         'required': ['content', 'tool_call_id']},\n",
       "        'ChatPromptValueConcrete': {'title': 'ChatPromptValueConcrete',\n",
       "         'description': 'Chat prompt value which explicitly lists out the message types it accepts.\\nFor use in external schemas.',\n",
       "         'type': 'object',\n",
       "         'properties': {'messages': {'title': 'Messages',\n",
       "           'type': 'array',\n",
       "           'items': {'anyOf': [{'$ref': '#/definitions/AIMessage'},\n",
       "             {'$ref': '#/definitions/HumanMessage'},\n",
       "             {'$ref': '#/definitions/ChatMessage'},\n",
       "             {'$ref': '#/definitions/SystemMessage'},\n",
       "             {'$ref': '#/definitions/FunctionMessage'},\n",
       "             {'$ref': '#/definitions/ToolMessage'}]}},\n",
       "          'type': {'title': 'Type',\n",
       "           'default': 'ChatPromptValueConcrete',\n",
       "           'enum': ['ChatPromptValueConcrete'],\n",
       "           'type': 'string'}},\n",
       "         'required': ['messages']}}}},\n",
       "     {'id': 1,\n",
       "      'type': 'runnable',\n",
       "      'data': {'id': ['langchain', 'chat_models', 'openai', 'ChatOpenAI'],\n",
       "       'name': 'ChatOpenAI'}},\n",
       "     {'id': 2,\n",
       "      'type': 'schema',\n",
       "      'data': {'title': 'ChatOpenAIOutput',\n",
       "       'anyOf': [{'$ref': '#/definitions/AIMessage'},\n",
       "        {'$ref': '#/definitions/HumanMessage'},\n",
       "        {'$ref': '#/definitions/ChatMessage'},\n",
       "        {'$ref': '#/definitions/SystemMessage'},\n",
       "        {'$ref': '#/definitions/FunctionMessage'},\n",
       "        {'$ref': '#/definitions/ToolMessage'}],\n",
       "       'definitions': {'AIMessage': {'title': 'AIMessage',\n",
       "         'description': 'Message from an AI.',\n",
       "         'type': 'object',\n",
       "         'properties': {'content': {'title': 'Content',\n",
       "           'anyOf': [{'type': 'string'},\n",
       "            {'type': 'array',\n",
       "             'items': {'anyOf': [{'type': 'string'}, {'type': 'object'}]}}]},\n",
       "          'additional_kwargs': {'title': 'Additional Kwargs',\n",
       "           'type': 'object'},\n",
       "          'response_metadata': {'title': 'Response Metadata',\n",
       "           'type': 'object'},\n",
       "          'type': {'title': 'Type',\n",
       "           'default': 'ai',\n",
       "           'enum': ['ai'],\n",
       "           'type': 'string'},\n",
       "          'name': {'title': 'Name', 'type': 'string'},\n",
       "          'id': {'title': 'Id', 'type': 'string'},\n",
       "          'example': {'title': 'Example',\n",
       "           'default': False,\n",
       "           'type': 'boolean'}},\n",
       "         'required': ['content']},\n",
       "        'HumanMessage': {'title': 'HumanMessage',\n",
       "         'description': 'Message from a human.',\n",
       "         'type': 'object',\n",
       "         'properties': {'content': {'title': 'Content',\n",
       "           'anyOf': [{'type': 'string'},\n",
       "            {'type': 'array',\n",
       "             'items': {'anyOf': [{'type': 'string'}, {'type': 'object'}]}}]},\n",
       "          'additional_kwargs': {'title': 'Additional Kwargs',\n",
       "           'type': 'object'},\n",
       "          'response_metadata': {'title': 'Response Metadata',\n",
       "           'type': 'object'},\n",
       "          'type': {'title': 'Type',\n",
       "           'default': 'human',\n",
       "           'enum': ['human'],\n",
       "           'type': 'string'},\n",
       "          'name': {'title': 'Name', 'type': 'string'},\n",
       "          'id': {'title': 'Id', 'type': 'string'},\n",
       "          'example': {'title': 'Example',\n",
       "           'default': False,\n",
       "           'type': 'boolean'}},\n",
       "         'required': ['content']},\n",
       "        'ChatMessage': {'title': 'ChatMessage',\n",
       "         'description': 'Message that can be assigned an arbitrary speaker (i.e. role).',\n",
       "         'type': 'object',\n",
       "         'properties': {'content': {'title': 'Content',\n",
       "           'anyOf': [{'type': 'string'},\n",
       "            {'type': 'array',\n",
       "             'items': {'anyOf': [{'type': 'string'}, {'type': 'object'}]}}]},\n",
       "          'additional_kwargs': {'title': 'Additional Kwargs',\n",
       "           'type': 'object'},\n",
       "          'response_metadata': {'title': 'Response Metadata',\n",
       "           'type': 'object'},\n",
       "          'type': {'title': 'Type',\n",
       "           'default': 'chat',\n",
       "           'enum': ['chat'],\n",
       "           'type': 'string'},\n",
       "          'name': {'title': 'Name', 'type': 'string'},\n",
       "          'id': {'title': 'Id', 'type': 'string'},\n",
       "          'role': {'title': 'Role', 'type': 'string'}},\n",
       "         'required': ['content', 'role']},\n",
       "        'SystemMessage': {'title': 'SystemMessage',\n",
       "         'description': 'Message for priming AI behavior, usually passed in as the first of a sequence\\nof input messages.',\n",
       "         'type': 'object',\n",
       "         'properties': {'content': {'title': 'Content',\n",
       "           'anyOf': [{'type': 'string'},\n",
       "            {'type': 'array',\n",
       "             'items': {'anyOf': [{'type': 'string'}, {'type': 'object'}]}}]},\n",
       "          'additional_kwargs': {'title': 'Additional Kwargs',\n",
       "           'type': 'object'},\n",
       "          'response_metadata': {'title': 'Response Metadata',\n",
       "           'type': 'object'},\n",
       "          'type': {'title': 'Type',\n",
       "           'default': 'system',\n",
       "           'enum': ['system'],\n",
       "           'type': 'string'},\n",
       "          'name': {'title': 'Name', 'type': 'string'},\n",
       "          'id': {'title': 'Id', 'type': 'string'}},\n",
       "         'required': ['content']},\n",
       "        'FunctionMessage': {'title': 'FunctionMessage',\n",
       "         'description': 'Message for passing the result of executing a function back to a model.',\n",
       "         'type': 'object',\n",
       "         'properties': {'content': {'title': 'Content',\n",
       "           'anyOf': [{'type': 'string'},\n",
       "            {'type': 'array',\n",
       "             'items': {'anyOf': [{'type': 'string'}, {'type': 'object'}]}}]},\n",
       "          'additional_kwargs': {'title': 'Additional Kwargs',\n",
       "           'type': 'object'},\n",
       "          'response_metadata': {'title': 'Response Metadata',\n",
       "           'type': 'object'},\n",
       "          'type': {'title': 'Type',\n",
       "           'default': 'function',\n",
       "           'enum': ['function'],\n",
       "           'type': 'string'},\n",
       "          'name': {'title': 'Name', 'type': 'string'},\n",
       "          'id': {'title': 'Id', 'type': 'string'}},\n",
       "         'required': ['content', 'name']},\n",
       "        'ToolMessage': {'title': 'ToolMessage',\n",
       "         'description': 'Message for passing the result of executing a tool back to a model.',\n",
       "         'type': 'object',\n",
       "         'properties': {'content': {'title': 'Content',\n",
       "           'anyOf': [{'type': 'string'},\n",
       "            {'type': 'array',\n",
       "             'items': {'anyOf': [{'type': 'string'}, {'type': 'object'}]}}]},\n",
       "          'additional_kwargs': {'title': 'Additional Kwargs',\n",
       "           'type': 'object'},\n",
       "          'response_metadata': {'title': 'Response Metadata',\n",
       "           'type': 'object'},\n",
       "          'type': {'title': 'Type',\n",
       "           'default': 'tool',\n",
       "           'enum': ['tool'],\n",
       "           'type': 'string'},\n",
       "          'name': {'title': 'Name', 'type': 'string'},\n",
       "          'id': {'title': 'Id', 'type': 'string'},\n",
       "          'tool_call_id': {'title': 'Tool Call Id', 'type': 'string'}},\n",
       "         'required': ['content', 'tool_call_id']}}}}],\n",
       "    'edges': [{'source': 0, 'target': 1}, {'source': 1, 'target': 2}]}},\n",
       "  'name': None},\n",
       " 'name': 'RunnableSequence',\n",
       " 'graph': {'nodes': [{'id': 0,\n",
       "    'type': 'schema',\n",
       "    'data': {'title': 'PromptInput',\n",
       "     'type': 'object',\n",
       "     'properties': {'question': {'title': 'Question', 'type': 'string'}}}},\n",
       "   {'id': 1,\n",
       "    'type': 'runnable',\n",
       "    'data': {'id': ['langchain', 'prompts', 'chat', 'ChatPromptTemplate'],\n",
       "     'name': 'ChatPromptTemplate'}},\n",
       "   {'id': 2,\n",
       "    'type': 'runnable',\n",
       "    'data': {'id': ['langchain', 'chat_models', 'openai', 'ChatOpenAI'],\n",
       "     'name': 'ChatOpenAI'}},\n",
       "   {'id': 3,\n",
       "    'type': 'schema',\n",
       "    'data': {'title': 'ChatOpenAIOutput',\n",
       "     'anyOf': [{'$ref': '#/definitions/AIMessage'},\n",
       "      {'$ref': '#/definitions/HumanMessage'},\n",
       "      {'$ref': '#/definitions/ChatMessage'},\n",
       "      {'$ref': '#/definitions/SystemMessage'},\n",
       "      {'$ref': '#/definitions/FunctionMessage'},\n",
       "      {'$ref': '#/definitions/ToolMessage'}],\n",
       "     'definitions': {'AIMessage': {'title': 'AIMessage',\n",
       "       'description': 'Message from an AI.',\n",
       "       'type': 'object',\n",
       "       'properties': {'content': {'title': 'Content',\n",
       "         'anyOf': [{'type': 'string'},\n",
       "          {'type': 'array',\n",
       "           'items': {'anyOf': [{'type': 'string'}, {'type': 'object'}]}}]},\n",
       "        'additional_kwargs': {'title': 'Additional Kwargs', 'type': 'object'},\n",
       "        'response_metadata': {'title': 'Response Metadata', 'type': 'object'},\n",
       "        'type': {'title': 'Type',\n",
       "         'default': 'ai',\n",
       "         'enum': ['ai'],\n",
       "         'type': 'string'},\n",
       "        'name': {'title': 'Name', 'type': 'string'},\n",
       "        'id': {'title': 'Id', 'type': 'string'},\n",
       "        'example': {'title': 'Example', 'default': False, 'type': 'boolean'}},\n",
       "       'required': ['content']},\n",
       "      'HumanMessage': {'title': 'HumanMessage',\n",
       "       'description': 'Message from a human.',\n",
       "       'type': 'object',\n",
       "       'properties': {'content': {'title': 'Content',\n",
       "         'anyOf': [{'type': 'string'},\n",
       "          {'type': 'array',\n",
       "           'items': {'anyOf': [{'type': 'string'}, {'type': 'object'}]}}]},\n",
       "        'additional_kwargs': {'title': 'Additional Kwargs', 'type': 'object'},\n",
       "        'response_metadata': {'title': 'Response Metadata', 'type': 'object'},\n",
       "        'type': {'title': 'Type',\n",
       "         'default': 'human',\n",
       "         'enum': ['human'],\n",
       "         'type': 'string'},\n",
       "        'name': {'title': 'Name', 'type': 'string'},\n",
       "        'id': {'title': 'Id', 'type': 'string'},\n",
       "        'example': {'title': 'Example', 'default': False, 'type': 'boolean'}},\n",
       "       'required': ['content']},\n",
       "      'ChatMessage': {'title': 'ChatMessage',\n",
       "       'description': 'Message that can be assigned an arbitrary speaker (i.e. role).',\n",
       "       'type': 'object',\n",
       "       'properties': {'content': {'title': 'Content',\n",
       "         'anyOf': [{'type': 'string'},\n",
       "          {'type': 'array',\n",
       "           'items': {'anyOf': [{'type': 'string'}, {'type': 'object'}]}}]},\n",
       "        'additional_kwargs': {'title': 'Additional Kwargs', 'type': 'object'},\n",
       "        'response_metadata': {'title': 'Response Metadata', 'type': 'object'},\n",
       "        'type': {'title': 'Type',\n",
       "         'default': 'chat',\n",
       "         'enum': ['chat'],\n",
       "         'type': 'string'},\n",
       "        'name': {'title': 'Name', 'type': 'string'},\n",
       "        'id': {'title': 'Id', 'type': 'string'},\n",
       "        'role': {'title': 'Role', 'type': 'string'}},\n",
       "       'required': ['content', 'role']},\n",
       "      'SystemMessage': {'title': 'SystemMessage',\n",
       "       'description': 'Message for priming AI behavior, usually passed in as the first of a sequence\\nof input messages.',\n",
       "       'type': 'object',\n",
       "       'properties': {'content': {'title': 'Content',\n",
       "         'anyOf': [{'type': 'string'},\n",
       "          {'type': 'array',\n",
       "           'items': {'anyOf': [{'type': 'string'}, {'type': 'object'}]}}]},\n",
       "        'additional_kwargs': {'title': 'Additional Kwargs', 'type': 'object'},\n",
       "        'response_metadata': {'title': 'Response Metadata', 'type': 'object'},\n",
       "        'type': {'title': 'Type',\n",
       "         'default': 'system',\n",
       "         'enum': ['system'],\n",
       "         'type': 'string'},\n",
       "        'name': {'title': 'Name', 'type': 'string'},\n",
       "        'id': {'title': 'Id', 'type': 'string'}},\n",
       "       'required': ['content']},\n",
       "      'FunctionMessage': {'title': 'FunctionMessage',\n",
       "       'description': 'Message for passing the result of executing a function back to a model.',\n",
       "       'type': 'object',\n",
       "       'properties': {'content': {'title': 'Content',\n",
       "         'anyOf': [{'type': 'string'},\n",
       "          {'type': 'array',\n",
       "           'items': {'anyOf': [{'type': 'string'}, {'type': 'object'}]}}]},\n",
       "        'additional_kwargs': {'title': 'Additional Kwargs', 'type': 'object'},\n",
       "        'response_metadata': {'title': 'Response Metadata', 'type': 'object'},\n",
       "        'type': {'title': 'Type',\n",
       "         'default': 'function',\n",
       "         'enum': ['function'],\n",
       "         'type': 'string'},\n",
       "        'name': {'title': 'Name', 'type': 'string'},\n",
       "        'id': {'title': 'Id', 'type': 'string'}},\n",
       "       'required': ['content', 'name']},\n",
       "      'ToolMessage': {'title': 'ToolMessage',\n",
       "       'description': 'Message for passing the result of executing a tool back to a model.',\n",
       "       'type': 'object',\n",
       "       'properties': {'content': {'title': 'Content',\n",
       "         'anyOf': [{'type': 'string'},\n",
       "          {'type': 'array',\n",
       "           'items': {'anyOf': [{'type': 'string'}, {'type': 'object'}]}}]},\n",
       "        'additional_kwargs': {'title': 'Additional Kwargs', 'type': 'object'},\n",
       "        'response_metadata': {'title': 'Response Metadata', 'type': 'object'},\n",
       "        'type': {'title': 'Type',\n",
       "         'default': 'tool',\n",
       "         'enum': ['tool'],\n",
       "         'type': 'string'},\n",
       "        'name': {'title': 'Name', 'type': 'string'},\n",
       "        'id': {'title': 'Id', 'type': 'string'},\n",
       "        'tool_call_id': {'title': 'Tool Call Id', 'type': 'string'}},\n",
       "       'required': ['content', 'tool_call_id']}}}}],\n",
       "  'edges': [{'source': 0, 'target': 1},\n",
       "   {'source': 2, 'target': 3},\n",
       "   {'source': 1, 'target': 2}]}}"
      ]
     },
     "execution_count": 106,
     "metadata": {},
     "output_type": "execute_result"
    }
   ],
   "source": [
    "handler.serialized_input[0]"
   ]
  },
  {
   "cell_type": "code",
   "execution_count": 109,
   "id": "3e255389-a6ee-4f01-a626-5c93a0e4b456",
   "metadata": {},
   "outputs": [
    {
     "data": {
      "text/plain": [
       "dict_keys(['lc', 'type', 'id', 'kwargs', 'name', 'graph'])"
      ]
     },
     "execution_count": 109,
     "metadata": {},
     "output_type": "execute_result"
    }
   ],
   "source": [
    "handler.serialized_input[1].keys()"
   ]
  },
  {
   "cell_type": "code",
   "execution_count": 110,
   "id": "fd6ebc8c-0ece-482c-8244-14ebe8678f17",
   "metadata": {},
   "outputs": [
    {
     "name": "stdout",
     "output_type": "stream",
     "text": [
      "['langchain', 'schema', 'runnable', 'RunnableSequence']\n",
      "['langchain', 'prompts', 'chat', 'ChatPromptTemplate']\n"
     ]
    }
   ],
   "source": [
    "for x in handler.serialized_input:\n",
    "    print(x['id'])"
   ]
  },
  {
   "cell_type": "code",
   "execution_count": 111,
   "id": "0e878362-c32b-4f3a-9ac5-ae6c886b4b5b",
   "metadata": {},
   "outputs": [],
   "source": [
    "for x in serialized_input:\n",
    "    try:\n",
    "        print(x['name'])\n",
    "    except:\n",
    "        print(x['repr'])"
   ]
  },
  {
   "cell_type": "code",
   "execution_count": 119,
   "id": "f0854a87-e51c-4499-9f8d-85511062a743",
   "metadata": {},
   "outputs": [
    {
     "name": "stdout",
     "output_type": "stream",
     "text": [
      "name: RunnableSequence\n",
      "type: constructor\n",
      "id: ['langchain', 'schema', 'runnable', 'RunnableSequence']\n",
      "kwargs_keys: dict_keys(['first', 'middle', 'last', 'name'])\n"
     ]
    }
   ],
   "source": [
    "getChainBreakdown(handler.serialized_input[0])"
   ]
  },
  {
   "cell_type": "code",
   "execution_count": 120,
   "id": "fa0102f0-ac3b-48a0-96a0-824b98729464",
   "metadata": {},
   "outputs": [
    {
     "name": "stdout",
     "output_type": "stream",
     "text": [
      "name: ChatPromptTemplate\n",
      "type: constructor\n",
      "id: ['langchain', 'prompts', 'chat', 'ChatPromptTemplate']\n",
      "kwargs_keys: dict_keys(['input_variables', 'messages', 'partial_variables'])\n"
     ]
    }
   ],
   "source": [
    "getChainBreakdown(handler.serialized_input[1])"
   ]
  },
  {
   "cell_type": "code",
   "execution_count": 121,
   "id": "c4d4332b-42cd-4b80-a49c-6ad1d553e8fb",
   "metadata": {},
   "outputs": [
    {
     "name": "stdout",
     "output_type": "stream",
     "text": [
      "name: ChatPromptTemplate\n",
      "type: constructor\n",
      "id: ['langchain', 'prompts', 'chat', 'ChatPromptTemplate']\n",
      "kwargs_keys: dict_keys(['input_variables', 'messages', 'partial_variables'])\n"
     ]
    }
   ],
   "source": [
    "getChainBreakdown(handler.serialized_input[0]['kwargs']['first'])"
   ]
  },
  {
   "cell_type": "code",
   "execution_count": 122,
   "id": "f24c0b97-6133-4acc-9280-14ceef0f912d",
   "metadata": {},
   "outputs": [
    {
     "name": "stdout",
     "output_type": "stream",
     "text": [
      "name: ChatOpenAI\n",
      "type: constructor\n",
      "id: ['langchain', 'chat_models', 'openai', 'ChatOpenAI']\n",
      "kwargs_keys: dict_keys(['model_name', 'temperature', 'openai_api_key'])\n"
     ]
    }
   ],
   "source": [
    "getChainBreakdown(handler.serialized_input[0]['kwargs']['last'])"
   ]
  },
  {
   "cell_type": "code",
   "execution_count": 123,
   "id": "d46cd7be-1849-42fa-8b8a-1350a0ac246a",
   "metadata": {
    "scrolled": true
   },
   "outputs": [
    {
     "ename": "TypeError",
     "evalue": "list indices must be integers or slices, not str",
     "output_type": "error",
     "traceback": [
      "\u001b[0;31m---------------------------------------------------------------------------\u001b[0m",
      "\u001b[0;31mTypeError\u001b[0m                                 Traceback (most recent call last)",
      "Cell \u001b[0;32mIn[118], line 36\u001b[0m, in \u001b[0;36mgetChainBreakdown\u001b[0;34m(serialized_input)\u001b[0m\n\u001b[1;32m     35\u001b[0m \u001b[38;5;28;01mtry\u001b[39;00m:\n\u001b[0;32m---> 36\u001b[0m     name \u001b[38;5;241m=\u001b[39m \u001b[43mx\u001b[49m\u001b[43m[\u001b[49m\u001b[38;5;124;43m'\u001b[39;49m\u001b[38;5;124;43mname\u001b[39;49m\u001b[38;5;124;43m'\u001b[39;49m\u001b[43m]\u001b[49m\n\u001b[1;32m     37\u001b[0m \u001b[38;5;28;01mexcept\u001b[39;00m:\n",
      "\u001b[0;31mTypeError\u001b[0m: list indices must be integers or slices, not str",
      "\nDuring handling of the above exception, another exception occurred:\n",
      "\u001b[0;31mTypeError\u001b[0m                                 Traceback (most recent call last)",
      "Cell \u001b[0;32mIn[123], line 1\u001b[0m\n\u001b[0;32m----> 1\u001b[0m \u001b[43mgetChainBreakdown\u001b[49m\u001b[43m(\u001b[49m\u001b[43mhandler\u001b[49m\u001b[38;5;241;43m.\u001b[39;49m\u001b[43mserialized_input\u001b[49m\u001b[43m[\u001b[49m\u001b[38;5;241;43m0\u001b[39;49m\u001b[43m]\u001b[49m\u001b[43m[\u001b[49m\u001b[38;5;124;43m'\u001b[39;49m\u001b[38;5;124;43mkwargs\u001b[39;49m\u001b[38;5;124;43m'\u001b[39;49m\u001b[43m]\u001b[49m\u001b[43m[\u001b[49m\u001b[38;5;124;43m'\u001b[39;49m\u001b[38;5;124;43mmiddle\u001b[39;49m\u001b[38;5;124;43m'\u001b[39;49m\u001b[43m]\u001b[49m\u001b[43m)\u001b[49m\n",
      "Cell \u001b[0;32mIn[118], line 38\u001b[0m, in \u001b[0;36mgetChainBreakdown\u001b[0;34m(serialized_input)\u001b[0m\n\u001b[1;32m     36\u001b[0m     name \u001b[38;5;241m=\u001b[39m x[\u001b[38;5;124m'\u001b[39m\u001b[38;5;124mname\u001b[39m\u001b[38;5;124m'\u001b[39m]\n\u001b[1;32m     37\u001b[0m \u001b[38;5;28;01mexcept\u001b[39;00m:\n\u001b[0;32m---> 38\u001b[0m     name \u001b[38;5;241m=\u001b[39m \u001b[43mx\u001b[49m\u001b[43m[\u001b[49m\u001b[38;5;124;43m'\u001b[39;49m\u001b[38;5;124;43mrepr\u001b[39;49m\u001b[38;5;124;43m'\u001b[39;49m\u001b[43m]\u001b[49m\n\u001b[1;32m     40\u001b[0m seq_type \u001b[38;5;241m=\u001b[39m x[\u001b[38;5;124m'\u001b[39m\u001b[38;5;124mtype\u001b[39m\u001b[38;5;124m'\u001b[39m]\n\u001b[1;32m     41\u001b[0m \u001b[38;5;28mid\u001b[39m \u001b[38;5;241m=\u001b[39m x[\u001b[38;5;124m'\u001b[39m\u001b[38;5;124mid\u001b[39m\u001b[38;5;124m'\u001b[39m]\n",
      "\u001b[0;31mTypeError\u001b[0m: list indices must be integers or slices, not str"
     ]
    }
   ],
   "source": [
    "getChainBreakdown(handler.serialized_input[0]['kwargs']['middle'])"
   ]
  },
  {
   "cell_type": "code",
   "execution_count": 125,
   "id": "d5bebd42-ef58-4dcb-bb79-bc8d0de2435a",
   "metadata": {},
   "outputs": [],
   "source": [
    "handler.serialized_input[0]['kwargs']['name']"
   ]
  },
  {
   "cell_type": "markdown",
   "id": "57b07df3-3c29-474c-8233-903ae2cf63e2",
   "metadata": {},
   "source": [
    "## Chain 2"
   ]
  },
  {
   "cell_type": "code",
   "execution_count": null,
   "id": "149cb63c-8395-4178-a896-306c4904e986",
   "metadata": {},
   "outputs": [],
   "source": [
    "rag_chain = ( {'context': retriever | format_docs , 'question': RunnablePassthrough() } | qa_prompt | llm)"
   ]
  },
  {
   "cell_type": "code",
   "execution_count": 18,
   "id": "b09ee2a4-d405-4240-8cc9-e26772c5be51",
   "metadata": {},
   "outputs": [
    {
     "name": "stdout",
     "output_type": "stream",
     "text": [
      "\n",
      "\n",
      "\u001b[1m> Entering new RunnableSequence chain...\u001b[0m\n",
      "\n",
      "\n",
      "\u001b[1m> Entering new RunnableParallel<context,question> chain...\u001b[0m\n",
      "\n",
      "\n",
      "\u001b[1m> Entering new RunnablePassthrough chain...\u001b[0m\n",
      "\n",
      "\u001b[1m> Finished chain.\u001b[0m\n",
      "\n",
      "\n",
      "\u001b[1m> Entering new RunnableSequence chain...\u001b[0m\n",
      "\n",
      "\n",
      "\u001b[1m> Entering new RunnableLambda chain...\u001b[0m\n",
      "\n",
      "\u001b[1m> Finished chain.\u001b[0m\n",
      "\n",
      "\u001b[1m> Finished chain.\u001b[0m\n",
      "\n",
      "\u001b[1m> Finished chain.\u001b[0m\n",
      "\n",
      "\n",
      "\u001b[1m> Entering new ChatPromptTemplate chain...\u001b[0m\n",
      "\n",
      "\u001b[1m> Finished chain.\u001b[0m\n",
      "\n",
      "\u001b[1m> Finished chain.\u001b[0m\n"
     ]
    },
    {
     "data": {
      "text/plain": [
       "AIMessage(content='Computational finance involves using computational tools to analyze financial data and model the dynamics of financial markets. It focuses on understanding the interactions between different agents in financial markets and how they process information and manage risk. Agent-based computational finance specifically views financial markets as groups of learning agents with varying characteristics.', response_metadata={'finish_reason': 'stop', 'logprobs': None})"
      ]
     },
     "execution_count": 18,
     "metadata": {},
     "output_type": "execute_result"
    }
   ],
   "source": [
    "from langchain_core.callbacks import StdOutCallbackHandler, BaseCallbackHandler\n",
    "handler = StdOutCallbackHandler()\n",
    "\n",
    "rag_chain.invoke(\"What is meant by computational finance?\", {\"callbacks\":[handler]})"
   ]
  },
  {
   "cell_type": "code",
   "execution_count": 58,
   "id": "c0b6e014-04eb-4e02-afad-593124250d1d",
   "metadata": {},
   "outputs": [],
   "source": [
    "from typing import TYPE_CHECKING, Any, Dict, Optional\n",
    "serialized_input = []\n",
    "chain_input = []\n",
    "class NewHandler(BaseCallbackHandler):\n",
    "    \n",
    "\n",
    "    def on_chain_start(\n",
    "        self, serialized: Dict[str, Any], inputs: Dict[str, Any], **kwargs: Any\n",
    "    ) -> None:\n",
    "        \"\"\"Print out that we are entering a chain.\"\"\"\n",
    "        global serialized_input, chain_input\n",
    "        print(\"Inputs: \")\n",
    "        print(inputs)\n",
    "        print(\"Serialized:\")\n",
    "        print(serialized)\n",
    "        serialized_input.append(serialized)\n",
    "        chain_input.append(inputs)\n",
    "        # class_name = serialized.get(\"name\", serialized.get(\"id\", [\"<unknown>\"])[-1])\n",
    "        # print(f\"\\n\\n\\033[1m> Entering new {class_name} chain...\\033[0m\")  # noqa: T201\n",
    "\n",
    "    def on_chain_end(self, outputs: Dict[str, Any], **kwargs: Any) -> None:\n",
    "        \"\"\"Print out that we finished a chain.\"\"\"\n",
    "        # print(\"Output:\")\n",
    "        # print(outputs)\n",
    "        # print(\"\\n\\033[1m> Finished chain.\\033[0m\")  # noqa: T201\n",
    "\n",
    "    "
   ]
  },
  {
   "cell_type": "code",
   "execution_count": 59,
   "id": "ff6eca8f-2720-4d72-afc4-26eaa150cb0e",
   "metadata": {
    "scrolled": true
   },
   "outputs": [
    {
     "name": "stdout",
     "output_type": "stream",
     "text": [
      "Inputs: \n",
      "What is meant by computational finance?\n",
      "Serialized:\n",
      "{'lc': 1, 'type': 'constructor', 'id': ['langchain', 'schema', 'runnable', 'RunnableSequence'], 'kwargs': {'first': {'lc': 1, 'type': 'constructor', 'id': ['langchain', 'schema', 'runnable', 'RunnableParallel'], 'kwargs': {'steps': {'context': {'lc': 1, 'type': 'constructor', 'id': ['langchain', 'schema', 'runnable', 'RunnableSequence'], 'kwargs': {'first': {'lc': 1, 'type': 'not_implemented', 'id': ['langchain_core', 'vectorstores', 'VectorStoreRetriever'], 'repr': \"VectorStoreRetriever(tags=['FAISS', 'OpenAIEmbeddings'], vectorstore=<langchain_community.vectorstores.faiss.FAISS object at 0x2c19462d0>, search_kwargs={'k': 4})\", 'name': 'VectorStoreRetriever', 'graph': {'nodes': [{'id': 0, 'type': 'schema', 'data': {'title': 'VectorStoreRetrieverInput', 'type': 'string'}}, {'id': 1, 'type': 'runnable', 'data': {'id': ['langchain_core', 'vectorstores', 'VectorStoreRetriever'], 'name': 'VectorStoreRetriever'}}, {'id': 2, 'type': 'schema', 'data': {'title': 'VectorStoreRetrieverOutput', 'type': 'array', 'items': {'$ref': '#/definitions/Document'}, 'definitions': {'Document': {'title': 'Document', 'description': 'Class for storing a piece of text and associated metadata.', 'type': 'object', 'properties': {'page_content': {'title': 'Page Content', 'type': 'string'}, 'metadata': {'title': 'Metadata', 'type': 'object'}, 'type': {'title': 'Type', 'default': 'Document', 'enum': ['Document'], 'type': 'string'}}, 'required': ['page_content']}}}}], 'edges': [{'source': 0, 'target': 1}, {'source': 1, 'target': 2}]}}, 'middle': [], 'last': {'lc': 1, 'type': 'not_implemented', 'id': ['langchain_core', 'runnables', 'base', 'RunnableLambda'], 'repr': 'RunnableLambda(format_docs)'}, 'name': None}, 'name': 'RunnableSequence', 'graph': {'nodes': [{'id': 0, 'type': 'schema', 'data': {'title': 'VectorStoreRetrieverInput', 'type': 'string'}}, {'id': 1, 'type': 'runnable', 'data': {'id': ['langchain_core', 'vectorstores', 'VectorStoreRetriever'], 'name': 'VectorStoreRetriever'}}, {'id': 2, 'type': 'runnable', 'data': {'id': ['langchain_core', 'runnables', 'base', 'RunnableLambda'], 'name': 'format_docs'}}, {'id': 3, 'type': 'schema', 'data': {'title': 'format_docs_output'}}], 'edges': [{'source': 0, 'target': 1}, {'source': 2, 'target': 3}, {'source': 1, 'target': 2}]}}, 'question': {'lc': 1, 'type': 'constructor', 'id': ['langchain', 'schema', 'runnable', 'RunnablePassthrough'], 'kwargs': {'func': None, 'afunc': None, 'input_type': None}, 'name': 'RunnablePassthrough', 'graph': {'nodes': [{'id': 0, 'type': 'schema', 'data': {'title': 'RunnablePassthroughInput'}}, {'id': 1, 'type': 'runnable', 'data': {'id': ['langchain', 'schema', 'runnable', 'RunnablePassthrough'], 'name': 'RunnablePassthrough'}}, {'id': 2, 'type': 'schema', 'data': {'title': 'RunnablePassthroughOutput'}}], 'edges': [{'source': 0, 'target': 1}, {'source': 1, 'target': 2}]}}}}, 'name': 'RunnableParallel<context,question>', 'graph': {'nodes': [{'id': 0, 'type': 'schema', 'data': {'title': 'RunnableParallel<context,question>Input', 'type': 'string'}}, {'id': 1, 'type': 'schema', 'data': {'title': 'RunnableParallel<context,question>Output', 'type': 'object', 'properties': {'context': {'title': 'Context'}, 'question': {'title': 'Question'}}}}, {'id': 2, 'type': 'runnable', 'data': {'id': ['langchain_core', 'vectorstores', 'VectorStoreRetriever'], 'name': 'VectorStoreRetriever'}}, {'id': 3, 'type': 'runnable', 'data': {'id': ['langchain_core', 'runnables', 'base', 'RunnableLambda'], 'name': 'format_docs'}}, {'id': 4, 'type': 'runnable', 'data': {'id': ['langchain', 'schema', 'runnable', 'RunnablePassthrough'], 'name': 'RunnablePassthrough'}}], 'edges': [{'source': 2, 'target': 3}, {'source': 0, 'target': 2}, {'source': 3, 'target': 1}, {'source': 0, 'target': 4}, {'source': 4, 'target': 1}]}}, 'middle': [{'lc': 1, 'type': 'constructor', 'id': ['langchain', 'prompts', 'chat', 'ChatPromptTemplate'], 'kwargs': {'input_variables': ['context', 'question'], 'messages': [{'lc': 1, 'type': 'constructor', 'id': ['langchain', 'prompts', 'chat', 'HumanMessagePromptTemplate'], 'kwargs': {'prompt': {'lc': 1, 'type': 'constructor', 'id': ['langchain', 'prompts', 'prompt', 'PromptTemplate'], 'kwargs': {'input_variables': ['context', 'question'], 'template': \"You are an assistant for question-answering tasks. \\n    Use the following pieces of retrieved context to answer the question. \\n    If you don't know the answer, just say that you don't know. \\n    Use three sentences maximum and keep the answer concise.\\n    Question: {question} \\n    Context: {context} \\n    Answer:\\n    \", 'template_format': 'f-string', 'partial_variables': {}}, 'name': 'PromptTemplate', 'graph': {'nodes': [{'id': 0, 'type': 'schema', 'data': {'title': 'PromptInput', 'type': 'object', 'properties': {'context': {'title': 'Context', 'type': 'string'}, 'question': {'title': 'Question', 'type': 'string'}}}}, {'id': 1, 'type': 'runnable', 'data': {'id': ['langchain', 'prompts', 'prompt', 'PromptTemplate'], 'name': 'PromptTemplate'}}, {'id': 2, 'type': 'schema', 'data': {'title': 'PromptTemplateOutput', 'anyOf': [{'$ref': '#/definitions/StringPromptValue'}, {'$ref': '#/definitions/ChatPromptValueConcrete'}], 'definitions': {'StringPromptValue': {'title': 'StringPromptValue', 'description': 'String prompt value.', 'type': 'object', 'properties': {'text': {'title': 'Text', 'type': 'string'}, 'type': {'title': 'Type', 'default': 'StringPromptValue', 'enum': ['StringPromptValue'], 'type': 'string'}}, 'required': ['text']}, 'AIMessage': {'title': 'AIMessage', 'description': 'Message from an AI.', 'type': 'object', 'properties': {'content': {'title': 'Content', 'anyOf': [{'type': 'string'}, {'type': 'array', 'items': {'anyOf': [{'type': 'string'}, {'type': 'object'}]}}]}, 'additional_kwargs': {'title': 'Additional Kwargs', 'type': 'object'}, 'response_metadata': {'title': 'Response Metadata', 'type': 'object'}, 'type': {'title': 'Type', 'default': 'ai', 'enum': ['ai'], 'type': 'string'}, 'name': {'title': 'Name', 'type': 'string'}, 'id': {'title': 'Id', 'type': 'string'}, 'example': {'title': 'Example', 'default': False, 'type': 'boolean'}}, 'required': ['content']}, 'HumanMessage': {'title': 'HumanMessage', 'description': 'Message from a human.', 'type': 'object', 'properties': {'content': {'title': 'Content', 'anyOf': [{'type': 'string'}, {'type': 'array', 'items': {'anyOf': [{'type': 'string'}, {'type': 'object'}]}}]}, 'additional_kwargs': {'title': 'Additional Kwargs', 'type': 'object'}, 'response_metadata': {'title': 'Response Metadata', 'type': 'object'}, 'type': {'title': 'Type', 'default': 'human', 'enum': ['human'], 'type': 'string'}, 'name': {'title': 'Name', 'type': 'string'}, 'id': {'title': 'Id', 'type': 'string'}, 'example': {'title': 'Example', 'default': False, 'type': 'boolean'}}, 'required': ['content']}, 'ChatMessage': {'title': 'ChatMessage', 'description': 'Message that can be assigned an arbitrary speaker (i.e. role).', 'type': 'object', 'properties': {'content': {'title': 'Content', 'anyOf': [{'type': 'string'}, {'type': 'array', 'items': {'anyOf': [{'type': 'string'}, {'type': 'object'}]}}]}, 'additional_kwargs': {'title': 'Additional Kwargs', 'type': 'object'}, 'response_metadata': {'title': 'Response Metadata', 'type': 'object'}, 'type': {'title': 'Type', 'default': 'chat', 'enum': ['chat'], 'type': 'string'}, 'name': {'title': 'Name', 'type': 'string'}, 'id': {'title': 'Id', 'type': 'string'}, 'role': {'title': 'Role', 'type': 'string'}}, 'required': ['content', 'role']}, 'SystemMessage': {'title': 'SystemMessage', 'description': 'Message for priming AI behavior, usually passed in as the first of a sequence\\nof input messages.', 'type': 'object', 'properties': {'content': {'title': 'Content', 'anyOf': [{'type': 'string'}, {'type': 'array', 'items': {'anyOf': [{'type': 'string'}, {'type': 'object'}]}}]}, 'additional_kwargs': {'title': 'Additional Kwargs', 'type': 'object'}, 'response_metadata': {'title': 'Response Metadata', 'type': 'object'}, 'type': {'title': 'Type', 'default': 'system', 'enum': ['system'], 'type': 'string'}, 'name': {'title': 'Name', 'type': 'string'}, 'id': {'title': 'Id', 'type': 'string'}}, 'required': ['content']}, 'FunctionMessage': {'title': 'FunctionMessage', 'description': 'Message for passing the result of executing a function back to a model.', 'type': 'object', 'properties': {'content': {'title': 'Content', 'anyOf': [{'type': 'string'}, {'type': 'array', 'items': {'anyOf': [{'type': 'string'}, {'type': 'object'}]}}]}, 'additional_kwargs': {'title': 'Additional Kwargs', 'type': 'object'}, 'response_metadata': {'title': 'Response Metadata', 'type': 'object'}, 'type': {'title': 'Type', 'default': 'function', 'enum': ['function'], 'type': 'string'}, 'name': {'title': 'Name', 'type': 'string'}, 'id': {'title': 'Id', 'type': 'string'}}, 'required': ['content', 'name']}, 'ToolMessage': {'title': 'ToolMessage', 'description': 'Message for passing the result of executing a tool back to a model.', 'type': 'object', 'properties': {'content': {'title': 'Content', 'anyOf': [{'type': 'string'}, {'type': 'array', 'items': {'anyOf': [{'type': 'string'}, {'type': 'object'}]}}]}, 'additional_kwargs': {'title': 'Additional Kwargs', 'type': 'object'}, 'response_metadata': {'title': 'Response Metadata', 'type': 'object'}, 'type': {'title': 'Type', 'default': 'tool', 'enum': ['tool'], 'type': 'string'}, 'name': {'title': 'Name', 'type': 'string'}, 'id': {'title': 'Id', 'type': 'string'}, 'tool_call_id': {'title': 'Tool Call Id', 'type': 'string'}}, 'required': ['content', 'tool_call_id']}, 'ChatPromptValueConcrete': {'title': 'ChatPromptValueConcrete', 'description': 'Chat prompt value which explicitly lists out the message types it accepts.\\nFor use in external schemas.', 'type': 'object', 'properties': {'messages': {'title': 'Messages', 'type': 'array', 'items': {'anyOf': [{'$ref': '#/definitions/AIMessage'}, {'$ref': '#/definitions/HumanMessage'}, {'$ref': '#/definitions/ChatMessage'}, {'$ref': '#/definitions/SystemMessage'}, {'$ref': '#/definitions/FunctionMessage'}, {'$ref': '#/definitions/ToolMessage'}]}}, 'type': {'title': 'Type', 'default': 'ChatPromptValueConcrete', 'enum': ['ChatPromptValueConcrete'], 'type': 'string'}}, 'required': ['messages']}}}}], 'edges': [{'source': 0, 'target': 1}, {'source': 1, 'target': 2}]}}}}], 'partial_variables': {}}, 'name': 'ChatPromptTemplate', 'graph': {'nodes': [{'id': 0, 'type': 'schema', 'data': {'title': 'PromptInput', 'type': 'object', 'properties': {'context': {'title': 'Context', 'type': 'string'}, 'question': {'title': 'Question', 'type': 'string'}}}}, {'id': 1, 'type': 'runnable', 'data': {'id': ['langchain', 'prompts', 'chat', 'ChatPromptTemplate'], 'name': 'ChatPromptTemplate'}}, {'id': 2, 'type': 'schema', 'data': {'title': 'ChatPromptTemplateOutput', 'anyOf': [{'$ref': '#/definitions/StringPromptValue'}, {'$ref': '#/definitions/ChatPromptValueConcrete'}], 'definitions': {'StringPromptValue': {'title': 'StringPromptValue', 'description': 'String prompt value.', 'type': 'object', 'properties': {'text': {'title': 'Text', 'type': 'string'}, 'type': {'title': 'Type', 'default': 'StringPromptValue', 'enum': ['StringPromptValue'], 'type': 'string'}}, 'required': ['text']}, 'AIMessage': {'title': 'AIMessage', 'description': 'Message from an AI.', 'type': 'object', 'properties': {'content': {'title': 'Content', 'anyOf': [{'type': 'string'}, {'type': 'array', 'items': {'anyOf': [{'type': 'string'}, {'type': 'object'}]}}]}, 'additional_kwargs': {'title': 'Additional Kwargs', 'type': 'object'}, 'response_metadata': {'title': 'Response Metadata', 'type': 'object'}, 'type': {'title': 'Type', 'default': 'ai', 'enum': ['ai'], 'type': 'string'}, 'name': {'title': 'Name', 'type': 'string'}, 'id': {'title': 'Id', 'type': 'string'}, 'example': {'title': 'Example', 'default': False, 'type': 'boolean'}}, 'required': ['content']}, 'HumanMessage': {'title': 'HumanMessage', 'description': 'Message from a human.', 'type': 'object', 'properties': {'content': {'title': 'Content', 'anyOf': [{'type': 'string'}, {'type': 'array', 'items': {'anyOf': [{'type': 'string'}, {'type': 'object'}]}}]}, 'additional_kwargs': {'title': 'Additional Kwargs', 'type': 'object'}, 'response_metadata': {'title': 'Response Metadata', 'type': 'object'}, 'type': {'title': 'Type', 'default': 'human', 'enum': ['human'], 'type': 'string'}, 'name': {'title': 'Name', 'type': 'string'}, 'id': {'title': 'Id', 'type': 'string'}, 'example': {'title': 'Example', 'default': False, 'type': 'boolean'}}, 'required': ['content']}, 'ChatMessage': {'title': 'ChatMessage', 'description': 'Message that can be assigned an arbitrary speaker (i.e. role).', 'type': 'object', 'properties': {'content': {'title': 'Content', 'anyOf': [{'type': 'string'}, {'type': 'array', 'items': {'anyOf': [{'type': 'string'}, {'type': 'object'}]}}]}, 'additional_kwargs': {'title': 'Additional Kwargs', 'type': 'object'}, 'response_metadata': {'title': 'Response Metadata', 'type': 'object'}, 'type': {'title': 'Type', 'default': 'chat', 'enum': ['chat'], 'type': 'string'}, 'name': {'title': 'Name', 'type': 'string'}, 'id': {'title': 'Id', 'type': 'string'}, 'role': {'title': 'Role', 'type': 'string'}}, 'required': ['content', 'role']}, 'SystemMessage': {'title': 'SystemMessage', 'description': 'Message for priming AI behavior, usually passed in as the first of a sequence\\nof input messages.', 'type': 'object', 'properties': {'content': {'title': 'Content', 'anyOf': [{'type': 'string'}, {'type': 'array', 'items': {'anyOf': [{'type': 'string'}, {'type': 'object'}]}}]}, 'additional_kwargs': {'title': 'Additional Kwargs', 'type': 'object'}, 'response_metadata': {'title': 'Response Metadata', 'type': 'object'}, 'type': {'title': 'Type', 'default': 'system', 'enum': ['system'], 'type': 'string'}, 'name': {'title': 'Name', 'type': 'string'}, 'id': {'title': 'Id', 'type': 'string'}}, 'required': ['content']}, 'FunctionMessage': {'title': 'FunctionMessage', 'description': 'Message for passing the result of executing a function back to a model.', 'type': 'object', 'properties': {'content': {'title': 'Content', 'anyOf': [{'type': 'string'}, {'type': 'array', 'items': {'anyOf': [{'type': 'string'}, {'type': 'object'}]}}]}, 'additional_kwargs': {'title': 'Additional Kwargs', 'type': 'object'}, 'response_metadata': {'title': 'Response Metadata', 'type': 'object'}, 'type': {'title': 'Type', 'default': 'function', 'enum': ['function'], 'type': 'string'}, 'name': {'title': 'Name', 'type': 'string'}, 'id': {'title': 'Id', 'type': 'string'}}, 'required': ['content', 'name']}, 'ToolMessage': {'title': 'ToolMessage', 'description': 'Message for passing the result of executing a tool back to a model.', 'type': 'object', 'properties': {'content': {'title': 'Content', 'anyOf': [{'type': 'string'}, {'type': 'array', 'items': {'anyOf': [{'type': 'string'}, {'type': 'object'}]}}]}, 'additional_kwargs': {'title': 'Additional Kwargs', 'type': 'object'}, 'response_metadata': {'title': 'Response Metadata', 'type': 'object'}, 'type': {'title': 'Type', 'default': 'tool', 'enum': ['tool'], 'type': 'string'}, 'name': {'title': 'Name', 'type': 'string'}, 'id': {'title': 'Id', 'type': 'string'}, 'tool_call_id': {'title': 'Tool Call Id', 'type': 'string'}}, 'required': ['content', 'tool_call_id']}, 'ChatPromptValueConcrete': {'title': 'ChatPromptValueConcrete', 'description': 'Chat prompt value which explicitly lists out the message types it accepts.\\nFor use in external schemas.', 'type': 'object', 'properties': {'messages': {'title': 'Messages', 'type': 'array', 'items': {'anyOf': [{'$ref': '#/definitions/AIMessage'}, {'$ref': '#/definitions/HumanMessage'}, {'$ref': '#/definitions/ChatMessage'}, {'$ref': '#/definitions/SystemMessage'}, {'$ref': '#/definitions/FunctionMessage'}, {'$ref': '#/definitions/ToolMessage'}]}}, 'type': {'title': 'Type', 'default': 'ChatPromptValueConcrete', 'enum': ['ChatPromptValueConcrete'], 'type': 'string'}}, 'required': ['messages']}}}}], 'edges': [{'source': 0, 'target': 1}, {'source': 1, 'target': 2}]}}], 'last': {'lc': 1, 'type': 'constructor', 'id': ['langchain', 'chat_models', 'openai', 'ChatOpenAI'], 'kwargs': {'model_name': 'gpt-3.5-turbo', 'temperature': 0.0, 'openai_api_key': {'lc': 1, 'type': 'secret', 'id': ['OPENAI_API_KEY']}}, 'name': 'ChatOpenAI', 'graph': {'nodes': [{'id': 0, 'type': 'schema', 'data': {'title': 'ChatOpenAIInput', 'anyOf': [{'type': 'string'}, {'$ref': '#/definitions/StringPromptValue'}, {'$ref': '#/definitions/ChatPromptValueConcrete'}, {'type': 'array', 'items': {'anyOf': [{'$ref': '#/definitions/AIMessage'}, {'$ref': '#/definitions/HumanMessage'}, {'$ref': '#/definitions/ChatMessage'}, {'$ref': '#/definitions/SystemMessage'}, {'$ref': '#/definitions/FunctionMessage'}, {'$ref': '#/definitions/ToolMessage'}]}}], 'definitions': {'StringPromptValue': {'title': 'StringPromptValue', 'description': 'String prompt value.', 'type': 'object', 'properties': {'text': {'title': 'Text', 'type': 'string'}, 'type': {'title': 'Type', 'default': 'StringPromptValue', 'enum': ['StringPromptValue'], 'type': 'string'}}, 'required': ['text']}, 'AIMessage': {'title': 'AIMessage', 'description': 'Message from an AI.', 'type': 'object', 'properties': {'content': {'title': 'Content', 'anyOf': [{'type': 'string'}, {'type': 'array', 'items': {'anyOf': [{'type': 'string'}, {'type': 'object'}]}}]}, 'additional_kwargs': {'title': 'Additional Kwargs', 'type': 'object'}, 'response_metadata': {'title': 'Response Metadata', 'type': 'object'}, 'type': {'title': 'Type', 'default': 'ai', 'enum': ['ai'], 'type': 'string'}, 'name': {'title': 'Name', 'type': 'string'}, 'id': {'title': 'Id', 'type': 'string'}, 'example': {'title': 'Example', 'default': False, 'type': 'boolean'}}, 'required': ['content']}, 'HumanMessage': {'title': 'HumanMessage', 'description': 'Message from a human.', 'type': 'object', 'properties': {'content': {'title': 'Content', 'anyOf': [{'type': 'string'}, {'type': 'array', 'items': {'anyOf': [{'type': 'string'}, {'type': 'object'}]}}]}, 'additional_kwargs': {'title': 'Additional Kwargs', 'type': 'object'}, 'response_metadata': {'title': 'Response Metadata', 'type': 'object'}, 'type': {'title': 'Type', 'default': 'human', 'enum': ['human'], 'type': 'string'}, 'name': {'title': 'Name', 'type': 'string'}, 'id': {'title': 'Id', 'type': 'string'}, 'example': {'title': 'Example', 'default': False, 'type': 'boolean'}}, 'required': ['content']}, 'ChatMessage': {'title': 'ChatMessage', 'description': 'Message that can be assigned an arbitrary speaker (i.e. role).', 'type': 'object', 'properties': {'content': {'title': 'Content', 'anyOf': [{'type': 'string'}, {'type': 'array', 'items': {'anyOf': [{'type': 'string'}, {'type': 'object'}]}}]}, 'additional_kwargs': {'title': 'Additional Kwargs', 'type': 'object'}, 'response_metadata': {'title': 'Response Metadata', 'type': 'object'}, 'type': {'title': 'Type', 'default': 'chat', 'enum': ['chat'], 'type': 'string'}, 'name': {'title': 'Name', 'type': 'string'}, 'id': {'title': 'Id', 'type': 'string'}, 'role': {'title': 'Role', 'type': 'string'}}, 'required': ['content', 'role']}, 'SystemMessage': {'title': 'SystemMessage', 'description': 'Message for priming AI behavior, usually passed in as the first of a sequence\\nof input messages.', 'type': 'object', 'properties': {'content': {'title': 'Content', 'anyOf': [{'type': 'string'}, {'type': 'array', 'items': {'anyOf': [{'type': 'string'}, {'type': 'object'}]}}]}, 'additional_kwargs': {'title': 'Additional Kwargs', 'type': 'object'}, 'response_metadata': {'title': 'Response Metadata', 'type': 'object'}, 'type': {'title': 'Type', 'default': 'system', 'enum': ['system'], 'type': 'string'}, 'name': {'title': 'Name', 'type': 'string'}, 'id': {'title': 'Id', 'type': 'string'}}, 'required': ['content']}, 'FunctionMessage': {'title': 'FunctionMessage', 'description': 'Message for passing the result of executing a function back to a model.', 'type': 'object', 'properties': {'content': {'title': 'Content', 'anyOf': [{'type': 'string'}, {'type': 'array', 'items': {'anyOf': [{'type': 'string'}, {'type': 'object'}]}}]}, 'additional_kwargs': {'title': 'Additional Kwargs', 'type': 'object'}, 'response_metadata': {'title': 'Response Metadata', 'type': 'object'}, 'type': {'title': 'Type', 'default': 'function', 'enum': ['function'], 'type': 'string'}, 'name': {'title': 'Name', 'type': 'string'}, 'id': {'title': 'Id', 'type': 'string'}}, 'required': ['content', 'name']}, 'ToolMessage': {'title': 'ToolMessage', 'description': 'Message for passing the result of executing a tool back to a model.', 'type': 'object', 'properties': {'content': {'title': 'Content', 'anyOf': [{'type': 'string'}, {'type': 'array', 'items': {'anyOf': [{'type': 'string'}, {'type': 'object'}]}}]}, 'additional_kwargs': {'title': 'Additional Kwargs', 'type': 'object'}, 'response_metadata': {'title': 'Response Metadata', 'type': 'object'}, 'type': {'title': 'Type', 'default': 'tool', 'enum': ['tool'], 'type': 'string'}, 'name': {'title': 'Name', 'type': 'string'}, 'id': {'title': 'Id', 'type': 'string'}, 'tool_call_id': {'title': 'Tool Call Id', 'type': 'string'}}, 'required': ['content', 'tool_call_id']}, 'ChatPromptValueConcrete': {'title': 'ChatPromptValueConcrete', 'description': 'Chat prompt value which explicitly lists out the message types it accepts.\\nFor use in external schemas.', 'type': 'object', 'properties': {'messages': {'title': 'Messages', 'type': 'array', 'items': {'anyOf': [{'$ref': '#/definitions/AIMessage'}, {'$ref': '#/definitions/HumanMessage'}, {'$ref': '#/definitions/ChatMessage'}, {'$ref': '#/definitions/SystemMessage'}, {'$ref': '#/definitions/FunctionMessage'}, {'$ref': '#/definitions/ToolMessage'}]}}, 'type': {'title': 'Type', 'default': 'ChatPromptValueConcrete', 'enum': ['ChatPromptValueConcrete'], 'type': 'string'}}, 'required': ['messages']}}}}, {'id': 1, 'type': 'runnable', 'data': {'id': ['langchain', 'chat_models', 'openai', 'ChatOpenAI'], 'name': 'ChatOpenAI'}}, {'id': 2, 'type': 'schema', 'data': {'title': 'ChatOpenAIOutput', 'anyOf': [{'$ref': '#/definitions/AIMessage'}, {'$ref': '#/definitions/HumanMessage'}, {'$ref': '#/definitions/ChatMessage'}, {'$ref': '#/definitions/SystemMessage'}, {'$ref': '#/definitions/FunctionMessage'}, {'$ref': '#/definitions/ToolMessage'}], 'definitions': {'AIMessage': {'title': 'AIMessage', 'description': 'Message from an AI.', 'type': 'object', 'properties': {'content': {'title': 'Content', 'anyOf': [{'type': 'string'}, {'type': 'array', 'items': {'anyOf': [{'type': 'string'}, {'type': 'object'}]}}]}, 'additional_kwargs': {'title': 'Additional Kwargs', 'type': 'object'}, 'response_metadata': {'title': 'Response Metadata', 'type': 'object'}, 'type': {'title': 'Type', 'default': 'ai', 'enum': ['ai'], 'type': 'string'}, 'name': {'title': 'Name', 'type': 'string'}, 'id': {'title': 'Id', 'type': 'string'}, 'example': {'title': 'Example', 'default': False, 'type': 'boolean'}}, 'required': ['content']}, 'HumanMessage': {'title': 'HumanMessage', 'description': 'Message from a human.', 'type': 'object', 'properties': {'content': {'title': 'Content', 'anyOf': [{'type': 'string'}, {'type': 'array', 'items': {'anyOf': [{'type': 'string'}, {'type': 'object'}]}}]}, 'additional_kwargs': {'title': 'Additional Kwargs', 'type': 'object'}, 'response_metadata': {'title': 'Response Metadata', 'type': 'object'}, 'type': {'title': 'Type', 'default': 'human', 'enum': ['human'], 'type': 'string'}, 'name': {'title': 'Name', 'type': 'string'}, 'id': {'title': 'Id', 'type': 'string'}, 'example': {'title': 'Example', 'default': False, 'type': 'boolean'}}, 'required': ['content']}, 'ChatMessage': {'title': 'ChatMessage', 'description': 'Message that can be assigned an arbitrary speaker (i.e. role).', 'type': 'object', 'properties': {'content': {'title': 'Content', 'anyOf': [{'type': 'string'}, {'type': 'array', 'items': {'anyOf': [{'type': 'string'}, {'type': 'object'}]}}]}, 'additional_kwargs': {'title': 'Additional Kwargs', 'type': 'object'}, 'response_metadata': {'title': 'Response Metadata', 'type': 'object'}, 'type': {'title': 'Type', 'default': 'chat', 'enum': ['chat'], 'type': 'string'}, 'name': {'title': 'Name', 'type': 'string'}, 'id': {'title': 'Id', 'type': 'string'}, 'role': {'title': 'Role', 'type': 'string'}}, 'required': ['content', 'role']}, 'SystemMessage': {'title': 'SystemMessage', 'description': 'Message for priming AI behavior, usually passed in as the first of a sequence\\nof input messages.', 'type': 'object', 'properties': {'content': {'title': 'Content', 'anyOf': [{'type': 'string'}, {'type': 'array', 'items': {'anyOf': [{'type': 'string'}, {'type': 'object'}]}}]}, 'additional_kwargs': {'title': 'Additional Kwargs', 'type': 'object'}, 'response_metadata': {'title': 'Response Metadata', 'type': 'object'}, 'type': {'title': 'Type', 'default': 'system', 'enum': ['system'], 'type': 'string'}, 'name': {'title': 'Name', 'type': 'string'}, 'id': {'title': 'Id', 'type': 'string'}}, 'required': ['content']}, 'FunctionMessage': {'title': 'FunctionMessage', 'description': 'Message for passing the result of executing a function back to a model.', 'type': 'object', 'properties': {'content': {'title': 'Content', 'anyOf': [{'type': 'string'}, {'type': 'array', 'items': {'anyOf': [{'type': 'string'}, {'type': 'object'}]}}]}, 'additional_kwargs': {'title': 'Additional Kwargs', 'type': 'object'}, 'response_metadata': {'title': 'Response Metadata', 'type': 'object'}, 'type': {'title': 'Type', 'default': 'function', 'enum': ['function'], 'type': 'string'}, 'name': {'title': 'Name', 'type': 'string'}, 'id': {'title': 'Id', 'type': 'string'}}, 'required': ['content', 'name']}, 'ToolMessage': {'title': 'ToolMessage', 'description': 'Message for passing the result of executing a tool back to a model.', 'type': 'object', 'properties': {'content': {'title': 'Content', 'anyOf': [{'type': 'string'}, {'type': 'array', 'items': {'anyOf': [{'type': 'string'}, {'type': 'object'}]}}]}, 'additional_kwargs': {'title': 'Additional Kwargs', 'type': 'object'}, 'response_metadata': {'title': 'Response Metadata', 'type': 'object'}, 'type': {'title': 'Type', 'default': 'tool', 'enum': ['tool'], 'type': 'string'}, 'name': {'title': 'Name', 'type': 'string'}, 'id': {'title': 'Id', 'type': 'string'}, 'tool_call_id': {'title': 'Tool Call Id', 'type': 'string'}}, 'required': ['content', 'tool_call_id']}}}}], 'edges': [{'source': 0, 'target': 1}, {'source': 1, 'target': 2}]}}, 'name': None}, 'name': 'RunnableSequence', 'graph': {'nodes': [{'id': 0, 'type': 'schema', 'data': {'title': 'RunnableParallel<context,question>Input', 'type': 'string'}}, {'id': 1, 'type': 'schema', 'data': {'title': 'RunnableParallel<context,question>Output', 'type': 'object', 'properties': {'context': {'title': 'Context'}, 'question': {'title': 'Question'}}}}, {'id': 2, 'type': 'runnable', 'data': {'id': ['langchain_core', 'vectorstores', 'VectorStoreRetriever'], 'name': 'VectorStoreRetriever'}}, {'id': 3, 'type': 'runnable', 'data': {'id': ['langchain_core', 'runnables', 'base', 'RunnableLambda'], 'name': 'format_docs'}}, {'id': 4, 'type': 'runnable', 'data': {'id': ['langchain', 'schema', 'runnable', 'RunnablePassthrough'], 'name': 'RunnablePassthrough'}}, {'id': 5, 'type': 'runnable', 'data': {'id': ['langchain', 'prompts', 'chat', 'ChatPromptTemplate'], 'name': 'ChatPromptTemplate'}}, {'id': 6, 'type': 'runnable', 'data': {'id': ['langchain', 'chat_models', 'openai', 'ChatOpenAI'], 'name': 'ChatOpenAI'}}, {'id': 7, 'type': 'schema', 'data': {'title': 'ChatOpenAIOutput', 'anyOf': [{'$ref': '#/definitions/AIMessage'}, {'$ref': '#/definitions/HumanMessage'}, {'$ref': '#/definitions/ChatMessage'}, {'$ref': '#/definitions/SystemMessage'}, {'$ref': '#/definitions/FunctionMessage'}, {'$ref': '#/definitions/ToolMessage'}], 'definitions': {'AIMessage': {'title': 'AIMessage', 'description': 'Message from an AI.', 'type': 'object', 'properties': {'content': {'title': 'Content', 'anyOf': [{'type': 'string'}, {'type': 'array', 'items': {'anyOf': [{'type': 'string'}, {'type': 'object'}]}}]}, 'additional_kwargs': {'title': 'Additional Kwargs', 'type': 'object'}, 'response_metadata': {'title': 'Response Metadata', 'type': 'object'}, 'type': {'title': 'Type', 'default': 'ai', 'enum': ['ai'], 'type': 'string'}, 'name': {'title': 'Name', 'type': 'string'}, 'id': {'title': 'Id', 'type': 'string'}, 'example': {'title': 'Example', 'default': False, 'type': 'boolean'}}, 'required': ['content']}, 'HumanMessage': {'title': 'HumanMessage', 'description': 'Message from a human.', 'type': 'object', 'properties': {'content': {'title': 'Content', 'anyOf': [{'type': 'string'}, {'type': 'array', 'items': {'anyOf': [{'type': 'string'}, {'type': 'object'}]}}]}, 'additional_kwargs': {'title': 'Additional Kwargs', 'type': 'object'}, 'response_metadata': {'title': 'Response Metadata', 'type': 'object'}, 'type': {'title': 'Type', 'default': 'human', 'enum': ['human'], 'type': 'string'}, 'name': {'title': 'Name', 'type': 'string'}, 'id': {'title': 'Id', 'type': 'string'}, 'example': {'title': 'Example', 'default': False, 'type': 'boolean'}}, 'required': ['content']}, 'ChatMessage': {'title': 'ChatMessage', 'description': 'Message that can be assigned an arbitrary speaker (i.e. role).', 'type': 'object', 'properties': {'content': {'title': 'Content', 'anyOf': [{'type': 'string'}, {'type': 'array', 'items': {'anyOf': [{'type': 'string'}, {'type': 'object'}]}}]}, 'additional_kwargs': {'title': 'Additional Kwargs', 'type': 'object'}, 'response_metadata': {'title': 'Response Metadata', 'type': 'object'}, 'type': {'title': 'Type', 'default': 'chat', 'enum': ['chat'], 'type': 'string'}, 'name': {'title': 'Name', 'type': 'string'}, 'id': {'title': 'Id', 'type': 'string'}, 'role': {'title': 'Role', 'type': 'string'}}, 'required': ['content', 'role']}, 'SystemMessage': {'title': 'SystemMessage', 'description': 'Message for priming AI behavior, usually passed in as the first of a sequence\\nof input messages.', 'type': 'object', 'properties': {'content': {'title': 'Content', 'anyOf': [{'type': 'string'}, {'type': 'array', 'items': {'anyOf': [{'type': 'string'}, {'type': 'object'}]}}]}, 'additional_kwargs': {'title': 'Additional Kwargs', 'type': 'object'}, 'response_metadata': {'title': 'Response Metadata', 'type': 'object'}, 'type': {'title': 'Type', 'default': 'system', 'enum': ['system'], 'type': 'string'}, 'name': {'title': 'Name', 'type': 'string'}, 'id': {'title': 'Id', 'type': 'string'}}, 'required': ['content']}, 'FunctionMessage': {'title': 'FunctionMessage', 'description': 'Message for passing the result of executing a function back to a model.', 'type': 'object', 'properties': {'content': {'title': 'Content', 'anyOf': [{'type': 'string'}, {'type': 'array', 'items': {'anyOf': [{'type': 'string'}, {'type': 'object'}]}}]}, 'additional_kwargs': {'title': 'Additional Kwargs', 'type': 'object'}, 'response_metadata': {'title': 'Response Metadata', 'type': 'object'}, 'type': {'title': 'Type', 'default': 'function', 'enum': ['function'], 'type': 'string'}, 'name': {'title': 'Name', 'type': 'string'}, 'id': {'title': 'Id', 'type': 'string'}}, 'required': ['content', 'name']}, 'ToolMessage': {'title': 'ToolMessage', 'description': 'Message for passing the result of executing a tool back to a model.', 'type': 'object', 'properties': {'content': {'title': 'Content', 'anyOf': [{'type': 'string'}, {'type': 'array', 'items': {'anyOf': [{'type': 'string'}, {'type': 'object'}]}}]}, 'additional_kwargs': {'title': 'Additional Kwargs', 'type': 'object'}, 'response_metadata': {'title': 'Response Metadata', 'type': 'object'}, 'type': {'title': 'Type', 'default': 'tool', 'enum': ['tool'], 'type': 'string'}, 'name': {'title': 'Name', 'type': 'string'}, 'id': {'title': 'Id', 'type': 'string'}, 'tool_call_id': {'title': 'Tool Call Id', 'type': 'string'}}, 'required': ['content', 'tool_call_id']}}}}], 'edges': [{'source': 2, 'target': 3}, {'source': 0, 'target': 2}, {'source': 3, 'target': 1}, {'source': 0, 'target': 4}, {'source': 4, 'target': 1}, {'source': 1, 'target': 5}, {'source': 6, 'target': 7}, {'source': 5, 'target': 6}]}}\n",
      "Inputs: \n",
      "What is meant by computational finance?\n",
      "Serialized:\n",
      "{'lc': 1, 'type': 'constructor', 'id': ['langchain', 'schema', 'runnable', 'RunnableParallel'], 'kwargs': {'steps': {'context': {'lc': 1, 'type': 'constructor', 'id': ['langchain', 'schema', 'runnable', 'RunnableSequence'], 'kwargs': {'first': {'lc': 1, 'type': 'not_implemented', 'id': ['langchain_core', 'vectorstores', 'VectorStoreRetriever'], 'repr': \"VectorStoreRetriever(tags=['FAISS', 'OpenAIEmbeddings'], vectorstore=<langchain_community.vectorstores.faiss.FAISS object at 0x2c19462d0>, search_kwargs={'k': 4})\", 'name': 'VectorStoreRetriever', 'graph': {'nodes': [{'id': 0, 'type': 'schema', 'data': {'title': 'VectorStoreRetrieverInput', 'type': 'string'}}, {'id': 1, 'type': 'runnable', 'data': {'id': ['langchain_core', 'vectorstores', 'VectorStoreRetriever'], 'name': 'VectorStoreRetriever'}}, {'id': 2, 'type': 'schema', 'data': {'title': 'VectorStoreRetrieverOutput', 'type': 'array', 'items': {'$ref': '#/definitions/Document'}, 'definitions': {'Document': {'title': 'Document', 'description': 'Class for storing a piece of text and associated metadata.', 'type': 'object', 'properties': {'page_content': {'title': 'Page Content', 'type': 'string'}, 'metadata': {'title': 'Metadata', 'type': 'object'}, 'type': {'title': 'Type', 'default': 'Document', 'enum': ['Document'], 'type': 'string'}}, 'required': ['page_content']}}}}], 'edges': [{'source': 0, 'target': 1}, {'source': 1, 'target': 2}]}}, 'middle': [], 'last': {'lc': 1, 'type': 'not_implemented', 'id': ['langchain_core', 'runnables', 'base', 'RunnableLambda'], 'repr': 'RunnableLambda(format_docs)'}, 'name': None}, 'name': 'RunnableSequence', 'graph': {'nodes': [{'id': 0, 'type': 'schema', 'data': {'title': 'VectorStoreRetrieverInput', 'type': 'string'}}, {'id': 1, 'type': 'runnable', 'data': {'id': ['langchain_core', 'vectorstores', 'VectorStoreRetriever'], 'name': 'VectorStoreRetriever'}}, {'id': 2, 'type': 'runnable', 'data': {'id': ['langchain_core', 'runnables', 'base', 'RunnableLambda'], 'name': 'format_docs'}}, {'id': 3, 'type': 'schema', 'data': {'title': 'format_docs_output'}}], 'edges': [{'source': 0, 'target': 1}, {'source': 2, 'target': 3}, {'source': 1, 'target': 2}]}}, 'question': {'lc': 1, 'type': 'constructor', 'id': ['langchain', 'schema', 'runnable', 'RunnablePassthrough'], 'kwargs': {'func': None, 'afunc': None, 'input_type': None}, 'name': 'RunnablePassthrough', 'graph': {'nodes': [{'id': 0, 'type': 'schema', 'data': {'title': 'RunnablePassthroughInput'}}, {'id': 1, 'type': 'runnable', 'data': {'id': ['langchain', 'schema', 'runnable', 'RunnablePassthrough'], 'name': 'RunnablePassthrough'}}, {'id': 2, 'type': 'schema', 'data': {'title': 'RunnablePassthroughOutput'}}], 'edges': [{'source': 0, 'target': 1}, {'source': 1, 'target': 2}]}}}}, 'name': 'RunnableParallel<context,question>', 'graph': {'nodes': [{'id': 0, 'type': 'schema', 'data': {'title': 'RunnableParallel<context,question>Input', 'type': 'string'}}, {'id': 1, 'type': 'schema', 'data': {'title': 'RunnableParallel<context,question>Output', 'type': 'object', 'properties': {'context': {'title': 'Context'}, 'question': {'title': 'Question'}}}}, {'id': 2, 'type': 'runnable', 'data': {'id': ['langchain_core', 'vectorstores', 'VectorStoreRetriever'], 'name': 'VectorStoreRetriever'}}, {'id': 3, 'type': 'runnable', 'data': {'id': ['langchain_core', 'runnables', 'base', 'RunnableLambda'], 'name': 'format_docs'}}, {'id': 4, 'type': 'runnable', 'data': {'id': ['langchain', 'schema', 'runnable', 'RunnablePassthrough'], 'name': 'RunnablePassthrough'}}], 'edges': [{'source': 2, 'target': 3}, {'source': 0, 'target': 2}, {'source': 3, 'target': 1}, {'source': 0, 'target': 4}, {'source': 4, 'target': 1}]}}\n",
      "Inputs: \n",
      "What is meant by computational finance?\n",
      "Serialized:\n",
      "{'lc': 1, 'type': 'constructor', 'id': ['langchain', 'schema', 'runnable', 'RunnablePassthrough'], 'kwargs': {'func': None, 'afunc': None, 'input_type': None}, 'name': 'RunnablePassthrough', 'graph': {'nodes': [{'id': 0, 'type': 'schema', 'data': {'title': 'RunnablePassthroughInput'}}, {'id': 1, 'type': 'runnable', 'data': {'id': ['langchain', 'schema', 'runnable', 'RunnablePassthrough'], 'name': 'RunnablePassthrough'}}, {'id': 2, 'type': 'schema', 'data': {'title': 'RunnablePassthroughOutput'}}], 'edges': [{'source': 0, 'target': 1}, {'source': 1, 'target': 2}]}}\n",
      "Inputs: \n",
      "What is meant by computational finance?\n",
      "Serialized:\n",
      "{'lc': 1, 'type': 'constructor', 'id': ['langchain', 'schema', 'runnable', 'RunnableSequence'], 'kwargs': {'first': {'lc': 1, 'type': 'not_implemented', 'id': ['langchain_core', 'vectorstores', 'VectorStoreRetriever'], 'repr': \"VectorStoreRetriever(tags=['FAISS', 'OpenAIEmbeddings'], vectorstore=<langchain_community.vectorstores.faiss.FAISS object at 0x2c19462d0>, search_kwargs={'k': 4})\", 'name': 'VectorStoreRetriever', 'graph': {'nodes': [{'id': 0, 'type': 'schema', 'data': {'title': 'VectorStoreRetrieverInput', 'type': 'string'}}, {'id': 1, 'type': 'runnable', 'data': {'id': ['langchain_core', 'vectorstores', 'VectorStoreRetriever'], 'name': 'VectorStoreRetriever'}}, {'id': 2, 'type': 'schema', 'data': {'title': 'VectorStoreRetrieverOutput', 'type': 'array', 'items': {'$ref': '#/definitions/Document'}, 'definitions': {'Document': {'title': 'Document', 'description': 'Class for storing a piece of text and associated metadata.', 'type': 'object', 'properties': {'page_content': {'title': 'Page Content', 'type': 'string'}, 'metadata': {'title': 'Metadata', 'type': 'object'}, 'type': {'title': 'Type', 'default': 'Document', 'enum': ['Document'], 'type': 'string'}}, 'required': ['page_content']}}}}], 'edges': [{'source': 0, 'target': 1}, {'source': 1, 'target': 2}]}}, 'middle': [], 'last': {'lc': 1, 'type': 'not_implemented', 'id': ['langchain_core', 'runnables', 'base', 'RunnableLambda'], 'repr': 'RunnableLambda(format_docs)'}, 'name': None}, 'name': 'RunnableSequence', 'graph': {'nodes': [{'id': 0, 'type': 'schema', 'data': {'title': 'VectorStoreRetrieverInput', 'type': 'string'}}, {'id': 1, 'type': 'runnable', 'data': {'id': ['langchain_core', 'vectorstores', 'VectorStoreRetriever'], 'name': 'VectorStoreRetriever'}}, {'id': 2, 'type': 'runnable', 'data': {'id': ['langchain_core', 'runnables', 'base', 'RunnableLambda'], 'name': 'format_docs'}}, {'id': 3, 'type': 'schema', 'data': {'title': 'format_docs_output'}}], 'edges': [{'source': 0, 'target': 1}, {'source': 2, 'target': 3}, {'source': 1, 'target': 2}]}}\n",
      "Inputs: \n",
      "[Document(page_content='to ﬁnancial economists as it is potentially unappealing to ﬁnancial practitioners.1It is interesting to note\\nthat these foundations came with a very important computational dimension. The early availability of large\\nmachine-readable data sets, and the computational power to analyze them, laid the critical foundation for\\nthis new ﬁnancial rigor.2In agent-based computational models the computer is once again at the center\\nof a change in thinking about ﬁnancial markets. This time it is helping to pursue a world view in which\\nagents may diﬀer in many ways, not just in their information, but in their ability to process information,\\ntheir attitudes toward risk, and in many other dimensions.\\nModels in the realm of agent-based computational ﬁnance view ﬁnancial markets as interacting groups\\nof learning, boundedly-rational agents. The computer may or may not be a necessary tool to understand\\nthe dynamics of these markets. This survey will concentrate on the cases where analytic solutions would', metadata={'source': './test_data/pdfs/DR--185549702_INTRO.pdf', 'page': 2}), Document(page_content='Agent-based Computational Finance\\nBlake LeBaron∗\\nBrandeis University\\nApril 21st, 2005: Comments still welcome!\\nAbstract\\nThis chapter surveys research on agent-based models used in ﬁnance. It will concentrate on models\\nwhere the use of computational tools is critical for the process of crafting models which give insights into\\nthe importance and dynamics of investor heterogeneity in many ﬁnancial settings.\\n∗International Business School, Brandeis University, 415 South Street, Mailstop 32, Waltham, MA 02453 - 2728, ble-\\nbaron@brandeis.edu, www.brandeis.edu/∼blebaron. The author is also a research associate at the National Bureau of Economic\\nResearch. This is a preliminary draft for The Handbook of Computational Economics, vol. II, , edited by K. L. Judd and L.\\nTesfatsion. The author is grateful to many people who have made comments on earlier drafts. These include W. A. Brock,\\nCars Hommes, Leigh Tesfatsion, Frank Westerhoﬀ, and two anonymous referees.\\n1', metadata={'source': './test_data/pdfs/DR--185549702_INTRO.pdf', 'page': 0}), Document(page_content='that these foundations came with a very important computational dimension. The early availability of large\\nmachine-readable data sets, and the computational power to analyze them, laid the critical foundation for\\nthis new ﬁnancial rigor.2In agent-based computational models the computer is once again at the center\\nof a change in thinking about ﬁnancial markets. This time it is helping to pursue a world view in which\\nagents may diﬀer in many ways, not just in their information, but in their ability to process information,\\ntheir attitudes toward risk, and in many other dimensions.\\nModels in the realm of agent-based computational ﬁnance view ﬁnancial markets as interacting groups\\nof learning, boundedly-rational agents. The computer may or may not be a necessary tool to understand\\nthe dynamics of these markets. This survey will concentrate on the cases where analytic solutions would\\nbe impossible, and computational tools are necessary.3It is important to distinguish agent-based models', metadata={'source': './test_data/pdfs/DR--185549702_INTRO.pdf', 'page': 2}), Document(page_content='machine-readable data sets, and the computational power to analyze them, laid the critical foundation for\\nthis new ﬁnancial rigor.2In agent-based computational models the computer is once again at the center\\nof a change in thinking about ﬁnancial markets. This time it is helping to pursue a world view in which\\nagents may diﬀer in many ways, not just in their information, but in their ability to process information,\\ntheir attitudes toward risk, and in many other dimensions.\\nModels in the realm of agent-based computational ﬁnance view ﬁnancial markets as interacting groups\\nof learning, boundedly-rational agents. The computer may or may not be a necessary tool to understand\\nthe dynamics of these markets. This survey will concentrate on the cases where analytic solutions would\\nbe impossible, and computational tools are necessary.3It is important to distinguish agent-based models\\nfrom other more general heterogeneous agent models in ﬁnance, since the latter have been part of the ﬁeld', metadata={'source': './test_data/pdfs/DR--185549702_INTRO.pdf', 'page': 2})]\n",
      "Serialized:\n",
      "{'lc': 1, 'type': 'not_implemented', 'id': ['langchain_core', 'runnables', 'base', 'RunnableLambda'], 'repr': 'RunnableLambda(format_docs)'}\n",
      "Inputs: \n",
      "{'context': 'to ﬁnancial economists as it is potentially unappealing to ﬁnancial practitioners.1It is interesting to note\\nthat these foundations came with a very important computational dimension. The early availability of large\\nmachine-readable data sets, and the computational power to analyze them, laid the critical foundation for\\nthis new ﬁnancial rigor.2In agent-based computational models the computer is once again at the center\\nof a change in thinking about ﬁnancial markets. This time it is helping to pursue a world view in which\\nagents may diﬀer in many ways, not just in their information, but in their ability to process information,\\ntheir attitudes toward risk, and in many other dimensions.\\nModels in the realm of agent-based computational ﬁnance view ﬁnancial markets as interacting groups\\nof learning, boundedly-rational agents. The computer may or may not be a necessary tool to understand\\nthe dynamics of these markets. This survey will concentrate on the cases where analytic solutions would\\n\\n ------------Agent-based Computational Finance\\nBlake LeBaron∗\\nBrandeis University\\nApril 21st, 2005: Comments still welcome!\\nAbstract\\nThis chapter surveys research on agent-based models used in ﬁnance. It will concentrate on models\\nwhere the use of computational tools is critical for the process of crafting models which give insights into\\nthe importance and dynamics of investor heterogeneity in many ﬁnancial settings.\\n∗International Business School, Brandeis University, 415 South Street, Mailstop 32, Waltham, MA 02453 - 2728, ble-\\nbaron@brandeis.edu, www.brandeis.edu/∼blebaron. The author is also a research associate at the National Bureau of Economic\\nResearch. This is a preliminary draft for The Handbook of Computational Economics, vol. II, , edited by K. L. Judd and L.\\nTesfatsion. The author is grateful to many people who have made comments on earlier drafts. These include W. A. Brock,\\nCars Hommes, Leigh Tesfatsion, Frank Westerhoﬀ, and two anonymous referees.\\n1\\n\\n ------------that these foundations came with a very important computational dimension. The early availability of large\\nmachine-readable data sets, and the computational power to analyze them, laid the critical foundation for\\nthis new ﬁnancial rigor.2In agent-based computational models the computer is once again at the center\\nof a change in thinking about ﬁnancial markets. This time it is helping to pursue a world view in which\\nagents may diﬀer in many ways, not just in their information, but in their ability to process information,\\ntheir attitudes toward risk, and in many other dimensions.\\nModels in the realm of agent-based computational ﬁnance view ﬁnancial markets as interacting groups\\nof learning, boundedly-rational agents. The computer may or may not be a necessary tool to understand\\nthe dynamics of these markets. This survey will concentrate on the cases where analytic solutions would\\nbe impossible, and computational tools are necessary.3It is important to distinguish agent-based models\\n\\n ------------machine-readable data sets, and the computational power to analyze them, laid the critical foundation for\\nthis new ﬁnancial rigor.2In agent-based computational models the computer is once again at the center\\nof a change in thinking about ﬁnancial markets. This time it is helping to pursue a world view in which\\nagents may diﬀer in many ways, not just in their information, but in their ability to process information,\\ntheir attitudes toward risk, and in many other dimensions.\\nModels in the realm of agent-based computational ﬁnance view ﬁnancial markets as interacting groups\\nof learning, boundedly-rational agents. The computer may or may not be a necessary tool to understand\\nthe dynamics of these markets. This survey will concentrate on the cases where analytic solutions would\\nbe impossible, and computational tools are necessary.3It is important to distinguish agent-based models\\nfrom other more general heterogeneous agent models in ﬁnance, since the latter have been part of the ﬁeld', 'question': 'What is meant by computational finance?'}\n",
      "Serialized:\n",
      "{'lc': 1, 'type': 'constructor', 'id': ['langchain', 'prompts', 'chat', 'ChatPromptTemplate'], 'kwargs': {'input_variables': ['context', 'question'], 'messages': [{'lc': 1, 'type': 'constructor', 'id': ['langchain', 'prompts', 'chat', 'HumanMessagePromptTemplate'], 'kwargs': {'prompt': {'lc': 1, 'type': 'constructor', 'id': ['langchain', 'prompts', 'prompt', 'PromptTemplate'], 'kwargs': {'input_variables': ['context', 'question'], 'template': \"You are an assistant for question-answering tasks. \\n    Use the following pieces of retrieved context to answer the question. \\n    If you don't know the answer, just say that you don't know. \\n    Use three sentences maximum and keep the answer concise.\\n    Question: {question} \\n    Context: {context} \\n    Answer:\\n    \", 'template_format': 'f-string', 'partial_variables': {}}, 'name': 'PromptTemplate', 'graph': {'nodes': [{'id': 0, 'type': 'schema', 'data': {'title': 'PromptInput', 'type': 'object', 'properties': {'context': {'title': 'Context', 'type': 'string'}, 'question': {'title': 'Question', 'type': 'string'}}}}, {'id': 1, 'type': 'runnable', 'data': {'id': ['langchain', 'prompts', 'prompt', 'PromptTemplate'], 'name': 'PromptTemplate'}}, {'id': 2, 'type': 'schema', 'data': {'title': 'PromptTemplateOutput', 'anyOf': [{'$ref': '#/definitions/StringPromptValue'}, {'$ref': '#/definitions/ChatPromptValueConcrete'}], 'definitions': {'StringPromptValue': {'title': 'StringPromptValue', 'description': 'String prompt value.', 'type': 'object', 'properties': {'text': {'title': 'Text', 'type': 'string'}, 'type': {'title': 'Type', 'default': 'StringPromptValue', 'enum': ['StringPromptValue'], 'type': 'string'}}, 'required': ['text']}, 'AIMessage': {'title': 'AIMessage', 'description': 'Message from an AI.', 'type': 'object', 'properties': {'content': {'title': 'Content', 'anyOf': [{'type': 'string'}, {'type': 'array', 'items': {'anyOf': [{'type': 'string'}, {'type': 'object'}]}}]}, 'additional_kwargs': {'title': 'Additional Kwargs', 'type': 'object'}, 'response_metadata': {'title': 'Response Metadata', 'type': 'object'}, 'type': {'title': 'Type', 'default': 'ai', 'enum': ['ai'], 'type': 'string'}, 'name': {'title': 'Name', 'type': 'string'}, 'id': {'title': 'Id', 'type': 'string'}, 'example': {'title': 'Example', 'default': False, 'type': 'boolean'}}, 'required': ['content']}, 'HumanMessage': {'title': 'HumanMessage', 'description': 'Message from a human.', 'type': 'object', 'properties': {'content': {'title': 'Content', 'anyOf': [{'type': 'string'}, {'type': 'array', 'items': {'anyOf': [{'type': 'string'}, {'type': 'object'}]}}]}, 'additional_kwargs': {'title': 'Additional Kwargs', 'type': 'object'}, 'response_metadata': {'title': 'Response Metadata', 'type': 'object'}, 'type': {'title': 'Type', 'default': 'human', 'enum': ['human'], 'type': 'string'}, 'name': {'title': 'Name', 'type': 'string'}, 'id': {'title': 'Id', 'type': 'string'}, 'example': {'title': 'Example', 'default': False, 'type': 'boolean'}}, 'required': ['content']}, 'ChatMessage': {'title': 'ChatMessage', 'description': 'Message that can be assigned an arbitrary speaker (i.e. role).', 'type': 'object', 'properties': {'content': {'title': 'Content', 'anyOf': [{'type': 'string'}, {'type': 'array', 'items': {'anyOf': [{'type': 'string'}, {'type': 'object'}]}}]}, 'additional_kwargs': {'title': 'Additional Kwargs', 'type': 'object'}, 'response_metadata': {'title': 'Response Metadata', 'type': 'object'}, 'type': {'title': 'Type', 'default': 'chat', 'enum': ['chat'], 'type': 'string'}, 'name': {'title': 'Name', 'type': 'string'}, 'id': {'title': 'Id', 'type': 'string'}, 'role': {'title': 'Role', 'type': 'string'}}, 'required': ['content', 'role']}, 'SystemMessage': {'title': 'SystemMessage', 'description': 'Message for priming AI behavior, usually passed in as the first of a sequence\\nof input messages.', 'type': 'object', 'properties': {'content': {'title': 'Content', 'anyOf': [{'type': 'string'}, {'type': 'array', 'items': {'anyOf': [{'type': 'string'}, {'type': 'object'}]}}]}, 'additional_kwargs': {'title': 'Additional Kwargs', 'type': 'object'}, 'response_metadata': {'title': 'Response Metadata', 'type': 'object'}, 'type': {'title': 'Type', 'default': 'system', 'enum': ['system'], 'type': 'string'}, 'name': {'title': 'Name', 'type': 'string'}, 'id': {'title': 'Id', 'type': 'string'}}, 'required': ['content']}, 'FunctionMessage': {'title': 'FunctionMessage', 'description': 'Message for passing the result of executing a function back to a model.', 'type': 'object', 'properties': {'content': {'title': 'Content', 'anyOf': [{'type': 'string'}, {'type': 'array', 'items': {'anyOf': [{'type': 'string'}, {'type': 'object'}]}}]}, 'additional_kwargs': {'title': 'Additional Kwargs', 'type': 'object'}, 'response_metadata': {'title': 'Response Metadata', 'type': 'object'}, 'type': {'title': 'Type', 'default': 'function', 'enum': ['function'], 'type': 'string'}, 'name': {'title': 'Name', 'type': 'string'}, 'id': {'title': 'Id', 'type': 'string'}}, 'required': ['content', 'name']}, 'ToolMessage': {'title': 'ToolMessage', 'description': 'Message for passing the result of executing a tool back to a model.', 'type': 'object', 'properties': {'content': {'title': 'Content', 'anyOf': [{'type': 'string'}, {'type': 'array', 'items': {'anyOf': [{'type': 'string'}, {'type': 'object'}]}}]}, 'additional_kwargs': {'title': 'Additional Kwargs', 'type': 'object'}, 'response_metadata': {'title': 'Response Metadata', 'type': 'object'}, 'type': {'title': 'Type', 'default': 'tool', 'enum': ['tool'], 'type': 'string'}, 'name': {'title': 'Name', 'type': 'string'}, 'id': {'title': 'Id', 'type': 'string'}, 'tool_call_id': {'title': 'Tool Call Id', 'type': 'string'}}, 'required': ['content', 'tool_call_id']}, 'ChatPromptValueConcrete': {'title': 'ChatPromptValueConcrete', 'description': 'Chat prompt value which explicitly lists out the message types it accepts.\\nFor use in external schemas.', 'type': 'object', 'properties': {'messages': {'title': 'Messages', 'type': 'array', 'items': {'anyOf': [{'$ref': '#/definitions/AIMessage'}, {'$ref': '#/definitions/HumanMessage'}, {'$ref': '#/definitions/ChatMessage'}, {'$ref': '#/definitions/SystemMessage'}, {'$ref': '#/definitions/FunctionMessage'}, {'$ref': '#/definitions/ToolMessage'}]}}, 'type': {'title': 'Type', 'default': 'ChatPromptValueConcrete', 'enum': ['ChatPromptValueConcrete'], 'type': 'string'}}, 'required': ['messages']}}}}], 'edges': [{'source': 0, 'target': 1}, {'source': 1, 'target': 2}]}}}}], 'partial_variables': {}}, 'name': 'ChatPromptTemplate', 'graph': {'nodes': [{'id': 0, 'type': 'schema', 'data': {'title': 'PromptInput', 'type': 'object', 'properties': {'context': {'title': 'Context', 'type': 'string'}, 'question': {'title': 'Question', 'type': 'string'}}}}, {'id': 1, 'type': 'runnable', 'data': {'id': ['langchain', 'prompts', 'chat', 'ChatPromptTemplate'], 'name': 'ChatPromptTemplate'}}, {'id': 2, 'type': 'schema', 'data': {'title': 'ChatPromptTemplateOutput', 'anyOf': [{'$ref': '#/definitions/StringPromptValue'}, {'$ref': '#/definitions/ChatPromptValueConcrete'}], 'definitions': {'StringPromptValue': {'title': 'StringPromptValue', 'description': 'String prompt value.', 'type': 'object', 'properties': {'text': {'title': 'Text', 'type': 'string'}, 'type': {'title': 'Type', 'default': 'StringPromptValue', 'enum': ['StringPromptValue'], 'type': 'string'}}, 'required': ['text']}, 'AIMessage': {'title': 'AIMessage', 'description': 'Message from an AI.', 'type': 'object', 'properties': {'content': {'title': 'Content', 'anyOf': [{'type': 'string'}, {'type': 'array', 'items': {'anyOf': [{'type': 'string'}, {'type': 'object'}]}}]}, 'additional_kwargs': {'title': 'Additional Kwargs', 'type': 'object'}, 'response_metadata': {'title': 'Response Metadata', 'type': 'object'}, 'type': {'title': 'Type', 'default': 'ai', 'enum': ['ai'], 'type': 'string'}, 'name': {'title': 'Name', 'type': 'string'}, 'id': {'title': 'Id', 'type': 'string'}, 'example': {'title': 'Example', 'default': False, 'type': 'boolean'}}, 'required': ['content']}, 'HumanMessage': {'title': 'HumanMessage', 'description': 'Message from a human.', 'type': 'object', 'properties': {'content': {'title': 'Content', 'anyOf': [{'type': 'string'}, {'type': 'array', 'items': {'anyOf': [{'type': 'string'}, {'type': 'object'}]}}]}, 'additional_kwargs': {'title': 'Additional Kwargs', 'type': 'object'}, 'response_metadata': {'title': 'Response Metadata', 'type': 'object'}, 'type': {'title': 'Type', 'default': 'human', 'enum': ['human'], 'type': 'string'}, 'name': {'title': 'Name', 'type': 'string'}, 'id': {'title': 'Id', 'type': 'string'}, 'example': {'title': 'Example', 'default': False, 'type': 'boolean'}}, 'required': ['content']}, 'ChatMessage': {'title': 'ChatMessage', 'description': 'Message that can be assigned an arbitrary speaker (i.e. role).', 'type': 'object', 'properties': {'content': {'title': 'Content', 'anyOf': [{'type': 'string'}, {'type': 'array', 'items': {'anyOf': [{'type': 'string'}, {'type': 'object'}]}}]}, 'additional_kwargs': {'title': 'Additional Kwargs', 'type': 'object'}, 'response_metadata': {'title': 'Response Metadata', 'type': 'object'}, 'type': {'title': 'Type', 'default': 'chat', 'enum': ['chat'], 'type': 'string'}, 'name': {'title': 'Name', 'type': 'string'}, 'id': {'title': 'Id', 'type': 'string'}, 'role': {'title': 'Role', 'type': 'string'}}, 'required': ['content', 'role']}, 'SystemMessage': {'title': 'SystemMessage', 'description': 'Message for priming AI behavior, usually passed in as the first of a sequence\\nof input messages.', 'type': 'object', 'properties': {'content': {'title': 'Content', 'anyOf': [{'type': 'string'}, {'type': 'array', 'items': {'anyOf': [{'type': 'string'}, {'type': 'object'}]}}]}, 'additional_kwargs': {'title': 'Additional Kwargs', 'type': 'object'}, 'response_metadata': {'title': 'Response Metadata', 'type': 'object'}, 'type': {'title': 'Type', 'default': 'system', 'enum': ['system'], 'type': 'string'}, 'name': {'title': 'Name', 'type': 'string'}, 'id': {'title': 'Id', 'type': 'string'}}, 'required': ['content']}, 'FunctionMessage': {'title': 'FunctionMessage', 'description': 'Message for passing the result of executing a function back to a model.', 'type': 'object', 'properties': {'content': {'title': 'Content', 'anyOf': [{'type': 'string'}, {'type': 'array', 'items': {'anyOf': [{'type': 'string'}, {'type': 'object'}]}}]}, 'additional_kwargs': {'title': 'Additional Kwargs', 'type': 'object'}, 'response_metadata': {'title': 'Response Metadata', 'type': 'object'}, 'type': {'title': 'Type', 'default': 'function', 'enum': ['function'], 'type': 'string'}, 'name': {'title': 'Name', 'type': 'string'}, 'id': {'title': 'Id', 'type': 'string'}}, 'required': ['content', 'name']}, 'ToolMessage': {'title': 'ToolMessage', 'description': 'Message for passing the result of executing a tool back to a model.', 'type': 'object', 'properties': {'content': {'title': 'Content', 'anyOf': [{'type': 'string'}, {'type': 'array', 'items': {'anyOf': [{'type': 'string'}, {'type': 'object'}]}}]}, 'additional_kwargs': {'title': 'Additional Kwargs', 'type': 'object'}, 'response_metadata': {'title': 'Response Metadata', 'type': 'object'}, 'type': {'title': 'Type', 'default': 'tool', 'enum': ['tool'], 'type': 'string'}, 'name': {'title': 'Name', 'type': 'string'}, 'id': {'title': 'Id', 'type': 'string'}, 'tool_call_id': {'title': 'Tool Call Id', 'type': 'string'}}, 'required': ['content', 'tool_call_id']}, 'ChatPromptValueConcrete': {'title': 'ChatPromptValueConcrete', 'description': 'Chat prompt value which explicitly lists out the message types it accepts.\\nFor use in external schemas.', 'type': 'object', 'properties': {'messages': {'title': 'Messages', 'type': 'array', 'items': {'anyOf': [{'$ref': '#/definitions/AIMessage'}, {'$ref': '#/definitions/HumanMessage'}, {'$ref': '#/definitions/ChatMessage'}, {'$ref': '#/definitions/SystemMessage'}, {'$ref': '#/definitions/FunctionMessage'}, {'$ref': '#/definitions/ToolMessage'}]}}, 'type': {'title': 'Type', 'default': 'ChatPromptValueConcrete', 'enum': ['ChatPromptValueConcrete'], 'type': 'string'}}, 'required': ['messages']}}}}], 'edges': [{'source': 0, 'target': 1}, {'source': 1, 'target': 2}]}}\n"
     ]
    },
    {
     "data": {
      "text/plain": [
       "AIMessage(content='Computational finance involves using computational tools to analyze financial data and model the dynamics of financial markets. It focuses on understanding investor heterogeneity and the interactions of agents in financial settings. Agent-based computational finance views financial markets as groups of learning agents, with the computer playing a central role in analyzing their behavior.', response_metadata={'finish_reason': 'stop', 'logprobs': None})"
      ]
     },
     "execution_count": 59,
     "metadata": {},
     "output_type": "execute_result"
    }
   ],
   "source": [
    "handler = NewHandler()\n",
    "\n",
    "rag_chain.invoke(\"What is meant by computational finance?\", {\"callbacks\":[handler]})"
   ]
  },
  {
   "cell_type": "code",
   "execution_count": 51,
   "id": "07a70394-d576-46b7-9733-4086d50b6d76",
   "metadata": {},
   "outputs": [
    {
     "data": {
      "text/plain": [
       "dict_keys(['lc', 'type', 'id', 'kwargs', 'name', 'graph'])"
      ]
     },
     "execution_count": 51,
     "metadata": {},
     "output_type": "execute_result"
    }
   ],
   "source": [
    "serialized_input[5].keys()"
   ]
  },
  {
   "cell_type": "code",
   "execution_count": 78,
   "id": "33e4a556-64cf-4009-8ae3-4aa2cbaa1f71",
   "metadata": {
    "scrolled": true
   },
   "outputs": [
    {
     "data": {
      "text/plain": [
       "{'lc': 1,\n",
       " 'type': 'constructor',\n",
       " 'id': ['langchain', 'prompts', 'chat', 'ChatPromptTemplate'],\n",
       " 'kwargs': {'input_variables': ['context', 'question'],\n",
       "  'messages': [{'lc': 1,\n",
       "    'type': 'constructor',\n",
       "    'id': ['langchain', 'prompts', 'chat', 'HumanMessagePromptTemplate'],\n",
       "    'kwargs': {'prompt': {'lc': 1,\n",
       "      'type': 'constructor',\n",
       "      'id': ['langchain', 'prompts', 'prompt', 'PromptTemplate'],\n",
       "      'kwargs': {'input_variables': ['context', 'question'],\n",
       "       'template': \"You are an assistant for question-answering tasks. \\n    Use the following pieces of retrieved context to answer the question. \\n    If you don't know the answer, just say that you don't know. \\n    Use three sentences maximum and keep the answer concise.\\n    Question: {question} \\n    Context: {context} \\n    Answer:\\n    \",\n",
       "       'template_format': 'f-string',\n",
       "       'partial_variables': {}},\n",
       "      'name': 'PromptTemplate',\n",
       "      'graph': {'nodes': [{'id': 0,\n",
       "         'type': 'schema',\n",
       "         'data': {'title': 'PromptInput',\n",
       "          'type': 'object',\n",
       "          'properties': {'context': {'title': 'Context', 'type': 'string'},\n",
       "           'question': {'title': 'Question', 'type': 'string'}}}},\n",
       "        {'id': 1,\n",
       "         'type': 'runnable',\n",
       "         'data': {'id': ['langchain', 'prompts', 'prompt', 'PromptTemplate'],\n",
       "          'name': 'PromptTemplate'}},\n",
       "        {'id': 2,\n",
       "         'type': 'schema',\n",
       "         'data': {'title': 'PromptTemplateOutput',\n",
       "          'anyOf': [{'$ref': '#/definitions/StringPromptValue'},\n",
       "           {'$ref': '#/definitions/ChatPromptValueConcrete'}],\n",
       "          'definitions': {'StringPromptValue': {'title': 'StringPromptValue',\n",
       "            'description': 'String prompt value.',\n",
       "            'type': 'object',\n",
       "            'properties': {'text': {'title': 'Text', 'type': 'string'},\n",
       "             'type': {'title': 'Type',\n",
       "              'default': 'StringPromptValue',\n",
       "              'enum': ['StringPromptValue'],\n",
       "              'type': 'string'}},\n",
       "            'required': ['text']},\n",
       "           'AIMessage': {'title': 'AIMessage',\n",
       "            'description': 'Message from an AI.',\n",
       "            'type': 'object',\n",
       "            'properties': {'content': {'title': 'Content',\n",
       "              'anyOf': [{'type': 'string'},\n",
       "               {'type': 'array',\n",
       "                'items': {'anyOf': [{'type': 'string'},\n",
       "                  {'type': 'object'}]}}]},\n",
       "             'additional_kwargs': {'title': 'Additional Kwargs',\n",
       "              'type': 'object'},\n",
       "             'response_metadata': {'title': 'Response Metadata',\n",
       "              'type': 'object'},\n",
       "             'type': {'title': 'Type',\n",
       "              'default': 'ai',\n",
       "              'enum': ['ai'],\n",
       "              'type': 'string'},\n",
       "             'name': {'title': 'Name', 'type': 'string'},\n",
       "             'id': {'title': 'Id', 'type': 'string'},\n",
       "             'example': {'title': 'Example',\n",
       "              'default': False,\n",
       "              'type': 'boolean'}},\n",
       "            'required': ['content']},\n",
       "           'HumanMessage': {'title': 'HumanMessage',\n",
       "            'description': 'Message from a human.',\n",
       "            'type': 'object',\n",
       "            'properties': {'content': {'title': 'Content',\n",
       "              'anyOf': [{'type': 'string'},\n",
       "               {'type': 'array',\n",
       "                'items': {'anyOf': [{'type': 'string'},\n",
       "                  {'type': 'object'}]}}]},\n",
       "             'additional_kwargs': {'title': 'Additional Kwargs',\n",
       "              'type': 'object'},\n",
       "             'response_metadata': {'title': 'Response Metadata',\n",
       "              'type': 'object'},\n",
       "             'type': {'title': 'Type',\n",
       "              'default': 'human',\n",
       "              'enum': ['human'],\n",
       "              'type': 'string'},\n",
       "             'name': {'title': 'Name', 'type': 'string'},\n",
       "             'id': {'title': 'Id', 'type': 'string'},\n",
       "             'example': {'title': 'Example',\n",
       "              'default': False,\n",
       "              'type': 'boolean'}},\n",
       "            'required': ['content']},\n",
       "           'ChatMessage': {'title': 'ChatMessage',\n",
       "            'description': 'Message that can be assigned an arbitrary speaker (i.e. role).',\n",
       "            'type': 'object',\n",
       "            'properties': {'content': {'title': 'Content',\n",
       "              'anyOf': [{'type': 'string'},\n",
       "               {'type': 'array',\n",
       "                'items': {'anyOf': [{'type': 'string'},\n",
       "                  {'type': 'object'}]}}]},\n",
       "             'additional_kwargs': {'title': 'Additional Kwargs',\n",
       "              'type': 'object'},\n",
       "             'response_metadata': {'title': 'Response Metadata',\n",
       "              'type': 'object'},\n",
       "             'type': {'title': 'Type',\n",
       "              'default': 'chat',\n",
       "              'enum': ['chat'],\n",
       "              'type': 'string'},\n",
       "             'name': {'title': 'Name', 'type': 'string'},\n",
       "             'id': {'title': 'Id', 'type': 'string'},\n",
       "             'role': {'title': 'Role', 'type': 'string'}},\n",
       "            'required': ['content', 'role']},\n",
       "           'SystemMessage': {'title': 'SystemMessage',\n",
       "            'description': 'Message for priming AI behavior, usually passed in as the first of a sequence\\nof input messages.',\n",
       "            'type': 'object',\n",
       "            'properties': {'content': {'title': 'Content',\n",
       "              'anyOf': [{'type': 'string'},\n",
       "               {'type': 'array',\n",
       "                'items': {'anyOf': [{'type': 'string'},\n",
       "                  {'type': 'object'}]}}]},\n",
       "             'additional_kwargs': {'title': 'Additional Kwargs',\n",
       "              'type': 'object'},\n",
       "             'response_metadata': {'title': 'Response Metadata',\n",
       "              'type': 'object'},\n",
       "             'type': {'title': 'Type',\n",
       "              'default': 'system',\n",
       "              'enum': ['system'],\n",
       "              'type': 'string'},\n",
       "             'name': {'title': 'Name', 'type': 'string'},\n",
       "             'id': {'title': 'Id', 'type': 'string'}},\n",
       "            'required': ['content']},\n",
       "           'FunctionMessage': {'title': 'FunctionMessage',\n",
       "            'description': 'Message for passing the result of executing a function back to a model.',\n",
       "            'type': 'object',\n",
       "            'properties': {'content': {'title': 'Content',\n",
       "              'anyOf': [{'type': 'string'},\n",
       "               {'type': 'array',\n",
       "                'items': {'anyOf': [{'type': 'string'},\n",
       "                  {'type': 'object'}]}}]},\n",
       "             'additional_kwargs': {'title': 'Additional Kwargs',\n",
       "              'type': 'object'},\n",
       "             'response_metadata': {'title': 'Response Metadata',\n",
       "              'type': 'object'},\n",
       "             'type': {'title': 'Type',\n",
       "              'default': 'function',\n",
       "              'enum': ['function'],\n",
       "              'type': 'string'},\n",
       "             'name': {'title': 'Name', 'type': 'string'},\n",
       "             'id': {'title': 'Id', 'type': 'string'}},\n",
       "            'required': ['content', 'name']},\n",
       "           'ToolMessage': {'title': 'ToolMessage',\n",
       "            'description': 'Message for passing the result of executing a tool back to a model.',\n",
       "            'type': 'object',\n",
       "            'properties': {'content': {'title': 'Content',\n",
       "              'anyOf': [{'type': 'string'},\n",
       "               {'type': 'array',\n",
       "                'items': {'anyOf': [{'type': 'string'},\n",
       "                  {'type': 'object'}]}}]},\n",
       "             'additional_kwargs': {'title': 'Additional Kwargs',\n",
       "              'type': 'object'},\n",
       "             'response_metadata': {'title': 'Response Metadata',\n",
       "              'type': 'object'},\n",
       "             'type': {'title': 'Type',\n",
       "              'default': 'tool',\n",
       "              'enum': ['tool'],\n",
       "              'type': 'string'},\n",
       "             'name': {'title': 'Name', 'type': 'string'},\n",
       "             'id': {'title': 'Id', 'type': 'string'},\n",
       "             'tool_call_id': {'title': 'Tool Call Id', 'type': 'string'}},\n",
       "            'required': ['content', 'tool_call_id']},\n",
       "           'ChatPromptValueConcrete': {'title': 'ChatPromptValueConcrete',\n",
       "            'description': 'Chat prompt value which explicitly lists out the message types it accepts.\\nFor use in external schemas.',\n",
       "            'type': 'object',\n",
       "            'properties': {'messages': {'title': 'Messages',\n",
       "              'type': 'array',\n",
       "              'items': {'anyOf': [{'$ref': '#/definitions/AIMessage'},\n",
       "                {'$ref': '#/definitions/HumanMessage'},\n",
       "                {'$ref': '#/definitions/ChatMessage'},\n",
       "                {'$ref': '#/definitions/SystemMessage'},\n",
       "                {'$ref': '#/definitions/FunctionMessage'},\n",
       "                {'$ref': '#/definitions/ToolMessage'}]}},\n",
       "             'type': {'title': 'Type',\n",
       "              'default': 'ChatPromptValueConcrete',\n",
       "              'enum': ['ChatPromptValueConcrete'],\n",
       "              'type': 'string'}},\n",
       "            'required': ['messages']}}}}],\n",
       "       'edges': [{'source': 0, 'target': 1}, {'source': 1, 'target': 2}]}}}}],\n",
       "  'partial_variables': {}},\n",
       " 'name': 'ChatPromptTemplate',\n",
       " 'graph': {'nodes': [{'id': 0,\n",
       "    'type': 'schema',\n",
       "    'data': {'title': 'PromptInput',\n",
       "     'type': 'object',\n",
       "     'properties': {'context': {'title': 'Context', 'type': 'string'},\n",
       "      'question': {'title': 'Question', 'type': 'string'}}}},\n",
       "   {'id': 1,\n",
       "    'type': 'runnable',\n",
       "    'data': {'id': ['langchain', 'prompts', 'chat', 'ChatPromptTemplate'],\n",
       "     'name': 'ChatPromptTemplate'}},\n",
       "   {'id': 2,\n",
       "    'type': 'schema',\n",
       "    'data': {'title': 'ChatPromptTemplateOutput',\n",
       "     'anyOf': [{'$ref': '#/definitions/StringPromptValue'},\n",
       "      {'$ref': '#/definitions/ChatPromptValueConcrete'}],\n",
       "     'definitions': {'StringPromptValue': {'title': 'StringPromptValue',\n",
       "       'description': 'String prompt value.',\n",
       "       'type': 'object',\n",
       "       'properties': {'text': {'title': 'Text', 'type': 'string'},\n",
       "        'type': {'title': 'Type',\n",
       "         'default': 'StringPromptValue',\n",
       "         'enum': ['StringPromptValue'],\n",
       "         'type': 'string'}},\n",
       "       'required': ['text']},\n",
       "      'AIMessage': {'title': 'AIMessage',\n",
       "       'description': 'Message from an AI.',\n",
       "       'type': 'object',\n",
       "       'properties': {'content': {'title': 'Content',\n",
       "         'anyOf': [{'type': 'string'},\n",
       "          {'type': 'array',\n",
       "           'items': {'anyOf': [{'type': 'string'}, {'type': 'object'}]}}]},\n",
       "        'additional_kwargs': {'title': 'Additional Kwargs', 'type': 'object'},\n",
       "        'response_metadata': {'title': 'Response Metadata', 'type': 'object'},\n",
       "        'type': {'title': 'Type',\n",
       "         'default': 'ai',\n",
       "         'enum': ['ai'],\n",
       "         'type': 'string'},\n",
       "        'name': {'title': 'Name', 'type': 'string'},\n",
       "        'id': {'title': 'Id', 'type': 'string'},\n",
       "        'example': {'title': 'Example', 'default': False, 'type': 'boolean'}},\n",
       "       'required': ['content']},\n",
       "      'HumanMessage': {'title': 'HumanMessage',\n",
       "       'description': 'Message from a human.',\n",
       "       'type': 'object',\n",
       "       'properties': {'content': {'title': 'Content',\n",
       "         'anyOf': [{'type': 'string'},\n",
       "          {'type': 'array',\n",
       "           'items': {'anyOf': [{'type': 'string'}, {'type': 'object'}]}}]},\n",
       "        'additional_kwargs': {'title': 'Additional Kwargs', 'type': 'object'},\n",
       "        'response_metadata': {'title': 'Response Metadata', 'type': 'object'},\n",
       "        'type': {'title': 'Type',\n",
       "         'default': 'human',\n",
       "         'enum': ['human'],\n",
       "         'type': 'string'},\n",
       "        'name': {'title': 'Name', 'type': 'string'},\n",
       "        'id': {'title': 'Id', 'type': 'string'},\n",
       "        'example': {'title': 'Example', 'default': False, 'type': 'boolean'}},\n",
       "       'required': ['content']},\n",
       "      'ChatMessage': {'title': 'ChatMessage',\n",
       "       'description': 'Message that can be assigned an arbitrary speaker (i.e. role).',\n",
       "       'type': 'object',\n",
       "       'properties': {'content': {'title': 'Content',\n",
       "         'anyOf': [{'type': 'string'},\n",
       "          {'type': 'array',\n",
       "           'items': {'anyOf': [{'type': 'string'}, {'type': 'object'}]}}]},\n",
       "        'additional_kwargs': {'title': 'Additional Kwargs', 'type': 'object'},\n",
       "        'response_metadata': {'title': 'Response Metadata', 'type': 'object'},\n",
       "        'type': {'title': 'Type',\n",
       "         'default': 'chat',\n",
       "         'enum': ['chat'],\n",
       "         'type': 'string'},\n",
       "        'name': {'title': 'Name', 'type': 'string'},\n",
       "        'id': {'title': 'Id', 'type': 'string'},\n",
       "        'role': {'title': 'Role', 'type': 'string'}},\n",
       "       'required': ['content', 'role']},\n",
       "      'SystemMessage': {'title': 'SystemMessage',\n",
       "       'description': 'Message for priming AI behavior, usually passed in as the first of a sequence\\nof input messages.',\n",
       "       'type': 'object',\n",
       "       'properties': {'content': {'title': 'Content',\n",
       "         'anyOf': [{'type': 'string'},\n",
       "          {'type': 'array',\n",
       "           'items': {'anyOf': [{'type': 'string'}, {'type': 'object'}]}}]},\n",
       "        'additional_kwargs': {'title': 'Additional Kwargs', 'type': 'object'},\n",
       "        'response_metadata': {'title': 'Response Metadata', 'type': 'object'},\n",
       "        'type': {'title': 'Type',\n",
       "         'default': 'system',\n",
       "         'enum': ['system'],\n",
       "         'type': 'string'},\n",
       "        'name': {'title': 'Name', 'type': 'string'},\n",
       "        'id': {'title': 'Id', 'type': 'string'}},\n",
       "       'required': ['content']},\n",
       "      'FunctionMessage': {'title': 'FunctionMessage',\n",
       "       'description': 'Message for passing the result of executing a function back to a model.',\n",
       "       'type': 'object',\n",
       "       'properties': {'content': {'title': 'Content',\n",
       "         'anyOf': [{'type': 'string'},\n",
       "          {'type': 'array',\n",
       "           'items': {'anyOf': [{'type': 'string'}, {'type': 'object'}]}}]},\n",
       "        'additional_kwargs': {'title': 'Additional Kwargs', 'type': 'object'},\n",
       "        'response_metadata': {'title': 'Response Metadata', 'type': 'object'},\n",
       "        'type': {'title': 'Type',\n",
       "         'default': 'function',\n",
       "         'enum': ['function'],\n",
       "         'type': 'string'},\n",
       "        'name': {'title': 'Name', 'type': 'string'},\n",
       "        'id': {'title': 'Id', 'type': 'string'}},\n",
       "       'required': ['content', 'name']},\n",
       "      'ToolMessage': {'title': 'ToolMessage',\n",
       "       'description': 'Message for passing the result of executing a tool back to a model.',\n",
       "       'type': 'object',\n",
       "       'properties': {'content': {'title': 'Content',\n",
       "         'anyOf': [{'type': 'string'},\n",
       "          {'type': 'array',\n",
       "           'items': {'anyOf': [{'type': 'string'}, {'type': 'object'}]}}]},\n",
       "        'additional_kwargs': {'title': 'Additional Kwargs', 'type': 'object'},\n",
       "        'response_metadata': {'title': 'Response Metadata', 'type': 'object'},\n",
       "        'type': {'title': 'Type',\n",
       "         'default': 'tool',\n",
       "         'enum': ['tool'],\n",
       "         'type': 'string'},\n",
       "        'name': {'title': 'Name', 'type': 'string'},\n",
       "        'id': {'title': 'Id', 'type': 'string'},\n",
       "        'tool_call_id': {'title': 'Tool Call Id', 'type': 'string'}},\n",
       "       'required': ['content', 'tool_call_id']},\n",
       "      'ChatPromptValueConcrete': {'title': 'ChatPromptValueConcrete',\n",
       "       'description': 'Chat prompt value which explicitly lists out the message types it accepts.\\nFor use in external schemas.',\n",
       "       'type': 'object',\n",
       "       'properties': {'messages': {'title': 'Messages',\n",
       "         'type': 'array',\n",
       "         'items': {'anyOf': [{'$ref': '#/definitions/AIMessage'},\n",
       "           {'$ref': '#/definitions/HumanMessage'},\n",
       "           {'$ref': '#/definitions/ChatMessage'},\n",
       "           {'$ref': '#/definitions/SystemMessage'},\n",
       "           {'$ref': '#/definitions/FunctionMessage'},\n",
       "           {'$ref': '#/definitions/ToolMessage'}]}},\n",
       "        'type': {'title': 'Type',\n",
       "         'default': 'ChatPromptValueConcrete',\n",
       "         'enum': ['ChatPromptValueConcrete'],\n",
       "         'type': 'string'}},\n",
       "       'required': ['messages']}}}}],\n",
       "  'edges': [{'source': 0, 'target': 1}, {'source': 1, 'target': 2}]}}"
      ]
     },
     "execution_count": 78,
     "metadata": {},
     "output_type": "execute_result"
    }
   ],
   "source": [
    "serialized_input[5]"
   ]
  },
  {
   "cell_type": "code",
   "execution_count": 44,
   "id": "cfc4c782-294a-478a-9bb0-088a8ceadaec",
   "metadata": {},
   "outputs": [
    {
     "data": {
      "text/plain": [
       "6"
      ]
     },
     "execution_count": 44,
     "metadata": {},
     "output_type": "execute_result"
    }
   ],
   "source": [
    "len(serialized_input)"
   ]
  },
  {
   "cell_type": "code",
   "execution_count": 47,
   "id": "dd07b8ab-ffa5-4dbb-83f3-818aa9208e5f",
   "metadata": {},
   "outputs": [
    {
     "data": {
      "text/plain": [
       "'constructor'"
      ]
     },
     "execution_count": 47,
     "metadata": {},
     "output_type": "execute_result"
    }
   ],
   "source": [
    "serialized_input[3]['type']"
   ]
  },
  {
   "cell_type": "code",
   "execution_count": 60,
   "id": "0e7ee616-8d53-4916-a846-c972edc42113",
   "metadata": {},
   "outputs": [
    {
     "name": "stdout",
     "output_type": "stream",
     "text": [
      "['langchain', 'schema', 'runnable', 'RunnableSequence']\n",
      "['langchain', 'schema', 'runnable', 'RunnableParallel']\n",
      "['langchain', 'schema', 'runnable', 'RunnablePassthrough']\n",
      "['langchain', 'schema', 'runnable', 'RunnableSequence']\n",
      "['langchain_core', 'runnables', 'base', 'RunnableLambda']\n",
      "['langchain', 'prompts', 'chat', 'ChatPromptTemplate']\n"
     ]
    }
   ],
   "source": [
    "for x in serialized_input:\n",
    "    print(x['id'])"
   ]
  },
  {
   "cell_type": "code",
   "execution_count": 57,
   "id": "258446c9-17c6-4755-8da9-caeed161d91b",
   "metadata": {},
   "outputs": [
    {
     "name": "stdout",
     "output_type": "stream",
     "text": [
      "RunnableSequence\n",
      "RunnableParallel<context,question>\n",
      "RunnablePassthrough\n",
      "RunnableSequence\n",
      "RunnableLambda(format_docs)\n",
      "ChatPromptTemplate\n"
     ]
    }
   ],
   "source": [
    "for x in serialized_input:\n",
    "    try:\n",
    "        print(x['name'])\n",
    "    except:\n",
    "        print(x['repr'])"
   ]
  },
  {
   "cell_type": "code",
   "execution_count": 83,
   "id": "33b39d5f-7c51-47ae-83ba-b742fc9719e3",
   "metadata": {},
   "outputs": [
    {
     "name": "stdout",
     "output_type": "stream",
     "text": [
      "name: RunnableSequence\n",
      "type: constructor\n",
      "id: ['langchain', 'schema', 'runnable', 'RunnableSequence']\n",
      "kwargs_keys: dict_keys(['first', 'middle', 'last', 'name'])\n",
      "input: What is meant by computational finance?\n"
     ]
    }
   ],
   "source": [
    "getChainBreakdown(serialized_input, chain_input, 3)"
   ]
  },
  {
   "cell_type": "code",
   "execution_count": 84,
   "id": "2933747f-234d-40d6-be71-a98419f0f94d",
   "metadata": {},
   "outputs": [
    {
     "data": {
      "text/plain": [
       "{'lc': 1,\n",
       " 'type': 'constructor',\n",
       " 'id': ['langchain', 'schema', 'runnable', 'RunnableSequence'],\n",
       " 'kwargs': {'first': {'lc': 1,\n",
       "   'type': 'not_implemented',\n",
       "   'id': ['langchain_core', 'vectorstores', 'VectorStoreRetriever'],\n",
       "   'repr': \"VectorStoreRetriever(tags=['FAISS', 'OpenAIEmbeddings'], vectorstore=<langchain_community.vectorstores.faiss.FAISS object at 0x2c19462d0>, search_kwargs={'k': 4})\",\n",
       "   'name': 'VectorStoreRetriever',\n",
       "   'graph': {'nodes': [{'id': 0,\n",
       "      'type': 'schema',\n",
       "      'data': {'title': 'VectorStoreRetrieverInput', 'type': 'string'}},\n",
       "     {'id': 1,\n",
       "      'type': 'runnable',\n",
       "      'data': {'id': ['langchain_core',\n",
       "        'vectorstores',\n",
       "        'VectorStoreRetriever'],\n",
       "       'name': 'VectorStoreRetriever'}},\n",
       "     {'id': 2,\n",
       "      'type': 'schema',\n",
       "      'data': {'title': 'VectorStoreRetrieverOutput',\n",
       "       'type': 'array',\n",
       "       'items': {'$ref': '#/definitions/Document'},\n",
       "       'definitions': {'Document': {'title': 'Document',\n",
       "         'description': 'Class for storing a piece of text and associated metadata.',\n",
       "         'type': 'object',\n",
       "         'properties': {'page_content': {'title': 'Page Content',\n",
       "           'type': 'string'},\n",
       "          'metadata': {'title': 'Metadata', 'type': 'object'},\n",
       "          'type': {'title': 'Type',\n",
       "           'default': 'Document',\n",
       "           'enum': ['Document'],\n",
       "           'type': 'string'}},\n",
       "         'required': ['page_content']}}}}],\n",
       "    'edges': [{'source': 0, 'target': 1}, {'source': 1, 'target': 2}]}},\n",
       "  'middle': [],\n",
       "  'last': {'lc': 1,\n",
       "   'type': 'not_implemented',\n",
       "   'id': ['langchain_core', 'runnables', 'base', 'RunnableLambda'],\n",
       "   'repr': 'RunnableLambda(format_docs)'},\n",
       "  'name': None},\n",
       " 'name': 'RunnableSequence',\n",
       " 'graph': {'nodes': [{'id': 0,\n",
       "    'type': 'schema',\n",
       "    'data': {'title': 'VectorStoreRetrieverInput', 'type': 'string'}},\n",
       "   {'id': 1,\n",
       "    'type': 'runnable',\n",
       "    'data': {'id': ['langchain_core', 'vectorstores', 'VectorStoreRetriever'],\n",
       "     'name': 'VectorStoreRetriever'}},\n",
       "   {'id': 2,\n",
       "    'type': 'runnable',\n",
       "    'data': {'id': ['langchain_core', 'runnables', 'base', 'RunnableLambda'],\n",
       "     'name': 'format_docs'}},\n",
       "   {'id': 3, 'type': 'schema', 'data': {'title': 'format_docs_output'}}],\n",
       "  'edges': [{'source': 0, 'target': 1},\n",
       "   {'source': 2, 'target': 3},\n",
       "   {'source': 1, 'target': 2}]}}"
      ]
     },
     "execution_count": 84,
     "metadata": {},
     "output_type": "execute_result"
    }
   ],
   "source": [
    "serialized_input[3]"
   ]
  },
  {
   "cell_type": "code",
   "execution_count": 85,
   "id": "bdb82c41-e6c6-4e21-b79d-e7e89c0f9221",
   "metadata": {},
   "outputs": [
    {
     "data": {
      "text/plain": [
       "'What is meant by computational finance?'"
      ]
     },
     "execution_count": 85,
     "metadata": {},
     "output_type": "execute_result"
    }
   ],
   "source": [
    "chain_input[3]"
   ]
  },
  {
   "cell_type": "code",
   "execution_count": 113,
   "id": "62dc8ec8-9e6b-4328-bfc4-1ea3df75a8e5",
   "metadata": {},
   "outputs": [],
   "source": []
  },
  {
   "cell_type": "code",
   "execution_count": 79,
   "id": "63dba7b3-356c-4e30-bdd1-501e09437eec",
   "metadata": {},
   "outputs": [
    {
     "name": "stdout",
     "output_type": "stream",
     "text": [
      "name: ChatPromptTemplate\n",
      "type: constructor\n",
      "id: ['langchain', 'prompts', 'chat', 'ChatPromptTemplate']\n",
      "kwargs_keys: dict_keys(['input_variables', 'messages', 'partial_variables'])\n",
      "input: {'context': 'to ﬁnancial economists as it is potentially unappealing to ﬁnancial practitioners.1It is interesting to note\\nthat these foundations came with a very important computational dimension. The early availability of large\\nmachine-readable data sets, and the computational power to analyze them, laid the critical foundation for\\nthis new ﬁnancial rigor.2In agent-based computational models the computer is once again at the center\\nof a change in thinking about ﬁnancial markets. This time it is helping to pursue a world view in which\\nagents may diﬀer in many ways, not just in their information, but in their ability to process information,\\ntheir attitudes toward risk, and in many other dimensions.\\nModels in the realm of agent-based computational ﬁnance view ﬁnancial markets as interacting groups\\nof learning, boundedly-rational agents. The computer may or may not be a necessary tool to understand\\nthe dynamics of these markets. This survey will concentrate on the cases where analytic solutions would\\n\\n ------------Agent-based Computational Finance\\nBlake LeBaron∗\\nBrandeis University\\nApril 21st, 2005: Comments still welcome!\\nAbstract\\nThis chapter surveys research on agent-based models used in ﬁnance. It will concentrate on models\\nwhere the use of computational tools is critical for the process of crafting models which give insights into\\nthe importance and dynamics of investor heterogeneity in many ﬁnancial settings.\\n∗International Business School, Brandeis University, 415 South Street, Mailstop 32, Waltham, MA 02453 - 2728, ble-\\nbaron@brandeis.edu, www.brandeis.edu/∼blebaron. The author is also a research associate at the National Bureau of Economic\\nResearch. This is a preliminary draft for The Handbook of Computational Economics, vol. II, , edited by K. L. Judd and L.\\nTesfatsion. The author is grateful to many people who have made comments on earlier drafts. These include W. A. Brock,\\nCars Hommes, Leigh Tesfatsion, Frank Westerhoﬀ, and two anonymous referees.\\n1\\n\\n ------------that these foundations came with a very important computational dimension. The early availability of large\\nmachine-readable data sets, and the computational power to analyze them, laid the critical foundation for\\nthis new ﬁnancial rigor.2In agent-based computational models the computer is once again at the center\\nof a change in thinking about ﬁnancial markets. This time it is helping to pursue a world view in which\\nagents may diﬀer in many ways, not just in their information, but in their ability to process information,\\ntheir attitudes toward risk, and in many other dimensions.\\nModels in the realm of agent-based computational ﬁnance view ﬁnancial markets as interacting groups\\nof learning, boundedly-rational agents. The computer may or may not be a necessary tool to understand\\nthe dynamics of these markets. This survey will concentrate on the cases where analytic solutions would\\nbe impossible, and computational tools are necessary.3It is important to distinguish agent-based models\\n\\n ------------machine-readable data sets, and the computational power to analyze them, laid the critical foundation for\\nthis new ﬁnancial rigor.2In agent-based computational models the computer is once again at the center\\nof a change in thinking about ﬁnancial markets. This time it is helping to pursue a world view in which\\nagents may diﬀer in many ways, not just in their information, but in their ability to process information,\\ntheir attitudes toward risk, and in many other dimensions.\\nModels in the realm of agent-based computational ﬁnance view ﬁnancial markets as interacting groups\\nof learning, boundedly-rational agents. The computer may or may not be a necessary tool to understand\\nthe dynamics of these markets. This survey will concentrate on the cases where analytic solutions would\\nbe impossible, and computational tools are necessary.3It is important to distinguish agent-based models\\nfrom other more general heterogeneous agent models in ﬁnance, since the latter have been part of the ﬁeld', 'question': 'What is meant by computational finance?'}\n"
     ]
    }
   ],
   "source": []
  },
  {
   "cell_type": "code",
   "execution_count": null,
   "id": "9bf87190-50a3-4c08-bd6e-993f0313c732",
   "metadata": {},
   "outputs": [],
   "source": []
  }
 ],
 "metadata": {
  "kernelspec": {
   "display_name": "Python 3 (ipykernel)",
   "language": "python",
   "name": "python3"
  },
  "language_info": {
   "codemirror_mode": {
    "name": "ipython",
    "version": 3
   },
   "file_extension": ".py",
   "mimetype": "text/x-python",
   "name": "python",
   "nbconvert_exporter": "python",
   "pygments_lexer": "ipython3",
   "version": "3.11.8"
  }
 },
 "nbformat": 4,
 "nbformat_minor": 5
}

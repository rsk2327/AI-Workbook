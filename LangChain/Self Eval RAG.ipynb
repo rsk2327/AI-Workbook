{
 "cells": [
  {
   "cell_type": "code",
   "execution_count": 37,
   "id": "08ca2e50-9ea3-4e51-aaab-fb4110982388",
   "metadata": {},
   "outputs": [],
   "source": [
    "import pandas as pd\n",
    "import numpy as np\n",
    "import os\n",
    "from io import StringIO \n",
    "import json\n",
    "from collections import Counter\n",
    "from operator import itemgetter\n",
    "from enum import Enum\n",
    "\n",
    "\n",
    "from langchain.text_splitter import RecursiveCharacterTextSplitter\n",
    "from langchain_core.output_parsers import JsonOutputParser\n",
    "from langchain_community.document_loaders import PyPDFLoader\n",
    "from langchain_community.vectorstores import FAISS, Chroma\n",
    "from langchain_openai import OpenAIEmbeddings, ChatOpenAI\n",
    "from langchain_core.runnables import RunnablePassthrough, RunnableParallel\n",
    "from langchain_core.pydantic_v1 import BaseModel, Field\n",
    "from langchain.prompts import ChatPromptTemplate, PromptTemplate\n",
    "from langchain_community.vectorstores.faiss import DistanceStrategy\n",
    "from langchain_pinecone import PineconeVectorStore\n",
    "from time import perf_counter, process_time\n",
    "\n",
    "\n",
    "%reload_ext autoreload\n",
    "%autoreload 2"
   ]
  },
  {
   "cell_type": "markdown",
   "id": "f38fac4c-a94a-4c6f-866f-00d2aa67abd4",
   "metadata": {},
   "source": [
    "# Reading Data"
   ]
  },
  {
   "cell_type": "code",
   "execution_count": 3,
   "id": "65545732-4bdf-4ab3-87e9-b0dcbb146ce3",
   "metadata": {},
   "outputs": [],
   "source": [
    "pdf_filepath = './machine_learning_basics.pdf'\n",
    "loader = PyPDFLoader(pdf_filepath)\n",
    "pdf_text = loader.load()"
   ]
  },
  {
   "cell_type": "code",
   "execution_count": 8,
   "id": "c51fa7ab-a1e0-4cb3-a8fa-fdd048d391e3",
   "metadata": {},
   "outputs": [],
   "source": [
    "text_splitter = RecursiveCharacterTextSplitter(chunk_size=500, chunk_overlap=100)\n",
    "chunks = text_splitter.split_documents(pdf_text)"
   ]
  },
  {
   "cell_type": "code",
   "execution_count": 11,
   "id": "1b352376-726c-4cf1-a7ef-2b3db636c899",
   "metadata": {
    "scrolled": true
   },
   "outputs": [
    {
     "data": {
      "text/plain": [
       "[Document(page_content='THE FUNDAMENTALS  \\nOF MACHINE LEARNING', metadata={'source': './machine_learning_basics.pdf', 'page': 0}),\n",
       " Document(page_content='WHAT IS MACHINE LEARNING?\\nBRIEF HISTORY OF MACHINE LEARNING\\nHOW IT WORKS\\nMACHINE LEARNING TECHNIQUES\\nTHE IMPORTANCE OF THE HUMAN ELEMENT\\nWHO’S USING IT?\\nCHALLENGES AND HESITATIONS\\nTHE FUTURE OF MACHINE LEARNING\\nCONTRIBUTORS3\\n5\\n8\\n9\\n11\\n12\\n1514\\n16TABLE OF CONTENTS\\n2', metadata={'source': './machine_learning_basics.pdf', 'page': 1}),\n",
       " Document(page_content='WHAT IS MACHINE LEARNING?\\nWhether we realize it or not, machine learning is something we \\nencounter on a daily basis. While the technology is not new, \\nwith the rise of artificial intelligence (AI) and the digital age, it is \\nbecoming increasingly important to understand what it is, how it \\ndiffers from AI, and the major role it will play in the future. This \\nwhitepaper will discuss all of the above, and explore different \\ntypes of machine learning, how they work, and how a majority', metadata={'source': './machine_learning_basics.pdf', 'page': 2}),\n",
       " Document(page_content='types of machine learning, how they work, and how a majority  \\nof industries are utilizing it.\\nFirst and foremost, it’s important to understand exactly what \\nmachine learning is and how it differs from AI. In its simplest form, \\nmachine learning is a set of algorithms learned from data and/or \\nexperiences, rather than being explicitly programmed. Each task \\nrequires a different set of algorithms, and these algorithms detect \\npatterns to perform certain tasks.HOW IS IT DIFFERENT FROM', metadata={'source': './machine_learning_basics.pdf', 'page': 2}),\n",
       " Document(page_content='patterns to perform certain tasks.HOW IS IT DIFFERENT FROM  \\nARTIFICIAL INTELLIGENCE?\\nWhile the two are interconnected, machine learning and artificial \\nintelligence are different. It’s easiest to think of machine learning \\nas the underlying technology of AI.  The goal of AI is to imitate \\nand mimic human behavior, and machine learning gives us the \\nmathematical tools that allow us to do that. AI can understand \\nlanguage and conduct a conversation, allowing it to continually', metadata={'source': './machine_learning_basics.pdf', 'page': 2})]"
      ]
     },
     "execution_count": 11,
     "metadata": {},
     "output_type": "execute_result"
    }
   ],
   "source": [
    "chunks[0:5]"
   ]
  },
  {
   "cell_type": "markdown",
   "id": "d5865b26-7b77-4397-98a1-8d467c0d8003",
   "metadata": {},
   "source": [
    "# Initializations"
   ]
  },
  {
   "cell_type": "markdown",
   "id": "60888acb-c7fe-4668-80dc-873c5509e225",
   "metadata": {},
   "source": [
    "### Prompt Template for Question Answering"
   ]
  },
  {
   "cell_type": "code",
   "execution_count": 12,
   "id": "a707c248-ecff-4af3-b496-247cc79d88c1",
   "metadata": {},
   "outputs": [],
   "source": [
    "qa_template = \"\"\"You are an assistant for question-answering tasks. \n",
    "    Use the following pieces of retrieved context to answer the question. \n",
    "    If you don't know the answer, just say that you don't know. \n",
    "    Use three sentences maximum and keep the answer concise.\n",
    "    Question: {question} \n",
    "    Context: {context} \n",
    "    Answer:\n",
    "    \"\"\"\n",
    "qa_prompt = ChatPromptTemplate.from_template(qa_template)"
   ]
  },
  {
   "cell_type": "markdown",
   "id": "8b593bb2-c581-4b63-b3e1-10dd47e0dc61",
   "metadata": {},
   "source": [
    "### Prompt Template for LLM QA Self Eval"
   ]
  },
  {
   "cell_type": "code",
   "execution_count": 76,
   "id": "dfc26009-aa63-4b68-b7f0-0c9e1a4a6d15",
   "metadata": {},
   "outputs": [],
   "source": [
    "class gradeEnum(str,Enum):\n",
    "        correct = \"correct\"\n",
    "        incorrect = \"incorrect\"\n",
    "        \n",
    "class LLMEvalResult(BaseModel):\n",
    "    grade: gradeEnum = Field(description=\"Final grade label. Accepted labels : Correct, Incorrect\")\n",
    "    description: str = Field(description=\"Explanation of why the specific grade was assigned. Must be concise. Not more than 2 sentences\")\n",
    "\n",
    "json_parser = JsonOutputParser(pydantic_object=LLMEvalResult)\n",
    "\n",
    "qa_eval_prompt_text = \"\"\"\n",
    "You are a teacher evaluating a test. \n",
    "You are provided with a question along with an answer for the question written by a student. Evaluate the question-answer pair and provide feedback.\n",
    "{format_instructions}\n",
    "Question : {question}\n",
    "Answer : {answer}\n",
    "\"\"\"\n",
    "\n",
    "qa_eval_prompt = PromptTemplate(\n",
    "    template=qa_eval_prompt_text,\n",
    "    input_variables=[\"question\",\"answer\"],\n",
    "    partial_variables={\"format_instructions\": json_parser.get_format_instructions()},\n",
    ")\n",
    "\n",
    "qa_eval_prompt_with_context_text = \"\"\"\n",
    "You are a teacher evaluating a test. \n",
    "You are provided with a question along with an answer for the question written by a student. Evaluate the question-answer pair using the provided context and provide feedback. Only mark the answer as correct if it agress with the provided context\n",
    "\n",
    "{format_instructions}\n",
    "Context : {context}\n",
    "Question : {question}\n",
    "Answer : {answer}\n",
    "\"\"\"\n",
    "\n",
    "qa_eval_prompt_with_context = PromptTemplate(\n",
    "    template=qa_eval_prompt_text,\n",
    "    input_variables=[\"question\",\"answer\",\"context\"],\n",
    "    partial_variables={\"format_instructions\": json_parser.get_format_instructions()},\n",
    ")"
   ]
  },
  {
   "cell_type": "markdown",
   "id": "95bf8b8a-574c-4a8e-ba34-c616596558fe",
   "metadata": {},
   "source": [
    "### LLM Initializations"
   ]
  },
  {
   "cell_type": "code",
   "execution_count": 13,
   "id": "8f800b54-0824-49fe-b007-0259df1d143c",
   "metadata": {},
   "outputs": [],
   "source": [
    "# LLM for answering questions\n",
    "llm = ChatOpenAI(model_name=\"gpt-3.5-turbo\", temperature=0)\n",
    "\n",
    "# LLM for evaluating Q-A pairs\n",
    "llm_selfeval = ChatOpenAI(model_name=\"gpt-3.5-turbo\", temperature=0)"
   ]
  },
  {
   "cell_type": "markdown",
   "id": "bcad8da7-da2f-478c-831b-a0c465c83a7e",
   "metadata": {},
   "source": [
    "### Database Intialization"
   ]
  },
  {
   "cell_type": "code",
   "execution_count": 14,
   "id": "605d1ec5-52b8-4332-8394-2bea032dbe0b",
   "metadata": {},
   "outputs": [],
   "source": [
    "store = FAISS.from_documents(chunks, OpenAIEmbeddings(), distance_strategy=DistanceStrategy.COSINE)\n",
    "retriever = store.as_retriever(search_kwargs={\"k\": 3})"
   ]
  },
  {
   "cell_type": "markdown",
   "id": "b0c29218-ed4e-4c6a-8e19-6e26667ee0e8",
   "metadata": {},
   "source": [
    "### Util Functions"
   ]
  },
  {
   "cell_type": "code",
   "execution_count": 19,
   "id": "2bc13aaa-644c-4b2a-9575-3111e44b37cc",
   "metadata": {},
   "outputs": [],
   "source": [
    "def format_docs(docs):\n",
    "    return \"\\n\\n ------------\".join(doc.page_content for doc in docs)\n",
    "\n",
    "def retrieve_answer(output):\n",
    "    return output.content"
   ]
  },
  {
   "cell_type": "markdown",
   "id": "62659f4b-57ac-429d-8091-97d44128ac6d",
   "metadata": {},
   "source": [
    "# RAG Chain Development"
   ]
  },
  {
   "cell_type": "markdown",
   "id": "1242b894-f4bc-42ec-853d-8da2ecb0bf79",
   "metadata": {},
   "source": [
    "### Simple RAG for Question Answering"
   ]
  },
  {
   "cell_type": "code",
   "execution_count": 71,
   "id": "0ccc2d8d-2f7e-4c07-ae48-3bb6aea8e10f",
   "metadata": {},
   "outputs": [],
   "source": [
    "rag_chain = ( \n",
    "            RunnableParallel(context = retriever | format_docs, question = RunnablePassthrough() ) |\n",
    "            qa_prompt | \n",
    "            llm \n",
    ")\n",
    "            \n"
   ]
  },
  {
   "cell_type": "code",
   "execution_count": 72,
   "id": "dcc72775-fb4d-429c-b713-f4a1790abd69",
   "metadata": {},
   "outputs": [
    {
     "data": {
      "text/plain": [
       "AIMessage(content='Support Vector Machines (SVMs) were invented in 1992.', response_metadata={'finish_reason': 'stop', 'logprobs': None})"
      ]
     },
     "execution_count": 72,
     "metadata": {},
     "output_type": "execute_result"
    }
   ],
   "source": [
    "rag_chain.invoke(\"When was SVM invented?\")"
   ]
  },
  {
   "cell_type": "code",
   "execution_count": 86,
   "id": "11a8569a-246d-4f16-8cf9-b0f99bf32f4a",
   "metadata": {},
   "outputs": [
    {
     "data": {
      "text/plain": [
       "AIMessage(content='Support Vector Machines (SVMs) were invented in 1992 by researchers at AT&T.', response_metadata={'finish_reason': 'stop', 'logprobs': None})"
      ]
     },
     "execution_count": 86,
     "metadata": {},
     "output_type": "execute_result"
    }
   ],
   "source": [
    "# Same RAG chain without LCEL\n",
    "question = 'When was SVM invented?'\n",
    "context = format_docs(retriever.invoke(question))\n",
    "prompt = qa_prompt.invoke({'question' : question, 'context' : context})\n",
    "answer = llm.invoke(prompt)\n",
    "\n",
    "answer"
   ]
  },
  {
   "cell_type": "markdown",
   "id": "2c5047b2-7add-4c9f-a798-bf35288779ac",
   "metadata": {},
   "source": [
    "### RAG with Self Eval I\n",
    "\n",
    "We self evaluate the RAG system by evaluating the question answer pair. In this scenario, we do not utilize the retrieved context as part of the evaluation. "
   ]
  },
  {
   "cell_type": "code",
   "execution_count": 74,
   "id": "993d9b10-60e9-47d5-9d57-04271e59f4e0",
   "metadata": {},
   "outputs": [],
   "source": [
    "rag_chain = ( \n",
    "            RunnableParallel(context = retriever | format_docs, question = RunnablePassthrough() ) |\n",
    "            RunnableParallel(answer= qa_prompt | llm | retrieve_answer, question = itemgetter(\"question\") ) |\n",
    "            qa_eval_prompt | \n",
    "            llm_selfeval |\n",
    "            json_parser\n",
    "            )\n"
   ]
  },
  {
   "cell_type": "code",
   "execution_count": 75,
   "id": "d121906c-eaf7-4d34-9420-29f7e1c56f76",
   "metadata": {},
   "outputs": [
    {
     "data": {
      "text/plain": [
       "{'grade': 'Correct',\n",
       " 'description': 'The answer correctly states that Support Vector Machines (SVMs) were invented in 1992.'}"
      ]
     },
     "execution_count": 75,
     "metadata": {},
     "output_type": "execute_result"
    }
   ],
   "source": [
    "rag_chain.invoke(\"When was SVM invented?\")"
   ]
  },
  {
   "cell_type": "markdown",
   "id": "7e42eed4-f301-4e84-85bf-b59e551fd237",
   "metadata": {},
   "source": [
    "### RAG with Self Eval II\n",
    "\n",
    "Similar to above scenario with the only difference being the addition of the context to the evaluation process. Instead of qa_eval_prompt, we now use the qa_eval_prompt_with_context prompt."
   ]
  },
  {
   "cell_type": "code",
   "execution_count": 77,
   "id": "f4ae484e-bf73-4f3b-a2d3-f0278d1849f2",
   "metadata": {},
   "outputs": [],
   "source": [
    "rag_chain = ( \n",
    "            RunnableParallel(context = retriever | format_docs, question = RunnablePassthrough() ) |\n",
    "            RunnableParallel(answer= qa_prompt | llm | retrieve_answer, question = itemgetter(\"question\"), context = itemgetter(\"context\") ) |\n",
    "            qa_eval_prompt_with_context | \n",
    "            llm_selfeval |\n",
    "            json_parser\n",
    "            )\n"
   ]
  },
  {
   "cell_type": "code",
   "execution_count": 78,
   "id": "020163dc-0fbc-4a80-a497-569394f822a6",
   "metadata": {},
   "outputs": [
    {
     "data": {
      "text/plain": [
       "{'grade': 'Correct',\n",
       " 'description': 'The answer correctly states that Support Vector Machines (SVMs) were invented in 1992.'}"
      ]
     },
     "execution_count": 78,
     "metadata": {},
     "output_type": "execute_result"
    }
   ],
   "source": [
    "rag_chain.invoke(\"When was SVM invented?\")"
   ]
  },
  {
   "cell_type": "code",
   "execution_count": null,
   "id": "31a7b4ba-1b34-4b51-88de-6848815c4182",
   "metadata": {},
   "outputs": [],
   "source": []
  },
  {
   "cell_type": "markdown",
   "id": "e6443b01-4ad6-4096-aba7-e9f0686ce188",
   "metadata": {},
   "source": [
    "# Extracting Intermediate outputs\n",
    "\n",
    "One common issue with chain structures is the difficulty to retrieve intermediate outputs to help debug the chain's functioning. In this section, we look at some of the ways to retrieve intermediate outputs"
   ]
  },
  {
   "cell_type": "markdown",
   "id": "14810f91-e0e9-4b53-9e07-7da656d34b46",
   "metadata": {},
   "source": [
    "### Using RunnableParallel to carry forward intermediate outputs"
   ]
  },
  {
   "cell_type": "code",
   "execution_count": 92,
   "id": "0a88c193-06fc-4dfc-b768-f5c936f67528",
   "metadata": {},
   "outputs": [],
   "source": [
    "rag_chain = ( \n",
    "            RunnableParallel(context = retriever | format_docs, question = RunnablePassthrough() ) |\n",
    "            RunnableParallel(answer= qa_prompt | llm | retrieve_answer, question = itemgetter(\"question\"), context = itemgetter(\"context\") ) |\n",
    "            RunnableParallel(input =  qa_eval_prompt, context = itemgetter(\"context\")) |\n",
    "            RunnableParallel(input = itemgetter(\"input\") | llm_selfeval , context = itemgetter(\"context\") ) | \n",
    "            RunnableParallel(input = itemgetter(\"input\") | json_parser,  context = itemgetter(\"context\") )\n",
    "            )\n"
   ]
  },
  {
   "cell_type": "code",
   "execution_count": 93,
   "id": "0e4fa8df-ae6c-44e5-9609-439acf091ccc",
   "metadata": {},
   "outputs": [
    {
     "data": {
      "text/plain": [
       "{'input': {'grade': 'Correct',\n",
       "  'description': 'The answer correctly states that Support Vector Machines (SVMs) were invented in 1992 by researchers at AT&T.'},\n",
       " 'context': 'learning approach called Hidden Markov Models (HMMs). This \\nsaved billions of dollars in operating costs by spotting things like \\ncollect calls.\\nSUPPORT VECTOR MACHINES  1992\\nResearchers at AT&T invented Support Vector Machines (SVMs) \\nin 1992, a technique that revolutionized large scale classification \\nbecause of its predictable performance.\\n5\\n\\n ------------CONVOLUTIONAL NEURAL NETWORK  1996\\nPatrick Haffner (Lead Inventive Scientist at Interactions) and \\nresearchers from AT&T proposed the first convolutional neural \\nnetwork (CNN) in 1996, with a large scale application to check \\nrecognition. The influence of this technology was not appreciated \\nuntil 10 years later when it became rebranded as deep learning, and \\nmachine learning researchers began to focus on another technique \\ndeveloped by the same group at AT&T: Support Vector Machines.\\n\\n ------------Voice Response (IVR) systems in 2001, combining 3 of its machine \\nlearning technologies: SVMs, HMMs, and Adaboost.\\nDEEP LEARNING  2006\\nThe concept of deep learning was successfully promoted, \\nincreasing the power and accuracy of neural networks.\\nDEEP NEURAL NETWORKS  2011\\nA group of researchers began to work on deep neural networks \\n(DNNs) in 2011 and new algorithms were discovered that \\nmade it possible to train a model on millions of examples,'}"
      ]
     },
     "execution_count": 93,
     "metadata": {},
     "output_type": "execute_result"
    }
   ],
   "source": [
    "rag_chain.invoke(\"When was SVM invented?\")"
   ]
  },
  {
   "cell_type": "code",
   "execution_count": 90,
   "id": "5747e554-f15b-4222-bf1b-051c0e8b13fc",
   "metadata": {},
   "outputs": [],
   "source": [
    "# Variation \n",
    "rag_chain = ( \n",
    "            RunnableParallel(context = retriever | format_docs, question = RunnablePassthrough() ) |\n",
    "            RunnableParallel(answer= qa_prompt | llm | retrieve_answer, question = itemgetter(\"question\"), context = itemgetter(\"context\") ) |\n",
    "            RunnableParallel(input =  qa_eval_prompt | llm_selfeval | json_parser, context = itemgetter(\"context\"))\n",
    "            )"
   ]
  },
  {
   "cell_type": "code",
   "execution_count": 91,
   "id": "410d4ff9-cbaf-4076-9158-bc0850a27d41",
   "metadata": {},
   "outputs": [
    {
     "data": {
      "text/plain": [
       "{'input': {'grade': 'Correct',\n",
       "  'description': 'The answer correctly states that Support Vector Machines (SVMs) were invented in 1992 by researchers at AT&T.'},\n",
       " 'context': 'learning approach called Hidden Markov Models (HMMs). This \\nsaved billions of dollars in operating costs by spotting things like \\ncollect calls.\\nSUPPORT VECTOR MACHINES  1992\\nResearchers at AT&T invented Support Vector Machines (SVMs) \\nin 1992, a technique that revolutionized large scale classification \\nbecause of its predictable performance.\\n5\\n\\n ------------CONVOLUTIONAL NEURAL NETWORK  1996\\nPatrick Haffner (Lead Inventive Scientist at Interactions) and \\nresearchers from AT&T proposed the first convolutional neural \\nnetwork (CNN) in 1996, with a large scale application to check \\nrecognition. The influence of this technology was not appreciated \\nuntil 10 years later when it became rebranded as deep learning, and \\nmachine learning researchers began to focus on another technique \\ndeveloped by the same group at AT&T: Support Vector Machines.\\n\\n ------------Voice Response (IVR) systems in 2001, combining 3 of its machine \\nlearning technologies: SVMs, HMMs, and Adaboost.\\nDEEP LEARNING  2006\\nThe concept of deep learning was successfully promoted, \\nincreasing the power and accuracy of neural networks.\\nDEEP NEURAL NETWORKS  2011\\nA group of researchers began to work on deep neural networks \\n(DNNs) in 2011 and new algorithms were discovered that \\nmade it possible to train a model on millions of examples,'}"
      ]
     },
     "execution_count": 91,
     "metadata": {},
     "output_type": "execute_result"
    }
   ],
   "source": [
    "rag_chain.invoke(\"When was SVM invented?\")"
   ]
  },
  {
   "cell_type": "markdown",
   "id": "a0c9b43e-cd2c-4f48-abd9-6aee5facefc9",
   "metadata": {},
   "source": [
    "### Using Global variables to store intermediate steps"
   ]
  },
  {
   "cell_type": "code",
   "execution_count": 94,
   "id": "0b3cbe82-83e0-4712-a9e3-29efedd2be99",
   "metadata": {},
   "outputs": [],
   "source": [
    "global context\n",
    "\n",
    "def save_context(x):\n",
    "    global context\n",
    "    context = x\n",
    "    return x"
   ]
  },
  {
   "cell_type": "code",
   "execution_count": 95,
   "id": "5dca6ebd-4bd8-4cda-88c7-cc6cb9f3800a",
   "metadata": {},
   "outputs": [],
   "source": [
    "rag_chain = ( \n",
    "            RunnableParallel(context = retriever | format_docs | save_context, question = RunnablePassthrough() ) |\n",
    "            RunnableParallel(answer= qa_prompt | llm | retrieve_answer, question = itemgetter(\"question\") ) |\n",
    "            qa_eval_prompt | \n",
    "            llm_selfeval |\n",
    "            json_parser\n",
    "            )\n"
   ]
  },
  {
   "cell_type": "code",
   "execution_count": 96,
   "id": "7f50a1f4-fda0-472d-9308-27925524d57d",
   "metadata": {},
   "outputs": [
    {
     "data": {
      "text/plain": [
       "{'grade': 'Correct',\n",
       " 'description': 'The answer correctly states that Support Vector Machines (SVMs) were invented in 1992 by researchers at AT&T.'}"
      ]
     },
     "execution_count": 96,
     "metadata": {},
     "output_type": "execute_result"
    }
   ],
   "source": [
    "rag_chain.invoke(\"When was SVM invented?\")"
   ]
  },
  {
   "cell_type": "code",
   "execution_count": 97,
   "id": "19a18c7e-4d77-4e37-aa23-189f88c097be",
   "metadata": {},
   "outputs": [
    {
     "data": {
      "text/plain": [
       "'learning approach called Hidden Markov Models (HMMs). This \\nsaved billions of dollars in operating costs by spotting things like \\ncollect calls.\\nSUPPORT VECTOR MACHINES  1992\\nResearchers at AT&T invented Support Vector Machines (SVMs) \\nin 1992, a technique that revolutionized large scale classification \\nbecause of its predictable performance.\\n5\\n\\n ------------CONVOLUTIONAL NEURAL NETWORK  1996\\nPatrick Haffner (Lead Inventive Scientist at Interactions) and \\nresearchers from AT&T proposed the first convolutional neural \\nnetwork (CNN) in 1996, with a large scale application to check \\nrecognition. The influence of this technology was not appreciated \\nuntil 10 years later when it became rebranded as deep learning, and \\nmachine learning researchers began to focus on another technique \\ndeveloped by the same group at AT&T: Support Vector Machines.\\n\\n ------------Voice Response (IVR) systems in 2001, combining 3 of its machine \\nlearning technologies: SVMs, HMMs, and Adaboost.\\nDEEP LEARNING  2006\\nThe concept of deep learning was successfully promoted, \\nincreasing the power and accuracy of neural networks.\\nDEEP NEURAL NETWORKS  2011\\nA group of researchers began to work on deep neural networks \\n(DNNs) in 2011 and new algorithms were discovered that \\nmade it possible to train a model on millions of examples,'"
      ]
     },
     "execution_count": 97,
     "metadata": {},
     "output_type": "execute_result"
    }
   ],
   "source": [
    "context"
   ]
  },
  {
   "cell_type": "markdown",
   "id": "39f1d402-5bf6-4ab8-9666-115effe77bbd",
   "metadata": {},
   "source": [
    "# Extending the Chain\n",
    "\n",
    "The above self evaluation chain can be extended further to include even the data ingestion steps to form one large chain. This step is **not recommended** in general as we dont want to repeat the data read and splitting operations every single time we query the RAG for a new question. \n",
    "\n",
    "However, in certain scenarios, where the RAG output involves a one time evaluation of a single PDF, then it would make sense to include the data ingestion steps as part of the chain"
   ]
  },
  {
   "cell_type": "code",
   "execution_count": 69,
   "id": "415f91a2-123b-4a9e-ae2b-4d4800b0344d",
   "metadata": {},
   "outputs": [],
   "source": [
    "\n"
   ]
  },
  {
   "cell_type": "code",
   "execution_count": null,
   "id": "0fed8c89-65fb-42f3-b1d5-65aafb01020d",
   "metadata": {},
   "outputs": [],
   "source": []
  },
  {
   "cell_type": "code",
   "execution_count": null,
   "id": "8857b6e7-952a-46a6-b603-e303522f56c8",
   "metadata": {},
   "outputs": [],
   "source": []
  }
 ],
 "metadata": {
  "kernelspec": {
   "display_name": "Python 3 (ipykernel)",
   "language": "python",
   "name": "python3"
  },
  "language_info": {
   "codemirror_mode": {
    "name": "ipython",
    "version": 3
   },
   "file_extension": ".py",
   "mimetype": "text/x-python",
   "name": "python",
   "nbconvert_exporter": "python",
   "pygments_lexer": "ipython3",
   "version": "3.11.8"
  }
 },
 "nbformat": 4,
 "nbformat_minor": 5
}

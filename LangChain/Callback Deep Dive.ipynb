{
 "cells": [
  {
   "cell_type": "code",
   "execution_count": 92,
   "id": "148c69ad-0134-4f0e-8e10-9ed1bf9cb0c9",
   "metadata": {},
   "outputs": [],
   "source": [
    "import pandas as pd\n",
    "import numpy as np\n",
    "import os\n",
    "from io import StringIO \n",
    "import json\n",
    "from collections import Counter\n",
    "\n",
    "\n",
    "from enum import Enum\n",
    "\n",
    "from langchain.document_loaders import HuggingFaceDatasetLoader\n",
    "from langchain.text_splitter import RecursiveCharacterTextSplitter\n",
    "from langchain_experimental.text_splitter import SemanticChunker\n",
    "from langchain.embeddings import HuggingFaceEmbeddings\n",
    "from langchain_core.output_parsers import JsonOutputParser\n",
    "from transformers import AutoTokenizer, AutoModelForQuestionAnswering\n",
    "from transformers import AutoTokenizer, pipeline\n",
    "from langchain import HuggingFacePipeline\n",
    "from langchain.chains import RetrievalQA\n",
    "from langchain_community.document_loaders import PyPDFLoader\n",
    "from langchain_community.vectorstores import FAISS, Chroma\n",
    "from langchain_openai import OpenAIEmbeddings, ChatOpenAI\n",
    "from langchain_core.runnables import RunnablePassthrough, RunnableLambda, RunnableSequence\n",
    "from langchain_core.pydantic_v1 import BaseModel, Field\n",
    "from langchain.prompts import ChatPromptTemplate, PromptTemplate\n",
    "from langchain_community.vectorstores.faiss import DistanceStrategy\n",
    "from langchain_pinecone import PineconeVectorStore\n",
    "from time import perf_counter, process_time\n",
    "from typing import TYPE_CHECKING, Any, Dict, Optional, List\n",
    "from langchain_core.callbacks import StdOutCallbackHandler, BaseCallbackHandler\n",
    "\n",
    "%reload_ext autoreload\n",
    "%autoreload 2\n",
    "\n",
    "from openai import OpenAI\n"
   ]
  },
  {
   "cell_type": "code",
   "execution_count": 87,
   "id": "25556b16-3161-41c7-8181-af4acf654388",
   "metadata": {},
   "outputs": [],
   "source": [
    "# MODEL = 'gpt-3.5-turbo-0301'\n",
    "# BASE_FOLDER = \"./test_data\"\n",
    "# QUESTION_FILE =  \"document_questions.xlsx\"\n",
    "# RAW_DATA_FOLDER = \"raw_text\"\n",
    "\n",
    "# client = OpenAI(api_key=os.environ.get(\"OPENAI_API_KEY\"))"
   ]
  },
  {
   "cell_type": "code",
   "execution_count": 21,
   "id": "a2a1db58-d199-4199-8ae3-91b02eb94d7b",
   "metadata": {},
   "outputs": [],
   "source": [
    "loader = PyPDFLoader('machine_learning_basics.pdf')\n",
    "docs = loader.load()\n",
    "\n",
    "text_splitter = RecursiveCharacterTextSplitter(chunk_size=1000, chunk_overlap=100)\n",
    "splits = text_splitter.split_documents(docs)\n",
    "\n",
    "store = FAISS.from_documents(docs, OpenAIEmbeddings(), distance_strategy=DistanceStrategy.COSINE)\n"
   ]
  },
  {
   "cell_type": "code",
   "execution_count": 36,
   "id": "e767603d-9372-4052-b29a-09cd0d649792",
   "metadata": {},
   "outputs": [],
   "source": [
    "def getChainBreakdown(serialized_input):\n",
    "\n",
    "    if isinstance(serialized_input, list):\n",
    "        x = serialized_input[0]\n",
    "    else:\n",
    "        x = serialized_input\n",
    "\n",
    "\n",
    "    if x['type'] == 'not_implemented':\n",
    "        # Custom object\n",
    "        name = x['repr']\n",
    "        id = x['id']\n",
    "    \n",
    "        print(f\"name: {name}\")\n",
    "        print(f\"id: {id}\")\n",
    "\n",
    "    else:\n",
    "    \n",
    "        try:\n",
    "            name = x['name']\n",
    "        except:\n",
    "            name = x['repr']\n",
    "        \n",
    "        seq_type = x['type']\n",
    "        id = x['id']\n",
    "        kwargs_keys = x['kwargs'].keys()\n",
    "        \n",
    "        print(f\"name: {name}\")\n",
    "        print(f\"type: {seq_type}\")\n",
    "        print(f\"id: {id}\")\n",
    "        print(f\"kwargs_keys: {kwargs_keys}\")"
   ]
  },
  {
   "cell_type": "markdown",
   "id": "c7bdcde6-9931-4dde-ac79-7ec089b0e9c4",
   "metadata": {},
   "source": [
    "# Callback Testing"
   ]
  },
  {
   "cell_type": "markdown",
   "id": "97aec58f-b4e9-4847-868b-537dd7ad3fd1",
   "metadata": {},
   "source": [
    "## Chain 1"
   ]
  },
  {
   "cell_type": "code",
   "execution_count": 8,
   "id": "8118d86c-81b9-493a-be74-dc9884fb865b",
   "metadata": {},
   "outputs": [],
   "source": [
    "qa_template1 = \"\"\"You are an assistant that helps answer questions. \n",
    "    Question: {question} \n",
    "    Answer:\n",
    "    \"\"\"\n",
    "qa_prompt1 = ChatPromptTemplate.from_template(qa_template1)\n",
    "\n",
    "qa_template2 = \"\"\"The prompt is : {prompt}\n",
    "    \"\"\"\n",
    "qa_prompt2 = ChatPromptTemplate.from_template(qa_template2)\n",
    "\n",
    "\n",
    "\n",
    "def retrieve_text(x):\n",
    "    return {'prompt': x.messages[0].content}\n",
    "\n",
    "rag_chain =  qa_prompt1 | RunnableLambda( retrieve_text) | qa_prompt2\n"
   ]
  },
  {
   "cell_type": "code",
   "execution_count": 11,
   "id": "2b2b4b05-257b-4043-aefd-ac5ba74c4e7f",
   "metadata": {},
   "outputs": [],
   "source": [
    "class CustomCallback1(BaseCallbackHandler):\n",
    "\n",
    "    def __init__(self):\n",
    "        self.serialized_input = []\n",
    "        self.chain_input = []\n",
    "    \n",
    "\n",
    "    def on_chain_start(\n",
    "        self, serialized: Dict[str, Any], inputs: Dict[str, Any], **kwargs: Any\n",
    "    ) -> None:\n",
    "        self.serialized_input.append(serialized)\n",
    "        self.chain_input.append(inputs)\n"
   ]
  },
  {
   "cell_type": "code",
   "execution_count": 13,
   "id": "7a0da4f0-9160-4cf9-a6f2-04ea2f1c3dfa",
   "metadata": {
    "scrolled": true
   },
   "outputs": [
    {
     "data": {
      "text/plain": [
       "ChatPromptValue(messages=[HumanMessage(content='The prompt is : You are an assistant that helps answer questions. \\n    Question: What is meant by computational finance? \\n    Answer:\\n    \\n    ')])"
      ]
     },
     "execution_count": 13,
     "metadata": {},
     "output_type": "execute_result"
    }
   ],
   "source": [
    "handler = CustomCallback1()\n",
    "rag_chain.invoke({\"question\":\"What is meant by computational finance?\"}, {\"callbacks\":[handler]})"
   ]
  },
  {
   "cell_type": "code",
   "execution_count": 18,
   "id": "110e6258-9efc-4f53-95e0-3eeef82b975d",
   "metadata": {},
   "outputs": [
    {
     "name": "stdout",
     "output_type": "stream",
     "text": [
      "{'question': 'What is meant by computational finance?'}\n",
      "{'question': 'What is meant by computational finance?'}\n",
      "messages=[HumanMessage(content='You are an assistant that helps answer questions. \\n    Question: What is meant by computational finance? \\n    Answer:\\n    ')]\n",
      "{'prompt': 'You are an assistant that helps answer questions. \\n    Question: What is meant by computational finance? \\n    Answer:\\n    '}\n"
     ]
    }
   ],
   "source": [
    "for x in handler.chain_input:\n",
    "    print(x)"
   ]
  },
  {
   "cell_type": "code",
   "execution_count": 17,
   "id": "a8f0a323-5671-4c70-9db7-08f11e0a2f60",
   "metadata": {},
   "outputs": [
    {
     "name": "stdout",
     "output_type": "stream",
     "text": [
      "Name :  RunnableSequence \n",
      "ID : ['langchain', 'schema', 'runnable', 'RunnableSequence']\n",
      "**********\n",
      "Name :  ChatPromptTemplate \n",
      "ID : ['langchain', 'prompts', 'chat', 'ChatPromptTemplate']\n",
      "**********\n",
      "Name :  RunnableLambda(retrieve_text) \n",
      "ID : ['langchain_core', 'runnables', 'base', 'RunnableLambda']\n",
      "**********\n",
      "Name :  ChatPromptTemplate \n",
      "ID : ['langchain', 'prompts', 'chat', 'ChatPromptTemplate']\n",
      "**********\n"
     ]
    }
   ],
   "source": [
    "for x in handler.serialized_input:\n",
    "\n",
    "    try:\n",
    "        print(f\"Name :  {x['name']} \")\n",
    "    except:\n",
    "        print(f\"Name :  {x['repr']} \")\n",
    "\n",
    "    print(f\"ID : {x['id']}\")\n",
    "    print(\"*\"*10)\n",
    "    \n",
    "    "
   ]
  },
  {
   "cell_type": "code",
   "execution_count": 154,
   "id": "b877ace5-1be0-4f16-b428-66cde45b7dda",
   "metadata": {},
   "outputs": [
    {
     "name": "stdout",
     "output_type": "stream",
     "text": [
      "name: RunnableSequence\n",
      "type: constructor\n",
      "id: ['langchain', 'schema', 'runnable', 'RunnableSequence']\n",
      "kwargs_keys: dict_keys(['first', 'middle', 'last', 'name'])\n"
     ]
    }
   ],
   "source": [
    "getChainBreakdown(handler.serialized_input[0])"
   ]
  },
  {
   "cell_type": "code",
   "execution_count": 155,
   "id": "93b2de21-b53a-4f13-98ee-67f1fb20a0af",
   "metadata": {},
   "outputs": [
    {
     "name": "stdout",
     "output_type": "stream",
     "text": [
      "name: ChatPromptTemplate\n",
      "type: constructor\n",
      "id: ['langchain', 'prompts', 'chat', 'ChatPromptTemplate']\n",
      "kwargs_keys: dict_keys(['input_variables', 'messages', 'partial_variables'])\n"
     ]
    }
   ],
   "source": [
    "getChainBreakdown(handler.serialized_input[1])"
   ]
  },
  {
   "cell_type": "code",
   "execution_count": 22,
   "id": "c224261f-9392-47e2-a11e-d890b899c882",
   "metadata": {},
   "outputs": [
    {
     "name": "stdout",
     "output_type": "stream",
     "text": [
      "name: RunnableLambda(retrieve_text)\n",
      "id: ['langchain_core', 'runnables', 'base', 'RunnableLambda']\n"
     ]
    }
   ],
   "source": [
    "getChainBreakdown(handler.serialized_input[2])"
   ]
  },
  {
   "cell_type": "code",
   "execution_count": 158,
   "id": "0e1cab46-3806-486c-ac74-dd5a3eaffd9e",
   "metadata": {},
   "outputs": [
    {
     "name": "stdout",
     "output_type": "stream",
     "text": [
      "name: ChatPromptTemplate\n",
      "type: constructor\n",
      "id: ['langchain', 'prompts', 'chat', 'ChatPromptTemplate']\n",
      "kwargs_keys: dict_keys(['input_variables', 'messages', 'partial_variables'])\n"
     ]
    }
   ],
   "source": [
    "getChainBreakdown(handler.serialized_input[3])"
   ]
  },
  {
   "cell_type": "code",
   "execution_count": 160,
   "id": "0b10cbc9-8241-47e2-b028-df21d0ef460a",
   "metadata": {},
   "outputs": [
    {
     "name": "stdout",
     "output_type": "stream",
     "text": [
      "name: ChatPromptTemplate\n",
      "type: constructor\n",
      "id: ['langchain', 'prompts', 'chat', 'ChatPromptTemplate']\n",
      "kwargs_keys: dict_keys(['input_variables', 'messages', 'partial_variables'])\n"
     ]
    }
   ],
   "source": [
    "getChainBreakdown(handler.serialized_input[0]['kwargs']['first'])"
   ]
  },
  {
   "cell_type": "code",
   "execution_count": 27,
   "id": "15e963f3-98b9-476d-929f-c10f9246f997",
   "metadata": {},
   "outputs": [
    {
     "name": "stdout",
     "output_type": "stream",
     "text": [
      "name: RunnableLambda(retrieve_text)\n",
      "id: ['langchain_core', 'runnables', 'base', 'RunnableLambda']\n"
     ]
    }
   ],
   "source": [
    "getChainBreakdown(handler.serialized_input[0]['kwargs']['middle'])"
   ]
  },
  {
   "cell_type": "code",
   "execution_count": 163,
   "id": "ef8e5ef7-67b3-43d1-9f57-365cfdd4f135",
   "metadata": {},
   "outputs": [
    {
     "name": "stdout",
     "output_type": "stream",
     "text": [
      "name: ChatPromptTemplate\n",
      "type: constructor\n",
      "id: ['langchain', 'prompts', 'chat', 'ChatPromptTemplate']\n",
      "kwargs_keys: dict_keys(['input_variables', 'messages', 'partial_variables'])\n"
     ]
    }
   ],
   "source": [
    "getChainBreakdown(handler.serialized_input[0]['kwargs']['last'])"
   ]
  },
  {
   "cell_type": "markdown",
   "id": "b0e6a969-efd5-4947-8381-ce7a9f5caf9c",
   "metadata": {},
   "source": [
    "## Chain 2"
   ]
  },
  {
   "cell_type": "code",
   "execution_count": 28,
   "id": "b021474b-9102-4c21-9986-46c034fa6157",
   "metadata": {},
   "outputs": [],
   "source": [
    "qa_template = \"\"\"\n",
    "    Question: {question} \n",
    "    Answer:\n",
    "    \"\"\"\n",
    "qa_prompt = ChatPromptTemplate.from_template(qa_template)\n",
    "\n",
    "qa_template2 = \"\"\"You are an assistant that helps answer questions. \n",
    "    {prompt}\n",
    "    \"\"\"\n",
    "qa_prompt2 = ChatPromptTemplate.from_template(qa_template2)\n",
    "\n",
    "llm = ChatOpenAI(temperature = 0)\n",
    "\n",
    "def retrieve_text(x):\n",
    "    return {'prompt': x.messages[0].content}\n",
    "\n",
    "rag_chain =  qa_prompt | RunnableLambda( retrieve_text) | qa_prompt2 | llm\n"
   ]
  },
  {
   "cell_type": "code",
   "execution_count": 29,
   "id": "5045b37d-4a57-4979-9fd3-943e85e4e324",
   "metadata": {},
   "outputs": [],
   "source": [
    "class CustomCallback2(BaseCallbackHandler):\n",
    "\n",
    "    def __init__(self):\n",
    "        self.serialized_input = []\n",
    "        self.chain_input = []\n",
    "    \n",
    "    def on_chain_start(\n",
    "        self, serialized: Dict[str, Any], inputs: Dict[str, Any], **kwargs: Any\n",
    "    ) -> None:\n",
    "        \"\"\"Print out that we are entering a chain.\"\"\"\n",
    "        self.serialized_input.append(serialized)\n",
    "        self.chain_input.append(inputs)\n",
    "        \n",
    "\n",
    "    def on_llm_start(\n",
    "        self, serialized: Dict[str, Any], prompts: List[str], **kwargs: Any\n",
    "    ) -> Any:\n",
    "        \"\"\"Run when LLM starts running.\"\"\"\n",
    "        self.serialized_input.append(serialized)\n",
    "        self.chain_input.append(prompts)"
   ]
  },
  {
   "cell_type": "code",
   "execution_count": 30,
   "id": "55b7deb5-93d1-43ce-8f6f-8d163afce724",
   "metadata": {
    "scrolled": true
   },
   "outputs": [],
   "source": [
    "handler = CustomCallback2()\n",
    "out = rag_chain.invoke({\"question\":\"What is meant by computational finance?\"}, {\"callbacks\":[handler]})"
   ]
  },
  {
   "cell_type": "code",
   "execution_count": 31,
   "id": "9263c26e-8fe0-425b-a459-f6d5630ff4c3",
   "metadata": {},
   "outputs": [
    {
     "name": "stdout",
     "output_type": "stream",
     "text": [
      "{'question': 'What is meant by computational finance?'}\n",
      "{'question': 'What is meant by computational finance?'}\n",
      "messages=[HumanMessage(content='\\n    Question: What is meant by computational finance? \\n    Answer:\\n    ')]\n",
      "{'prompt': '\\n    Question: What is meant by computational finance? \\n    Answer:\\n    '}\n",
      "['Human: You are an assistant that helps answer questions. \\n    \\n    Question: What is meant by computational finance? \\n    Answer:\\n    \\n    ']\n"
     ]
    }
   ],
   "source": [
    "for x in handler.chain_input:\n",
    "    print(x)"
   ]
  },
  {
   "cell_type": "code",
   "execution_count": 32,
   "id": "7d2bddd3-04a9-416e-85b9-dbc9841a9392",
   "metadata": {},
   "outputs": [
    {
     "name": "stdout",
     "output_type": "stream",
     "text": [
      "Name :  RunnableSequence \n",
      "ID : ['langchain', 'schema', 'runnable', 'RunnableSequence']\n",
      "**********\n",
      "Name :  ChatPromptTemplate \n",
      "ID : ['langchain', 'prompts', 'chat', 'ChatPromptTemplate']\n",
      "**********\n",
      "Name :  RunnableLambda(retrieve_text) \n",
      "ID : ['langchain_core', 'runnables', 'base', 'RunnableLambda']\n",
      "**********\n",
      "Name :  ChatPromptTemplate \n",
      "ID : ['langchain', 'prompts', 'chat', 'ChatPromptTemplate']\n",
      "**********\n",
      "Name :  ChatOpenAI \n",
      "ID : ['langchain', 'chat_models', 'openai', 'ChatOpenAI']\n",
      "**********\n"
     ]
    }
   ],
   "source": [
    "for x in handler.serialized_input:\n",
    "\n",
    "    try:\n",
    "        print(f\"Name :  {x['name']} \")\n",
    "    except:\n",
    "        print(f\"Name :  {x['repr']} \")\n",
    "\n",
    "    print(f\"ID : {x['id']}\")\n",
    "    print(\"*\"*10)\n",
    "    \n",
    "    "
   ]
  },
  {
   "cell_type": "code",
   "execution_count": 178,
   "id": "9161d4a5-fca3-4d03-b36a-9a7d33a696fa",
   "metadata": {},
   "outputs": [
    {
     "name": "stdout",
     "output_type": "stream",
     "text": [
      "name: RunnableSequence\n",
      "type: constructor\n",
      "id: ['langchain', 'schema', 'runnable', 'RunnableSequence']\n",
      "kwargs_keys: dict_keys(['first', 'middle', 'last', 'name'])\n"
     ]
    }
   ],
   "source": [
    "getChainBreakdown(handler.serialized_input[0])"
   ]
  },
  {
   "cell_type": "code",
   "execution_count": 37,
   "id": "0e91ae12-db62-4208-a4be-124b56b198fb",
   "metadata": {},
   "outputs": [
    {
     "name": "stdout",
     "output_type": "stream",
     "text": [
      "name: ChatPromptTemplate\n",
      "type: constructor\n",
      "id: ['langchain', 'prompts', 'chat', 'ChatPromptTemplate']\n",
      "kwargs_keys: dict_keys(['input_variables', 'messages', 'partial_variables'])\n"
     ]
    }
   ],
   "source": [
    "getChainBreakdown(handler.serialized_input[0]['kwargs']['first'])"
   ]
  },
  {
   "cell_type": "code",
   "execution_count": 38,
   "id": "1c7f7383-0bc1-48fa-97b5-f2abc53f88d4",
   "metadata": {},
   "outputs": [
    {
     "name": "stdout",
     "output_type": "stream",
     "text": [
      "name: RunnableLambda(retrieve_text)\n",
      "id: ['langchain_core', 'runnables', 'base', 'RunnableLambda']\n"
     ]
    }
   ],
   "source": [
    "getChainBreakdown(handler.serialized_input[0]['kwargs']['middle'])"
   ]
  },
  {
   "cell_type": "code",
   "execution_count": 39,
   "id": "44e102e2-a7bf-4281-968d-c9e2e9350b53",
   "metadata": {},
   "outputs": [
    {
     "name": "stdout",
     "output_type": "stream",
     "text": [
      "name: ChatOpenAI\n",
      "type: constructor\n",
      "id: ['langchain', 'chat_models', 'openai', 'ChatOpenAI']\n",
      "kwargs_keys: dict_keys(['temperature', 'openai_api_key'])\n"
     ]
    }
   ],
   "source": [
    "getChainBreakdown(handler.serialized_input[0]['kwargs']['last'])"
   ]
  },
  {
   "cell_type": "markdown",
   "id": "d36a5f29-8684-4d65-b263-5ab7aaa747ad",
   "metadata": {},
   "source": [
    "## Chain 3"
   ]
  },
  {
   "cell_type": "code",
   "execution_count": 55,
   "id": "109d7177-bdf0-4ca9-a29d-405ee4bf8332",
   "metadata": {},
   "outputs": [],
   "source": [
    "\n",
    "def get_data(x):\n",
    "    return \"\"\"\n",
    "    Researchers at AT&T invented Support Vector Machines (SVMs) \\nin 1992, a technique that revolutionized large scale classification \\nbecause of its predictable performance.\\n5\\n\\n\\n ------------CONVOLUTIONAL NEURAL NETWORK  1996\\nPatrick Haffner (Lead Inventive Scientist at Interactions) and \\nresearchers from AT&T proposed the first convolutional neural \\nnetwork (CNN) in 1996, with a large scale application to check \\nrecognition. The influence of this technology was not appreciated \\nuntil 10 years later when it became rebranded as deep learning, and \\nmachine learning researchers began to focus on another technique \\ndeveloped by the same group at AT&T: Support Vector Machines\n",
    "    \"\"\"\n",
    "\n",
    "qa_template = \"\"\" You are a helpful assistant that answers questions\n",
    "    Question: {question} \n",
    "    Context: {context}\n",
    "    Answer:\n",
    "    \"\"\"\n",
    "qa_prompt = ChatPromptTemplate.from_template(qa_template)\n",
    "\n",
    "rag_chain = ( {'context': get_data , 'question': RunnablePassthrough() } | qa_prompt)"
   ]
  },
  {
   "cell_type": "code",
   "execution_count": 56,
   "id": "122d7ce3-a1cb-4d95-9d31-90d66cd3a840",
   "metadata": {
    "scrolled": true
   },
   "outputs": [],
   "source": [
    "handler = CustomCallback1()\n",
    "out = rag_chain.invoke({\"question\":\"What is meant by computational finance?\"}, {\"callbacks\":[handler]})"
   ]
  },
  {
   "cell_type": "code",
   "execution_count": 57,
   "id": "127a1beb-c795-4ec0-b740-c6e2bc8a6035",
   "metadata": {
    "scrolled": true
   },
   "outputs": [
    {
     "name": "stdout",
     "output_type": "stream",
     "text": [
      "{'question': 'What is meant by computational finance?'}\n",
      "{'question': 'What is meant by computational finance?'}\n",
      "{'question': 'What is meant by computational finance?'}\n",
      "{'question': 'What is meant by computational finance?'}\n",
      "{'context': '\\n    Researchers at AT&T invented Support Vector Machines (SVMs) \\nin 1992, a technique that revolutionized large scale classification \\nbecause of its predictable performance.\\n5\\n\\n\\n ------------CONVOLUTIONAL NEURAL NETWORK  1996\\nPatrick Haffner (Lead Inventive Scientist at Interactions) and \\nresearchers from AT&T proposed the first convolutional neural \\nnetwork (CNN) in 1996, with a large scale application to check \\nrecognition. The influence of this technology was not appreciated \\nuntil 10 years later when it became rebranded as deep learning, and \\nmachine learning researchers began to focus on another technique \\ndeveloped by the same group at AT&T: Support Vector Machines\\n    ', 'question': {'question': 'What is meant by computational finance?'}}\n"
     ]
    }
   ],
   "source": [
    "for x in handler.chain_input:\n",
    "    print(x)"
   ]
  },
  {
   "cell_type": "code",
   "execution_count": 54,
   "id": "dbe2e90a-d6b6-44ab-a0fb-886a4f40dd72",
   "metadata": {},
   "outputs": [
    {
     "name": "stdout",
     "output_type": "stream",
     "text": [
      "Name :  RunnableSequence \n",
      "ID : ['langchain', 'schema', 'runnable', 'RunnableSequence']\n",
      "**********\n",
      "Name :  RunnableParallel<context,question> \n",
      "ID : ['langchain', 'schema', 'runnable', 'RunnableParallel']\n",
      "**********\n",
      "Name :  RunnablePassthrough \n",
      "ID : ['langchain', 'schema', 'runnable', 'RunnablePassthrough']\n",
      "**********\n",
      "Name :  RunnableLambda(get_data) \n",
      "ID : ['langchain_core', 'runnables', 'base', 'RunnableLambda']\n",
      "**********\n",
      "Name :  ChatPromptTemplate \n",
      "ID : ['langchain', 'prompts', 'chat', 'ChatPromptTemplate']\n",
      "**********\n"
     ]
    }
   ],
   "source": [
    "for x in handler.serialized_input:\n",
    "    try:\n",
    "        print(f\"Name :  {x['name']} \")\n",
    "    except:\n",
    "        print(f\"Name :  {x['repr']} \")\n",
    "    print(f\"ID : {x['id']}\")\n",
    "    print(\"*\"*10)\n",
    "    \n",
    "    "
   ]
  },
  {
   "cell_type": "code",
   "execution_count": 59,
   "id": "f58ffbc8-3882-4c0a-9acb-a10fe86035f3",
   "metadata": {},
   "outputs": [
    {
     "name": "stdout",
     "output_type": "stream",
     "text": [
      "name: RunnableParallel<context,question>\n",
      "type: constructor\n",
      "id: ['langchain', 'schema', 'runnable', 'RunnableParallel']\n",
      "kwargs_keys: dict_keys(['steps'])\n"
     ]
    }
   ],
   "source": [
    "getChainBreakdown(handler.serialized_input[0]['kwargs']['first'])"
   ]
  },
  {
   "cell_type": "code",
   "execution_count": 61,
   "id": "68115b7f-6aec-4395-b463-931635c971ab",
   "metadata": {},
   "outputs": [
    {
     "name": "stdout",
     "output_type": "stream",
     "text": [
      "name: ChatPromptTemplate\n",
      "type: constructor\n",
      "id: ['langchain', 'prompts', 'chat', 'ChatPromptTemplate']\n",
      "kwargs_keys: dict_keys(['input_variables', 'messages', 'partial_variables'])\n"
     ]
    }
   ],
   "source": [
    "getChainBreakdown(handler.serialized_input[0]['kwargs']['last'])"
   ]
  },
  {
   "cell_type": "code",
   "execution_count": 62,
   "id": "18590e1b-0202-43a6-9f34-cacc2d0ab056",
   "metadata": {},
   "outputs": [
    {
     "name": "stdout",
     "output_type": "stream",
     "text": [
      "name: RunnableParallel<context,question>\n",
      "type: constructor\n",
      "id: ['langchain', 'schema', 'runnable', 'RunnableParallel']\n",
      "kwargs_keys: dict_keys(['steps'])\n"
     ]
    }
   ],
   "source": [
    "getChainBreakdown(handler.serialized_input[1])"
   ]
  },
  {
   "cell_type": "code",
   "execution_count": 64,
   "id": "6574df27-d041-4e56-ad27-2170db143859",
   "metadata": {},
   "outputs": [
    {
     "data": {
      "text/plain": [
       "{'context': {'lc': 1,\n",
       "  'type': 'not_implemented',\n",
       "  'id': ['langchain_core', 'runnables', 'base', 'RunnableLambda'],\n",
       "  'repr': 'RunnableLambda(get_data)'},\n",
       " 'question': {'lc': 1,\n",
       "  'type': 'constructor',\n",
       "  'id': ['langchain', 'schema', 'runnable', 'RunnablePassthrough'],\n",
       "  'kwargs': {'func': None, 'afunc': None, 'input_type': None},\n",
       "  'name': 'RunnablePassthrough',\n",
       "  'graph': {'nodes': [{'id': 0,\n",
       "     'type': 'schema',\n",
       "     'data': {'title': 'RunnablePassthroughInput'}},\n",
       "    {'id': 1,\n",
       "     'type': 'runnable',\n",
       "     'data': {'id': ['langchain', 'schema', 'runnable', 'RunnablePassthrough'],\n",
       "      'name': 'RunnablePassthrough'}},\n",
       "    {'id': 2,\n",
       "     'type': 'schema',\n",
       "     'data': {'title': 'RunnablePassthroughOutput'}}],\n",
       "   'edges': [{'source': 0, 'target': 1}, {'source': 1, 'target': 2}]}}}"
      ]
     },
     "execution_count": 64,
     "metadata": {},
     "output_type": "execute_result"
    }
   ],
   "source": [
    "handler.serialized_input[1]['kwargs']['steps']"
   ]
  },
  {
   "cell_type": "code",
   "execution_count": null,
   "id": "afab2d72-47bd-4515-a270-26c6e4c6ec40",
   "metadata": {},
   "outputs": [],
   "source": []
  },
  {
   "cell_type": "markdown",
   "id": "13ea7d5c-83d7-4a61-ade8-10bd9b1f3ced",
   "metadata": {},
   "source": [
    "## Chain 4\n",
    "\n",
    "Same as Chain 3, but with two custom functions for retrieving context"
   ]
  },
  {
   "cell_type": "code",
   "execution_count": 80,
   "id": "4b125288-d5f8-431c-adf0-528bb9322780",
   "metadata": {},
   "outputs": [],
   "source": [
    "def format_docs(docs):\n",
    "    return \"\\n\\n ------------\".join(doc.page_content for doc in docs)\n",
    "\n",
    "def get_data(x):\n",
    "    return docs[0:5]\n",
    "\n",
    "qa_template = \"\"\" You are a helpful assistant that answers questions\n",
    "    Question: {question} \n",
    "    Context: {context}\n",
    "    Answer:\n",
    "    \"\"\"\n",
    "qa_prompt = ChatPromptTemplate.from_template(qa_template)\n",
    "\n",
    "rag_chain = ( {'context': RunnableLambda(get_data) | format_docs , 'question': RunnablePassthrough() } | qa_prompt)"
   ]
  },
  {
   "cell_type": "code",
   "execution_count": 81,
   "id": "a0afc7b5-a3a3-43f2-a74b-219c555f9e88",
   "metadata": {
    "scrolled": true
   },
   "outputs": [],
   "source": [
    "handler = CustomCallback1()\n",
    "out = rag_chain.invoke({\"question\":\"What is meant by computational finance?\"}, {\"callbacks\":[handler]})"
   ]
  },
  {
   "cell_type": "code",
   "execution_count": 82,
   "id": "7a15ee38-1121-4218-ada4-2eb3f268574e",
   "metadata": {
    "scrolled": true
   },
   "outputs": [
    {
     "name": "stdout",
     "output_type": "stream",
     "text": [
      "{'question': 'What is meant by computational finance?'}\n",
      "{'question': 'What is meant by computational finance?'}\n",
      "{'question': 'What is meant by computational finance?'}\n",
      "{'question': 'What is meant by computational finance?'}\n",
      "[Document(page_content='THE FUNDAMENTALS  \\nOF MACHINE LEARNING', metadata={'source': 'machine_learning_basics.pdf', 'page': 0}), Document(page_content='WHAT IS MACHINE LEARNING?\\nBRIEF HISTORY OF MACHINE LEARNING\\nHOW IT WORKS\\nMACHINE LEARNING TECHNIQUES\\nTHE IMPORTANCE OF THE HUMAN ELEMENT\\nWHO’S USING IT?\\nCHALLENGES AND HESITATIONS\\nTHE FUTURE OF MACHINE LEARNING\\nCONTRIBUTORS3\\n5\\n8\\n9\\n11\\n12\\n1514\\n16TABLE OF CONTENTS\\n2\\n', metadata={'source': 'machine_learning_basics.pdf', 'page': 1}), Document(page_content='WHAT IS MACHINE LEARNING?\\nWhether we realize it or not, machine learning is something we \\nencounter on a daily basis. While the technology is not new, \\nwith the rise of artificial intelligence (AI) and the digital age, it is \\nbecoming increasingly important to understand what it is, how it \\ndiffers from AI, and the major role it will play in the future. This \\nwhitepaper will discuss all of the above, and explore different \\ntypes of machine learning, how they work, and how a majority  \\nof industries are utilizing it.\\nFirst and foremost, it’s important to understand exactly what \\nmachine learning is and how it differs from AI. In its simplest form, \\nmachine learning is a set of algorithms learned from data and/or \\nexperiences, rather than being explicitly programmed. Each task \\nrequires a different set of algorithms, and these algorithms detect \\npatterns to perform certain tasks.HOW IS IT DIFFERENT FROM  \\nARTIFICIAL INTELLIGENCE?\\nWhile the two are interconnected, machine learning and artificial \\nintelligence are different. It’s easiest to think of machine learning \\nas the underlying technology of AI.  The goal of AI is to imitate \\nand mimic human behavior, and machine learning gives us the \\nmathematical tools that allow us to do that. AI can understand \\nlanguage and conduct a conversation, allowing it to continually \\nlearn and improve itself based on experience, with the help of \\nmachine learning algorithms. So, machine learning, like humans, \\nlearns from data so that it can perform a higher-level function.\\n3\\n', metadata={'source': 'machine_learning_basics.pdf', 'page': 2}), Document(page_content='HOW DOES MACHINE LEARNING IMPACT OUR DAILY LIVES?\\nIf you asked someone on the street if they have ever heard of or utilized machine \\nlearning, their answer would probably be no. What they don’t know is that \\nthey’ve probably encountered it numerous times—just in one day.\\nWhen you ask Siri what the weather forecast is, that’s machine learning. When \\nyou Google search something at work to help you do your job better or more \\nefficiently, you can thank machine learning. Another everyday example is our \\nspam folders—a machine learning algorithm is used to determine which emails \\nare inbox-worthy, and which are spam and don’t deserve attention. Similarly, \\nwhen Netflix suggests a show you should watch based on preference, it’s getting \\nthe suggestion from an algorithm.\\nFrom TV suggestions to self-driving cars, machine learning is subtly in the \\nbackground of almost all that we do. These algorithms, and machine learning \\nas a whole, is intended to improve and radically simplify our lives. According to \\nSrinivas Bangalore, Director of Research and Technology at Interactions, “good \\nmachine learning should not be in your face. It should be behind the scenes, \\ntracking, and helping achieve goals much more quickly and efficiently.”GOOD MACHINE LEARNING \\nSHOULD NOT BE IN YOUR  \\nFACE. IT SHOULD BE BEHIND  \\nTHE SCENES, TRACKING, AND  \\nHELPING ACHIEVE GOALS  \\nMUCH MORE QUICKLY AND \\nEFFICIENTLY.\\nSrinivas Bangalore  \\n—Director of Research and Technology  \\n at Interactions\\n4\\n', metadata={'source': 'machine_learning_basics.pdf', 'page': 3}), Document(page_content='BRIEF HISTORY OF  \\nMACHINE LEARNING\\nFrom the 1950s to now, machine learning has significantly \\ndeveloped. Below is a brief history of machine learning within the \\nAI field. We show how the algorithms we described are motivated \\nby the need to solve very simple automation tasks, such as the \\nrecognition of spoken words or written digits, and how AT&T \\nshowed a strong leadership in this process.\\nTHE TURING TEST  1950\\nIn 1950, Alan Turing created the “Turing Test” to determine \\nwhether or not a computer was capable of real intelligence. In \\norder to pass the test, the computer had to be able to fool another \\nhuman into believing it was also human.\\nTHE FIRST COMPUTER PROGRAM  1952\\nArthur Samuel created the first implementation of machine \\nlearning, the game of checkers, in 1952. The computer improved \\nat the game the more it played by determining which moves \\nresulted in winning strategies, and incorporating those strategies \\ninto the game.\\nNEURAL NETWORKS FOR COMPUTERS  1957\\nFrank Rosenblatt designed the first neural network for computers \\nin 1957, which was meant to simulate the thought process of a \\nhuman brain.\\n“NEAREST NEIGHBOR” ALGORITHM  1967\\nThe “nearest neighbor” algorithm was written in 1967, allowing \\ncomputers to begin recognizing basic patterns. This could be used \\nas a mapping route for traveling salesmen.EXPLANATION BASED LEARNING  1981\\nEBL, or Explanation Based Learning, was created in 1981 by \\nGerald Dejong. This concept allowed a computer to analyze \\ntraining data and create a general rule it can follow by discarding \\nunimportant data.\\nMACHINE LEARNING RESEARCH GROUP  1985\\nResearchers from AT&T created the first research group for \\nmachine learning in 1985. They also began a series of machine \\nlearning meetings that eventually turned into NIPS, the leading \\nconference on machine learning. This group was representative \\nof the early machine learning community, breaking away from a \\ncomputer science field still mostly interested in expert systems. \\nThese theoreticians were confronted with real world problems \\nwhere machines had to replace humans in recognizing noisy \\nwritten digits: mainly check amounts and zip codes.\\nAUTOMATED SPEECH RECOGNITION  1992\\nIn 1992, Jay Wilpon (SVP of Natural Language Research at \\nInteractions) and a team of researchers at AT&T deployed the first \\nnationwide automated speech recognition (ASR) using a machine \\nlearning approach called Hidden Markov Models (HMMs). This \\nsaved billions of dollars in operating costs by spotting things like \\ncollect calls.\\nSUPPORT VECTOR MACHINES  1992\\nResearchers at AT&T invented Support Vector Machines (SVMs) \\nin 1992, a technique that revolutionized large scale classification \\nbecause of its predictable performance.\\n5\\n', metadata={'source': 'machine_learning_basics.pdf', 'page': 4})]\n",
      "{'question': 'What is meant by computational finance?'}\n",
      "{'context': 'THE FUNDAMENTALS  \\nOF MACHINE LEARNING\\n\\n ------------WHAT IS MACHINE LEARNING?\\nBRIEF HISTORY OF MACHINE LEARNING\\nHOW IT WORKS\\nMACHINE LEARNING TECHNIQUES\\nTHE IMPORTANCE OF THE HUMAN ELEMENT\\nWHO’S USING IT?\\nCHALLENGES AND HESITATIONS\\nTHE FUTURE OF MACHINE LEARNING\\nCONTRIBUTORS3\\n5\\n8\\n9\\n11\\n12\\n1514\\n16TABLE OF CONTENTS\\n2\\n\\n\\n ------------WHAT IS MACHINE LEARNING?\\nWhether we realize it or not, machine learning is something we \\nencounter on a daily basis. While the technology is not new, \\nwith the rise of artificial intelligence (AI) and the digital age, it is \\nbecoming increasingly important to understand what it is, how it \\ndiffers from AI, and the major role it will play in the future. This \\nwhitepaper will discuss all of the above, and explore different \\ntypes of machine learning, how they work, and how a majority  \\nof industries are utilizing it.\\nFirst and foremost, it’s important to understand exactly what \\nmachine learning is and how it differs from AI. In its simplest form, \\nmachine learning is a set of algorithms learned from data and/or \\nexperiences, rather than being explicitly programmed. Each task \\nrequires a different set of algorithms, and these algorithms detect \\npatterns to perform certain tasks.HOW IS IT DIFFERENT FROM  \\nARTIFICIAL INTELLIGENCE?\\nWhile the two are interconnected, machine learning and artificial \\nintelligence are different. It’s easiest to think of machine learning \\nas the underlying technology of AI.  The goal of AI is to imitate \\nand mimic human behavior, and machine learning gives us the \\nmathematical tools that allow us to do that. AI can understand \\nlanguage and conduct a conversation, allowing it to continually \\nlearn and improve itself based on experience, with the help of \\nmachine learning algorithms. So, machine learning, like humans, \\nlearns from data so that it can perform a higher-level function.\\n3\\n\\n\\n ------------HOW DOES MACHINE LEARNING IMPACT OUR DAILY LIVES?\\nIf you asked someone on the street if they have ever heard of or utilized machine \\nlearning, their answer would probably be no. What they don’t know is that \\nthey’ve probably encountered it numerous times—just in one day.\\nWhen you ask Siri what the weather forecast is, that’s machine learning. When \\nyou Google search something at work to help you do your job better or more \\nefficiently, you can thank machine learning. Another everyday example is our \\nspam folders—a machine learning algorithm is used to determine which emails \\nare inbox-worthy, and which are spam and don’t deserve attention. Similarly, \\nwhen Netflix suggests a show you should watch based on preference, it’s getting \\nthe suggestion from an algorithm.\\nFrom TV suggestions to self-driving cars, machine learning is subtly in the \\nbackground of almost all that we do. These algorithms, and machine learning \\nas a whole, is intended to improve and radically simplify our lives. According to \\nSrinivas Bangalore, Director of Research and Technology at Interactions, “good \\nmachine learning should not be in your face. It should be behind the scenes, \\ntracking, and helping achieve goals much more quickly and efficiently.”GOOD MACHINE LEARNING \\nSHOULD NOT BE IN YOUR  \\nFACE. IT SHOULD BE BEHIND  \\nTHE SCENES, TRACKING, AND  \\nHELPING ACHIEVE GOALS  \\nMUCH MORE QUICKLY AND \\nEFFICIENTLY.\\nSrinivas Bangalore  \\n—Director of Research and Technology  \\n at Interactions\\n4\\n\\n\\n ------------BRIEF HISTORY OF  \\nMACHINE LEARNING\\nFrom the 1950s to now, machine learning has significantly \\ndeveloped. Below is a brief history of machine learning within the \\nAI field. We show how the algorithms we described are motivated \\nby the need to solve very simple automation tasks, such as the \\nrecognition of spoken words or written digits, and how AT&T \\nshowed a strong leadership in this process.\\nTHE TURING TEST  1950\\nIn 1950, Alan Turing created the “Turing Test” to determine \\nwhether or not a computer was capable of real intelligence. In \\norder to pass the test, the computer had to be able to fool another \\nhuman into believing it was also human.\\nTHE FIRST COMPUTER PROGRAM  1952\\nArthur Samuel created the first implementation of machine \\nlearning, the game of checkers, in 1952. The computer improved \\nat the game the more it played by determining which moves \\nresulted in winning strategies, and incorporating those strategies \\ninto the game.\\nNEURAL NETWORKS FOR COMPUTERS  1957\\nFrank Rosenblatt designed the first neural network for computers \\nin 1957, which was meant to simulate the thought process of a \\nhuman brain.\\n“NEAREST NEIGHBOR” ALGORITHM  1967\\nThe “nearest neighbor” algorithm was written in 1967, allowing \\ncomputers to begin recognizing basic patterns. This could be used \\nas a mapping route for traveling salesmen.EXPLANATION BASED LEARNING  1981\\nEBL, or Explanation Based Learning, was created in 1981 by \\nGerald Dejong. This concept allowed a computer to analyze \\ntraining data and create a general rule it can follow by discarding \\nunimportant data.\\nMACHINE LEARNING RESEARCH GROUP  1985\\nResearchers from AT&T created the first research group for \\nmachine learning in 1985. They also began a series of machine \\nlearning meetings that eventually turned into NIPS, the leading \\nconference on machine learning. This group was representative \\nof the early machine learning community, breaking away from a \\ncomputer science field still mostly interested in expert systems. \\nThese theoreticians were confronted with real world problems \\nwhere machines had to replace humans in recognizing noisy \\nwritten digits: mainly check amounts and zip codes.\\nAUTOMATED SPEECH RECOGNITION  1992\\nIn 1992, Jay Wilpon (SVP of Natural Language Research at \\nInteractions) and a team of researchers at AT&T deployed the first \\nnationwide automated speech recognition (ASR) using a machine \\nlearning approach called Hidden Markov Models (HMMs). This \\nsaved billions of dollars in operating costs by spotting things like \\ncollect calls.\\nSUPPORT VECTOR MACHINES  1992\\nResearchers at AT&T invented Support Vector Machines (SVMs) \\nin 1992, a technique that revolutionized large scale classification \\nbecause of its predictable performance.\\n5\\n', 'question': {'question': 'What is meant by computational finance?'}}\n"
     ]
    }
   ],
   "source": [
    "for x in handler.chain_input:\n",
    "    print(x)"
   ]
  },
  {
   "cell_type": "code",
   "execution_count": 84,
   "id": "fe448e54-e4fe-46d5-8d7b-9fb372bfd30c",
   "metadata": {},
   "outputs": [
    {
     "name": "stdout",
     "output_type": "stream",
     "text": [
      "Name :  RunnableSequence \n",
      "ID : ['langchain', 'schema', 'runnable', 'RunnableSequence']\n",
      "**********\n",
      "Name :  RunnableParallel<context,question> \n",
      "ID : ['langchain', 'schema', 'runnable', 'RunnableParallel']\n",
      "**********\n",
      "Name :  RunnableSequence \n",
      "ID : ['langchain', 'schema', 'runnable', 'RunnableSequence']\n",
      "**********\n",
      "Name :  RunnableLambda(get_data) \n",
      "ID : ['langchain_core', 'runnables', 'base', 'RunnableLambda']\n",
      "**********\n",
      "Name :  RunnableLambda(format_docs) \n",
      "ID : ['langchain_core', 'runnables', 'base', 'RunnableLambda']\n",
      "**********\n",
      "Name :  RunnablePassthrough \n",
      "ID : ['langchain', 'schema', 'runnable', 'RunnablePassthrough']\n",
      "**********\n",
      "Name :  ChatPromptTemplate \n",
      "ID : ['langchain', 'prompts', 'chat', 'ChatPromptTemplate']\n",
      "**********\n"
     ]
    }
   ],
   "source": [
    "for x in handler.serialized_input:\n",
    "    try:\n",
    "        print(f\"Name :  {x['name']} \")\n",
    "    except:\n",
    "        print(f\"Name :  {x['repr']} \")\n",
    "    print(f\"ID : {x['id']}\")\n",
    "    print(\"*\"*10)\n",
    "    \n",
    "    "
   ]
  },
  {
   "cell_type": "code",
   "execution_count": 88,
   "id": "57ef0d8d-8698-4716-a7b4-710dcdd54a6b",
   "metadata": {},
   "outputs": [
    {
     "name": "stdout",
     "output_type": "stream",
     "text": [
      "name: RunnableParallel<context,question>\n",
      "type: constructor\n",
      "id: ['langchain', 'schema', 'runnable', 'RunnableParallel']\n",
      "kwargs_keys: dict_keys(['steps'])\n"
     ]
    }
   ],
   "source": [
    "getChainBreakdown(handler.serialized_input[0]['kwargs']['first'])"
   ]
  },
  {
   "cell_type": "code",
   "execution_count": 89,
   "id": "d8a85e9f-f546-4f87-ac61-bbf6fdf20bc1",
   "metadata": {},
   "outputs": [
    {
     "name": "stdout",
     "output_type": "stream",
     "text": [
      "name: ChatPromptTemplate\n",
      "type: constructor\n",
      "id: ['langchain', 'prompts', 'chat', 'ChatPromptTemplate']\n",
      "kwargs_keys: dict_keys(['input_variables', 'messages', 'partial_variables'])\n"
     ]
    }
   ],
   "source": [
    "getChainBreakdown(handler.serialized_input[0]['kwargs']['last'])"
   ]
  },
  {
   "cell_type": "code",
   "execution_count": 90,
   "id": "13cdfb97-62fb-43ae-ade8-fdd7704a99b1",
   "metadata": {},
   "outputs": [
    {
     "name": "stdout",
     "output_type": "stream",
     "text": [
      "name: RunnableLambda(get_data)\n",
      "id: ['langchain_core', 'runnables', 'base', 'RunnableLambda']\n"
     ]
    }
   ],
   "source": [
    "getChainBreakdown(handler.serialized_input[2]['kwargs']['first'])"
   ]
  },
  {
   "cell_type": "code",
   "execution_count": 91,
   "id": "8cf26043-6cde-4043-a143-34a2d8f0ef4a",
   "metadata": {},
   "outputs": [
    {
     "name": "stdout",
     "output_type": "stream",
     "text": [
      "name: RunnableLambda(format_docs)\n",
      "id: ['langchain_core', 'runnables', 'base', 'RunnableLambda']\n"
     ]
    }
   ],
   "source": [
    "getChainBreakdown(handler.serialized_input[2]['kwargs']['last'])"
   ]
  },
  {
   "cell_type": "code",
   "execution_count": null,
   "id": "a70d2cf2-20d3-48b7-9466-d2e0282ec3d6",
   "metadata": {},
   "outputs": [],
   "source": []
  },
  {
   "cell_type": "markdown",
   "id": "9c703c88-dca1-40ff-b9e2-690b3dd555ca",
   "metadata": {},
   "source": [
    "## Chain 5\n",
    "\n",
    "Same as Chain 3, but with an actual database retriever"
   ]
  },
  {
   "cell_type": "code",
   "execution_count": 107,
   "id": "9ba9d763-3032-4b0a-85d1-3a768e290584",
   "metadata": {},
   "outputs": [],
   "source": [
    "def format_docs(docs):\n",
    "    return \"\\n\\n ------------\".join(doc.page_content for doc in docs)\n",
    "    \n",
    "retriever = store.as_retriever()"
   ]
  },
  {
   "cell_type": "code",
   "execution_count": 108,
   "id": "64a51dc2-e0e2-4fb4-9298-e018025e7747",
   "metadata": {},
   "outputs": [],
   "source": [
    "qa_template = \"\"\" You are a helpful assistant that answers questions\n",
    "    Question: {question} \n",
    "    Context: {context}\n",
    "    Answer:\n",
    "    \"\"\"\n",
    "qa_prompt = ChatPromptTemplate.from_template(qa_template)\n",
    "\n",
    "rag_chain = ( {'context': retriever | format_docs , 'question': RunnablePassthrough() } | qa_prompt)"
   ]
  },
  {
   "cell_type": "code",
   "execution_count": 109,
   "id": "e38f4576-0c75-4f29-bb84-e00ac40a2615",
   "metadata": {},
   "outputs": [],
   "source": [
    "class CustomCallback3(BaseCallbackHandler):\n",
    "\n",
    "    def __init__(self):\n",
    "        self.serialized_input = []\n",
    "        self.chain_input = []\n",
    "    \n",
    "    def on_chain_start(\n",
    "        self, serialized: Dict[str, Any], inputs: Dict[str, Any], **kwargs: Any\n",
    "    ) -> None:\n",
    "        \"\"\"Print out that we are entering a chain.\"\"\"\n",
    "        self.serialized_input.append(serialized)\n",
    "        self.chain_input.append(inputs)\n",
    "        \n",
    "\n",
    "    def on_llm_start(\n",
    "        self, serialized: Dict[str, Any], prompts: List[str], **kwargs: Any\n",
    "    ) -> Any:\n",
    "        \"\"\"Run when LLM starts running.\"\"\"\n",
    "        self.serialized_input.append(serialized)\n",
    "        self.chain_input.append(prompts)\n",
    "\n",
    "    def on_retriever_start(\n",
    "        self,\n",
    "        serialized: Dict[str, Any],\n",
    "        query: str,\n",
    "        **kwargs: Any) -> Any:\n",
    "        self.serialized_input.append(serialized)\n",
    "        self.chain_input.append(query)\n",
    "        "
   ]
  },
  {
   "cell_type": "code",
   "execution_count": 110,
   "id": "dc780856-8a5e-4408-a993-488a63b3a28e",
   "metadata": {
    "scrolled": true
   },
   "outputs": [
    {
     "data": {
      "text/plain": [
       "ChatPromptValue(messages=[HumanMessage(content=' You are a helpful assistant that answers questions\\n    Question: What is computational finance? \\n    Context: THE FUNDAMENTALS  \\nOF MACHINE LEARNING\\n\\n ------------As previously mentioned, we encounter machine learning on a \\ndaily basis, whether we realize it or not. Aside from in our day-\\nto-day lives, industries from retail to government and more are \\ndepending on machine learning to get things done. Below is a \\nshort list of how different industries are utilizing machine learning. \\nThis is not a complete list, as dozens of industries are using \\nmachine learning in a vast number of ways.\\nFINANCE\\nWith its quantitative nature, banking and finance are an ideal \\napplication for machine learning. The technology is being used \\nin dozens of ways industry-wide, but here are a few of the most \\ncommonly used:\\nFraud  - Machine learning algorithms can analyze an enormous \\namount of transactions at a time, and learn a person’s typical \\nspending patterns. If a transaction is made that is unusual, it will \\nreject the transaction and indicate potential fraud.WHO’S USING IT?\\nTrading floors  - With its ability to efficiently assess data and \\npatterns, machine learning can assist with quick decision-making  \\nin real-time.\\nCredit and risk management  - Typically assessing credit risk is \\nlabor intensive and is prone to human-subjected errors. With \\nmachine learning, certain algorithms can help to provide mitigation \\nrecommendations.\\nUTILITIES\\nUtility companies can utilize machine learning in a number of ways, \\nincluding uncovering hidden energy patterns, learning customer’s \\nenergy behaviors, and more.\\n12\\n\\n\\n ------------HEALTHCARE\\nDiagnoses  - Machine learning can analyze data and identify trends \\nor red flags within patients to potentially lead to earlier diagnoses \\nand better treatments.\\nPatient information  - Data can be collected from a patient’s \\ndevice to assess their health in real-time.\\nDrug discovery  - Given its ability to detect patterns within data, \\nscientists are able to better predict drug side effects and results of \\ndrug experiments without actually performing them.\\nMARKETING AND SALES\\nPersonalization  - Machine learning allows online brands to \\nsuggest and advertise things you may like based on your browser \\nand search history. Brands use their collected data to give \\ncustomers a unique and personalized experience.OIL AND GAS\\nEnergy sources  - By analyzing different minerals in the ground, \\nmachine learning provides the potential to discover new energy \\nsources.\\nStreamlining oil distribution  - Algorithms work to make oil \\ndistribution more efficient and cost-effective.\\nReservoir modeling  - Certain machine learning techniques can \\nfocus on optimization of hydraulic fracturing, reservoir simulation, \\nand more.\\nTRANSPORTATION\\nEfficient transportation  - Analysis of data can identify certain \\npatterns and trends to make routes more efficient for public \\ntransportation, delivery companies, and more.\\n$\\n13\\n\\n\\n ------------WHAT IS MACHINE LEARNING?\\nWhether we realize it or not, machine learning is something we \\nencounter on a daily basis. While the technology is not new, \\nwith the rise of artificial intelligence (AI) and the digital age, it is \\nbecoming increasingly important to understand what it is, how it \\ndiffers from AI, and the major role it will play in the future. This \\nwhitepaper will discuss all of the above, and explore different \\ntypes of machine learning, how they work, and how a majority  \\nof industries are utilizing it.\\nFirst and foremost, it’s important to understand exactly what \\nmachine learning is and how it differs from AI. In its simplest form, \\nmachine learning is a set of algorithms learned from data and/or \\nexperiences, rather than being explicitly programmed. Each task \\nrequires a different set of algorithms, and these algorithms detect \\npatterns to perform certain tasks.HOW IS IT DIFFERENT FROM  \\nARTIFICIAL INTELLIGENCE?\\nWhile the two are interconnected, machine learning and artificial \\nintelligence are different. It’s easiest to think of machine learning \\nas the underlying technology of AI.  The goal of AI is to imitate \\nand mimic human behavior, and machine learning gives us the \\nmathematical tools that allow us to do that. AI can understand \\nlanguage and conduct a conversation, allowing it to continually \\nlearn and improve itself based on experience, with the help of \\nmachine learning algorithms. So, machine learning, like humans, \\nlearns from data so that it can perform a higher-level function.\\n3\\n\\n    Answer:\\n    ')])"
      ]
     },
     "execution_count": 110,
     "metadata": {},
     "output_type": "execute_result"
    }
   ],
   "source": [
    "handler = CustomCallback3()\n",
    "\n",
    "rag_chain.invoke(\"What is computational finance?\", {\"callbacks\":[handler]})"
   ]
  },
  {
   "cell_type": "code",
   "execution_count": 111,
   "id": "c6991013-7653-439c-862d-6403073de0a9",
   "metadata": {},
   "outputs": [
    {
     "name": "stdout",
     "output_type": "stream",
     "text": [
      "What is computational finance?\n",
      "What is computational finance?\n",
      "What is computational finance?\n",
      "What is computational finance?\n",
      "What is computational finance?\n",
      "[Document(page_content='THE FUNDAMENTALS  \\nOF MACHINE LEARNING', metadata={'source': 'machine_learning_basics.pdf', 'page': 0}), Document(page_content='As previously mentioned, we encounter machine learning on a \\ndaily basis, whether we realize it or not. Aside from in our day-\\nto-day lives, industries from retail to government and more are \\ndepending on machine learning to get things done. Below is a \\nshort list of how different industries are utilizing machine learning. \\nThis is not a complete list, as dozens of industries are using \\nmachine learning in a vast number of ways.\\nFINANCE\\nWith its quantitative nature, banking and finance are an ideal \\napplication for machine learning. The technology is being used \\nin dozens of ways industry-wide, but here are a few of the most \\ncommonly used:\\nFraud  - Machine learning algorithms can analyze an enormous \\namount of transactions at a time, and learn a person’s typical \\nspending patterns. If a transaction is made that is unusual, it will \\nreject the transaction and indicate potential fraud.WHO’S USING IT?\\nTrading floors  - With its ability to efficiently assess data and \\npatterns, machine learning can assist with quick decision-making  \\nin real-time.\\nCredit and risk management  - Typically assessing credit risk is \\nlabor intensive and is prone to human-subjected errors. With \\nmachine learning, certain algorithms can help to provide mitigation \\nrecommendations.\\nUTILITIES\\nUtility companies can utilize machine learning in a number of ways, \\nincluding uncovering hidden energy patterns, learning customer’s \\nenergy behaviors, and more.\\n12\\n', metadata={'source': 'machine_learning_basics.pdf', 'page': 11}), Document(page_content='HEALTHCARE\\nDiagnoses  - Machine learning can analyze data and identify trends \\nor red flags within patients to potentially lead to earlier diagnoses \\nand better treatments.\\nPatient information  - Data can be collected from a patient’s \\ndevice to assess their health in real-time.\\nDrug discovery  - Given its ability to detect patterns within data, \\nscientists are able to better predict drug side effects and results of \\ndrug experiments without actually performing them.\\nMARKETING AND SALES\\nPersonalization  - Machine learning allows online brands to \\nsuggest and advertise things you may like based on your browser \\nand search history. Brands use their collected data to give \\ncustomers a unique and personalized experience.OIL AND GAS\\nEnergy sources  - By analyzing different minerals in the ground, \\nmachine learning provides the potential to discover new energy \\nsources.\\nStreamlining oil distribution  - Algorithms work to make oil \\ndistribution more efficient and cost-effective.\\nReservoir modeling  - Certain machine learning techniques can \\nfocus on optimization of hydraulic fracturing, reservoir simulation, \\nand more.\\nTRANSPORTATION\\nEfficient transportation  - Analysis of data can identify certain \\npatterns and trends to make routes more efficient for public \\ntransportation, delivery companies, and more.\\n$\\n13\\n', metadata={'source': 'machine_learning_basics.pdf', 'page': 12}), Document(page_content='WHAT IS MACHINE LEARNING?\\nWhether we realize it or not, machine learning is something we \\nencounter on a daily basis. While the technology is not new, \\nwith the rise of artificial intelligence (AI) and the digital age, it is \\nbecoming increasingly important to understand what it is, how it \\ndiffers from AI, and the major role it will play in the future. This \\nwhitepaper will discuss all of the above, and explore different \\ntypes of machine learning, how they work, and how a majority  \\nof industries are utilizing it.\\nFirst and foremost, it’s important to understand exactly what \\nmachine learning is and how it differs from AI. In its simplest form, \\nmachine learning is a set of algorithms learned from data and/or \\nexperiences, rather than being explicitly programmed. Each task \\nrequires a different set of algorithms, and these algorithms detect \\npatterns to perform certain tasks.HOW IS IT DIFFERENT FROM  \\nARTIFICIAL INTELLIGENCE?\\nWhile the two are interconnected, machine learning and artificial \\nintelligence are different. It’s easiest to think of machine learning \\nas the underlying technology of AI.  The goal of AI is to imitate \\nand mimic human behavior, and machine learning gives us the \\nmathematical tools that allow us to do that. AI can understand \\nlanguage and conduct a conversation, allowing it to continually \\nlearn and improve itself based on experience, with the help of \\nmachine learning algorithms. So, machine learning, like humans, \\nlearns from data so that it can perform a higher-level function.\\n3\\n', metadata={'source': 'machine_learning_basics.pdf', 'page': 2})]\n",
      "{'context': 'THE FUNDAMENTALS  \\nOF MACHINE LEARNING\\n\\n ------------As previously mentioned, we encounter machine learning on a \\ndaily basis, whether we realize it or not. Aside from in our day-\\nto-day lives, industries from retail to government and more are \\ndepending on machine learning to get things done. Below is a \\nshort list of how different industries are utilizing machine learning. \\nThis is not a complete list, as dozens of industries are using \\nmachine learning in a vast number of ways.\\nFINANCE\\nWith its quantitative nature, banking and finance are an ideal \\napplication for machine learning. The technology is being used \\nin dozens of ways industry-wide, but here are a few of the most \\ncommonly used:\\nFraud  - Machine learning algorithms can analyze an enormous \\namount of transactions at a time, and learn a person’s typical \\nspending patterns. If a transaction is made that is unusual, it will \\nreject the transaction and indicate potential fraud.WHO’S USING IT?\\nTrading floors  - With its ability to efficiently assess data and \\npatterns, machine learning can assist with quick decision-making  \\nin real-time.\\nCredit and risk management  - Typically assessing credit risk is \\nlabor intensive and is prone to human-subjected errors. With \\nmachine learning, certain algorithms can help to provide mitigation \\nrecommendations.\\nUTILITIES\\nUtility companies can utilize machine learning in a number of ways, \\nincluding uncovering hidden energy patterns, learning customer’s \\nenergy behaviors, and more.\\n12\\n\\n\\n ------------HEALTHCARE\\nDiagnoses  - Machine learning can analyze data and identify trends \\nor red flags within patients to potentially lead to earlier diagnoses \\nand better treatments.\\nPatient information  - Data can be collected from a patient’s \\ndevice to assess their health in real-time.\\nDrug discovery  - Given its ability to detect patterns within data, \\nscientists are able to better predict drug side effects and results of \\ndrug experiments without actually performing them.\\nMARKETING AND SALES\\nPersonalization  - Machine learning allows online brands to \\nsuggest and advertise things you may like based on your browser \\nand search history. Brands use their collected data to give \\ncustomers a unique and personalized experience.OIL AND GAS\\nEnergy sources  - By analyzing different minerals in the ground, \\nmachine learning provides the potential to discover new energy \\nsources.\\nStreamlining oil distribution  - Algorithms work to make oil \\ndistribution more efficient and cost-effective.\\nReservoir modeling  - Certain machine learning techniques can \\nfocus on optimization of hydraulic fracturing, reservoir simulation, \\nand more.\\nTRANSPORTATION\\nEfficient transportation  - Analysis of data can identify certain \\npatterns and trends to make routes more efficient for public \\ntransportation, delivery companies, and more.\\n$\\n13\\n\\n\\n ------------WHAT IS MACHINE LEARNING?\\nWhether we realize it or not, machine learning is something we \\nencounter on a daily basis. While the technology is not new, \\nwith the rise of artificial intelligence (AI) and the digital age, it is \\nbecoming increasingly important to understand what it is, how it \\ndiffers from AI, and the major role it will play in the future. This \\nwhitepaper will discuss all of the above, and explore different \\ntypes of machine learning, how they work, and how a majority  \\nof industries are utilizing it.\\nFirst and foremost, it’s important to understand exactly what \\nmachine learning is and how it differs from AI. In its simplest form, \\nmachine learning is a set of algorithms learned from data and/or \\nexperiences, rather than being explicitly programmed. Each task \\nrequires a different set of algorithms, and these algorithms detect \\npatterns to perform certain tasks.HOW IS IT DIFFERENT FROM  \\nARTIFICIAL INTELLIGENCE?\\nWhile the two are interconnected, machine learning and artificial \\nintelligence are different. It’s easiest to think of machine learning \\nas the underlying technology of AI.  The goal of AI is to imitate \\nand mimic human behavior, and machine learning gives us the \\nmathematical tools that allow us to do that. AI can understand \\nlanguage and conduct a conversation, allowing it to continually \\nlearn and improve itself based on experience, with the help of \\nmachine learning algorithms. So, machine learning, like humans, \\nlearns from data so that it can perform a higher-level function.\\n3\\n', 'question': 'What is computational finance?'}\n"
     ]
    }
   ],
   "source": [
    "for x in handler.chain_input:\n",
    "    print(x)"
   ]
  },
  {
   "cell_type": "code",
   "execution_count": 112,
   "id": "86c1e911-ea85-4789-a71a-8d4c3c380ea8",
   "metadata": {},
   "outputs": [
    {
     "name": "stdout",
     "output_type": "stream",
     "text": [
      "Name :  RunnableSequence \n",
      "ID : ['langchain', 'schema', 'runnable', 'RunnableSequence']\n",
      "**********\n",
      "Name :  RunnableParallel<context,question> \n",
      "ID : ['langchain', 'schema', 'runnable', 'RunnableParallel']\n",
      "**********\n",
      "Name :  RunnablePassthrough \n",
      "ID : ['langchain', 'schema', 'runnable', 'RunnablePassthrough']\n",
      "**********\n",
      "Name :  RunnableSequence \n",
      "ID : ['langchain', 'schema', 'runnable', 'RunnableSequence']\n",
      "**********\n",
      "Name :  VectorStoreRetriever \n",
      "ID : ['langchain_core', 'vectorstores', 'VectorStoreRetriever']\n",
      "**********\n",
      "Name :  RunnableLambda(format_docs) \n",
      "ID : ['langchain_core', 'runnables', 'base', 'RunnableLambda']\n",
      "**********\n",
      "Name :  ChatPromptTemplate \n",
      "ID : ['langchain', 'prompts', 'chat', 'ChatPromptTemplate']\n",
      "**********\n"
     ]
    }
   ],
   "source": [
    "for x in handler.serialized_input:\n",
    "    try:\n",
    "        print(f\"Name :  {x['name']} \")\n",
    "    except:\n",
    "        print(f\"Name :  {x['repr']} \")\n",
    "    print(f\"ID : {x['id']}\")\n",
    "    print(\"*\"*10)\n",
    "    \n",
    "    "
   ]
  },
  {
   "cell_type": "code",
   "execution_count": 196,
   "id": "1ab1f163-0fbc-47b4-9698-c4462dd7af79",
   "metadata": {},
   "outputs": [
    {
     "name": "stdout",
     "output_type": "stream",
     "text": [
      "name: RunnableSequence\n",
      "type: constructor\n",
      "id: ['langchain', 'schema', 'runnable', 'RunnableSequence']\n",
      "kwargs_keys: dict_keys(['first', 'middle', 'last', 'name'])\n"
     ]
    }
   ],
   "source": [
    "getChainBreakdown(handler.serialized_input[0])"
   ]
  },
  {
   "cell_type": "code",
   "execution_count": 199,
   "id": "7e16024a-5f7f-4d4c-b65e-c11c274116d8",
   "metadata": {},
   "outputs": [
    {
     "name": "stdout",
     "output_type": "stream",
     "text": [
      "name: RunnableParallel<context,question>\n",
      "type: constructor\n",
      "id: ['langchain', 'schema', 'runnable', 'RunnableParallel']\n",
      "kwargs_keys: dict_keys(['steps'])\n"
     ]
    }
   ],
   "source": [
    "getChainBreakdown(handler.serialized_input[0]['kwargs']['first'])"
   ]
  },
  {
   "cell_type": "code",
   "execution_count": 200,
   "id": "33662ac7-db0e-4618-a7df-36e5fa065118",
   "metadata": {},
   "outputs": [
    {
     "name": "stdout",
     "output_type": "stream",
     "text": [
      "name: ChatPromptTemplate\n",
      "type: constructor\n",
      "id: ['langchain', 'prompts', 'chat', 'ChatPromptTemplate']\n",
      "kwargs_keys: dict_keys(['input_variables', 'messages', 'partial_variables'])\n"
     ]
    }
   ],
   "source": [
    "getChainBreakdown(handler.serialized_input[0]['kwargs']['last'])"
   ]
  },
  {
   "cell_type": "code",
   "execution_count": 197,
   "id": "0fddc533-dcbe-47c7-af12-65d1d4de138a",
   "metadata": {},
   "outputs": [
    {
     "name": "stdout",
     "output_type": "stream",
     "text": [
      "name: RunnableParallel<context,question>\n",
      "type: constructor\n",
      "id: ['langchain', 'schema', 'runnable', 'RunnableParallel']\n",
      "kwargs_keys: dict_keys(['steps'])\n"
     ]
    }
   ],
   "source": [
    "getChainBreakdown(handler.serialized_input[1])"
   ]
  },
  {
   "cell_type": "code",
   "execution_count": 198,
   "id": "043090a2-c9a8-4249-b5b8-1e614ceec454",
   "metadata": {},
   "outputs": [
    {
     "name": "stdout",
     "output_type": "stream",
     "text": [
      "name: RunnableSequence\n",
      "type: constructor\n",
      "id: ['langchain', 'schema', 'runnable', 'RunnableSequence']\n",
      "kwargs_keys: dict_keys(['first', 'middle', 'last', 'name'])\n"
     ]
    }
   ],
   "source": [
    "getChainBreakdown(handler.serialized_input[2])"
   ]
  },
  {
   "cell_type": "code",
   "execution_count": 202,
   "id": "ce403f01-1c8a-4c0a-819b-a0d2058b1b07",
   "metadata": {
    "scrolled": true
   },
   "outputs": [
    {
     "data": {
      "text/plain": [
       "{'lc': 1,\n",
       " 'type': 'not_implemented',\n",
       " 'id': ['langchain_core', 'vectorstores', 'VectorStoreRetriever'],\n",
       " 'repr': \"VectorStoreRetriever(tags=['FAISS', 'OpenAIEmbeddings'], vectorstore=<langchain_community.vectorstores.faiss.FAISS object at 0x1781a7a90>)\",\n",
       " 'name': 'VectorStoreRetriever',\n",
       " 'graph': {'nodes': [{'id': 0,\n",
       "    'type': 'schema',\n",
       "    'data': {'title': 'VectorStoreRetrieverInput', 'type': 'string'}},\n",
       "   {'id': 1,\n",
       "    'type': 'runnable',\n",
       "    'data': {'id': ['langchain_core', 'vectorstores', 'VectorStoreRetriever'],\n",
       "     'name': 'VectorStoreRetriever'}},\n",
       "   {'id': 2,\n",
       "    'type': 'schema',\n",
       "    'data': {'title': 'VectorStoreRetrieverOutput',\n",
       "     'type': 'array',\n",
       "     'items': {'$ref': '#/definitions/Document'},\n",
       "     'definitions': {'Document': {'title': 'Document',\n",
       "       'description': 'Class for storing a piece of text and associated metadata.',\n",
       "       'type': 'object',\n",
       "       'properties': {'page_content': {'title': 'Page Content',\n",
       "         'type': 'string'},\n",
       "        'metadata': {'title': 'Metadata', 'type': 'object'},\n",
       "        'type': {'title': 'Type',\n",
       "         'default': 'Document',\n",
       "         'enum': ['Document'],\n",
       "         'type': 'string'}},\n",
       "       'required': ['page_content']}}}}],\n",
       "  'edges': [{'source': 0, 'target': 1}, {'source': 1, 'target': 2}]}}"
      ]
     },
     "execution_count": 202,
     "metadata": {},
     "output_type": "execute_result"
    }
   ],
   "source": [
    "handler.serialized_input[2]['kwargs']['first']"
   ]
  },
  {
   "cell_type": "code",
   "execution_count": 203,
   "id": "3fac6a16-28fb-46b8-9ead-701862bc7ccf",
   "metadata": {},
   "outputs": [
    {
     "data": {
      "text/plain": [
       "{'lc': 1,\n",
       " 'type': 'not_implemented',\n",
       " 'id': ['langchain_core', 'runnables', 'base', 'RunnableLambda'],\n",
       " 'repr': 'RunnableLambda(format_docs)'}"
      ]
     },
     "execution_count": 203,
     "metadata": {},
     "output_type": "execute_result"
    }
   ],
   "source": [
    "handler.serialized_input[2]['kwargs']['last']"
   ]
  },
  {
   "cell_type": "code",
   "execution_count": null,
   "id": "c9f73803-1d25-4301-8037-9474119c26ec",
   "metadata": {},
   "outputs": [],
   "source": []
  },
  {
   "cell_type": "code",
   "execution_count": null,
   "id": "413c34b3-0e2a-447f-8d50-765bb05db867",
   "metadata": {},
   "outputs": [],
   "source": []
  },
  {
   "cell_type": "code",
   "execution_count": 113,
   "id": "26a502db-00d7-49f2-b0f5-1b6910423f85",
   "metadata": {},
   "outputs": [],
   "source": [
    "text_splitter = RecursiveCharacterTextSplitter(chunk_size=100, chunk_overlap=0)\n",
    "splits = text_splitter.split_documents(docs)"
   ]
  },
  {
   "cell_type": "code",
   "execution_count": 114,
   "id": "8e0548e7-a332-415e-9f2e-63892a71e31e",
   "metadata": {},
   "outputs": [
    {
     "data": {
      "text/plain": [
       "[Document(page_content='THE FUNDAMENTALS  \\nOF MACHINE LEARNING', metadata={'source': 'machine_learning_basics.pdf', 'page': 0}),\n",
       " Document(page_content='WHAT IS MACHINE LEARNING?\\nBRIEF HISTORY OF MACHINE LEARNING\\nHOW IT WORKS\\nMACHINE LEARNING TECHNIQUES', metadata={'source': 'machine_learning_basics.pdf', 'page': 1}),\n",
       " Document(page_content='THE IMPORTANCE OF THE HUMAN ELEMENT\\nWHO’S USING IT?\\nCHALLENGES AND HESITATIONS', metadata={'source': 'machine_learning_basics.pdf', 'page': 1}),\n",
       " Document(page_content='THE FUTURE OF MACHINE LEARNING\\nCONTRIBUTORS3\\n5\\n8\\n9\\n11\\n12\\n1514\\n16TABLE OF CONTENTS\\n2', metadata={'source': 'machine_learning_basics.pdf', 'page': 1}),\n",
       " Document(page_content='WHAT IS MACHINE LEARNING?\\nWhether we realize it or not, machine learning is something we', metadata={'source': 'machine_learning_basics.pdf', 'page': 2}),\n",
       " Document(page_content='encounter on a daily basis. While the technology is not new,', metadata={'source': 'machine_learning_basics.pdf', 'page': 2}),\n",
       " Document(page_content='with the rise of artificial intelligence (AI) and the digital age, it is', metadata={'source': 'machine_learning_basics.pdf', 'page': 2}),\n",
       " Document(page_content='becoming increasingly important to understand what it is, how it', metadata={'source': 'machine_learning_basics.pdf', 'page': 2}),\n",
       " Document(page_content='differs from AI, and the major role it will play in the future. This', metadata={'source': 'machine_learning_basics.pdf', 'page': 2}),\n",
       " Document(page_content='whitepaper will discuss all of the above, and explore different', metadata={'source': 'machine_learning_basics.pdf', 'page': 2}),\n",
       " Document(page_content='types of machine learning, how they work, and how a majority  \\nof industries are utilizing it.', metadata={'source': 'machine_learning_basics.pdf', 'page': 2}),\n",
       " Document(page_content='First and foremost, it’s important to understand exactly what', metadata={'source': 'machine_learning_basics.pdf', 'page': 2}),\n",
       " Document(page_content='machine learning is and how it differs from AI. In its simplest form,', metadata={'source': 'machine_learning_basics.pdf', 'page': 2}),\n",
       " Document(page_content='machine learning is a set of algorithms learned from data and/or', metadata={'source': 'machine_learning_basics.pdf', 'page': 2}),\n",
       " Document(page_content='experiences, rather than being explicitly programmed. Each task', metadata={'source': 'machine_learning_basics.pdf', 'page': 2}),\n",
       " Document(page_content='requires a different set of algorithms, and these algorithms detect', metadata={'source': 'machine_learning_basics.pdf', 'page': 2}),\n",
       " Document(page_content='patterns to perform certain tasks.HOW IS IT DIFFERENT FROM  \\nARTIFICIAL INTELLIGENCE?', metadata={'source': 'machine_learning_basics.pdf', 'page': 2}),\n",
       " Document(page_content='While the two are interconnected, machine learning and artificial', metadata={'source': 'machine_learning_basics.pdf', 'page': 2}),\n",
       " Document(page_content='intelligence are different. It’s easiest to think of machine learning', metadata={'source': 'machine_learning_basics.pdf', 'page': 2}),\n",
       " Document(page_content='as the underlying technology of AI.  The goal of AI is to imitate', metadata={'source': 'machine_learning_basics.pdf', 'page': 2}),\n",
       " Document(page_content='and mimic human behavior, and machine learning gives us the', metadata={'source': 'machine_learning_basics.pdf', 'page': 2}),\n",
       " Document(page_content='mathematical tools that allow us to do that. AI can understand', metadata={'source': 'machine_learning_basics.pdf', 'page': 2}),\n",
       " Document(page_content='language and conduct a conversation, allowing it to continually', metadata={'source': 'machine_learning_basics.pdf', 'page': 2}),\n",
       " Document(page_content='learn and improve itself based on experience, with the help of', metadata={'source': 'machine_learning_basics.pdf', 'page': 2}),\n",
       " Document(page_content='machine learning algorithms. So, machine learning, like humans,', metadata={'source': 'machine_learning_basics.pdf', 'page': 2}),\n",
       " Document(page_content='learns from data so that it can perform a higher-level function.\\n3', metadata={'source': 'machine_learning_basics.pdf', 'page': 2}),\n",
       " Document(page_content='HOW DOES MACHINE LEARNING IMPACT OUR DAILY LIVES?', metadata={'source': 'machine_learning_basics.pdf', 'page': 3}),\n",
       " Document(page_content='If you asked someone on the street if they have ever heard of or utilized machine', metadata={'source': 'machine_learning_basics.pdf', 'page': 3}),\n",
       " Document(page_content='learning, their answer would probably be no. What they don’t know is that', metadata={'source': 'machine_learning_basics.pdf', 'page': 3}),\n",
       " Document(page_content='they’ve probably encountered it numerous times—just in one day.', metadata={'source': 'machine_learning_basics.pdf', 'page': 3}),\n",
       " Document(page_content='When you ask Siri what the weather forecast is, that’s machine learning. When', metadata={'source': 'machine_learning_basics.pdf', 'page': 3}),\n",
       " Document(page_content='you Google search something at work to help you do your job better or more', metadata={'source': 'machine_learning_basics.pdf', 'page': 3}),\n",
       " Document(page_content='efficiently, you can thank machine learning. Another everyday example is our', metadata={'source': 'machine_learning_basics.pdf', 'page': 3}),\n",
       " Document(page_content='spam folders—a machine learning algorithm is used to determine which emails', metadata={'source': 'machine_learning_basics.pdf', 'page': 3}),\n",
       " Document(page_content='are inbox-worthy, and which are spam and don’t deserve attention. Similarly,', metadata={'source': 'machine_learning_basics.pdf', 'page': 3}),\n",
       " Document(page_content='when Netflix suggests a show you should watch based on preference, it’s getting', metadata={'source': 'machine_learning_basics.pdf', 'page': 3}),\n",
       " Document(page_content='the suggestion from an algorithm.', metadata={'source': 'machine_learning_basics.pdf', 'page': 3}),\n",
       " Document(page_content='From TV suggestions to self-driving cars, machine learning is subtly in the', metadata={'source': 'machine_learning_basics.pdf', 'page': 3}),\n",
       " Document(page_content='background of almost all that we do. These algorithms, and machine learning', metadata={'source': 'machine_learning_basics.pdf', 'page': 3}),\n",
       " Document(page_content='as a whole, is intended to improve and radically simplify our lives. According to', metadata={'source': 'machine_learning_basics.pdf', 'page': 3}),\n",
       " Document(page_content='Srinivas Bangalore, Director of Research and Technology at Interactions, “good', metadata={'source': 'machine_learning_basics.pdf', 'page': 3}),\n",
       " Document(page_content='machine learning should not be in your face. It should be behind the scenes,', metadata={'source': 'machine_learning_basics.pdf', 'page': 3}),\n",
       " Document(page_content='tracking, and helping achieve goals much more quickly and efficiently.”GOOD MACHINE LEARNING', metadata={'source': 'machine_learning_basics.pdf', 'page': 3}),\n",
       " Document(page_content='SHOULD NOT BE IN YOUR  \\nFACE. IT SHOULD BE BEHIND  \\nTHE SCENES, TRACKING, AND', metadata={'source': 'machine_learning_basics.pdf', 'page': 3}),\n",
       " Document(page_content='HELPING ACHIEVE GOALS  \\nMUCH MORE QUICKLY AND \\nEFFICIENTLY.\\nSrinivas Bangalore', metadata={'source': 'machine_learning_basics.pdf', 'page': 3}),\n",
       " Document(page_content='—Director of Research and Technology  \\n at Interactions\\n4', metadata={'source': 'machine_learning_basics.pdf', 'page': 3}),\n",
       " Document(page_content='BRIEF HISTORY OF  \\nMACHINE LEARNING\\nFrom the 1950s to now, machine learning has significantly', metadata={'source': 'machine_learning_basics.pdf', 'page': 4}),\n",
       " Document(page_content='developed. Below is a brief history of machine learning within the', metadata={'source': 'machine_learning_basics.pdf', 'page': 4}),\n",
       " Document(page_content='AI field. We show how the algorithms we described are motivated', metadata={'source': 'machine_learning_basics.pdf', 'page': 4}),\n",
       " Document(page_content='by the need to solve very simple automation tasks, such as the', metadata={'source': 'machine_learning_basics.pdf', 'page': 4}),\n",
       " Document(page_content='recognition of spoken words or written digits, and how AT&T', metadata={'source': 'machine_learning_basics.pdf', 'page': 4}),\n",
       " Document(page_content='showed a strong leadership in this process.\\nTHE TURING TEST  1950', metadata={'source': 'machine_learning_basics.pdf', 'page': 4}),\n",
       " Document(page_content='In 1950, Alan Turing created the “Turing Test” to determine', metadata={'source': 'machine_learning_basics.pdf', 'page': 4}),\n",
       " Document(page_content='whether or not a computer was capable of real intelligence. In', metadata={'source': 'machine_learning_basics.pdf', 'page': 4}),\n",
       " Document(page_content='order to pass the test, the computer had to be able to fool another', metadata={'source': 'machine_learning_basics.pdf', 'page': 4}),\n",
       " Document(page_content='human into believing it was also human.\\nTHE FIRST COMPUTER PROGRAM  1952', metadata={'source': 'machine_learning_basics.pdf', 'page': 4}),\n",
       " Document(page_content='Arthur Samuel created the first implementation of machine', metadata={'source': 'machine_learning_basics.pdf', 'page': 4}),\n",
       " Document(page_content='learning, the game of checkers, in 1952. The computer improved', metadata={'source': 'machine_learning_basics.pdf', 'page': 4}),\n",
       " Document(page_content='at the game the more it played by determining which moves', metadata={'source': 'machine_learning_basics.pdf', 'page': 4}),\n",
       " Document(page_content='resulted in winning strategies, and incorporating those strategies \\ninto the game.', metadata={'source': 'machine_learning_basics.pdf', 'page': 4}),\n",
       " Document(page_content='NEURAL NETWORKS FOR COMPUTERS  1957', metadata={'source': 'machine_learning_basics.pdf', 'page': 4}),\n",
       " Document(page_content='Frank Rosenblatt designed the first neural network for computers', metadata={'source': 'machine_learning_basics.pdf', 'page': 4}),\n",
       " Document(page_content='in 1957, which was meant to simulate the thought process of a \\nhuman brain.', metadata={'source': 'machine_learning_basics.pdf', 'page': 4}),\n",
       " Document(page_content='“NEAREST NEIGHBOR” ALGORITHM  1967\\nThe “nearest neighbor” algorithm was written in 1967, allowing', metadata={'source': 'machine_learning_basics.pdf', 'page': 4}),\n",
       " Document(page_content='computers to begin recognizing basic patterns. This could be used', metadata={'source': 'machine_learning_basics.pdf', 'page': 4}),\n",
       " Document(page_content='as a mapping route for traveling salesmen.EXPLANATION BASED LEARNING  1981', metadata={'source': 'machine_learning_basics.pdf', 'page': 4}),\n",
       " Document(page_content='EBL, or Explanation Based Learning, was created in 1981 by', metadata={'source': 'machine_learning_basics.pdf', 'page': 4}),\n",
       " Document(page_content='Gerald Dejong. This concept allowed a computer to analyze', metadata={'source': 'machine_learning_basics.pdf', 'page': 4}),\n",
       " Document(page_content='training data and create a general rule it can follow by discarding \\nunimportant data.', metadata={'source': 'machine_learning_basics.pdf', 'page': 4}),\n",
       " Document(page_content='MACHINE LEARNING RESEARCH GROUP  1985\\nResearchers from AT&T created the first research group for', metadata={'source': 'machine_learning_basics.pdf', 'page': 4}),\n",
       " Document(page_content='machine learning in 1985. They also began a series of machine', metadata={'source': 'machine_learning_basics.pdf', 'page': 4}),\n",
       " Document(page_content='learning meetings that eventually turned into NIPS, the leading', metadata={'source': 'machine_learning_basics.pdf', 'page': 4}),\n",
       " Document(page_content='conference on machine learning. This group was representative', metadata={'source': 'machine_learning_basics.pdf', 'page': 4}),\n",
       " Document(page_content='of the early machine learning community, breaking away from a', metadata={'source': 'machine_learning_basics.pdf', 'page': 4}),\n",
       " Document(page_content='computer science field still mostly interested in expert systems.', metadata={'source': 'machine_learning_basics.pdf', 'page': 4}),\n",
       " Document(page_content='These theoreticians were confronted with real world problems', metadata={'source': 'machine_learning_basics.pdf', 'page': 4}),\n",
       " Document(page_content='where machines had to replace humans in recognizing noisy', metadata={'source': 'machine_learning_basics.pdf', 'page': 4}),\n",
       " Document(page_content='written digits: mainly check amounts and zip codes.\\nAUTOMATED SPEECH RECOGNITION  1992', metadata={'source': 'machine_learning_basics.pdf', 'page': 4}),\n",
       " Document(page_content='In 1992, Jay Wilpon (SVP of Natural Language Research at', metadata={'source': 'machine_learning_basics.pdf', 'page': 4}),\n",
       " Document(page_content='Interactions) and a team of researchers at AT&T deployed the first', metadata={'source': 'machine_learning_basics.pdf', 'page': 4}),\n",
       " Document(page_content='nationwide automated speech recognition (ASR) using a machine', metadata={'source': 'machine_learning_basics.pdf', 'page': 4}),\n",
       " Document(page_content='learning approach called Hidden Markov Models (HMMs). This', metadata={'source': 'machine_learning_basics.pdf', 'page': 4}),\n",
       " Document(page_content='saved billions of dollars in operating costs by spotting things like \\ncollect calls.', metadata={'source': 'machine_learning_basics.pdf', 'page': 4}),\n",
       " Document(page_content='SUPPORT VECTOR MACHINES  1992\\nResearchers at AT&T invented Support Vector Machines (SVMs)', metadata={'source': 'machine_learning_basics.pdf', 'page': 4}),\n",
       " Document(page_content='in 1992, a technique that revolutionized large scale classification', metadata={'source': 'machine_learning_basics.pdf', 'page': 4}),\n",
       " Document(page_content='because of its predictable performance.\\n5', metadata={'source': 'machine_learning_basics.pdf', 'page': 4}),\n",
       " Document(page_content='CONVOLUTIONAL NEURAL NETWORK  1996\\nPatrick Haffner (Lead Inventive Scientist at Interactions) and', metadata={'source': 'machine_learning_basics.pdf', 'page': 5}),\n",
       " Document(page_content='researchers from AT&T proposed the first convolutional neural', metadata={'source': 'machine_learning_basics.pdf', 'page': 5}),\n",
       " Document(page_content='network (CNN) in 1996, with a large scale application to check', metadata={'source': 'machine_learning_basics.pdf', 'page': 5}),\n",
       " Document(page_content='recognition. The influence of this technology was not appreciated', metadata={'source': 'machine_learning_basics.pdf', 'page': 5}),\n",
       " Document(page_content='until 10 years later when it became rebranded as deep learning, and', metadata={'source': 'machine_learning_basics.pdf', 'page': 5}),\n",
       " Document(page_content='machine learning researchers began to focus on another technique', metadata={'source': 'machine_learning_basics.pdf', 'page': 5}),\n",
       " Document(page_content='developed by the same group at AT&T: Support Vector Machines.\\nTHE ADABOOST ALGORITHM 1997', metadata={'source': 'machine_learning_basics.pdf', 'page': 5}),\n",
       " Document(page_content='In 1997, another group of researchers from AT&T invented the', metadata={'source': 'machine_learning_basics.pdf', 'page': 5}),\n",
       " Document(page_content='Adaboost algorithm. This algorithm allowed unstructured data to', metadata={'source': 'machine_learning_basics.pdf', 'page': 5}),\n",
       " Document(page_content='be handled through decision trees, making it wildly popular among \\na wide range of applications.', metadata={'source': 'machine_learning_basics.pdf', 'page': 5}),\n",
       " Document(page_content='NATURAL LANGUAGE UNDERSTANDING  2001\\nAT&T deployed natural language understanding in Interactive', metadata={'source': 'machine_learning_basics.pdf', 'page': 5}),\n",
       " Document(page_content='Voice Response (IVR) systems in 2001, combining 3 of its machine', metadata={'source': 'machine_learning_basics.pdf', 'page': 5}),\n",
       " Document(page_content='learning technologies: SVMs, HMMs, and Adaboost.\\nDEEP LEARNING  2006', metadata={'source': 'machine_learning_basics.pdf', 'page': 5}),\n",
       " Document(page_content='The concept of deep learning was successfully promoted,', metadata={'source': 'machine_learning_basics.pdf', 'page': 5}),\n",
       " Document(page_content='increasing the power and accuracy of neural networks.\\nDEEP NEURAL NETWORKS  2011', metadata={'source': 'machine_learning_basics.pdf', 'page': 5}),\n",
       " Document(page_content='A group of researchers began to work on deep neural networks', metadata={'source': 'machine_learning_basics.pdf', 'page': 5}),\n",
       " Document(page_content='(DNNs) in 2011 and new algorithms were discovered that', metadata={'source': 'machine_learning_basics.pdf', 'page': 5}),\n",
       " Document(page_content='made it possible to train a model on millions of examples,', metadata={'source': 'machine_learning_basics.pdf', 'page': 5}),\n",
       " Document(page_content='outcompeting other techniques previously used in computer', metadata={'source': 'machine_learning_basics.pdf', 'page': 5}),\n",
       " Document(page_content='vision and speech recognition. Large DNNs trained on massive', metadata={'source': 'machine_learning_basics.pdf', 'page': 5}),\n",
       " Document(page_content='amounts of data also allowed ASR to reach ‘super-human’', metadata={'source': 'machine_learning_basics.pdf', 'page': 5}),\n",
       " Document(page_content='performance in controlled settings.MODERN APPLICATIONS OF MACHINE LEARNING', metadata={'source': 'machine_learning_basics.pdf', 'page': 5}),\n",
       " Document(page_content='GOOGLE AND FACEBOOK UTILIZE  \\nMACHINE LEARNING  2014', metadata={'source': 'machine_learning_basics.pdf', 'page': 5}),\n",
       " Document(page_content='In 2014, Google and Facebook made machine learning the pivotal', metadata={'source': 'machine_learning_basics.pdf', 'page': 5}),\n",
       " Document(page_content='technology of their businesses. In both companies, machine', metadata={'source': 'machine_learning_basics.pdf', 'page': 5}),\n",
       " Document(page_content='learning was led by ex-AT&T researchers.\\nMACHINE LEARNING AND CUSTOMER CARE  2015', metadata={'source': 'machine_learning_basics.pdf', 'page': 5}),\n",
       " Document(page_content='In 2015, Interactions acquired AT&T’s Watson and the AT&T', metadata={'source': 'machine_learning_basics.pdf', 'page': 5}),\n",
       " Document(page_content='speech and language research team. Combined with their award-', metadata={'source': 'machine_learning_basics.pdf', 'page': 5}),\n",
       " Document(page_content='winning Adaptive Understanding™  technology, Interactions', metadata={'source': 'machine_learning_basics.pdf', 'page': 5}),\n",
       " Document(page_content='delivers unprecedented accuracy in understanding that helps', metadata={'source': 'machine_learning_basics.pdf', 'page': 5}),\n",
       " Document(page_content='enterprises revolutionize their customer care experience.\\nMACHINE LEARNING AND SOCIAL MEDIA  2017', metadata={'source': 'machine_learning_basics.pdf', 'page': 5}),\n",
       " Document(page_content='Acquired by Interactions in 2017, Digital Roots provides', metadata={'source': 'machine_learning_basics.pdf', 'page': 5}),\n",
       " Document(page_content='companies with AI-based social media. Its technology allows', metadata={'source': 'machine_learning_basics.pdf', 'page': 5}),\n",
       " Document(page_content='brands to quickly filter, respond, and interact with followers  \\non social media.1996\\n19502014\\n6', metadata={'source': 'machine_learning_basics.pdf', 'page': 5}),\n",
       " Document(page_content='1950\\nAlan Turing created the “Turing Test”\\n1996\\nPatrick Haffner and the team', metadata={'source': 'machine_learning_basics.pdf', 'page': 6}),\n",
       " Document(page_content='at AT&T proposed the first \\nconvolutional neural network1967\\nThe “nearest neighbor”', metadata={'source': 'machine_learning_basics.pdf', 'page': 6}),\n",
       " Document(page_content='algorithm was written\\n2011\\nA large community of \\nresearchers started to work', metadata={'source': 'machine_learning_basics.pdf', 'page': 6}),\n",
       " Document(page_content='on deep neural networks1952\\nArthur Samuel wrote the first \\ncomputer learning program\\n1997', metadata={'source': 'machine_learning_basics.pdf', 'page': 6}),\n",
       " Document(page_content='Another group of AT&T \\nresearchers invented \\nthe Adaboost algorithm1981\\nGerald Dejong introduced', metadata={'source': 'machine_learning_basics.pdf', 'page': 6}),\n",
       " Document(page_content='the concept of Explanation \\nBased Learning (EBL)\\n2014\\nGoogle and Facebook made', metadata={'source': 'machine_learning_basics.pdf', 'page': 6}),\n",
       " Document(page_content='machine learning, and in \\nparticular deep learning, \\ntheir pivotal technology1957', metadata={'source': 'machine_learning_basics.pdf', 'page': 6}),\n",
       " Document(page_content='Frank Rosenblatt   \\ndesigned the first neural \\nnetwork for computers\\n2001', metadata={'source': 'machine_learning_basics.pdf', 'page': 6}),\n",
       " Document(page_content='AT&T deployed natural language \\nunderstanding in IVR systems1985\\nAT&T created the first', metadata={'source': 'machine_learning_basics.pdf', 'page': 6}),\n",
       " Document(page_content='research group dedicated \\nto machine learning\\n2015\\nInteractions acquired \\nAT&T’s Watson1992', metadata={'source': 'machine_learning_basics.pdf', 'page': 6}),\n",
       " Document(page_content='Jay Wilpon and team from AT&T \\ndeployed the first nationwide \\nautomated speech recognition\\n2017', metadata={'source': 'machine_learning_basics.pdf', 'page': 6}),\n",
       " Document(page_content='Interactions acquired \\nDigital RootsBRIEF  \\nHISTORY  \\nOF MACHINE  \\nLEARNING\\n</>\\n7', metadata={'source': 'machine_learning_basics.pdf', 'page': 6}),\n",
       " Document(page_content='The overall goal of machine learning is to build models that imitate and generalize', metadata={'source': 'machine_learning_basics.pdf', 'page': 7}),\n",
       " Document(page_content='data. These models need to learn how to discriminate certain things to achieve a', metadata={'source': 'machine_learning_basics.pdf', 'page': 7}),\n",
       " Document(page_content='desired end result. Simply put, machine learning uses a variety of techniques, and', metadata={'source': 'machine_learning_basics.pdf', 'page': 7}),\n",
       " Document(page_content='algorithms within these techniques, to reach a specific goal.\\nRECOGNIZING PATTERNS', metadata={'source': 'machine_learning_basics.pdf', 'page': 7}),\n",
       " Document(page_content='Machine learning learns from data, and uses that data to recognize patterns. Jay', metadata={'source': 'machine_learning_basics.pdf', 'page': 7}),\n",
       " Document(page_content='Wilpon, Senior Vice President of Natural Language Research at Interactions, best', metadata={'source': 'machine_learning_basics.pdf', 'page': 7}),\n",
       " Document(page_content='describes how machine learning works by using an analogy of fruits. For instance,', metadata={'source': 'machine_learning_basics.pdf', 'page': 7}),\n",
       " Document(page_content='let’s assume someone handed you an orange and a grapefruit, and you’ve never', metadata={'source': 'machine_learning_basics.pdf', 'page': 7}),\n",
       " Document(page_content='seen them before. How do you tell them apart? They’re both round, but the', metadata={'source': 'machine_learning_basics.pdf', 'page': 7}),\n",
       " Document(page_content='grapefruit is slightly bigger. You could then determine that size is one feature that', metadata={'source': 'machine_learning_basics.pdf', 'page': 7}),\n",
       " Document(page_content='can separate the two. Now, let’s say someone hands you an apple. While the', metadata={'source': 'machine_learning_basics.pdf', 'page': 7}),\n",
       " Document(page_content='shapes are similar, this fruit is red, triggering you to realize that color is another', metadata={'source': 'machine_learning_basics.pdf', 'page': 7}),\n",
       " Document(page_content='potential differentiator. Finally, someone gives you a banana...now you can add', metadata={'source': 'machine_learning_basics.pdf', 'page': 7}),\n",
       " Document(page_content='shape as another characterization.', metadata={'source': 'machine_learning_basics.pdf', 'page': 7}),\n",
       " Document(page_content='This simple analogy is similar to how machine learning works. The job of machine', metadata={'source': 'machine_learning_basics.pdf', 'page': 7}),\n",
       " Document(page_content='learning is not only to recognize that what it’s being handed is fruit, but also to', metadata={'source': 'machine_learning_basics.pdf', 'page': 7}),\n",
       " Document(page_content='make sure that it is not calling a grapefruit a banana and vice versa.HOW IT WORKS', metadata={'source': 'machine_learning_basics.pdf', 'page': 7}),\n",
       " Document(page_content='HOW DO YOU TELL THEM APART?\\nJay Wilpon explains how machine learning works', metadata={'source': 'machine_learning_basics.pdf', 'page': 7}),\n",
       " Document(page_content='with an analogy of how algorithms decipher the \\ndifference between types of fruits.', metadata={'source': 'machine_learning_basics.pdf', 'page': 7}),\n",
       " Document(page_content='Size is one feature that can separate the two.\\nColor is another potential differentiator.', metadata={'source': 'machine_learning_basics.pdf', 'page': 7}),\n",
       " Document(page_content='You can add shape as another characterization.\\n8', metadata={'source': 'machine_learning_basics.pdf', 'page': 7}),\n",
       " Document(page_content='It’s important to remember that machine learning is not one-', metadata={'source': 'machine_learning_basics.pdf', 'page': 8}),\n",
       " Document(page_content='size-fits-all. Different algorithms, and different techniques within', metadata={'source': 'machine_learning_basics.pdf', 'page': 8}),\n",
       " Document(page_content='those algorithms, are used to build a model that is application', metadata={'source': 'machine_learning_basics.pdf', 'page': 8}),\n",
       " Document(page_content='appropriate. Below we discuss a number of primarily used', metadata={'source': 'machine_learning_basics.pdf', 'page': 8}),\n",
       " Document(page_content='techniques when utilizing machine learning.\\nWHICH TECHNIQUE IS BEST?', metadata={'source': 'machine_learning_basics.pdf', 'page': 8}),\n",
       " Document(page_content='Machine learning is not a concrete set of algorithms used across', metadata={'source': 'machine_learning_basics.pdf', 'page': 8}),\n",
       " Document(page_content='the board. Depending on what you are trying to achieve, different', metadata={'source': 'machine_learning_basics.pdf', 'page': 8}),\n",
       " Document(page_content='technologies and different algorithms can be used. But how do', metadata={'source': 'machine_learning_basics.pdf', 'page': 8}),\n",
       " Document(page_content='you know when to use which technology and/or algorithm? The', metadata={'source': 'machine_learning_basics.pdf', 'page': 8}),\n",
       " Document(page_content='answer heavily relies on the type of data,  \\nand the amount of data, that is available.', metadata={'source': 'machine_learning_basics.pdf', 'page': 8}),\n",
       " Document(page_content='SUPERVISED LEARNING \\nWhether or not data has been labeled determines whether it is', metadata={'source': 'machine_learning_basics.pdf', 'page': 8}),\n",
       " Document(page_content='supervised or unsupervised. Supervised learning uses human-', metadata={'source': 'machine_learning_basics.pdf', 'page': 8}),\n",
       " Document(page_content='labeled data, and are commonly used when data can predict', metadata={'source': 'machine_learning_basics.pdf', 'page': 8}),\n",
       " Document(page_content='likely events. In other words, it is an input when the desired', metadata={'source': 'machine_learning_basics.pdf', 'page': 8}),\n",
       " Document(page_content='output is known. The algorithm learns a set of inputs along with', metadata={'source': 'machine_learning_basics.pdf', 'page': 8}),\n",
       " Document(page_content='corresponding correct outputs and learns by comparing its actual', metadata={'source': 'machine_learning_basics.pdf', 'page': 8}),\n",
       " Document(page_content='output with correct outputs to find errors. Once it finds the errors,', metadata={'source': 'machine_learning_basics.pdf', 'page': 8}),\n",
       " Document(page_content='it can modify the model accordingly.MACHINE LEARNING TECHNIQUES\\nClassification', metadata={'source': 'machine_learning_basics.pdf', 'page': 8}),\n",
       " Document(page_content='Classification, which falls under supervised learning, can', metadata={'source': 'machine_learning_basics.pdf', 'page': 8}),\n",
       " Document(page_content='be defined as trying to predict an output given the input.', metadata={'source': 'machine_learning_basics.pdf', 'page': 8}),\n",
       " Document(page_content='Classification takes an unknown group of entities and works to', metadata={'source': 'machine_learning_basics.pdf', 'page': 8}),\n",
       " Document(page_content='identify them into larger known groups. To learn, it requires a set', metadata={'source': 'machine_learning_basics.pdf', 'page': 8}),\n",
       " Document(page_content='of labeled examples such as an image, text, or speech. As the', metadata={'source': 'machine_learning_basics.pdf', 'page': 8}),\n",
       " Document(page_content='number of classes grow, the data required to train a classifier to', metadata={'source': 'machine_learning_basics.pdf', 'page': 8}),\n",
       " Document(page_content='reach high accuracy can be large, reaching thousands or even', metadata={'source': 'machine_learning_basics.pdf', 'page': 8}),\n",
       " Document(page_content='millions of examples. While classification typically targets simple', metadata={'source': 'machine_learning_basics.pdf', 'page': 8}),\n",
       " Document(page_content='categories, it can be extended to situations where the target is a', metadata={'source': 'machine_learning_basics.pdf', 'page': 8}),\n",
       " Document(page_content='structure or a sequence, like in natural language processing.\\nUNSUPERVISED LEARNING', metadata={'source': 'machine_learning_basics.pdf', 'page': 8}),\n",
       " Document(page_content='Unsupervised learning uses unlabeled data. In this situation, the', metadata={'source': 'machine_learning_basics.pdf', 'page': 8}),\n",
       " Document(page_content='machine discovers new patterns without knowing any prior data or', metadata={'source': 'machine_learning_basics.pdf', 'page': 8}),\n",
       " Document(page_content='information. This type of learning works well with clustering, which', metadata={'source': 'machine_learning_basics.pdf', 'page': 8}),\n",
       " Document(page_content='is when data is categorized into groups of similar data.\\nREINFORCEMENT LEARNING', metadata={'source': 'machine_learning_basics.pdf', 'page': 8}),\n",
       " Document(page_content='Inspired by the psychological idea of reinforcement behavior,', metadata={'source': 'machine_learning_basics.pdf', 'page': 8}),\n",
       " Document(page_content='reinforcement learning is the idea of learning by doing. A machine', metadata={'source': 'machine_learning_basics.pdf', 'page': 8}),\n",
       " Document(page_content='can determine an ideal outcome by trial and error. Over time,', metadata={'source': 'machine_learning_basics.pdf', 'page': 8}),\n",
       " Document(page_content='it learns to choose certain actions that result in the desirable', metadata={'source': 'machine_learning_basics.pdf', 'page': 8}),\n",
       " Document(page_content='outcome. This type of learning is often used in applications such \\nas gaming, navigation, and more.', metadata={'source': 'machine_learning_basics.pdf', 'page': 8}),\n",
       " Document(page_content='9', metadata={'source': 'machine_learning_basics.pdf', 'page': 8}),\n",
       " Document(page_content='NEURAL NETWORKS\\nDeep neural networks (DNNs), also known as artificial neural networks (ANN),', metadata={'source': 'machine_learning_basics.pdf', 'page': 9}),\n",
       " Document(page_content='represent a set of techniques used to build powerful learning systems. Unlike', metadata={'source': 'machine_learning_basics.pdf', 'page': 9}),\n",
       " Document(page_content='algorithms such as SVMs and Adaboost, they add a number of “hidden” layers', metadata={'source': 'machine_learning_basics.pdf', 'page': 9}),\n",
       " Document(page_content='that are used to extract intermediate representations. While invented in the', metadata={'source': 'machine_learning_basics.pdf', 'page': 9}),\n",
       " Document(page_content='1980s, DNNs took off after 2010 thanks to powerful parallel hardware and', metadata={'source': 'machine_learning_basics.pdf', 'page': 9}),\n",
       " Document(page_content='easy-to-use open source software. DNNs cover a huge range of different neural', metadata={'source': 'machine_learning_basics.pdf', 'page': 9}),\n",
       " Document(page_content='architectures, the best known being:', metadata={'source': 'machine_learning_basics.pdf', 'page': 9}),\n",
       " Document(page_content='• Recurrent Neural Networks (RNN)  - A network whose neurons send \\nfeedback signals to each other', metadata={'source': 'machine_learning_basics.pdf', 'page': 9}),\n",
       " Document(page_content='• Convolutional Neural Networks (CNN)  - A feed-forward ANN typically', metadata={'source': 'machine_learning_basics.pdf', 'page': 9}),\n",
       " Document(page_content='applied for visual and image recognition\\n10', metadata={'source': 'machine_learning_basics.pdf', 'page': 9}),\n",
       " Document(page_content='THE IMPORTANCE OF  \\nTHE HUMAN ELEMENT', metadata={'source': 'machine_learning_basics.pdf', 'page': 10}),\n",
       " Document(page_content='Regardless of how intelligent technology can be, at the end of the', metadata={'source': 'machine_learning_basics.pdf', 'page': 10}),\n",
       " Document(page_content='day it will never be perfect. Humans can accelerate the process', metadata={'source': 'machine_learning_basics.pdf', 'page': 10}),\n",
       " Document(page_content='of understanding by teaching the technology in real-time. For', metadata={'source': 'machine_learning_basics.pdf', 'page': 10}),\n",
       " Document(page_content='example, if machine learning comes across a piece of data it', metadata={'source': 'machine_learning_basics.pdf', 'page': 10}),\n",
       " Document(page_content='cannot understand, a human can interfere and tell the technology', metadata={'source': 'machine_learning_basics.pdf', 'page': 10}),\n",
       " Document(page_content='what it is, making it more accurate the next time it comes across', metadata={'source': 'machine_learning_basics.pdf', 'page': 10}),\n",
       " Document(page_content='that same piece of data. Technology does not have the same level', metadata={'source': 'machine_learning_basics.pdf', 'page': 10}),\n",
       " Document(page_content='of understanding as a human, and adding humans to the machine', metadata={'source': 'machine_learning_basics.pdf', 'page': 10}),\n",
       " Document(page_content='learning process can assist with decision making and allow the', metadata={'source': 'machine_learning_basics.pdf', 'page': 10}),\n",
       " Document(page_content='technology to become more self-aware. This human touch can', metadata={'source': 'machine_learning_basics.pdf', 'page': 10}),\n",
       " Document(page_content='personify machine learning, make it easier to relate to, and  \\nin-turn, make it less intimidating.', metadata={'source': 'machine_learning_basics.pdf', 'page': 10}),\n",
       " Document(page_content='Aside from making it more personalized, when humans and', metadata={'source': 'machine_learning_basics.pdf', 'page': 10}),\n",
       " Document(page_content='robots work together, the results are truly exceptional—and', metadata={'source': 'machine_learning_basics.pdf', 'page': 10}),\n",
       " Document(page_content='accurate. Humans can become involved in the process in a few', metadata={'source': 'machine_learning_basics.pdf', 'page': 10}),\n",
       " Document(page_content='ways. First, they can assist with labeling data that will be fed into', metadata={'source': 'machine_learning_basics.pdf', 'page': 10}),\n",
       " Document(page_content='the machine learning model, and secondly they help machine', metadata={'source': 'machine_learning_basics.pdf', 'page': 10}),\n",
       " Document(page_content='learning predict and correct inaccuracies, which results in more', metadata={'source': 'machine_learning_basics.pdf', 'page': 10}),\n",
       " Document(page_content='accurate end results.Interactions understands the crucial role the human element plays', metadata={'source': 'machine_learning_basics.pdf', 'page': 10}),\n",
       " Document(page_content='in artificial intelligence, which is why we’ve focused on integrating', metadata={'source': 'machine_learning_basics.pdf', 'page': 10}),\n",
       " Document(page_content='human intelligence into our technology. Our proprietary Adaptive', metadata={'source': 'machine_learning_basics.pdf', 'page': 10}),\n",
       " Document(page_content='Understanding™ technology combines speech recognition, natural', metadata={'source': 'machine_learning_basics.pdf', 'page': 10}),\n",
       " Document(page_content='language processing, and Human Assisted Understanding to', metadata={'source': 'machine_learning_basics.pdf', 'page': 10}),\n",
       " Document(page_content='provide our customers, and their customers, conversational and', metadata={'source': 'machine_learning_basics.pdf', 'page': 10}),\n",
       " Document(page_content='engaging self-service. This enables continuous improvement and \\nlearning in live applications.\\n11', metadata={'source': 'machine_learning_basics.pdf', 'page': 10}),\n",
       " Document(page_content='As previously mentioned, we encounter machine learning on a', metadata={'source': 'machine_learning_basics.pdf', 'page': 11}),\n",
       " Document(page_content='daily basis, whether we realize it or not. Aside from in our day-', metadata={'source': 'machine_learning_basics.pdf', 'page': 11}),\n",
       " Document(page_content='to-day lives, industries from retail to government and more are', metadata={'source': 'machine_learning_basics.pdf', 'page': 11}),\n",
       " Document(page_content='depending on machine learning to get things done. Below is a', metadata={'source': 'machine_learning_basics.pdf', 'page': 11}),\n",
       " Document(page_content='short list of how different industries are utilizing machine learning.', metadata={'source': 'machine_learning_basics.pdf', 'page': 11}),\n",
       " Document(page_content='This is not a complete list, as dozens of industries are using', metadata={'source': 'machine_learning_basics.pdf', 'page': 11}),\n",
       " Document(page_content='machine learning in a vast number of ways.\\nFINANCE', metadata={'source': 'machine_learning_basics.pdf', 'page': 11}),\n",
       " Document(page_content='With its quantitative nature, banking and finance are an ideal', metadata={'source': 'machine_learning_basics.pdf', 'page': 11}),\n",
       " Document(page_content='application for machine learning. The technology is being used', metadata={'source': 'machine_learning_basics.pdf', 'page': 11}),\n",
       " Document(page_content='in dozens of ways industry-wide, but here are a few of the most \\ncommonly used:', metadata={'source': 'machine_learning_basics.pdf', 'page': 11}),\n",
       " Document(page_content='Fraud  - Machine learning algorithms can analyze an enormous', metadata={'source': 'machine_learning_basics.pdf', 'page': 11}),\n",
       " Document(page_content='amount of transactions at a time, and learn a person’s typical', metadata={'source': 'machine_learning_basics.pdf', 'page': 11}),\n",
       " Document(page_content='spending patterns. If a transaction is made that is unusual, it will', metadata={'source': 'machine_learning_basics.pdf', 'page': 11}),\n",
       " Document(page_content='reject the transaction and indicate potential fraud.WHO’S USING IT?', metadata={'source': 'machine_learning_basics.pdf', 'page': 11}),\n",
       " Document(page_content='Trading floors  - With its ability to efficiently assess data and', metadata={'source': 'machine_learning_basics.pdf', 'page': 11}),\n",
       " Document(page_content='patterns, machine learning can assist with quick decision-making  \\nin real-time.', metadata={'source': 'machine_learning_basics.pdf', 'page': 11}),\n",
       " Document(page_content='Credit and risk management  - Typically assessing credit risk is', metadata={'source': 'machine_learning_basics.pdf', 'page': 11}),\n",
       " Document(page_content='labor intensive and is prone to human-subjected errors. With', metadata={'source': 'machine_learning_basics.pdf', 'page': 11}),\n",
       " Document(page_content='machine learning, certain algorithms can help to provide mitigation \\nrecommendations.\\nUTILITIES', metadata={'source': 'machine_learning_basics.pdf', 'page': 11}),\n",
       " Document(page_content='Utility companies can utilize machine learning in a number of ways,', metadata={'source': 'machine_learning_basics.pdf', 'page': 11}),\n",
       " Document(page_content='including uncovering hidden energy patterns, learning customer’s \\nenergy behaviors, and more.\\n12', metadata={'source': 'machine_learning_basics.pdf', 'page': 11}),\n",
       " Document(page_content='HEALTHCARE\\nDiagnoses  - Machine learning can analyze data and identify trends', metadata={'source': 'machine_learning_basics.pdf', 'page': 12}),\n",
       " Document(page_content='or red flags within patients to potentially lead to earlier diagnoses \\nand better treatments.', metadata={'source': 'machine_learning_basics.pdf', 'page': 12}),\n",
       " Document(page_content='Patient information  - Data can be collected from a patient’s', metadata={'source': 'machine_learning_basics.pdf', 'page': 12}),\n",
       " Document(page_content='device to assess their health in real-time.', metadata={'source': 'machine_learning_basics.pdf', 'page': 12}),\n",
       " Document(page_content='Drug discovery  - Given its ability to detect patterns within data,', metadata={'source': 'machine_learning_basics.pdf', 'page': 12}),\n",
       " Document(page_content='scientists are able to better predict drug side effects and results of', metadata={'source': 'machine_learning_basics.pdf', 'page': 12}),\n",
       " Document(page_content='drug experiments without actually performing them.\\nMARKETING AND SALES', metadata={'source': 'machine_learning_basics.pdf', 'page': 12}),\n",
       " Document(page_content='Personalization  - Machine learning allows online brands to', metadata={'source': 'machine_learning_basics.pdf', 'page': 12}),\n",
       " Document(page_content='suggest and advertise things you may like based on your browser', metadata={'source': 'machine_learning_basics.pdf', 'page': 12}),\n",
       " Document(page_content='and search history. Brands use their collected data to give', metadata={'source': 'machine_learning_basics.pdf', 'page': 12}),\n",
       " Document(page_content='customers a unique and personalized experience.OIL AND GAS', metadata={'source': 'machine_learning_basics.pdf', 'page': 12}),\n",
       " Document(page_content='Energy sources  - By analyzing different minerals in the ground,', metadata={'source': 'machine_learning_basics.pdf', 'page': 12}),\n",
       " Document(page_content='machine learning provides the potential to discover new energy \\nsources.', metadata={'source': 'machine_learning_basics.pdf', 'page': 12}),\n",
       " Document(page_content='Streamlining oil distribution  - Algorithms work to make oil', metadata={'source': 'machine_learning_basics.pdf', 'page': 12}),\n",
       " Document(page_content='distribution more efficient and cost-effective.', metadata={'source': 'machine_learning_basics.pdf', 'page': 12}),\n",
       " Document(page_content='Reservoir modeling  - Certain machine learning techniques can', metadata={'source': 'machine_learning_basics.pdf', 'page': 12}),\n",
       " Document(page_content='focus on optimization of hydraulic fracturing, reservoir simulation, \\nand more.\\nTRANSPORTATION', metadata={'source': 'machine_learning_basics.pdf', 'page': 12}),\n",
       " Document(page_content='Efficient transportation  - Analysis of data can identify certain', metadata={'source': 'machine_learning_basics.pdf', 'page': 12}),\n",
       " Document(page_content='patterns and trends to make routes more efficient for public', metadata={'source': 'machine_learning_basics.pdf', 'page': 12}),\n",
       " Document(page_content='transportation, delivery companies, and more.\\n$\\n13', metadata={'source': 'machine_learning_basics.pdf', 'page': 12}),\n",
       " Document(page_content='While machine learning has proved to have a profound impact across all', metadata={'source': 'machine_learning_basics.pdf', 'page': 13}),\n",
       " Document(page_content='industries, there are still uncertainties and challenges regarding the technology.', metadata={'source': 'machine_learning_basics.pdf', 'page': 13}),\n",
       " Document(page_content='INTELLIGENT ASSISTANT, NOT OVERLORD', metadata={'source': 'machine_learning_basics.pdf', 'page': 13}),\n",
       " Document(page_content='First and foremost is the fear that technology will overcome humans. As we', metadata={'source': 'machine_learning_basics.pdf', 'page': 13}),\n",
       " Document(page_content='discussed, technology is not perfect, and often needs the assistance of humans', metadata={'source': 'machine_learning_basics.pdf', 'page': 13}),\n",
       " Document(page_content='to ensure accuracy. However, there is still a lot of fear and uncertainty regarding', metadata={'source': 'machine_learning_basics.pdf', 'page': 13}),\n",
       " Document(page_content='the power of technology and its ability to become smarter than we are. At its', metadata={'source': 'machine_learning_basics.pdf', 'page': 13}),\n",
       " Document(page_content='core, AI is a set of mathematical equations and algorithms that require human', metadata={'source': 'machine_learning_basics.pdf', 'page': 13}),\n",
       " Document(page_content='training. This means that AI, and machine learning, are only as smart as we teach', metadata={'source': 'machine_learning_basics.pdf', 'page': 13}),\n",
       " Document(page_content='them to be. When applied properly, AI is a perfect assistant to help humans', metadata={'source': 'machine_learning_basics.pdf', 'page': 13}),\n",
       " Document(page_content='become more productive. Technology is not here to overcome us and overpower', metadata={'source': 'machine_learning_basics.pdf', 'page': 13}),\n",
       " Document(page_content='us, but rather assist us and improve our quality of life.\\nISSUES WITH UNLABELED DATA', metadata={'source': 'machine_learning_basics.pdf', 'page': 13}),\n",
       " Document(page_content='A more technical issue with both machine learning and artificial intelligence is the', metadata={'source': 'machine_learning_basics.pdf', 'page': 13}),\n",
       " Document(page_content='technology’s ability to handle unlabeled data. Because machine learning relies on', metadata={'source': 'machine_learning_basics.pdf', 'page': 13}),\n",
       " Document(page_content='data to learn, it naturally requires a large amount of labeled data to work most', metadata={'source': 'machine_learning_basics.pdf', 'page': 13}),\n",
       " Document(page_content='efficiently. However, there are many cases when data isn’t readily available or', metadata={'source': 'machine_learning_basics.pdf', 'page': 13}),\n",
       " Document(page_content='is unlabeled. This makes creating algorithms more challenging. With on-going', metadata={'source': 'machine_learning_basics.pdf', 'page': 13}),\n",
       " Document(page_content='research and new advancements, we’re training these systems to become', metadata={'source': 'machine_learning_basics.pdf', 'page': 13}),\n",
       " Document(page_content='smarter and reach human-level accuracy, so that one day unlabeled data will be', metadata={'source': 'machine_learning_basics.pdf', 'page': 13}),\n",
       " Document(page_content='just as sufficient as labeled data.CHALLENGES AND HESITATIONS\\n14', metadata={'source': 'machine_learning_basics.pdf', 'page': 13}),\n",
       " Document(page_content='While the technologies behind machine learning and AI seem', metadata={'source': 'machine_learning_basics.pdf', 'page': 14}),\n",
       " Document(page_content='futuristic in themselves, this is only the beginning. Many machine', metadata={'source': 'machine_learning_basics.pdf', 'page': 14}),\n",
       " Document(page_content='learning experts suspect that these systems will be as smart, if not', metadata={'source': 'machine_learning_basics.pdf', 'page': 14}),\n",
       " Document(page_content='smarter, than us within the next 30-50 years.', metadata={'source': 'machine_learning_basics.pdf', 'page': 14}),\n",
       " Document(page_content='But, as for the near future, experts expect we will continue to', metadata={'source': 'machine_learning_basics.pdf', 'page': 14}),\n",
       " Document(page_content='collect more and more data that, in turn, will improve the accuracy', metadata={'source': 'machine_learning_basics.pdf', 'page': 14}),\n",
       " Document(page_content='of our machine learning systems. With more data, better algorithms,', metadata={'source': 'machine_learning_basics.pdf', 'page': 14}),\n",
       " Document(page_content='and improved accuracy, the possibilities of this technology in the \\nfuture are endless.THE FUTURE', metadata={'source': 'machine_learning_basics.pdf', 'page': 14}),\n",
       " Document(page_content='OF MACHINE  \\nLEARNING\\nTHE POSSIBILITIES OF THIS \\nTECHNOLOGY IN THE FUTURE  \\nARE ENDLESS.\\n15', metadata={'source': 'machine_learning_basics.pdf', 'page': 14}),\n",
       " Document(page_content='JAY WILPON\\nSVP, NATURAL LANGUAGE RESEARCH, INTERACTIONS', metadata={'source': 'machine_learning_basics.pdf', 'page': 15}),\n",
       " Document(page_content='With more than 150 published papers and patents in speech and natural language', metadata={'source': 'machine_learning_basics.pdf', 'page': 15}),\n",
       " Document(page_content='research to his name, Jay Wilpon is one of the world’s pioneers and a chief evangelist', metadata={'source': 'machine_learning_basics.pdf', 'page': 15}),\n",
       " Document(page_content='for speech and natural language technologies and services.', metadata={'source': 'machine_learning_basics.pdf', 'page': 15}),\n",
       " Document(page_content='During his career, Jay has been a leading innovator for a number of industry-defining', metadata={'source': 'machine_learning_basics.pdf', 'page': 15}),\n",
       " Document(page_content='voice enabled services, including AT&T’s How May I Help You service – the first', metadata={'source': 'machine_learning_basics.pdf', 'page': 15}),\n",
       " Document(page_content='nationwide deployment of a true human-like spoken language understanding service.', metadata={'source': 'machine_learning_basics.pdf', 'page': 15}),\n",
       " Document(page_content='Jay and his team are addressing the key challenges in speech, natural language', metadata={'source': 'machine_learning_basics.pdf', 'page': 15}),\n",
       " Document(page_content='processing and multimodal dialog systems.', metadata={'source': 'machine_learning_basics.pdf', 'page': 15}),\n",
       " Document(page_content='Jay has previously been awarded the distinguished honor of IEEE Fellow for his', metadata={'source': 'machine_learning_basics.pdf', 'page': 15}),\n",
       " Document(page_content='leadership in the development of automatic speech recognition algorithms. For', metadata={'source': 'machine_learning_basics.pdf', 'page': 15}),\n",
       " Document(page_content='pioneering leadership in the creation and deployment of speech recognition-based', metadata={'source': 'machine_learning_basics.pdf', 'page': 15}),\n",
       " Document(page_content='services in the telephone network, Jay has also been awarded the honor of AT&T Fellow.', metadata={'source': 'machine_learning_basics.pdf', 'page': 15}),\n",
       " Document(page_content='DAVID THOMSON\\nVP, SPEECH RESEARCH, INTERACTIONS', metadata={'source': 'machine_learning_basics.pdf', 'page': 15}),\n",
       " Document(page_content='As Vice President of Speech Research, David manages Interactions’ R&D teams to', metadata={'source': 'machine_learning_basics.pdf', 'page': 15}),\n",
       " Document(page_content='further Interactions’ goal to redefine the speech technology industry. David is at the', metadata={'source': 'machine_learning_basics.pdf', 'page': 15}),\n",
       " Document(page_content='forefront of Interactions’ objective to create the most accurate, fastest, and highest', metadata={'source': 'machine_learning_basics.pdf', 'page': 15}),\n",
       " Document(page_content='quality speech solutions. Prior to joining Interactions, David spent five years with', metadata={'source': 'machine_learning_basics.pdf', 'page': 15}),\n",
       " Document(page_content='AT&T Labs, where he was responsible for the development of technology from speech', metadata={'source': 'machine_learning_basics.pdf', 'page': 15}),\n",
       " Document(page_content='research. He has held senior executive-level positions at SpinVox, SpeechPhone, and', metadata={'source': 'machine_learning_basics.pdf', 'page': 15}),\n",
       " Document(page_content='Fonix. He also spent 18 years at Lucent Technologies (now Alcatel-Lucent), where he', metadata={'source': 'machine_learning_basics.pdf', 'page': 15}),\n",
       " Document(page_content='developed voice activated systems that have handled over 20 billion calls. David has', metadata={'source': 'machine_learning_basics.pdf', 'page': 15}),\n",
       " Document(page_content='published 30 research papers and secured 11 patents in natural language research.CONTRIBUTORS\\n16', metadata={'source': 'machine_learning_basics.pdf', 'page': 15}),\n",
       " Document(page_content='SRINIVAS BANGALORE\\nDIRECTOR OF RESEARCH AND TECHNOLOGY, INTERACTIONS', metadata={'source': 'machine_learning_basics.pdf', 'page': 16}),\n",
       " Document(page_content='Dr. Srinivas Bangalore is currently the Director of Research and Technology at', metadata={'source': 'machine_learning_basics.pdf', 'page': 16}),\n",
       " Document(page_content='Interactions. After receiving his PhD in Computer Science from The University of', metadata={'source': 'machine_learning_basics.pdf', 'page': 16}),\n",
       " Document(page_content='Pennsylvania, he became a Principal Research Scientist at AT&T Labs—Research.', metadata={'source': 'machine_learning_basics.pdf', 'page': 16}),\n",
       " Document(page_content='Dr. Bangalore has worked on many areas of Natural Language Processing including', metadata={'source': 'machine_learning_basics.pdf', 'page': 16}),\n",
       " Document(page_content='Spoken Language Translation, Multimodal Understanding, Language Generation', metadata={'source': 'machine_learning_basics.pdf', 'page': 16}),\n",
       " Document(page_content='and Question-Answering. He has co-edited three books on Supertagging, Natural', metadata={'source': 'machine_learning_basics.pdf', 'page': 16}),\n",
       " Document(page_content='Language Generation, and Language Translation. He has authored over a 100 research', metadata={'source': 'machine_learning_basics.pdf', 'page': 16}),\n",
       " Document(page_content='publications and holds over 100 patents in these areas. He has been awarded the Morris', metadata={'source': 'machine_learning_basics.pdf', 'page': 16}),\n",
       " Document(page_content='and Dorothy Rubinoff award for outstanding dissertation, the AT&T Outstanding Mentor', metadata={'source': 'machine_learning_basics.pdf', 'page': 16}),\n",
       " Document(page_content='Award, in recognition of his support and dedication to AT&T Labs Mentoring Program', metadata={'source': 'machine_learning_basics.pdf', 'page': 16}),\n",
       " Document(page_content='and the AT&T Science & Technology Medal for technical leadership and innovative', metadata={'source': 'machine_learning_basics.pdf', 'page': 16}),\n",
       " Document(page_content='contributions in Spoken Language Technology and Services. He has served on the', metadata={'source': 'machine_learning_basics.pdf', 'page': 16}),\n",
       " Document(page_content='editorial board of Computational Linguistics Journal, Computer, Speech and Language', metadata={'source': 'machine_learning_basics.pdf', 'page': 16}),\n",
       " Document(page_content='Journal and on program committees for a number of ACL and IEEE Speech Conferences.\\nPATRICK HAFFNER', metadata={'source': 'machine_learning_basics.pdf', 'page': 16}),\n",
       " Document(page_content='LEAD INVENTIVE SCIENTIST, INTERACTIONS', metadata={'source': 'machine_learning_basics.pdf', 'page': 16}),\n",
       " Document(page_content='Dr. Patrick Haffner has worked on machine learning algorithms since 1988. With', metadata={'source': 'machine_learning_basics.pdf', 'page': 16}),\n",
       " Document(page_content='Yann LeCun, he was one of the pioneers in applying Neural Networks to speech and', metadata={'source': 'machine_learning_basics.pdf', 'page': 16}),\n",
       " Document(page_content='image recognition, and led the deployment of the first NN used for an automation task', metadata={'source': 'machine_learning_basics.pdf', 'page': 16}),\n",
       " Document(page_content='(check reading). With AT&T Labs Research, he was an expert in the learning algorithms', metadata={'source': 'machine_learning_basics.pdf', 'page': 16}),\n",
       " Document(page_content='that enable data engineers to efficiently train machines using real world data, for', metadata={'source': 'machine_learning_basics.pdf', 'page': 16}),\n",
       " Document(page_content='tasks ranging from language understanding to network monitoring. He was also an', metadata={'source': 'machine_learning_basics.pdf', 'page': 16}),\n",
       " Document(page_content='expert advisor to the European Union for their funding programs on machine learning', metadata={'source': 'machine_learning_basics.pdf', 'page': 16}),\n",
       " Document(page_content='and cognitive sciences. Dr. Haffner is a Lead Inventive Scientist at Interactions with', metadata={'source': 'machine_learning_basics.pdf', 'page': 16}),\n",
       " Document(page_content='responsibility for managing the ever increasing variety of machine learning techniques', metadata={'source': 'machine_learning_basics.pdf', 'page': 16}),\n",
       " Document(page_content='and software that an AI-driven company needs to use.\\nMICHAEL JOHNSTON', metadata={'source': 'machine_learning_basics.pdf', 'page': 16}),\n",
       " Document(page_content='DIRECTOR OF RESEARCH AND INNOVATION, INTERACTIONS', metadata={'source': 'machine_learning_basics.pdf', 'page': 16}),\n",
       " Document(page_content='Dr. Michael Johnston has over 25 years of experience in speech and language', metadata={'source': 'machine_learning_basics.pdf', 'page': 16}),\n",
       " Document(page_content='technology. His research lies at the intersection of Natural Language Processing,', metadata={'source': 'machine_learning_basics.pdf', 'page': 16}),\n",
       " Document(page_content='human-computer interaction, and spoken and multimodal dialog. More specifically,', metadata={'source': 'machine_learning_basics.pdf', 'page': 16}),\n",
       " Document(page_content='his work focuses on the development of language and dialog processing techniques', metadata={'source': 'machine_learning_basics.pdf', 'page': 16}),\n",
       " Document(page_content='that support spoken and multimodal interaction and the application of these to the', metadata={'source': 'machine_learning_basics.pdf', 'page': 16}),\n",
       " Document(page_content='creation of novel systems and services. Dr. Johnston has over 50 technical papers and', metadata={'source': 'machine_learning_basics.pdf', 'page': 16}),\n",
       " Document(page_content='32 patents in speech and language processing. Before joining Interactions, he held', metadata={'source': 'machine_learning_basics.pdf', 'page': 16}),\n",
       " Document(page_content='positions at AT&T Labs Research, Oregon Graduate Institute and Brandeis University.', metadata={'source': 'machine_learning_basics.pdf', 'page': 16}),\n",
       " Document(page_content='He is member of the board of AVIOS and editor and chair for the W3C EMMA \\nmultimodal standard.\\n17', metadata={'source': 'machine_learning_basics.pdf', 'page': 16}),\n",
       " Document(page_content='ABOUT INTERACTIONS', metadata={'source': 'machine_learning_basics.pdf', 'page': 17}),\n",
       " Document(page_content='Interactions provides Intelligent Virtual Assistants that seamlessly combine Artificial', metadata={'source': 'machine_learning_basics.pdf', 'page': 17}),\n",
       " Document(page_content='Intelligence and human understanding to enable businesses and consumers to engage in', metadata={'source': 'machine_learning_basics.pdf', 'page': 17}),\n",
       " Document(page_content='productive conversations. With flexible products and solutions designed to meet the growing', metadata={'source': 'machine_learning_basics.pdf', 'page': 17}),\n",
       " Document(page_content='demand for unified, multichannel customer care, Interactions is delivering significant cost', metadata={'source': 'machine_learning_basics.pdf', 'page': 17}),\n",
       " Document(page_content='savings and unprecedented customer experience for some of the largest brands in the world.', metadata={'source': 'machine_learning_basics.pdf', 'page': 17}),\n",
       " Document(page_content='Founded in 2004, Interactions is headquartered in Franklin, Massachusetts with additional', metadata={'source': 'machine_learning_basics.pdf', 'page': 17}),\n",
       " Document(page_content='offices in Indiana, New Jersey and New York.\\nFor more information about Interactions, contact us:', metadata={'source': 'machine_learning_basics.pdf', 'page': 17}),\n",
       " Document(page_content='866.637.9049\\n18', metadata={'source': 'machine_learning_basics.pdf', 'page': 17})]"
      ]
     },
     "execution_count": 114,
     "metadata": {},
     "output_type": "execute_result"
    }
   ],
   "source": [
    "splits"
   ]
  },
  {
   "cell_type": "code",
   "execution_count": 115,
   "id": "c8c33f4c-96ec-4a74-8521-971e8ffe1c52",
   "metadata": {},
   "outputs": [
    {
     "name": "stdout",
     "output_type": "stream",
     "text": [
      "83\n"
     ]
    }
   ],
   "source": [
    "for i in range(len(splits)):\n",
    "\n",
    "    if 'Researchers at AT&T invented Support Vector Machines' in splits[i].page_content:\n",
    "        print(i)"
   ]
  },
  {
   "cell_type": "code",
   "execution_count": 117,
   "id": "04cfc6f2-3b5e-4d20-8b7b-9f71b497654e",
   "metadata": {},
   "outputs": [
    {
     "name": "stdout",
     "output_type": "stream",
     "text": [
      "nationwide automated speech recognition (ASR) using a machine\n",
      "learning approach called Hidden Markov Models (HMMs). This\n",
      "saved billions of dollars in operating costs by spotting things like \n",
      "collect calls.\n",
      "SUPPORT VECTOR MACHINES  1992\n",
      "Researchers at AT&T invented Support Vector Machines (SVMs)\n",
      "in 1992, a technique that revolutionized large scale classification\n",
      "because of its predictable performance.\n",
      "5\n",
      "CONVOLUTIONAL NEURAL NETWORK  1996\n",
      "Patrick Haffner (Lead Inventive Scientist at Interactions) and\n"
     ]
    }
   ],
   "source": [
    "for i in range(80,87):\n",
    "    print(splits[i].page_content)"
   ]
  },
  {
   "cell_type": "code",
   "execution_count": null,
   "id": "6edbb196-d069-4cc9-98d7-46cc8a35d859",
   "metadata": {},
   "outputs": [],
   "source": []
  }
 ],
 "metadata": {
  "kernelspec": {
   "display_name": "Python 3 (ipykernel)",
   "language": "python",
   "name": "python3"
  },
  "language_info": {
   "codemirror_mode": {
    "name": "ipython",
    "version": 3
   },
   "file_extension": ".py",
   "mimetype": "text/x-python",
   "name": "python",
   "nbconvert_exporter": "python",
   "pygments_lexer": "ipython3",
   "version": "3.11.8"
  }
 },
 "nbformat": 4,
 "nbformat_minor": 5
}
